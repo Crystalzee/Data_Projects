{
 "cells": [
  {
   "cell_type": "markdown",
   "metadata": {
    "toc": true
   },
   "source": [
    "<h1>Содержание<span class=\"tocSkip\"></span></h1>\n",
    "<div class=\"toc\"><ul class=\"toc-item\"><li><span><a href=\"#Подготовка-данных\" data-toc-modified-id=\"Подготовка-данных-1\"><span class=\"toc-item-num\">1&nbsp;&nbsp;</span>Подготовка данных</a></span></li><li><span><a href=\"#Анализ-данных\" data-toc-modified-id=\"Анализ-данных-2\"><span class=\"toc-item-num\">2&nbsp;&nbsp;</span>Анализ данных</a></span></li><li><span><a href=\"#Модель\" data-toc-modified-id=\"Модель-3\"><span class=\"toc-item-num\">3&nbsp;&nbsp;</span>Модель</a></span></li></ul></div>"
   ]
  },
  {
   "cell_type": "markdown",
   "metadata": {},
   "source": [
    "# Восстановление золота из руды"
   ]
  },
  {
   "cell_type": "markdown",
   "metadata": {},
   "source": [
    "Подготовьте прототип модели машинного обучения для «Цифры». Компания разрабатывает решения для эффективной работы промышленных предприятий.\n",
    "\n",
    "Модель должна предсказать коэффициент восстановления золота из золотосодержащей руды. Используйте данные с параметрами добычи и очистки. \n",
    "\n",
    "Модель поможет оптимизировать производство, чтобы не запускать предприятие с убыточными характеристиками.\n",
    "\n",
    "Вам нужно:\n",
    "\n",
    "1. Подготовить данные;\n",
    "2. Провести исследовательский анализ данных;\n",
    "3. Построить и обучить модель.\n",
    "\n",
    "Чтобы выполнить проект, обращайтесь к библиотекам *pandas*, *matplotlib* и *sklearn.* Вам поможет их документация."
   ]
  },
  {
   "cell_type": "markdown",
   "metadata": {},
   "source": [
    "## Подготовка данных"
   ]
  },
  {
   "cell_type": "code",
   "execution_count": 1,
   "metadata": {},
   "outputs": [],
   "source": [
    "#подключение библиотек\n",
    "import pandas as pd\n",
    "import numpy as np\n",
    "import seaborn as sns\n",
    "import matplotlib.pyplot as plt\n",
    "\n",
    "from sklearn.preprocessing import StandardScaler\n",
    "from sklearn.model_selection import train_test_split, cross_val_score\n",
    "from sklearn.tree import DecisionTreeRegressor\n",
    "from sklearn.ensemble import RandomForestRegressor\n",
    "from sklearn.linear_model import LinearRegression\n",
    "\n",
    "from numpy.random import RandomState\n",
    "from sklearn.metrics import make_scorer, mean_absolute_error\n",
    "from sklearn.dummy import DummyRegressor"
   ]
  },
  {
   "cell_type": "code",
   "execution_count": 2,
   "metadata": {},
   "outputs": [],
   "source": [
    "# загрузка данных\n",
    "train_data = pd.read_csv('/datasets/gold_recovery_train_new.csv')\n",
    "test_data = pd.read_csv('/datasets/gold_recovery_test_new.csv')\n",
    "full_data = pd.read_csv('/datasets/gold_recovery_full_new.csv')"
   ]
  },
  {
   "cell_type": "code",
   "execution_count": 3,
   "metadata": {
    "scrolled": true
   },
   "outputs": [
    {
     "data": {
      "text/html": [
       "<div>\n",
       "<style scoped>\n",
       "    .dataframe tbody tr th:only-of-type {\n",
       "        vertical-align: middle;\n",
       "    }\n",
       "\n",
       "    .dataframe tbody tr th {\n",
       "        vertical-align: top;\n",
       "    }\n",
       "\n",
       "    .dataframe thead th {\n",
       "        text-align: right;\n",
       "    }\n",
       "</style>\n",
       "<table border=\"1\" class=\"dataframe\">\n",
       "  <thead>\n",
       "    <tr style=\"text-align: right;\">\n",
       "      <th></th>\n",
       "      <th>date</th>\n",
       "      <th>final.output.concentrate_ag</th>\n",
       "      <th>final.output.concentrate_pb</th>\n",
       "      <th>final.output.concentrate_sol</th>\n",
       "      <th>final.output.concentrate_au</th>\n",
       "      <th>final.output.recovery</th>\n",
       "      <th>final.output.tail_ag</th>\n",
       "      <th>final.output.tail_pb</th>\n",
       "      <th>final.output.tail_sol</th>\n",
       "      <th>final.output.tail_au</th>\n",
       "      <th>...</th>\n",
       "      <th>secondary_cleaner.state.floatbank4_a_air</th>\n",
       "      <th>secondary_cleaner.state.floatbank4_a_level</th>\n",
       "      <th>secondary_cleaner.state.floatbank4_b_air</th>\n",
       "      <th>secondary_cleaner.state.floatbank4_b_level</th>\n",
       "      <th>secondary_cleaner.state.floatbank5_a_air</th>\n",
       "      <th>secondary_cleaner.state.floatbank5_a_level</th>\n",
       "      <th>secondary_cleaner.state.floatbank5_b_air</th>\n",
       "      <th>secondary_cleaner.state.floatbank5_b_level</th>\n",
       "      <th>secondary_cleaner.state.floatbank6_a_air</th>\n",
       "      <th>secondary_cleaner.state.floatbank6_a_level</th>\n",
       "    </tr>\n",
       "  </thead>\n",
       "  <tbody>\n",
       "    <tr>\n",
       "      <th>0</th>\n",
       "      <td>2016-01-15 00:00:00</td>\n",
       "      <td>6.055403</td>\n",
       "      <td>9.889648</td>\n",
       "      <td>5.507324</td>\n",
       "      <td>42.192020</td>\n",
       "      <td>70.541216</td>\n",
       "      <td>10.411962</td>\n",
       "      <td>0.895447</td>\n",
       "      <td>16.904297</td>\n",
       "      <td>2.143149</td>\n",
       "      <td>...</td>\n",
       "      <td>14.016835</td>\n",
       "      <td>-502.488007</td>\n",
       "      <td>12.099931</td>\n",
       "      <td>-504.715942</td>\n",
       "      <td>9.925633</td>\n",
       "      <td>-498.310211</td>\n",
       "      <td>8.079666</td>\n",
       "      <td>-500.470978</td>\n",
       "      <td>14.151341</td>\n",
       "      <td>-605.841980</td>\n",
       "    </tr>\n",
       "    <tr>\n",
       "      <th>1</th>\n",
       "      <td>2016-01-15 01:00:00</td>\n",
       "      <td>6.029369</td>\n",
       "      <td>9.968944</td>\n",
       "      <td>5.257781</td>\n",
       "      <td>42.701629</td>\n",
       "      <td>69.266198</td>\n",
       "      <td>10.462676</td>\n",
       "      <td>0.927452</td>\n",
       "      <td>16.634514</td>\n",
       "      <td>2.224930</td>\n",
       "      <td>...</td>\n",
       "      <td>13.992281</td>\n",
       "      <td>-505.503262</td>\n",
       "      <td>11.950531</td>\n",
       "      <td>-501.331529</td>\n",
       "      <td>10.039245</td>\n",
       "      <td>-500.169983</td>\n",
       "      <td>7.984757</td>\n",
       "      <td>-500.582168</td>\n",
       "      <td>13.998353</td>\n",
       "      <td>-599.787184</td>\n",
       "    </tr>\n",
       "    <tr>\n",
       "      <th>2</th>\n",
       "      <td>2016-01-15 02:00:00</td>\n",
       "      <td>6.055926</td>\n",
       "      <td>10.213995</td>\n",
       "      <td>5.383759</td>\n",
       "      <td>42.657501</td>\n",
       "      <td>68.116445</td>\n",
       "      <td>10.507046</td>\n",
       "      <td>0.953716</td>\n",
       "      <td>16.208849</td>\n",
       "      <td>2.257889</td>\n",
       "      <td>...</td>\n",
       "      <td>14.015015</td>\n",
       "      <td>-502.520901</td>\n",
       "      <td>11.912783</td>\n",
       "      <td>-501.133383</td>\n",
       "      <td>10.070913</td>\n",
       "      <td>-500.129135</td>\n",
       "      <td>8.013877</td>\n",
       "      <td>-500.517572</td>\n",
       "      <td>14.028663</td>\n",
       "      <td>-601.427363</td>\n",
       "    </tr>\n",
       "    <tr>\n",
       "      <th>3</th>\n",
       "      <td>2016-01-15 03:00:00</td>\n",
       "      <td>6.047977</td>\n",
       "      <td>9.977019</td>\n",
       "      <td>4.858634</td>\n",
       "      <td>42.689819</td>\n",
       "      <td>68.347543</td>\n",
       "      <td>10.422762</td>\n",
       "      <td>0.883763</td>\n",
       "      <td>16.532835</td>\n",
       "      <td>2.146849</td>\n",
       "      <td>...</td>\n",
       "      <td>14.036510</td>\n",
       "      <td>-500.857308</td>\n",
       "      <td>11.999550</td>\n",
       "      <td>-501.193686</td>\n",
       "      <td>9.970366</td>\n",
       "      <td>-499.201640</td>\n",
       "      <td>7.977324</td>\n",
       "      <td>-500.255908</td>\n",
       "      <td>14.005551</td>\n",
       "      <td>-599.996129</td>\n",
       "    </tr>\n",
       "    <tr>\n",
       "      <th>4</th>\n",
       "      <td>2016-01-15 04:00:00</td>\n",
       "      <td>6.148599</td>\n",
       "      <td>10.142511</td>\n",
       "      <td>4.939416</td>\n",
       "      <td>42.774141</td>\n",
       "      <td>66.927016</td>\n",
       "      <td>10.360302</td>\n",
       "      <td>0.792826</td>\n",
       "      <td>16.525686</td>\n",
       "      <td>2.055292</td>\n",
       "      <td>...</td>\n",
       "      <td>14.027298</td>\n",
       "      <td>-499.838632</td>\n",
       "      <td>11.953070</td>\n",
       "      <td>-501.053894</td>\n",
       "      <td>9.925709</td>\n",
       "      <td>-501.686727</td>\n",
       "      <td>7.894242</td>\n",
       "      <td>-500.356035</td>\n",
       "      <td>13.996647</td>\n",
       "      <td>-601.496691</td>\n",
       "    </tr>\n",
       "  </tbody>\n",
       "</table>\n",
       "<p>5 rows × 87 columns</p>\n",
       "</div>"
      ],
      "text/plain": [
       "                  date  final.output.concentrate_ag  \\\n",
       "0  2016-01-15 00:00:00                     6.055403   \n",
       "1  2016-01-15 01:00:00                     6.029369   \n",
       "2  2016-01-15 02:00:00                     6.055926   \n",
       "3  2016-01-15 03:00:00                     6.047977   \n",
       "4  2016-01-15 04:00:00                     6.148599   \n",
       "\n",
       "   final.output.concentrate_pb  final.output.concentrate_sol  \\\n",
       "0                     9.889648                      5.507324   \n",
       "1                     9.968944                      5.257781   \n",
       "2                    10.213995                      5.383759   \n",
       "3                     9.977019                      4.858634   \n",
       "4                    10.142511                      4.939416   \n",
       "\n",
       "   final.output.concentrate_au  final.output.recovery  final.output.tail_ag  \\\n",
       "0                    42.192020              70.541216             10.411962   \n",
       "1                    42.701629              69.266198             10.462676   \n",
       "2                    42.657501              68.116445             10.507046   \n",
       "3                    42.689819              68.347543             10.422762   \n",
       "4                    42.774141              66.927016             10.360302   \n",
       "\n",
       "   final.output.tail_pb  final.output.tail_sol  final.output.tail_au  ...  \\\n",
       "0              0.895447              16.904297              2.143149  ...   \n",
       "1              0.927452              16.634514              2.224930  ...   \n",
       "2              0.953716              16.208849              2.257889  ...   \n",
       "3              0.883763              16.532835              2.146849  ...   \n",
       "4              0.792826              16.525686              2.055292  ...   \n",
       "\n",
       "   secondary_cleaner.state.floatbank4_a_air  \\\n",
       "0                                 14.016835   \n",
       "1                                 13.992281   \n",
       "2                                 14.015015   \n",
       "3                                 14.036510   \n",
       "4                                 14.027298   \n",
       "\n",
       "   secondary_cleaner.state.floatbank4_a_level  \\\n",
       "0                                 -502.488007   \n",
       "1                                 -505.503262   \n",
       "2                                 -502.520901   \n",
       "3                                 -500.857308   \n",
       "4                                 -499.838632   \n",
       "\n",
       "   secondary_cleaner.state.floatbank4_b_air  \\\n",
       "0                                 12.099931   \n",
       "1                                 11.950531   \n",
       "2                                 11.912783   \n",
       "3                                 11.999550   \n",
       "4                                 11.953070   \n",
       "\n",
       "   secondary_cleaner.state.floatbank4_b_level  \\\n",
       "0                                 -504.715942   \n",
       "1                                 -501.331529   \n",
       "2                                 -501.133383   \n",
       "3                                 -501.193686   \n",
       "4                                 -501.053894   \n",
       "\n",
       "   secondary_cleaner.state.floatbank5_a_air  \\\n",
       "0                                  9.925633   \n",
       "1                                 10.039245   \n",
       "2                                 10.070913   \n",
       "3                                  9.970366   \n",
       "4                                  9.925709   \n",
       "\n",
       "   secondary_cleaner.state.floatbank5_a_level  \\\n",
       "0                                 -498.310211   \n",
       "1                                 -500.169983   \n",
       "2                                 -500.129135   \n",
       "3                                 -499.201640   \n",
       "4                                 -501.686727   \n",
       "\n",
       "   secondary_cleaner.state.floatbank5_b_air  \\\n",
       "0                                  8.079666   \n",
       "1                                  7.984757   \n",
       "2                                  8.013877   \n",
       "3                                  7.977324   \n",
       "4                                  7.894242   \n",
       "\n",
       "   secondary_cleaner.state.floatbank5_b_level  \\\n",
       "0                                 -500.470978   \n",
       "1                                 -500.582168   \n",
       "2                                 -500.517572   \n",
       "3                                 -500.255908   \n",
       "4                                 -500.356035   \n",
       "\n",
       "   secondary_cleaner.state.floatbank6_a_air  \\\n",
       "0                                 14.151341   \n",
       "1                                 13.998353   \n",
       "2                                 14.028663   \n",
       "3                                 14.005551   \n",
       "4                                 13.996647   \n",
       "\n",
       "   secondary_cleaner.state.floatbank6_a_level  \n",
       "0                                 -605.841980  \n",
       "1                                 -599.787184  \n",
       "2                                 -601.427363  \n",
       "3                                 -599.996129  \n",
       "4                                 -601.496691  \n",
       "\n",
       "[5 rows x 87 columns]"
      ]
     },
     "execution_count": 3,
     "metadata": {},
     "output_type": "execute_result"
    }
   ],
   "source": [
    "train_data.head()"
   ]
  },
  {
   "cell_type": "code",
   "execution_count": 4,
   "metadata": {
    "scrolled": true
   },
   "outputs": [
    {
     "name": "stdout",
     "output_type": "stream",
     "text": [
      "<class 'pandas.core.frame.DataFrame'>\n",
      "RangeIndex: 14149 entries, 0 to 14148\n",
      "Data columns (total 87 columns):\n",
      " #   Column                                              Non-Null Count  Dtype  \n",
      "---  ------                                              --------------  -----  \n",
      " 0   date                                                14149 non-null  object \n",
      " 1   final.output.concentrate_ag                         14148 non-null  float64\n",
      " 2   final.output.concentrate_pb                         14148 non-null  float64\n",
      " 3   final.output.concentrate_sol                        13938 non-null  float64\n",
      " 4   final.output.concentrate_au                         14149 non-null  float64\n",
      " 5   final.output.recovery                               14149 non-null  float64\n",
      " 6   final.output.tail_ag                                14149 non-null  float64\n",
      " 7   final.output.tail_pb                                14049 non-null  float64\n",
      " 8   final.output.tail_sol                               14144 non-null  float64\n",
      " 9   final.output.tail_au                                14149 non-null  float64\n",
      " 10  primary_cleaner.input.sulfate                       14129 non-null  float64\n",
      " 11  primary_cleaner.input.depressant                    14117 non-null  float64\n",
      " 12  primary_cleaner.input.feed_size                     14149 non-null  float64\n",
      " 13  primary_cleaner.input.xanthate                      14049 non-null  float64\n",
      " 14  primary_cleaner.output.concentrate_ag               14149 non-null  float64\n",
      " 15  primary_cleaner.output.concentrate_pb               14063 non-null  float64\n",
      " 16  primary_cleaner.output.concentrate_sol              13863 non-null  float64\n",
      " 17  primary_cleaner.output.concentrate_au               14149 non-null  float64\n",
      " 18  primary_cleaner.output.tail_ag                      14148 non-null  float64\n",
      " 19  primary_cleaner.output.tail_pb                      14134 non-null  float64\n",
      " 20  primary_cleaner.output.tail_sol                     14103 non-null  float64\n",
      " 21  primary_cleaner.output.tail_au                      14149 non-null  float64\n",
      " 22  primary_cleaner.state.floatbank8_a_air              14145 non-null  float64\n",
      " 23  primary_cleaner.state.floatbank8_a_level            14148 non-null  float64\n",
      " 24  primary_cleaner.state.floatbank8_b_air              14145 non-null  float64\n",
      " 25  primary_cleaner.state.floatbank8_b_level            14148 non-null  float64\n",
      " 26  primary_cleaner.state.floatbank8_c_air              14147 non-null  float64\n",
      " 27  primary_cleaner.state.floatbank8_c_level            14148 non-null  float64\n",
      " 28  primary_cleaner.state.floatbank8_d_air              14146 non-null  float64\n",
      " 29  primary_cleaner.state.floatbank8_d_level            14148 non-null  float64\n",
      " 30  rougher.calculation.sulfate_to_au_concentrate       14148 non-null  float64\n",
      " 31  rougher.calculation.floatbank10_sulfate_to_au_feed  14148 non-null  float64\n",
      " 32  rougher.calculation.floatbank11_sulfate_to_au_feed  14148 non-null  float64\n",
      " 33  rougher.calculation.au_pb_ratio                     14149 non-null  float64\n",
      " 34  rougher.input.feed_ag                               14149 non-null  float64\n",
      " 35  rougher.input.feed_pb                               14049 non-null  float64\n",
      " 36  rougher.input.feed_rate                             14141 non-null  float64\n",
      " 37  rougher.input.feed_size                             14005 non-null  float64\n",
      " 38  rougher.input.feed_sol                              14071 non-null  float64\n",
      " 39  rougher.input.feed_au                               14149 non-null  float64\n",
      " 40  rougher.input.floatbank10_sulfate                   14120 non-null  float64\n",
      " 41  rougher.input.floatbank10_xanthate                  14141 non-null  float64\n",
      " 42  rougher.input.floatbank11_sulfate                   14113 non-null  float64\n",
      " 43  rougher.input.floatbank11_xanthate                  13721 non-null  float64\n",
      " 44  rougher.output.concentrate_ag                       14149 non-null  float64\n",
      " 45  rougher.output.concentrate_pb                       14149 non-null  float64\n",
      " 46  rougher.output.concentrate_sol                      14127 non-null  float64\n",
      " 47  rougher.output.concentrate_au                       14149 non-null  float64\n",
      " 48  rougher.output.recovery                             14149 non-null  float64\n",
      " 49  rougher.output.tail_ag                              14148 non-null  float64\n",
      " 50  rougher.output.tail_pb                              14149 non-null  float64\n",
      " 51  rougher.output.tail_sol                             14149 non-null  float64\n",
      " 52  rougher.output.tail_au                              14149 non-null  float64\n",
      " 53  rougher.state.floatbank10_a_air                     14148 non-null  float64\n",
      " 54  rougher.state.floatbank10_a_level                   14148 non-null  float64\n",
      " 55  rougher.state.floatbank10_b_air                     14148 non-null  float64\n",
      " 56  rougher.state.floatbank10_b_level                   14148 non-null  float64\n",
      " 57  rougher.state.floatbank10_c_air                     14148 non-null  float64\n",
      " 58  rougher.state.floatbank10_c_level                   14148 non-null  float64\n",
      " 59  rougher.state.floatbank10_d_air                     14149 non-null  float64\n",
      " 60  rougher.state.floatbank10_d_level                   14149 non-null  float64\n",
      " 61  rougher.state.floatbank10_e_air                     13713 non-null  float64\n",
      " 62  rougher.state.floatbank10_e_level                   14149 non-null  float64\n",
      " 63  rougher.state.floatbank10_f_air                     14149 non-null  float64\n",
      " 64  rougher.state.floatbank10_f_level                   14149 non-null  float64\n",
      " 65  secondary_cleaner.output.tail_ag                    14147 non-null  float64\n",
      " 66  secondary_cleaner.output.tail_pb                    14139 non-null  float64\n",
      " 67  secondary_cleaner.output.tail_sol                   12544 non-null  float64\n",
      " 68  secondary_cleaner.output.tail_au                    14149 non-null  float64\n",
      " 69  secondary_cleaner.state.floatbank2_a_air            13932 non-null  float64\n",
      " 70  secondary_cleaner.state.floatbank2_a_level          14148 non-null  float64\n",
      " 71  secondary_cleaner.state.floatbank2_b_air            14128 non-null  float64\n",
      " 72  secondary_cleaner.state.floatbank2_b_level          14148 non-null  float64\n",
      " 73  secondary_cleaner.state.floatbank3_a_air            14145 non-null  float64\n",
      " 74  secondary_cleaner.state.floatbank3_a_level          14148 non-null  float64\n",
      " 75  secondary_cleaner.state.floatbank3_b_air            14148 non-null  float64\n",
      " 76  secondary_cleaner.state.floatbank3_b_level          14148 non-null  float64\n",
      " 77  secondary_cleaner.state.floatbank4_a_air            14143 non-null  float64\n",
      " 78  secondary_cleaner.state.floatbank4_a_level          14148 non-null  float64\n",
      " 79  secondary_cleaner.state.floatbank4_b_air            14148 non-null  float64\n",
      " 80  secondary_cleaner.state.floatbank4_b_level          14148 non-null  float64\n",
      " 81  secondary_cleaner.state.floatbank5_a_air            14148 non-null  float64\n",
      " 82  secondary_cleaner.state.floatbank5_a_level          14148 non-null  float64\n",
      " 83  secondary_cleaner.state.floatbank5_b_air            14148 non-null  float64\n",
      " 84  secondary_cleaner.state.floatbank5_b_level          14148 non-null  float64\n",
      " 85  secondary_cleaner.state.floatbank6_a_air            14147 non-null  float64\n",
      " 86  secondary_cleaner.state.floatbank6_a_level          14148 non-null  float64\n",
      "dtypes: float64(86), object(1)\n",
      "memory usage: 9.4+ MB\n"
     ]
    }
   ],
   "source": [
    "train_data.info()"
   ]
  },
  {
   "cell_type": "code",
   "execution_count": 5,
   "metadata": {},
   "outputs": [
    {
     "data": {
      "text/html": [
       "<div>\n",
       "<style scoped>\n",
       "    .dataframe tbody tr th:only-of-type {\n",
       "        vertical-align: middle;\n",
       "    }\n",
       "\n",
       "    .dataframe tbody tr th {\n",
       "        vertical-align: top;\n",
       "    }\n",
       "\n",
       "    .dataframe thead th {\n",
       "        text-align: right;\n",
       "    }\n",
       "</style>\n",
       "<table border=\"1\" class=\"dataframe\">\n",
       "  <thead>\n",
       "    <tr style=\"text-align: right;\">\n",
       "      <th></th>\n",
       "      <th>date</th>\n",
       "      <th>primary_cleaner.input.sulfate</th>\n",
       "      <th>primary_cleaner.input.depressant</th>\n",
       "      <th>primary_cleaner.input.feed_size</th>\n",
       "      <th>primary_cleaner.input.xanthate</th>\n",
       "      <th>primary_cleaner.state.floatbank8_a_air</th>\n",
       "      <th>primary_cleaner.state.floatbank8_a_level</th>\n",
       "      <th>primary_cleaner.state.floatbank8_b_air</th>\n",
       "      <th>primary_cleaner.state.floatbank8_b_level</th>\n",
       "      <th>primary_cleaner.state.floatbank8_c_air</th>\n",
       "      <th>...</th>\n",
       "      <th>secondary_cleaner.state.floatbank4_a_air</th>\n",
       "      <th>secondary_cleaner.state.floatbank4_a_level</th>\n",
       "      <th>secondary_cleaner.state.floatbank4_b_air</th>\n",
       "      <th>secondary_cleaner.state.floatbank4_b_level</th>\n",
       "      <th>secondary_cleaner.state.floatbank5_a_air</th>\n",
       "      <th>secondary_cleaner.state.floatbank5_a_level</th>\n",
       "      <th>secondary_cleaner.state.floatbank5_b_air</th>\n",
       "      <th>secondary_cleaner.state.floatbank5_b_level</th>\n",
       "      <th>secondary_cleaner.state.floatbank6_a_air</th>\n",
       "      <th>secondary_cleaner.state.floatbank6_a_level</th>\n",
       "    </tr>\n",
       "  </thead>\n",
       "  <tbody>\n",
       "    <tr>\n",
       "      <th>0</th>\n",
       "      <td>2016-09-01 00:59:59</td>\n",
       "      <td>210.800909</td>\n",
       "      <td>14.993118</td>\n",
       "      <td>8.080000</td>\n",
       "      <td>1.005021</td>\n",
       "      <td>1398.981301</td>\n",
       "      <td>-500.225577</td>\n",
       "      <td>1399.144926</td>\n",
       "      <td>-499.919735</td>\n",
       "      <td>1400.102998</td>\n",
       "      <td>...</td>\n",
       "      <td>12.023554</td>\n",
       "      <td>-497.795834</td>\n",
       "      <td>8.016656</td>\n",
       "      <td>-501.289139</td>\n",
       "      <td>7.946562</td>\n",
       "      <td>-432.317850</td>\n",
       "      <td>4.872511</td>\n",
       "      <td>-500.037437</td>\n",
       "      <td>26.705889</td>\n",
       "      <td>-499.709414</td>\n",
       "    </tr>\n",
       "    <tr>\n",
       "      <th>1</th>\n",
       "      <td>2016-09-01 01:59:59</td>\n",
       "      <td>215.392455</td>\n",
       "      <td>14.987471</td>\n",
       "      <td>8.080000</td>\n",
       "      <td>0.990469</td>\n",
       "      <td>1398.777912</td>\n",
       "      <td>-500.057435</td>\n",
       "      <td>1398.055362</td>\n",
       "      <td>-499.778182</td>\n",
       "      <td>1396.151033</td>\n",
       "      <td>...</td>\n",
       "      <td>12.058140</td>\n",
       "      <td>-498.695773</td>\n",
       "      <td>8.130979</td>\n",
       "      <td>-499.634209</td>\n",
       "      <td>7.958270</td>\n",
       "      <td>-525.839648</td>\n",
       "      <td>4.878850</td>\n",
       "      <td>-500.162375</td>\n",
       "      <td>25.019940</td>\n",
       "      <td>-499.819438</td>\n",
       "    </tr>\n",
       "    <tr>\n",
       "      <th>2</th>\n",
       "      <td>2016-09-01 02:59:59</td>\n",
       "      <td>215.259946</td>\n",
       "      <td>12.884934</td>\n",
       "      <td>7.786667</td>\n",
       "      <td>0.996043</td>\n",
       "      <td>1398.493666</td>\n",
       "      <td>-500.868360</td>\n",
       "      <td>1398.860436</td>\n",
       "      <td>-499.764529</td>\n",
       "      <td>1398.075709</td>\n",
       "      <td>...</td>\n",
       "      <td>11.962366</td>\n",
       "      <td>-498.767484</td>\n",
       "      <td>8.096893</td>\n",
       "      <td>-500.827423</td>\n",
       "      <td>8.071056</td>\n",
       "      <td>-500.801673</td>\n",
       "      <td>4.905125</td>\n",
       "      <td>-499.828510</td>\n",
       "      <td>24.994862</td>\n",
       "      <td>-500.622559</td>\n",
       "    </tr>\n",
       "    <tr>\n",
       "      <th>3</th>\n",
       "      <td>2016-09-01 03:59:59</td>\n",
       "      <td>215.336236</td>\n",
       "      <td>12.006805</td>\n",
       "      <td>7.640000</td>\n",
       "      <td>0.863514</td>\n",
       "      <td>1399.618111</td>\n",
       "      <td>-498.863574</td>\n",
       "      <td>1397.440120</td>\n",
       "      <td>-499.211024</td>\n",
       "      <td>1400.129303</td>\n",
       "      <td>...</td>\n",
       "      <td>12.033091</td>\n",
       "      <td>-498.350935</td>\n",
       "      <td>8.074946</td>\n",
       "      <td>-499.474407</td>\n",
       "      <td>7.897085</td>\n",
       "      <td>-500.868509</td>\n",
       "      <td>4.931400</td>\n",
       "      <td>-499.963623</td>\n",
       "      <td>24.948919</td>\n",
       "      <td>-498.709987</td>\n",
       "    </tr>\n",
       "    <tr>\n",
       "      <th>4</th>\n",
       "      <td>2016-09-01 04:59:59</td>\n",
       "      <td>199.099327</td>\n",
       "      <td>10.682530</td>\n",
       "      <td>7.530000</td>\n",
       "      <td>0.805575</td>\n",
       "      <td>1401.268123</td>\n",
       "      <td>-500.808305</td>\n",
       "      <td>1398.128818</td>\n",
       "      <td>-499.504543</td>\n",
       "      <td>1402.172226</td>\n",
       "      <td>...</td>\n",
       "      <td>12.025367</td>\n",
       "      <td>-500.786497</td>\n",
       "      <td>8.054678</td>\n",
       "      <td>-500.397500</td>\n",
       "      <td>8.107890</td>\n",
       "      <td>-509.526725</td>\n",
       "      <td>4.957674</td>\n",
       "      <td>-500.360026</td>\n",
       "      <td>25.003331</td>\n",
       "      <td>-500.856333</td>\n",
       "    </tr>\n",
       "  </tbody>\n",
       "</table>\n",
       "<p>5 rows × 53 columns</p>\n",
       "</div>"
      ],
      "text/plain": [
       "                  date  primary_cleaner.input.sulfate  \\\n",
       "0  2016-09-01 00:59:59                     210.800909   \n",
       "1  2016-09-01 01:59:59                     215.392455   \n",
       "2  2016-09-01 02:59:59                     215.259946   \n",
       "3  2016-09-01 03:59:59                     215.336236   \n",
       "4  2016-09-01 04:59:59                     199.099327   \n",
       "\n",
       "   primary_cleaner.input.depressant  primary_cleaner.input.feed_size  \\\n",
       "0                         14.993118                         8.080000   \n",
       "1                         14.987471                         8.080000   \n",
       "2                         12.884934                         7.786667   \n",
       "3                         12.006805                         7.640000   \n",
       "4                         10.682530                         7.530000   \n",
       "\n",
       "   primary_cleaner.input.xanthate  primary_cleaner.state.floatbank8_a_air  \\\n",
       "0                        1.005021                             1398.981301   \n",
       "1                        0.990469                             1398.777912   \n",
       "2                        0.996043                             1398.493666   \n",
       "3                        0.863514                             1399.618111   \n",
       "4                        0.805575                             1401.268123   \n",
       "\n",
       "   primary_cleaner.state.floatbank8_a_level  \\\n",
       "0                               -500.225577   \n",
       "1                               -500.057435   \n",
       "2                               -500.868360   \n",
       "3                               -498.863574   \n",
       "4                               -500.808305   \n",
       "\n",
       "   primary_cleaner.state.floatbank8_b_air  \\\n",
       "0                             1399.144926   \n",
       "1                             1398.055362   \n",
       "2                             1398.860436   \n",
       "3                             1397.440120   \n",
       "4                             1398.128818   \n",
       "\n",
       "   primary_cleaner.state.floatbank8_b_level  \\\n",
       "0                               -499.919735   \n",
       "1                               -499.778182   \n",
       "2                               -499.764529   \n",
       "3                               -499.211024   \n",
       "4                               -499.504543   \n",
       "\n",
       "   primary_cleaner.state.floatbank8_c_air  ...  \\\n",
       "0                             1400.102998  ...   \n",
       "1                             1396.151033  ...   \n",
       "2                             1398.075709  ...   \n",
       "3                             1400.129303  ...   \n",
       "4                             1402.172226  ...   \n",
       "\n",
       "   secondary_cleaner.state.floatbank4_a_air  \\\n",
       "0                                 12.023554   \n",
       "1                                 12.058140   \n",
       "2                                 11.962366   \n",
       "3                                 12.033091   \n",
       "4                                 12.025367   \n",
       "\n",
       "   secondary_cleaner.state.floatbank4_a_level  \\\n",
       "0                                 -497.795834   \n",
       "1                                 -498.695773   \n",
       "2                                 -498.767484   \n",
       "3                                 -498.350935   \n",
       "4                                 -500.786497   \n",
       "\n",
       "   secondary_cleaner.state.floatbank4_b_air  \\\n",
       "0                                  8.016656   \n",
       "1                                  8.130979   \n",
       "2                                  8.096893   \n",
       "3                                  8.074946   \n",
       "4                                  8.054678   \n",
       "\n",
       "   secondary_cleaner.state.floatbank4_b_level  \\\n",
       "0                                 -501.289139   \n",
       "1                                 -499.634209   \n",
       "2                                 -500.827423   \n",
       "3                                 -499.474407   \n",
       "4                                 -500.397500   \n",
       "\n",
       "   secondary_cleaner.state.floatbank5_a_air  \\\n",
       "0                                  7.946562   \n",
       "1                                  7.958270   \n",
       "2                                  8.071056   \n",
       "3                                  7.897085   \n",
       "4                                  8.107890   \n",
       "\n",
       "   secondary_cleaner.state.floatbank5_a_level  \\\n",
       "0                                 -432.317850   \n",
       "1                                 -525.839648   \n",
       "2                                 -500.801673   \n",
       "3                                 -500.868509   \n",
       "4                                 -509.526725   \n",
       "\n",
       "   secondary_cleaner.state.floatbank5_b_air  \\\n",
       "0                                  4.872511   \n",
       "1                                  4.878850   \n",
       "2                                  4.905125   \n",
       "3                                  4.931400   \n",
       "4                                  4.957674   \n",
       "\n",
       "   secondary_cleaner.state.floatbank5_b_level  \\\n",
       "0                                 -500.037437   \n",
       "1                                 -500.162375   \n",
       "2                                 -499.828510   \n",
       "3                                 -499.963623   \n",
       "4                                 -500.360026   \n",
       "\n",
       "   secondary_cleaner.state.floatbank6_a_air  \\\n",
       "0                                 26.705889   \n",
       "1                                 25.019940   \n",
       "2                                 24.994862   \n",
       "3                                 24.948919   \n",
       "4                                 25.003331   \n",
       "\n",
       "   secondary_cleaner.state.floatbank6_a_level  \n",
       "0                                 -499.709414  \n",
       "1                                 -499.819438  \n",
       "2                                 -500.622559  \n",
       "3                                 -498.709987  \n",
       "4                                 -500.856333  \n",
       "\n",
       "[5 rows x 53 columns]"
      ]
     },
     "execution_count": 5,
     "metadata": {},
     "output_type": "execute_result"
    }
   ],
   "source": [
    "test_data.head()"
   ]
  },
  {
   "cell_type": "code",
   "execution_count": 6,
   "metadata": {
    "scrolled": true
   },
   "outputs": [
    {
     "name": "stdout",
     "output_type": "stream",
     "text": [
      "<class 'pandas.core.frame.DataFrame'>\n",
      "RangeIndex: 5290 entries, 0 to 5289\n",
      "Data columns (total 53 columns):\n",
      " #   Column                                      Non-Null Count  Dtype  \n",
      "---  ------                                      --------------  -----  \n",
      " 0   date                                        5290 non-null   object \n",
      " 1   primary_cleaner.input.sulfate               5286 non-null   float64\n",
      " 2   primary_cleaner.input.depressant            5285 non-null   float64\n",
      " 3   primary_cleaner.input.feed_size             5290 non-null   float64\n",
      " 4   primary_cleaner.input.xanthate              5286 non-null   float64\n",
      " 5   primary_cleaner.state.floatbank8_a_air      5290 non-null   float64\n",
      " 6   primary_cleaner.state.floatbank8_a_level    5290 non-null   float64\n",
      " 7   primary_cleaner.state.floatbank8_b_air      5290 non-null   float64\n",
      " 8   primary_cleaner.state.floatbank8_b_level    5290 non-null   float64\n",
      " 9   primary_cleaner.state.floatbank8_c_air      5290 non-null   float64\n",
      " 10  primary_cleaner.state.floatbank8_c_level    5290 non-null   float64\n",
      " 11  primary_cleaner.state.floatbank8_d_air      5290 non-null   float64\n",
      " 12  primary_cleaner.state.floatbank8_d_level    5290 non-null   float64\n",
      " 13  rougher.input.feed_ag                       5290 non-null   float64\n",
      " 14  rougher.input.feed_pb                       5290 non-null   float64\n",
      " 15  rougher.input.feed_rate                     5287 non-null   float64\n",
      " 16  rougher.input.feed_size                     5289 non-null   float64\n",
      " 17  rougher.input.feed_sol                      5269 non-null   float64\n",
      " 18  rougher.input.feed_au                       5290 non-null   float64\n",
      " 19  rougher.input.floatbank10_sulfate           5285 non-null   float64\n",
      " 20  rougher.input.floatbank10_xanthate          5290 non-null   float64\n",
      " 21  rougher.input.floatbank11_sulfate           5282 non-null   float64\n",
      " 22  rougher.input.floatbank11_xanthate          5265 non-null   float64\n",
      " 23  rougher.state.floatbank10_a_air             5290 non-null   float64\n",
      " 24  rougher.state.floatbank10_a_level           5290 non-null   float64\n",
      " 25  rougher.state.floatbank10_b_air             5290 non-null   float64\n",
      " 26  rougher.state.floatbank10_b_level           5290 non-null   float64\n",
      " 27  rougher.state.floatbank10_c_air             5290 non-null   float64\n",
      " 28  rougher.state.floatbank10_c_level           5290 non-null   float64\n",
      " 29  rougher.state.floatbank10_d_air             5290 non-null   float64\n",
      " 30  rougher.state.floatbank10_d_level           5290 non-null   float64\n",
      " 31  rougher.state.floatbank10_e_air             5290 non-null   float64\n",
      " 32  rougher.state.floatbank10_e_level           5290 non-null   float64\n",
      " 33  rougher.state.floatbank10_f_air             5290 non-null   float64\n",
      " 34  rougher.state.floatbank10_f_level           5290 non-null   float64\n",
      " 35  secondary_cleaner.state.floatbank2_a_air    5287 non-null   float64\n",
      " 36  secondary_cleaner.state.floatbank2_a_level  5290 non-null   float64\n",
      " 37  secondary_cleaner.state.floatbank2_b_air    5288 non-null   float64\n",
      " 38  secondary_cleaner.state.floatbank2_b_level  5290 non-null   float64\n",
      " 39  secondary_cleaner.state.floatbank3_a_air    5281 non-null   float64\n",
      " 40  secondary_cleaner.state.floatbank3_a_level  5290 non-null   float64\n",
      " 41  secondary_cleaner.state.floatbank3_b_air    5290 non-null   float64\n",
      " 42  secondary_cleaner.state.floatbank3_b_level  5290 non-null   float64\n",
      " 43  secondary_cleaner.state.floatbank4_a_air    5290 non-null   float64\n",
      " 44  secondary_cleaner.state.floatbank4_a_level  5290 non-null   float64\n",
      " 45  secondary_cleaner.state.floatbank4_b_air    5290 non-null   float64\n",
      " 46  secondary_cleaner.state.floatbank4_b_level  5290 non-null   float64\n",
      " 47  secondary_cleaner.state.floatbank5_a_air    5290 non-null   float64\n",
      " 48  secondary_cleaner.state.floatbank5_a_level  5290 non-null   float64\n",
      " 49  secondary_cleaner.state.floatbank5_b_air    5290 non-null   float64\n",
      " 50  secondary_cleaner.state.floatbank5_b_level  5290 non-null   float64\n",
      " 51  secondary_cleaner.state.floatbank6_a_air    5290 non-null   float64\n",
      " 52  secondary_cleaner.state.floatbank6_a_level  5290 non-null   float64\n",
      "dtypes: float64(52), object(1)\n",
      "memory usage: 2.1+ MB\n"
     ]
    }
   ],
   "source": [
    "test_data.info()"
   ]
  },
  {
   "cell_type": "code",
   "execution_count": 7,
   "metadata": {},
   "outputs": [
    {
     "data": {
      "text/html": [
       "<div>\n",
       "<style scoped>\n",
       "    .dataframe tbody tr th:only-of-type {\n",
       "        vertical-align: middle;\n",
       "    }\n",
       "\n",
       "    .dataframe tbody tr th {\n",
       "        vertical-align: top;\n",
       "    }\n",
       "\n",
       "    .dataframe thead th {\n",
       "        text-align: right;\n",
       "    }\n",
       "</style>\n",
       "<table border=\"1\" class=\"dataframe\">\n",
       "  <thead>\n",
       "    <tr style=\"text-align: right;\">\n",
       "      <th></th>\n",
       "      <th>date</th>\n",
       "      <th>final.output.concentrate_ag</th>\n",
       "      <th>final.output.concentrate_pb</th>\n",
       "      <th>final.output.concentrate_sol</th>\n",
       "      <th>final.output.concentrate_au</th>\n",
       "      <th>final.output.recovery</th>\n",
       "      <th>final.output.tail_ag</th>\n",
       "      <th>final.output.tail_pb</th>\n",
       "      <th>final.output.tail_sol</th>\n",
       "      <th>final.output.tail_au</th>\n",
       "      <th>...</th>\n",
       "      <th>secondary_cleaner.state.floatbank4_a_air</th>\n",
       "      <th>secondary_cleaner.state.floatbank4_a_level</th>\n",
       "      <th>secondary_cleaner.state.floatbank4_b_air</th>\n",
       "      <th>secondary_cleaner.state.floatbank4_b_level</th>\n",
       "      <th>secondary_cleaner.state.floatbank5_a_air</th>\n",
       "      <th>secondary_cleaner.state.floatbank5_a_level</th>\n",
       "      <th>secondary_cleaner.state.floatbank5_b_air</th>\n",
       "      <th>secondary_cleaner.state.floatbank5_b_level</th>\n",
       "      <th>secondary_cleaner.state.floatbank6_a_air</th>\n",
       "      <th>secondary_cleaner.state.floatbank6_a_level</th>\n",
       "    </tr>\n",
       "  </thead>\n",
       "  <tbody>\n",
       "    <tr>\n",
       "      <th>0</th>\n",
       "      <td>2016-01-15 00:00:00</td>\n",
       "      <td>6.055403</td>\n",
       "      <td>9.889648</td>\n",
       "      <td>5.507324</td>\n",
       "      <td>42.192020</td>\n",
       "      <td>70.541216</td>\n",
       "      <td>10.411962</td>\n",
       "      <td>0.895447</td>\n",
       "      <td>16.904297</td>\n",
       "      <td>2.143149</td>\n",
       "      <td>...</td>\n",
       "      <td>14.016835</td>\n",
       "      <td>-502.488007</td>\n",
       "      <td>12.099931</td>\n",
       "      <td>-504.715942</td>\n",
       "      <td>9.925633</td>\n",
       "      <td>-498.310211</td>\n",
       "      <td>8.079666</td>\n",
       "      <td>-500.470978</td>\n",
       "      <td>14.151341</td>\n",
       "      <td>-605.841980</td>\n",
       "    </tr>\n",
       "    <tr>\n",
       "      <th>1</th>\n",
       "      <td>2016-01-15 01:00:00</td>\n",
       "      <td>6.029369</td>\n",
       "      <td>9.968944</td>\n",
       "      <td>5.257781</td>\n",
       "      <td>42.701629</td>\n",
       "      <td>69.266198</td>\n",
       "      <td>10.462676</td>\n",
       "      <td>0.927452</td>\n",
       "      <td>16.634514</td>\n",
       "      <td>2.224930</td>\n",
       "      <td>...</td>\n",
       "      <td>13.992281</td>\n",
       "      <td>-505.503262</td>\n",
       "      <td>11.950531</td>\n",
       "      <td>-501.331529</td>\n",
       "      <td>10.039245</td>\n",
       "      <td>-500.169983</td>\n",
       "      <td>7.984757</td>\n",
       "      <td>-500.582168</td>\n",
       "      <td>13.998353</td>\n",
       "      <td>-599.787184</td>\n",
       "    </tr>\n",
       "    <tr>\n",
       "      <th>2</th>\n",
       "      <td>2016-01-15 02:00:00</td>\n",
       "      <td>6.055926</td>\n",
       "      <td>10.213995</td>\n",
       "      <td>5.383759</td>\n",
       "      <td>42.657501</td>\n",
       "      <td>68.116445</td>\n",
       "      <td>10.507046</td>\n",
       "      <td>0.953716</td>\n",
       "      <td>16.208849</td>\n",
       "      <td>2.257889</td>\n",
       "      <td>...</td>\n",
       "      <td>14.015015</td>\n",
       "      <td>-502.520901</td>\n",
       "      <td>11.912783</td>\n",
       "      <td>-501.133383</td>\n",
       "      <td>10.070913</td>\n",
       "      <td>-500.129135</td>\n",
       "      <td>8.013877</td>\n",
       "      <td>-500.517572</td>\n",
       "      <td>14.028663</td>\n",
       "      <td>-601.427363</td>\n",
       "    </tr>\n",
       "    <tr>\n",
       "      <th>3</th>\n",
       "      <td>2016-01-15 03:00:00</td>\n",
       "      <td>6.047977</td>\n",
       "      <td>9.977019</td>\n",
       "      <td>4.858634</td>\n",
       "      <td>42.689819</td>\n",
       "      <td>68.347543</td>\n",
       "      <td>10.422762</td>\n",
       "      <td>0.883763</td>\n",
       "      <td>16.532835</td>\n",
       "      <td>2.146849</td>\n",
       "      <td>...</td>\n",
       "      <td>14.036510</td>\n",
       "      <td>-500.857308</td>\n",
       "      <td>11.999550</td>\n",
       "      <td>-501.193686</td>\n",
       "      <td>9.970366</td>\n",
       "      <td>-499.201640</td>\n",
       "      <td>7.977324</td>\n",
       "      <td>-500.255908</td>\n",
       "      <td>14.005551</td>\n",
       "      <td>-599.996129</td>\n",
       "    </tr>\n",
       "    <tr>\n",
       "      <th>4</th>\n",
       "      <td>2016-01-15 04:00:00</td>\n",
       "      <td>6.148599</td>\n",
       "      <td>10.142511</td>\n",
       "      <td>4.939416</td>\n",
       "      <td>42.774141</td>\n",
       "      <td>66.927016</td>\n",
       "      <td>10.360302</td>\n",
       "      <td>0.792826</td>\n",
       "      <td>16.525686</td>\n",
       "      <td>2.055292</td>\n",
       "      <td>...</td>\n",
       "      <td>14.027298</td>\n",
       "      <td>-499.838632</td>\n",
       "      <td>11.953070</td>\n",
       "      <td>-501.053894</td>\n",
       "      <td>9.925709</td>\n",
       "      <td>-501.686727</td>\n",
       "      <td>7.894242</td>\n",
       "      <td>-500.356035</td>\n",
       "      <td>13.996647</td>\n",
       "      <td>-601.496691</td>\n",
       "    </tr>\n",
       "  </tbody>\n",
       "</table>\n",
       "<p>5 rows × 87 columns</p>\n",
       "</div>"
      ],
      "text/plain": [
       "                  date  final.output.concentrate_ag  \\\n",
       "0  2016-01-15 00:00:00                     6.055403   \n",
       "1  2016-01-15 01:00:00                     6.029369   \n",
       "2  2016-01-15 02:00:00                     6.055926   \n",
       "3  2016-01-15 03:00:00                     6.047977   \n",
       "4  2016-01-15 04:00:00                     6.148599   \n",
       "\n",
       "   final.output.concentrate_pb  final.output.concentrate_sol  \\\n",
       "0                     9.889648                      5.507324   \n",
       "1                     9.968944                      5.257781   \n",
       "2                    10.213995                      5.383759   \n",
       "3                     9.977019                      4.858634   \n",
       "4                    10.142511                      4.939416   \n",
       "\n",
       "   final.output.concentrate_au  final.output.recovery  final.output.tail_ag  \\\n",
       "0                    42.192020              70.541216             10.411962   \n",
       "1                    42.701629              69.266198             10.462676   \n",
       "2                    42.657501              68.116445             10.507046   \n",
       "3                    42.689819              68.347543             10.422762   \n",
       "4                    42.774141              66.927016             10.360302   \n",
       "\n",
       "   final.output.tail_pb  final.output.tail_sol  final.output.tail_au  ...  \\\n",
       "0              0.895447              16.904297              2.143149  ...   \n",
       "1              0.927452              16.634514              2.224930  ...   \n",
       "2              0.953716              16.208849              2.257889  ...   \n",
       "3              0.883763              16.532835              2.146849  ...   \n",
       "4              0.792826              16.525686              2.055292  ...   \n",
       "\n",
       "   secondary_cleaner.state.floatbank4_a_air  \\\n",
       "0                                 14.016835   \n",
       "1                                 13.992281   \n",
       "2                                 14.015015   \n",
       "3                                 14.036510   \n",
       "4                                 14.027298   \n",
       "\n",
       "   secondary_cleaner.state.floatbank4_a_level  \\\n",
       "0                                 -502.488007   \n",
       "1                                 -505.503262   \n",
       "2                                 -502.520901   \n",
       "3                                 -500.857308   \n",
       "4                                 -499.838632   \n",
       "\n",
       "   secondary_cleaner.state.floatbank4_b_air  \\\n",
       "0                                 12.099931   \n",
       "1                                 11.950531   \n",
       "2                                 11.912783   \n",
       "3                                 11.999550   \n",
       "4                                 11.953070   \n",
       "\n",
       "   secondary_cleaner.state.floatbank4_b_level  \\\n",
       "0                                 -504.715942   \n",
       "1                                 -501.331529   \n",
       "2                                 -501.133383   \n",
       "3                                 -501.193686   \n",
       "4                                 -501.053894   \n",
       "\n",
       "   secondary_cleaner.state.floatbank5_a_air  \\\n",
       "0                                  9.925633   \n",
       "1                                 10.039245   \n",
       "2                                 10.070913   \n",
       "3                                  9.970366   \n",
       "4                                  9.925709   \n",
       "\n",
       "   secondary_cleaner.state.floatbank5_a_level  \\\n",
       "0                                 -498.310211   \n",
       "1                                 -500.169983   \n",
       "2                                 -500.129135   \n",
       "3                                 -499.201640   \n",
       "4                                 -501.686727   \n",
       "\n",
       "   secondary_cleaner.state.floatbank5_b_air  \\\n",
       "0                                  8.079666   \n",
       "1                                  7.984757   \n",
       "2                                  8.013877   \n",
       "3                                  7.977324   \n",
       "4                                  7.894242   \n",
       "\n",
       "   secondary_cleaner.state.floatbank5_b_level  \\\n",
       "0                                 -500.470978   \n",
       "1                                 -500.582168   \n",
       "2                                 -500.517572   \n",
       "3                                 -500.255908   \n",
       "4                                 -500.356035   \n",
       "\n",
       "   secondary_cleaner.state.floatbank6_a_air  \\\n",
       "0                                 14.151341   \n",
       "1                                 13.998353   \n",
       "2                                 14.028663   \n",
       "3                                 14.005551   \n",
       "4                                 13.996647   \n",
       "\n",
       "   secondary_cleaner.state.floatbank6_a_level  \n",
       "0                                 -605.841980  \n",
       "1                                 -599.787184  \n",
       "2                                 -601.427363  \n",
       "3                                 -599.996129  \n",
       "4                                 -601.496691  \n",
       "\n",
       "[5 rows x 87 columns]"
      ]
     },
     "execution_count": 7,
     "metadata": {},
     "output_type": "execute_result"
    }
   ],
   "source": [
    "full_data.head()"
   ]
  },
  {
   "cell_type": "code",
   "execution_count": 8,
   "metadata": {
    "scrolled": true
   },
   "outputs": [
    {
     "name": "stdout",
     "output_type": "stream",
     "text": [
      "<class 'pandas.core.frame.DataFrame'>\n",
      "RangeIndex: 19439 entries, 0 to 19438\n",
      "Data columns (total 87 columns):\n",
      " #   Column                                              Non-Null Count  Dtype  \n",
      "---  ------                                              --------------  -----  \n",
      " 0   date                                                19439 non-null  object \n",
      " 1   final.output.concentrate_ag                         19438 non-null  float64\n",
      " 2   final.output.concentrate_pb                         19438 non-null  float64\n",
      " 3   final.output.concentrate_sol                        19228 non-null  float64\n",
      " 4   final.output.concentrate_au                         19439 non-null  float64\n",
      " 5   final.output.recovery                               19439 non-null  float64\n",
      " 6   final.output.tail_ag                                19438 non-null  float64\n",
      " 7   final.output.tail_pb                                19338 non-null  float64\n",
      " 8   final.output.tail_sol                               19433 non-null  float64\n",
      " 9   final.output.tail_au                                19439 non-null  float64\n",
      " 10  primary_cleaner.input.sulfate                       19415 non-null  float64\n",
      " 11  primary_cleaner.input.depressant                    19402 non-null  float64\n",
      " 12  primary_cleaner.input.feed_size                     19439 non-null  float64\n",
      " 13  primary_cleaner.input.xanthate                      19335 non-null  float64\n",
      " 14  primary_cleaner.output.concentrate_ag               19439 non-null  float64\n",
      " 15  primary_cleaner.output.concentrate_pb               19323 non-null  float64\n",
      " 16  primary_cleaner.output.concentrate_sol              19069 non-null  float64\n",
      " 17  primary_cleaner.output.concentrate_au               19439 non-null  float64\n",
      " 18  primary_cleaner.output.tail_ag                      19435 non-null  float64\n",
      " 19  primary_cleaner.output.tail_pb                      19418 non-null  float64\n",
      " 20  primary_cleaner.output.tail_sol                     19377 non-null  float64\n",
      " 21  primary_cleaner.output.tail_au                      19439 non-null  float64\n",
      " 22  primary_cleaner.state.floatbank8_a_air              19435 non-null  float64\n",
      " 23  primary_cleaner.state.floatbank8_a_level            19438 non-null  float64\n",
      " 24  primary_cleaner.state.floatbank8_b_air              19435 non-null  float64\n",
      " 25  primary_cleaner.state.floatbank8_b_level            19438 non-null  float64\n",
      " 26  primary_cleaner.state.floatbank8_c_air              19437 non-null  float64\n",
      " 27  primary_cleaner.state.floatbank8_c_level            19438 non-null  float64\n",
      " 28  primary_cleaner.state.floatbank8_d_air              19436 non-null  float64\n",
      " 29  primary_cleaner.state.floatbank8_d_level            19438 non-null  float64\n",
      " 30  rougher.calculation.sulfate_to_au_concentrate       19437 non-null  float64\n",
      " 31  rougher.calculation.floatbank10_sulfate_to_au_feed  19437 non-null  float64\n",
      " 32  rougher.calculation.floatbank11_sulfate_to_au_feed  19437 non-null  float64\n",
      " 33  rougher.calculation.au_pb_ratio                     19439 non-null  float64\n",
      " 34  rougher.input.feed_ag                               19439 non-null  float64\n",
      " 35  rougher.input.feed_pb                               19339 non-null  float64\n",
      " 36  rougher.input.feed_rate                             19428 non-null  float64\n",
      " 37  rougher.input.feed_size                             19294 non-null  float64\n",
      " 38  rougher.input.feed_sol                              19340 non-null  float64\n",
      " 39  rougher.input.feed_au                               19439 non-null  float64\n",
      " 40  rougher.input.floatbank10_sulfate                   19405 non-null  float64\n",
      " 41  rougher.input.floatbank10_xanthate                  19431 non-null  float64\n",
      " 42  rougher.input.floatbank11_sulfate                   19395 non-null  float64\n",
      " 43  rougher.input.floatbank11_xanthate                  18986 non-null  float64\n",
      " 44  rougher.output.concentrate_ag                       19439 non-null  float64\n",
      " 45  rougher.output.concentrate_pb                       19439 non-null  float64\n",
      " 46  rougher.output.concentrate_sol                      19416 non-null  float64\n",
      " 47  rougher.output.concentrate_au                       19439 non-null  float64\n",
      " 48  rougher.output.recovery                             19439 non-null  float64\n",
      " 49  rougher.output.tail_ag                              19438 non-null  float64\n",
      " 50  rougher.output.tail_pb                              19439 non-null  float64\n",
      " 51  rougher.output.tail_sol                             19439 non-null  float64\n",
      " 52  rougher.output.tail_au                              19439 non-null  float64\n",
      " 53  rougher.state.floatbank10_a_air                     19438 non-null  float64\n",
      " 54  rougher.state.floatbank10_a_level                   19438 non-null  float64\n",
      " 55  rougher.state.floatbank10_b_air                     19438 non-null  float64\n",
      " 56  rougher.state.floatbank10_b_level                   19438 non-null  float64\n",
      " 57  rougher.state.floatbank10_c_air                     19438 non-null  float64\n",
      " 58  rougher.state.floatbank10_c_level                   19438 non-null  float64\n",
      " 59  rougher.state.floatbank10_d_air                     19439 non-null  float64\n",
      " 60  rougher.state.floatbank10_d_level                   19439 non-null  float64\n",
      " 61  rougher.state.floatbank10_e_air                     19003 non-null  float64\n",
      " 62  rougher.state.floatbank10_e_level                   19439 non-null  float64\n",
      " 63  rougher.state.floatbank10_f_air                     19439 non-null  float64\n",
      " 64  rougher.state.floatbank10_f_level                   19439 non-null  float64\n",
      " 65  secondary_cleaner.output.tail_ag                    19437 non-null  float64\n",
      " 66  secondary_cleaner.output.tail_pb                    19427 non-null  float64\n",
      " 67  secondary_cleaner.output.tail_sol                   17691 non-null  float64\n",
      " 68  secondary_cleaner.output.tail_au                    19439 non-null  float64\n",
      " 69  secondary_cleaner.state.floatbank2_a_air            19219 non-null  float64\n",
      " 70  secondary_cleaner.state.floatbank2_a_level          19438 non-null  float64\n",
      " 71  secondary_cleaner.state.floatbank2_b_air            19416 non-null  float64\n",
      " 72  secondary_cleaner.state.floatbank2_b_level          19438 non-null  float64\n",
      " 73  secondary_cleaner.state.floatbank3_a_air            19426 non-null  float64\n",
      " 74  secondary_cleaner.state.floatbank3_a_level          19438 non-null  float64\n",
      " 75  secondary_cleaner.state.floatbank3_b_air            19438 non-null  float64\n",
      " 76  secondary_cleaner.state.floatbank3_b_level          19438 non-null  float64\n",
      " 77  secondary_cleaner.state.floatbank4_a_air            19433 non-null  float64\n",
      " 78  secondary_cleaner.state.floatbank4_a_level          19438 non-null  float64\n",
      " 79  secondary_cleaner.state.floatbank4_b_air            19438 non-null  float64\n",
      " 80  secondary_cleaner.state.floatbank4_b_level          19438 non-null  float64\n",
      " 81  secondary_cleaner.state.floatbank5_a_air            19438 non-null  float64\n",
      " 82  secondary_cleaner.state.floatbank5_a_level          19438 non-null  float64\n",
      " 83  secondary_cleaner.state.floatbank5_b_air            19438 non-null  float64\n",
      " 84  secondary_cleaner.state.floatbank5_b_level          19438 non-null  float64\n",
      " 85  secondary_cleaner.state.floatbank6_a_air            19437 non-null  float64\n",
      " 86  secondary_cleaner.state.floatbank6_a_level          19438 non-null  float64\n",
      "dtypes: float64(86), object(1)\n",
      "memory usage: 12.9+ MB\n"
     ]
    }
   ],
   "source": [
    "full_data.info()"
   ]
  },
  {
   "cell_type": "markdown",
   "metadata": {},
   "source": [
    "# Вывод:\n",
    "- надо изменить тип столбца date на datetime(сейчас object)\n",
    "- в данных присутствуют пропуски"
   ]
  },
  {
   "cell_type": "code",
   "execution_count": 9,
   "metadata": {},
   "outputs": [],
   "source": [
    "# изменим тип данных в столбце data\n",
    "train_data['date'] = pd.to_datetime(train_data['date'], format='%Y-%m-%d %H:%M:%S')\n",
    "test_data['date'] = pd.to_datetime(test_data['date'], format='%Y-%m-%d %H:%M:%S')\n",
    "full_data['date'] = pd.to_datetime(full_data['date'], format='%Y-%m-%d %H:%M:%S')"
   ]
  },
  {
   "cell_type": "code",
   "execution_count": 10,
   "metadata": {},
   "outputs": [
    {
     "name": "stdout",
     "output_type": "stream",
     "text": [
      "0\n",
      "0\n",
      "0\n"
     ]
    }
   ],
   "source": [
    "# проверим наличие явных дубликатов\n",
    "print(train_data.duplicated().sum())\n",
    "print(test_data.duplicated().sum())\n",
    "print(full_data.duplicated().sum())"
   ]
  },
  {
   "cell_type": "markdown",
   "metadata": {},
   "source": [
    "***Так как по условию задачи соседние по времени параметры часто похожи, заполним отсутствующие значения в тренировочной и тестовой выборках c помощью функции ffill.***"
   ]
  },
  {
   "cell_type": "code",
   "execution_count": 11,
   "metadata": {},
   "outputs": [],
   "source": [
    "#избавимся от пропусков. \n",
    "train_data = train_data.ffill(axis=0)\n",
    "test_data = test_data.ffill(axis=0)\n",
    "full_data = full_data.ffill(axis=0)"
   ]
  },
  {
   "cell_type": "code",
   "execution_count": 12,
   "metadata": {},
   "outputs": [
    {
     "name": "stdout",
     "output_type": "stream",
     "text": [
      "(14149, 87)\n",
      "(5290, 53)\n",
      "(19439, 87)\n",
      "14149\n",
      "5290\n",
      "19439\n"
     ]
    }
   ],
   "source": [
    "print(train_data.shape)\n",
    "print(test_data.shape)\n",
    "print(full_data.shape)\n",
    "print(len(train_data.notna()))\n",
    "print(len(test_data.notna()))\n",
    "print(len(full_data.notna()))"
   ]
  },
  {
   "cell_type": "markdown",
   "metadata": {},
   "source": [
    "***Пропусков нет.***"
   ]
  },
  {
   "cell_type": "markdown",
   "metadata": {},
   "source": [
    "# Проверка формулы эффиктивности обогащения"
   ]
  },
  {
   "cell_type": "markdown",
   "metadata": {},
   "source": [
    "- вычислим её на обучающей выборке для признака rougher.output.recovery \n",
    "- найдем MAE между полученными значениями и значением признака\n",
    "\n",
    "Условия: \n",
    "- С - доля золота в концентрате после очитски (rougher.output.concentrate_au)\n",
    "- F - доля золота в сырье/концентрате до очистки (rougher.input.feed_au)\n",
    "- T - доля золота в отвальных хвостах после очистки (rougher.output.tail_au)\n",
    "- Значение нужного признака - rougher.output.recovery"
   ]
  },
  {
   "cell_type": "code",
   "execution_count": 13,
   "metadata": {},
   "outputs": [
    {
     "name": "stdout",
     "output_type": "stream",
     "text": [
      "MAE = 9.73512347450521e-15\n"
     ]
    }
   ],
   "source": [
    "c = train_data['rougher.output.concentrate_au']\n",
    "f = train_data['rougher.input.feed_au']\n",
    "t = train_data['rougher.output.tail_au']\n",
    "recovery = ((c*(f-t))/(f*(c-t))) * 100\n",
    "\n",
    "print('MAE =', mean_absolute_error(train_data['rougher.output.recovery'], recovery))"
   ]
  },
  {
   "cell_type": "markdown",
   "metadata": {},
   "source": [
    "Признак MAE очень мал - рассчеты верны."
   ]
  },
  {
   "cell_type": "markdown",
   "metadata": {},
   "source": [
    "# Анализ признаков, недоступных в тетовой выборке"
   ]
  },
  {
   "cell_type": "code",
   "execution_count": 14,
   "metadata": {},
   "outputs": [
    {
     "data": {
      "text/plain": [
       "{'final.output.concentrate_ag',\n",
       " 'final.output.concentrate_au',\n",
       " 'final.output.concentrate_pb',\n",
       " 'final.output.concentrate_sol',\n",
       " 'final.output.recovery',\n",
       " 'final.output.tail_ag',\n",
       " 'final.output.tail_au',\n",
       " 'final.output.tail_pb',\n",
       " 'final.output.tail_sol',\n",
       " 'primary_cleaner.output.concentrate_ag',\n",
       " 'primary_cleaner.output.concentrate_au',\n",
       " 'primary_cleaner.output.concentrate_pb',\n",
       " 'primary_cleaner.output.concentrate_sol',\n",
       " 'primary_cleaner.output.tail_ag',\n",
       " 'primary_cleaner.output.tail_au',\n",
       " 'primary_cleaner.output.tail_pb',\n",
       " 'primary_cleaner.output.tail_sol',\n",
       " 'rougher.calculation.au_pb_ratio',\n",
       " 'rougher.calculation.floatbank10_sulfate_to_au_feed',\n",
       " 'rougher.calculation.floatbank11_sulfate_to_au_feed',\n",
       " 'rougher.calculation.sulfate_to_au_concentrate',\n",
       " 'rougher.output.concentrate_ag',\n",
       " 'rougher.output.concentrate_au',\n",
       " 'rougher.output.concentrate_pb',\n",
       " 'rougher.output.concentrate_sol',\n",
       " 'rougher.output.recovery',\n",
       " 'rougher.output.tail_ag',\n",
       " 'rougher.output.tail_au',\n",
       " 'rougher.output.tail_pb',\n",
       " 'rougher.output.tail_sol',\n",
       " 'secondary_cleaner.output.tail_ag',\n",
       " 'secondary_cleaner.output.tail_au',\n",
       " 'secondary_cleaner.output.tail_pb',\n",
       " 'secondary_cleaner.output.tail_sol'}"
      ]
     },
     "execution_count": 14,
     "metadata": {},
     "output_type": "execute_result"
    }
   ],
   "source": [
    "missed_signs = set(train_data.columns) - set(test_data.columns)\n",
    "missed_signs"
   ]
  },
  {
   "cell_type": "code",
   "execution_count": 15,
   "metadata": {},
   "outputs": [
    {
     "name": "stdout",
     "output_type": "stream",
     "text": [
      "\n",
      "Количество отсутствующих признаков - 34\n"
     ]
    }
   ],
   "source": [
    "print('\\nКоличество отсутствующих признаков -', len(missed_signs))"
   ]
  },
  {
   "cell_type": "markdown",
   "metadata": {},
   "source": [
    "В тесте отсутствуют параметры, которые обозначают характеристики этапов обработки, также содержат расчетные характеристики и целевые значения эффективности обогащения. В тестовой выборке отсутствуют целевые признаки rougher.output.recovery и final.output.recovery, которые нужны для расчета метрики качества. "
   ]
  },
  {
   "cell_type": "code",
   "execution_count": 16,
   "metadata": {},
   "outputs": [],
   "source": [
    "test_data = test_data.merge(full_data.loc[:, ['date','rougher.output.recovery','final.output.recovery']], on='date')"
   ]
  },
  {
   "cell_type": "code",
   "execution_count": 17,
   "metadata": {},
   "outputs": [],
   "source": [
    "train_data = train_data.drop('date', axis=1)\n",
    "test_data = test_data.drop('date', axis=1)"
   ]
  },
  {
   "cell_type": "markdown",
   "metadata": {},
   "source": [
    "# Вывод"
   ]
  },
  {
   "cell_type": "markdown",
   "metadata": {},
   "source": [
    "- Данные были заргужены и изучены.\n",
    "- Пропуски в датасетах (тренировочная выборки и тестовая) были заполнены значениями предшествующими по времени.\n",
    "- Проверена правильность расчета эффективности обогащения.\n",
    "- В сравнение с тренировчной выборкой в тестовой отсутствуют 34 значения. Это скорее всего связано с тем, что они замеряются позже.\n",
    "- В тестовую выборку были добавлены целевые признаки (rougher.output.recovery, final.output.recovery), которые будут необходимы в дальнейшем для рассчета итоговой метрики качества.\n"
   ]
  },
  {
   "cell_type": "markdown",
   "metadata": {},
   "source": [
    "## Анализ данных"
   ]
  },
  {
   "cell_type": "markdown",
   "metadata": {},
   "source": [
    "Посмотрим, как меняется конЯцентрация металлов (Au, Ag, Pb) на различных этапах очистки."
   ]
  },
  {
   "cell_type": "code",
   "execution_count": 18,
   "metadata": {},
   "outputs": [
    {
     "data": {
      "image/png": "[encoded data removed]",
      "text/plain": [
       "<Figure size 432x288 with 1 Axes>"
      ]
     },
     "metadata": {
      "needs_background": "light"
     },
     "output_type": "display_data"
    },
    {
     "data": {
      "image/png": "[encoded data removed]",
      "text/plain": [
       "<Figure size 432x288 with 1 Axes>"
      ]
     },
     "metadata": {
      "needs_background": "light"
     },
     "output_type": "display_data"
    },
    {
     "data": {
      "image/png": "[encoded data removed]",
      "text/plain": [
       "<Figure size 432x288 with 1 Axes>"
      ]
     },
     "metadata": {
      "needs_background": "light"
     },
     "output_type": "display_data"
    }
   ],
   "source": [
    "plt.title('Концетрация Au', fontweight='bold')\n",
    "fig = sns.kdeplot(full_data['rougher.input.feed_au'],color='y', legend=True,shade=True)\n",
    "fig = sns.kdeplot(full_data['rougher.output.concentrate_au'],color='r', legend=True,shade=True)\n",
    "fig = sns.kdeplot(full_data['primary_cleaner.output.concentrate_au'],color='g', legend=True,shade=True)\n",
    "fig = sns.kdeplot(full_data['final.output.concentrate_au'],color='b', legend=True,shade=True)\n",
    "plt.legend(['Сырье','Флотация', 'Первичная очистка', \"Финальная концентрация\" ], loc=1)     \n",
    "plt.show()\n",
    "\n",
    "plt.title('Концетрация Ag', fontweight='bold')\n",
    "fig = sns.kdeplot(full_data['rougher.input.feed_ag'],color='y', legend=True,shade=True)\n",
    "fig = sns.kdeplot(full_data['rougher.output.concentrate_ag'],color='r', legend=True,shade=True)\n",
    "fig = sns.kdeplot(full_data['primary_cleaner.output.concentrate_ag'],color='g', legend=True,shade=True)\n",
    "fig = sns.kdeplot(full_data['final.output.concentrate_ag'],color='b', legend=True,shade=True)\n",
    "plt.legend(['Сырье','Флотация', 'Первичная очистка', \"Финальная концентрация\" ], loc=1)     \n",
    "plt.show()\n",
    "\n",
    "plt.title('Концетрация Pb', fontweight='bold')\n",
    "fig = sns.kdeplot(full_data['rougher.input.feed_pb'],color='y', legend=True,shade=True)\n",
    "fig = sns.kdeplot(full_data['rougher.output.concentrate_pb'],color='r', legend=True,shade=True)\n",
    "fig = sns.kdeplot(full_data['primary_cleaner.output.concentrate_pb'],color='g', legend=True,shade=True)\n",
    "fig = sns.kdeplot(full_data['final.output.concentrate_pb'],color='b', legend=True,shade=True)\n",
    "plt.legend(['Сырье','Флотация', 'Первичная очистка', \"Финальная концентрация\" ], loc=1)      \n",
    "plt.show()"
   ]
  },
  {
   "cell_type": "markdown",
   "metadata": {},
   "source": [
    "- Концентрация золота увеличивается после каждого этапа очистки\n",
    "- Концентрация серебра увеличивается после флотации и уменьшается после следующих этапов\n",
    "- Концентрация свинца снижается после первого этапа очистки "
   ]
  },
  {
   "cell_type": "markdown",
   "metadata": {},
   "source": [
    "Посмотрим распределения размеров гранул сырья"
   ]
  },
  {
   "cell_type": "code",
   "execution_count": 19,
   "metadata": {},
   "outputs": [
    {
     "data": {
      "image/png": "[encoded data removed]",
      "text/plain": [
       "<Figure size 432x288 with 1 Axes>"
      ]
     },
     "metadata": {
      "needs_background": "light"
     },
     "output_type": "display_data"
    }
   ],
   "source": [
    "plt.title('Распределение гранул сырья на обучающей выборке', fontweight='bold')\n",
    "fig = sns.kdeplot(train_data['rougher.input.feed_size'],color='r', legend=True,shade=True)\n",
    "fig = sns.kdeplot(test_data['rougher.input.feed_size'],color='g', legend=True,shade=True)\n",
    "plt.legend(['Флотация', 'Первичная очистка'], loc=1)     \n",
    "plt.xlim(0, 300)\n",
    "plt.show()"
   ]
  },
  {
   "cell_type": "code",
   "execution_count": 20,
   "metadata": {},
   "outputs": [
    {
     "name": "stdout",
     "output_type": "stream",
     "text": [
      "Среднее распределение гранул на обучающей выборке: 60.23985599255732\n",
      "Среднее распределение гранул на тестовой выборке: 55.952754028895136\n"
     ]
    }
   ],
   "source": [
    "feed_size_train = train_data['rougher.input.feed_size'].mean()\n",
    "print('Среднее распределение гранул на обучающей выборке:',feed_size_train)\n",
    "feed_size_test = test_data['rougher.input.feed_size'].mean()\n",
    "print('Среднее распределение гранул на тестовой выборке:',feed_size_test)"
   ]
  },
  {
   "cell_type": "markdown",
   "metadata": {},
   "source": [
    "Посмотрим суммарную концентрацию всех веществ на разных стадиях"
   ]
  },
  {
   "cell_type": "code",
   "execution_count": 21,
   "metadata": {},
   "outputs": [],
   "source": [
    "full_data['raw'] = full_data[['rougher.input.feed_au', 'rougher.input.feed_ag', 'rougher.input.feed_pb', 'rougher.input.feed_sol']].sum(axis=1)\n",
    "full_data['rough concentrate'] = full_data[['rougher.output.concentrate_au', 'rougher.output.concentrate_ag', 'rougher.output.concentrate_pb', 'rougher.output.concentrate_sol']].sum(axis=1)\n",
    "full_data['primary concentrate'] = full_data[['primary_cleaner.output.concentrate_au','primary_cleaner.output.concentrate_ag', 'primary_cleaner.output.concentrate_pb', 'primary_cleaner.output.concentrate_sol']].sum(axis=1)\n",
    "full_data['final concentrate'] = full_data[['final.output.concentrate_au', 'final.output.concentrate_ag', 'final.output.concentrate_pb', 'final.output.concentrate_sol']].sum(axis=1)"
   ]
  },
  {
   "cell_type": "code",
   "execution_count": 22,
   "metadata": {},
   "outputs": [
    {
     "data": {
      "image/png": "[encoded data removed]",
      "text/plain": [
       "<Figure size 714.125x576 with 1 Axes>"
      ]
     },
     "metadata": {
      "needs_background": "light"
     },
     "output_type": "display_data"
    }
   ],
   "source": [
    "sns.displot(full_data[['raw', 'rough concentrate', 'primary concentrate', 'final concentrate']], legend=True,  height=8)  \n",
    "plt.title('Суммарная концентрация всех веществ на разных стадиях')\n",
    "plt.show()"
   ]
  },
  {
   "cell_type": "markdown",
   "metadata": {},
   "source": [
    "Суммарная концентрация веществ увеличивается к финальному этапу, а диапазон распределения суммарной концентрации веществ уменьшается.\n",
    "\n",
    "Для финального этапа и этапа флотации в суммарной концентрации веществ присутствуют аномалии ( значения в районе 0).\n",
    "Стоит удалить аномалии из данных, так как они могут негативно повлиять на качество обучения модели."
   ]
  },
  {
   "cell_type": "code",
   "execution_count": 23,
   "metadata": {},
   "outputs": [],
   "source": [
    "train_data = train_data[(train_data['rougher.output.concentrate_au'] != 0) & (train_data['rougher.output.concentrate_ag'] != 0) & (train_data['rougher.output.concentrate_pb'] != 0) & (train_data['rougher.output.concentrate_sol'] != 0)]\n",
    "train_data = train_data[(train_data['final.output.concentrate_au'] != 0) & (train_data['final.output.concentrate_ag'] != 0) & (train_data['final.output.concentrate_pb'] != 0) & (train_data['final.output.concentrate_sol'] != 0)]\n",
    "\n",
    "full_data = full_data[(full_data['rougher.output.concentrate_au'] != 0) & (full_data['rougher.output.concentrate_ag'] != 0) & (full_data['rougher.output.concentrate_pb'] != 0) & (full_data['rougher.output.concentrate_sol'] != 0)]\n",
    "full_data = full_data[(full_data['final.output.concentrate_au'] != 0) & (full_data['final.output.concentrate_ag'] != 0) & (full_data['final.output.concentrate_pb'] != 0) & (full_data['final.output.concentrate_sol'] != 0)]"
   ]
  },
  {
   "cell_type": "markdown",
   "metadata": {},
   "source": [
    "# Вывод"
   ]
  },
  {
   "cell_type": "markdown",
   "metadata": {},
   "source": [
    "- Распределения гранул сырья на обучающей и тестовой выборках значительных различий не имеют\n",
    "- Доля золота увеличивается по мере прохождения этапов очистки\n",
    "- В анализа суммарной концентрации веществ на разных стадиях были выявлены аномалии, которые были удалены для улучшения качества модели."
   ]
  },
  {
   "cell_type": "markdown",
   "metadata": {},
   "source": [
    "## Модель"
   ]
  },
  {
   "cell_type": "markdown",
   "metadata": {},
   "source": [
    "В начале следует удалить отсутствующие в тестовой выборке признакииз тренировочной(кроме целевых)"
   ]
  },
  {
   "cell_type": "code",
   "execution_count": 24,
   "metadata": {},
   "outputs": [],
   "source": [
    "signs_for_delete = missed_signs - set(['rougher.output.recovery','final.output.recovery'])"
   ]
  },
  {
   "cell_type": "code",
   "execution_count": 25,
   "metadata": {},
   "outputs": [],
   "source": [
    "train_data = train_data.drop(columns=signs_for_delete, axis=1)"
   ]
  },
  {
   "cell_type": "markdown",
   "metadata": {},
   "source": [
    "Функция вычисления sMAPE"
   ]
  },
  {
   "cell_type": "code",
   "execution_count": 26,
   "metadata": {},
   "outputs": [],
   "source": [
    "def get_smape(target, predict):\n",
    "    smape = (1/len(target))*np.sum((np.abs(target - predict))/( (np.abs(target)+np.abs(predict))/2))*100\n",
    "    return smape"
   ]
  },
  {
   "cell_type": "code",
   "execution_count": 27,
   "metadata": {},
   "outputs": [],
   "source": [
    "smape_scorer = make_scorer(get_smape, greater_is_better = False)"
   ]
  },
  {
   "cell_type": "markdown",
   "metadata": {},
   "source": [
    "Функция вычисления итогового sMAPE"
   ]
  },
  {
   "cell_type": "code",
   "execution_count": 28,
   "metadata": {},
   "outputs": [],
   "source": [
    "def get_final_smape(rougher, final):\n",
    "    final = 0.25*rougher+0.75*final\n",
    "    return final"
   ]
  },
  {
   "cell_type": "markdown",
   "metadata": {},
   "source": [
    "Подготовим данные для обучения моделей"
   ]
  },
  {
   "cell_type": "code",
   "execution_count": 29,
   "metadata": {},
   "outputs": [],
   "source": [
    "features_for_train_df = train_data.drop(['rougher.output.recovery','final.output.recovery'], axis=1)\n",
    "target_for_rougher_on_train_df = train_data['rougher.output.recovery']\n",
    "target_for_final_on_train_df = train_data['final.output.recovery']"
   ]
  },
  {
   "cell_type": "code",
   "execution_count": 30,
   "metadata": {},
   "outputs": [],
   "source": [
    "dct_with_scores = {}"
   ]
  },
  {
   "cell_type": "code",
   "execution_count": 31,
   "metadata": {},
   "outputs": [
    {
     "name": "stdout",
     "output_type": "stream",
     "text": [
      "CPU times: user 1.68 s, sys: 2.14 s, total: 3.81 s\n",
      "Wall time: 3.81 s\n"
     ]
    }
   ],
   "source": [
    "%%time\n",
    "model_lr_rougher = LinearRegression()\n",
    "smape_rougher = cross_val_score(model_lr_rougher,\n",
    "                          features_for_train_df,\n",
    "                          target_for_rougher_on_train_df,\n",
    "                          scoring=smape_scorer,\n",
    "                          cv=5)\n",
    "final_smape_rougher = smape_rougher.mean()\n",
    "model_lr_final = LinearRegression()\n",
    "smape_final = cross_val_score(model_lr_final,\n",
    "                        features_for_train_df,\n",
    "                        target_for_final_on_train_df,\n",
    "                        scoring=smape_scorer,\n",
    "                        cv=5)\n",
    "final_smape_final = smape_final.mean()\n",
    "result_smape = get_final_smape(final_smape_rougher, final_smape_final)*(-1)\n",
    "dct_with_scores['LR'] = [result_smape]"
   ]
  },
  {
   "cell_type": "code",
   "execution_count": 32,
   "metadata": {},
   "outputs": [
    {
     "name": "stdout",
     "output_type": "stream",
     "text": [
      "CPU times: user 25.2 s, sys: 2.74 ms, total: 25.2 s\n",
      "Wall time: 25.2 s\n"
     ]
    }
   ],
   "source": [
    "%%time\n",
    "state = RandomState(12345)\n",
    "best_result_for_dt = 100\n",
    "best_param_for_dt = 0\n",
    "for n in range(1, 10, 1):\n",
    "    model_dt_rougher = DecisionTreeRegressor(max_depth=n, random_state=state)\n",
    "    smape_rougher = cross_val_score(model_dt_rougher,\n",
    "                              features_for_train_df,\n",
    "                              target_for_rougher_on_train_df,\n",
    "                              scoring=smape_scorer,\n",
    "                              cv=5)\n",
    "    final_smape_rougher = smape_rougher.mean()\n",
    "\n",
    "    model_dt_final = DecisionTreeRegressor(max_depth=n, random_state=state)\n",
    "    smape_final = cross_val_score(model_dt_final, \n",
    "                                  features_for_train_df,\n",
    "                                  target_for_final_on_train_df,\n",
    "                                  scoring=smape_scorer,\n",
    "                                  cv=5)\n",
    "    final_smape_final = smape_final.mean()\n",
    "    result_smape = get_final_smape(final_smape_rougher, final_smape_final)*(-1)\n",
    "    if result_smape < best_result_for_dt:\n",
    "        best_result_for_dt = result_smape\n",
    "        best_param_for_dt = n\n",
    "dct_with_scores['DT'] = [best_result_for_dt, best_param_for_dt]"
   ]
  },
  {
   "cell_type": "code",
   "execution_count": 33,
   "metadata": {},
   "outputs": [
    {
     "name": "stdout",
     "output_type": "stream",
     "text": [
      "CPU times: user 12min 42s, sys: 855 ms, total: 12min 43s\n",
      "Wall time: 12min 43s\n"
     ]
    }
   ],
   "source": [
    "%%time\n",
    "best_model_for_rf = 100\n",
    "best_param_for_rf = 0\n",
    "for n in range(10, 100, 30):\n",
    "    for d in range(2,10,2):\n",
    "        model_rf_rougher = RandomForestRegressor(n_estimators=n, max_depth=d, random_state=state)\n",
    "        smape_rougher = cross_val_score(model_rf_rougher,\n",
    "                                  features_for_train_df,\n",
    "                                  target_for_rougher_on_train_df,\n",
    "                                  scoring=smape_scorer,\n",
    "                                  cv=5)\n",
    "        final_smape_rougher = smape_rougher.mean()\n",
    "\n",
    "        model_rf_final = RandomForestRegressor(n_estimators=n, max_depth=d, random_state=state)\n",
    "        smape_final = cross_val_score(model_rf_final,\n",
    "                                features_for_train_df,\n",
    "                                target_for_final_on_train_df,\n",
    "                                scoring=smape_scorer,\n",
    "                                cv=5)\n",
    "        final_smape_final = smape_final.mean()\n",
    "        result_smape = get_final_smape(final_smape_rougher, final_smape_final)*(-1)\n",
    "        if result_smape < best_model_for_rf:\n",
    "            best_model_for_rf = result_smape\n",
    "            best_param_for_rf = [n,d]\n",
    "dct_with_scores['RF'] = [best_model_for_rf, best_param_for_rf]"
   ]
  },
  {
   "cell_type": "code",
   "execution_count": 34,
   "metadata": {},
   "outputs": [
    {
     "name": "stdout",
     "output_type": "stream",
     "text": [
      "\n",
      "МОДЕЛЬ LR С РЕЗУЛЬТАТОМ - 10.059261443482796\n",
      "\n",
      "МОДЕЛЬ DT С РЕЗУЛЬТАТОМ - 8.925785452030949\n",
      "\n",
      "МОДЕЛЬ RF С РЕЗУЛЬТАТОМ - 8.529258429567625\n"
     ]
    }
   ],
   "source": [
    "for key in dct_with_scores.keys():\n",
    "    print(f'\\nМОДЕЛЬ {str(key).upper()} С РЕЗУЛЬТАТОМ - {dct_with_scores[key][0]}')"
   ]
  },
  {
   "cell_type": "markdown",
   "metadata": {},
   "source": [
    "Лучшая модель - Лес, далее будем работать с ней и  Применим ее на тестовой выборкею."
   ]
  },
  {
   "cell_type": "code",
   "execution_count": 35,
   "metadata": {},
   "outputs": [
    {
     "name": "stdout",
     "output_type": "stream",
     "text": [
      "\n",
      "ЛУЧШИЕ ПАРАМЕТРЫ ДЛЯ МОДЕЛИ RF: N_ESTIMATORS - 10, MAX_DEPTH - 4\n"
     ]
    }
   ],
   "source": [
    "print('\\nЛУЧШИЕ ПАРАМЕТРЫ ДЛЯ МОДЕЛИ RF: N_ESTIMATORS - {}, MAX_DEPTH - {}'.format(dct_with_scores['RF'][1][0], dct_with_scores['RF'][1][1]))"
   ]
  },
  {
   "cell_type": "code",
   "execution_count": 36,
   "metadata": {},
   "outputs": [],
   "source": [
    "features_for_test_df = test_data.drop(['rougher.output.recovery','final.output.recovery'], axis=1)\n",
    "target_for_rougher_on_test_df = test_data['rougher.output.recovery']\n",
    "target_for_final_on_test_df = test_data['final.output.recovery']"
   ]
  },
  {
   "cell_type": "code",
   "execution_count": 37,
   "metadata": {},
   "outputs": [],
   "source": [
    "model_for_test_rougher = RandomForestRegressor(n_estimators=10, max_depth=4, random_state=state)\n",
    "model_for_test_rougher.fit(features_for_train_df, target_for_rougher_on_train_df)\n",
    "predicted_rougher = model_for_test_rougher.predict(features_for_test_df)\n",
    "\n",
    "model_for_test_final = RandomForestRegressor(n_estimators=10, max_depth=4, random_state=state)\n",
    "model_for_test_final.fit(features_for_train_df, target_for_final_on_train_df)\n",
    "predicted_final = model_for_test_final.predict(features_for_test_df)\n",
    "\n",
    "smape_for_test_rougher = get_smape(target_for_rougher_on_test_df, predicted_rougher)\n",
    "smape_for_test_final = get_smape(target_for_final_on_test_df, predicted_final)\n",
    "final_smape_for_test = get_final_smape(smape_for_test_rougher, smape_for_test_final)"
   ]
  },
  {
   "cell_type": "code",
   "execution_count": 38,
   "metadata": {},
   "outputs": [
    {
     "name": "stdout",
     "output_type": "stream",
     "text": [
      "\n",
      "SMAPE ДЛЯ ТЕСТОВОЙ ВЫБОРКИ СОСТОВЛЯЕТ - 9.504033186609172\n"
     ]
    }
   ],
   "source": [
    "print(f'\\nSMAPE ДЛЯ ТЕСТОВОЙ ВЫБОРКИ СОСТОВЛЯЕТ - {final_smape_for_test}')"
   ]
  },
  {
   "cell_type": "code",
   "execution_count": 39,
   "metadata": {},
   "outputs": [],
   "source": [
    "dummy_regr_for_rougher = DummyRegressor(strategy=\"mean\")\n",
    "dummy_regr_for_final = DummyRegressor(strategy=\"mean\")\n",
    "\n",
    "dummy_regr_for_rougher.fit(features_for_train_df, target_for_rougher_on_train_df)\n",
    "dummy_regr_for_final.fit(features_for_train_df, target_for_final_on_train_df)\n",
    "\n",
    "dummy_predicted_rougher = dummy_regr_for_rougher.predict(features_for_test_df)\n",
    "dummy_predicted_final = dummy_regr_for_final.predict(features_for_test_df)\n",
    "\n",
    "smape_for_const_rougher = get_smape(target_for_rougher_on_test_df, dummy_predicted_rougher)\n",
    "smape_for_const_final = get_smape(target_for_final_on_test_df, dummy_predicted_final)\n",
    "\n",
    "final_smape_for_const = get_final_smape(smape_for_const_rougher, smape_for_const_final)"
   ]
  },
  {
   "cell_type": "code",
   "execution_count": 40,
   "metadata": {},
   "outputs": [
    {
     "name": "stdout",
     "output_type": "stream",
     "text": [
      "\n",
      "ПОКАЗАТЕЛЬ SMAPE ДЛЯ КОНСТАНТНОЙ МОДЕЛИ - 9.82146839182027\n"
     ]
    }
   ],
   "source": [
    "print(f'\\nПОКАЗАТЕЛЬ SMAPE ДЛЯ КОНСТАНТНОЙ МОДЕЛИ - {final_smape_for_const}')"
   ]
  },
  {
   "cell_type": "markdown",
   "metadata": {},
   "source": [
    "***Показатель модели RandomForestRegressor меньше показателя константной, что означает хорошее качество полученной модели.***"
   ]
  },
  {
   "cell_type": "markdown",
   "metadata": {},
   "source": [
    "Вывод:\n",
    "- Лучшая модель - RandomForestRegressor\n",
    "- Модель проверена на адекватность, ее показатель SMAPE меньше показателя константной модели."
   ]
  },
  {
   "cell_type": "markdown",
   "metadata": {},
   "source": [
    "# Вывод\n"
   ]
  },
  {
   "cell_type": "markdown",
   "metadata": {},
   "source": [
    "- Данные были загржены в датасет и проанализированны.\n",
    "- Была проведена предобработка данных, были удалены аномальные значения и проверено распределение веществ для обучающей и тестовой выборки\n",
    "- Моделью с лучшими результатами прогноза является - RandomForestRegressor\n",
    "- Модель прошла проверку на адекватность.\n",
    "- По результатам исследования видно, что  доля золота и серебра увеличичвается с течением технологического процесса, а свинца уменьшается. Общее суммарное количество веществ уменьшается по мере прохождения этапов обработки."
   ]
  },
  {
   "cell_type": "markdown",
   "metadata": {},
   "source": [
    "# Чек-лист проекта"
   ]
  },
  {
   "cell_type": "markdown",
   "metadata": {},
   "source": [
    "- [x]  Jupyter Notebook открыт\n",
    "- [x]  Весь код выполняется без ошибок\n",
    "- [x]  Ячейки с кодом расположены в порядке выполнения\n",
    "- [x]  Выполнен шаг 1: данные подготовлены\n",
    "    - [x]  Проверена формула вычисления эффективности обогащения\n",
    "    - [x]  Проанализированы признаки, недоступные в тестовой выборке\n",
    "    - [x]  Проведена предобработка данных\n",
    "- [x]  Выполнен шаг 2: данные проанализированы\n",
    "    - [x]  Исследовано изменение концентрации элементов на каждом этапе\n",
    "    - [x]  Проанализированы распределения размеров гранул на обучающей и тестовой выборках\n",
    "    - [x]  Исследованы суммарные концентрации\n",
    "- [x]  Выполнен шаг 3: построена модель прогнозирования\n",
    "    - [x]  Написана функция для вычисления итогового *sMAPE*\n",
    "    - [x]  Обучено и проверено несколько моделей\n",
    "    - [x]  Выбрана лучшая модель, её качество проверено на тестовой выборке"
   ]
  },
  {
   "cell_type": "code",
   "execution_count": null,
   "metadata": {},
   "outputs": [],
   "source": []
  }
 ],
 "metadata": {
  "ExecuteTimeLog": [
   {
    "duration": 1837,
    "start_time": "2023-03-09T00:24:29.420Z"
   },
   {
    "duration": 3415,
    "start_time": "2023-03-09T00:24:31.259Z"
   },
   {
    "duration": 27,
    "start_time": "2023-03-09T00:28:54.902Z"
   },
   {
    "duration": 4,
    "start_time": "2023-03-09T00:29:00.138Z"
   },
   {
    "duration": 782,
    "start_time": "2023-03-09T00:29:00.318Z"
   },
   {
    "duration": 23,
    "start_time": "2023-03-09T00:29:01.102Z"
   },
   {
    "duration": 21,
    "start_time": "2023-03-09T00:35:33.604Z"
   },
   {
    "duration": 787,
    "start_time": "2023-03-09T00:35:44.495Z"
   },
   {
    "duration": 28,
    "start_time": "2023-03-09T00:35:56.130Z"
   },
   {
    "duration": 18,
    "start_time": "2023-03-09T00:35:56.602Z"
   },
   {
    "duration": 21,
    "start_time": "2023-03-09T00:38:22.288Z"
   },
   {
    "duration": 14,
    "start_time": "2023-03-09T00:38:22.985Z"
   },
   {
    "duration": 25,
    "start_time": "2023-03-09T00:38:23.385Z"
   },
   {
    "duration": 20,
    "start_time": "2023-03-09T00:38:23.892Z"
   },
   {
    "duration": 13,
    "start_time": "2023-03-09T00:47:20.110Z"
   },
   {
    "duration": 238,
    "start_time": "2023-03-09T00:48:35.382Z"
   },
   {
    "duration": 24,
    "start_time": "2023-03-09T00:58:42.579Z"
   },
   {
    "duration": 11,
    "start_time": "2023-03-09T01:00:24.619Z"
   },
   {
    "duration": 11,
    "start_time": "2023-03-09T01:01:07.581Z"
   },
   {
    "duration": 11,
    "start_time": "2023-03-09T01:01:45.289Z"
   },
   {
    "duration": 11,
    "start_time": "2023-03-09T01:04:44.800Z"
   },
   {
    "duration": 1752,
    "start_time": "2023-03-10T03:22:35.333Z"
   },
   {
    "duration": 3126,
    "start_time": "2023-03-10T03:22:37.088Z"
   },
   {
    "duration": 27,
    "start_time": "2023-03-10T03:22:40.215Z"
   },
   {
    "duration": 20,
    "start_time": "2023-03-10T03:22:40.244Z"
   },
   {
    "duration": 29,
    "start_time": "2023-03-10T03:22:40.266Z"
   },
   {
    "duration": 15,
    "start_time": "2023-03-10T03:22:40.297Z"
   },
   {
    "duration": 22,
    "start_time": "2023-03-10T03:22:40.314Z"
   },
   {
    "duration": 60,
    "start_time": "2023-03-10T03:22:40.338Z"
   },
   {
    "duration": 153,
    "start_time": "2023-03-10T03:22:40.401Z"
   },
   {
    "duration": 0,
    "start_time": "2023-03-10T03:22:40.557Z"
   },
   {
    "duration": 0,
    "start_time": "2023-03-10T03:22:40.563Z"
   },
   {
    "duration": 13,
    "start_time": "2023-03-10T03:22:41.491Z"
   },
   {
    "duration": 13,
    "start_time": "2023-03-10T03:27:49.158Z"
   },
   {
    "duration": 14,
    "start_time": "2023-03-10T03:28:10.308Z"
   },
   {
    "duration": 7,
    "start_time": "2023-03-10T03:28:19.569Z"
   },
   {
    "duration": 65,
    "start_time": "2023-03-10T03:29:21.435Z"
   },
   {
    "duration": 10,
    "start_time": "2023-03-10T03:31:23.258Z"
   },
   {
    "duration": 5,
    "start_time": "2023-03-10T03:31:37.364Z"
   },
   {
    "duration": 3,
    "start_time": "2023-03-10T03:50:33.982Z"
   },
   {
    "duration": 10,
    "start_time": "2023-03-10T03:51:37.427Z"
   },
   {
    "duration": 16,
    "start_time": "2023-03-10T03:51:57.927Z"
   },
   {
    "duration": 86,
    "start_time": "2023-03-10T03:53:23.089Z"
   },
   {
    "duration": 26,
    "start_time": "2023-03-10T03:55:58.461Z"
   },
   {
    "duration": 19,
    "start_time": "2023-03-10T03:56:01.985Z"
   },
   {
    "duration": 14,
    "start_time": "2023-03-10T03:56:13.436Z"
   },
   {
    "duration": 15,
    "start_time": "2023-03-10T03:56:31.088Z"
   },
   {
    "duration": 1182,
    "start_time": "2023-03-10T03:57:15.224Z"
   },
   {
    "duration": 259,
    "start_time": "2023-03-10T03:57:17.083Z"
   },
   {
    "duration": 25,
    "start_time": "2023-03-10T03:57:20.840Z"
   },
   {
    "duration": 10,
    "start_time": "2023-03-10T03:57:21.260Z"
   },
   {
    "duration": 7,
    "start_time": "2023-03-10T03:57:23.011Z"
   },
   {
    "duration": 7,
    "start_time": "2023-03-10T03:57:23.717Z"
   },
   {
    "duration": 4,
    "start_time": "2023-03-10T03:57:24.156Z"
   },
   {
    "duration": 22,
    "start_time": "2023-03-10T03:57:24.911Z"
   },
   {
    "duration": 21,
    "start_time": "2023-03-10T03:57:26.058Z"
   },
   {
    "duration": 4,
    "start_time": "2023-03-10T03:57:37.401Z"
   },
   {
    "duration": 767,
    "start_time": "2023-03-10T03:57:37.644Z"
   },
   {
    "duration": 23,
    "start_time": "2023-03-10T03:57:38.413Z"
   },
   {
    "duration": 44,
    "start_time": "2023-03-10T03:57:38.439Z"
   },
   {
    "duration": 45,
    "start_time": "2023-03-10T03:57:38.487Z"
   },
   {
    "duration": 49,
    "start_time": "2023-03-10T03:57:38.535Z"
   },
   {
    "duration": 31,
    "start_time": "2023-03-10T03:57:38.734Z"
   },
   {
    "duration": 24,
    "start_time": "2023-03-10T03:57:38.902Z"
   },
   {
    "duration": 13,
    "start_time": "2023-03-10T03:57:40.089Z"
   },
   {
    "duration": 271,
    "start_time": "2023-03-10T03:57:46.066Z"
   },
   {
    "duration": 29,
    "start_time": "2023-03-10T03:57:47.351Z"
   },
   {
    "duration": 13,
    "start_time": "2023-03-10T03:57:47.885Z"
   },
   {
    "duration": 8,
    "start_time": "2023-03-10T03:57:49.732Z"
   },
   {
    "duration": 6,
    "start_time": "2023-03-10T03:57:50.411Z"
   },
   {
    "duration": 4,
    "start_time": "2023-03-10T03:57:50.707Z"
   },
   {
    "duration": 13,
    "start_time": "2023-03-10T03:57:51.137Z"
   },
   {
    "duration": 22,
    "start_time": "2023-03-10T03:57:51.606Z"
   },
   {
    "duration": 2852,
    "start_time": "2023-03-10T06:05:50.835Z"
   },
   {
    "duration": 4019,
    "start_time": "2023-03-10T06:06:15.591Z"
   },
   {
    "duration": 414,
    "start_time": "2023-03-10T06:09:19.988Z"
   },
   {
    "duration": 7,
    "start_time": "2023-03-10T06:09:30.389Z"
   },
   {
    "duration": 79,
    "start_time": "2023-03-10T06:10:15.431Z"
   },
   {
    "duration": 75,
    "start_time": "2023-03-10T06:10:38.819Z"
   },
   {
    "duration": 49,
    "start_time": "2023-03-10T06:11:28.931Z"
   },
   {
    "duration": 24,
    "start_time": "2023-03-10T06:11:34.057Z"
   },
   {
    "duration": 3243,
    "start_time": "2023-03-10T06:11:43.293Z"
   },
   {
    "duration": 2107,
    "start_time": "2023-03-10T06:13:56.079Z"
   },
   {
    "duration": 80,
    "start_time": "2023-03-10T06:15:01.087Z"
   },
   {
    "duration": 3745,
    "start_time": "2023-03-10T06:16:52.056Z"
   },
   {
    "duration": 3456,
    "start_time": "2023-03-10T06:17:25.470Z"
   },
   {
    "duration": 2334,
    "start_time": "2023-03-10T06:18:01.305Z"
   },
   {
    "duration": 2105,
    "start_time": "2023-03-10T06:18:22.860Z"
   },
   {
    "duration": 3,
    "start_time": "2023-03-10T06:23:58.692Z"
   },
   {
    "duration": 11,
    "start_time": "2023-03-10T06:24:13.698Z"
   },
   {
    "duration": 4,
    "start_time": "2023-03-10T06:24:19.472Z"
   },
   {
    "duration": 10,
    "start_time": "2023-03-10T06:24:50.533Z"
   },
   {
    "duration": 5,
    "start_time": "2023-03-10T06:28:19.613Z"
   },
   {
    "duration": 13,
    "start_time": "2023-03-10T06:28:20.331Z"
   },
   {
    "duration": 8,
    "start_time": "2023-03-10T06:28:31.070Z"
   },
   {
    "duration": 3,
    "start_time": "2023-03-10T06:37:17.410Z"
   },
   {
    "duration": 10,
    "start_time": "2023-03-10T06:37:35.114Z"
   },
   {
    "duration": 10,
    "start_time": "2023-03-10T06:38:25.689Z"
   },
   {
    "duration": 6,
    "start_time": "2023-03-10T06:40:06.595Z"
   },
   {
    "duration": 10,
    "start_time": "2023-03-10T06:41:59.299Z"
   },
   {
    "duration": 3,
    "start_time": "2023-03-10T06:42:06.548Z"
   },
   {
    "duration": 3,
    "start_time": "2023-03-10T06:42:06.873Z"
   },
   {
    "duration": 4,
    "start_time": "2023-03-10T06:42:08.382Z"
   },
   {
    "duration": 10,
    "start_time": "2023-03-10T06:42:08.898Z"
   },
   {
    "duration": 12,
    "start_time": "2023-03-10T06:42:55.432Z"
   },
   {
    "duration": 8,
    "start_time": "2023-03-10T06:43:34.218Z"
   },
   {
    "duration": 17,
    "start_time": "2023-03-10T06:45:22.494Z"
   },
   {
    "duration": 74,
    "start_time": "2023-03-10T06:45:54.696Z"
   },
   {
    "duration": 75,
    "start_time": "2023-03-10T06:46:18.567Z"
   },
   {
    "duration": 7,
    "start_time": "2023-03-10T06:47:59.253Z"
   },
   {
    "duration": 4,
    "start_time": "2023-03-10T06:48:02.361Z"
   },
   {
    "duration": 3,
    "start_time": "2023-03-10T06:48:02.704Z"
   },
   {
    "duration": 8,
    "start_time": "2023-03-10T06:48:03.372Z"
   },
   {
    "duration": 7,
    "start_time": "2023-03-10T06:48:04.316Z"
   },
   {
    "duration": 52,
    "start_time": "2023-03-10T06:48:05.200Z"
   },
   {
    "duration": 2,
    "start_time": "2023-03-10T06:48:45.966Z"
   },
   {
    "duration": 66,
    "start_time": "2023-03-10T06:49:00.141Z"
   },
   {
    "duration": 69,
    "start_time": "2023-03-10T06:49:34.750Z"
   },
   {
    "duration": 10,
    "start_time": "2023-03-10T06:50:20.605Z"
   },
   {
    "duration": 96,
    "start_time": "2023-03-10T06:50:33.943Z"
   },
   {
    "duration": 537,
    "start_time": "2023-03-10T06:51:29.711Z"
   },
   {
    "duration": 736,
    "start_time": "2023-03-10T06:52:27.594Z"
   },
   {
    "duration": 9,
    "start_time": "2023-03-10T06:52:38.898Z"
   },
   {
    "duration": 3,
    "start_time": "2023-03-10T06:52:51.503Z"
   },
   {
    "duration": 14,
    "start_time": "2023-03-10T06:52:51.948Z"
   },
   {
    "duration": 4,
    "start_time": "2023-03-10T06:53:35.797Z"
   },
   {
    "duration": 838,
    "start_time": "2023-03-10T06:53:35.996Z"
   },
   {
    "duration": 23,
    "start_time": "2023-03-10T06:53:36.836Z"
   },
   {
    "duration": 38,
    "start_time": "2023-03-10T06:53:36.860Z"
   },
   {
    "duration": 23,
    "start_time": "2023-03-10T06:53:36.901Z"
   },
   {
    "duration": 23,
    "start_time": "2023-03-10T06:53:36.926Z"
   },
   {
    "duration": 24,
    "start_time": "2023-03-10T06:53:37.036Z"
   },
   {
    "duration": 21,
    "start_time": "2023-03-10T06:53:37.238Z"
   },
   {
    "duration": 15,
    "start_time": "2023-03-10T06:53:37.643Z"
   },
   {
    "duration": 411,
    "start_time": "2023-03-10T06:53:37.835Z"
   },
   {
    "duration": 39,
    "start_time": "2023-03-10T06:53:38.247Z"
   },
   {
    "duration": 10,
    "start_time": "2023-03-10T06:53:38.440Z"
   },
   {
    "duration": 7,
    "start_time": "2023-03-10T06:53:39.235Z"
   },
   {
    "duration": 4,
    "start_time": "2023-03-10T06:53:39.836Z"
   },
   {
    "duration": 4,
    "start_time": "2023-03-10T06:53:40.048Z"
   },
   {
    "duration": 12,
    "start_time": "2023-03-10T06:53:40.435Z"
   },
   {
    "duration": 3651,
    "start_time": "2023-03-10T06:53:41.472Z"
   },
   {
    "duration": 505,
    "start_time": "2023-03-10T06:53:45.125Z"
   },
   {
    "duration": 7,
    "start_time": "2023-03-10T06:53:45.633Z"
   },
   {
    "duration": 59,
    "start_time": "2023-03-10T06:53:45.642Z"
   },
   {
    "duration": 2278,
    "start_time": "2023-03-10T06:53:45.707Z"
   },
   {
    "duration": 3,
    "start_time": "2023-03-10T06:53:47.989Z"
   },
   {
    "duration": 11,
    "start_time": "2023-03-10T06:53:48.002Z"
   },
   {
    "duration": 5,
    "start_time": "2023-03-10T06:53:48.017Z"
   },
   {
    "duration": 9,
    "start_time": "2023-03-10T06:53:48.024Z"
   },
   {
    "duration": 4,
    "start_time": "2023-03-10T06:53:48.493Z"
   },
   {
    "duration": 7,
    "start_time": "2023-03-10T06:53:49.613Z"
   },
   {
    "duration": 3,
    "start_time": "2023-03-10T06:53:50.295Z"
   },
   {
    "duration": 53,
    "start_time": "2023-03-10T06:53:51.421Z"
   },
   {
    "duration": 811,
    "start_time": "2023-03-10T06:53:52.472Z"
   },
   {
    "duration": 727,
    "start_time": "2023-03-10T06:53:53.292Z"
   },
   {
    "duration": 5,
    "start_time": "2023-03-10T06:53:54.020Z"
   },
   {
    "duration": 123,
    "start_time": "2023-03-10T06:55:32.694Z"
   },
   {
    "duration": 6,
    "start_time": "2023-03-10T06:55:43.299Z"
   },
   {
    "duration": 2,
    "start_time": "2023-03-10T06:55:43.705Z"
   },
   {
    "duration": 55,
    "start_time": "2023-03-10T06:55:44.023Z"
   },
   {
    "duration": 3,
    "start_time": "2023-03-10T06:56:35.038Z"
   },
   {
    "duration": 3,
    "start_time": "2023-03-10T06:57:06.841Z"
   },
   {
    "duration": 1634,
    "start_time": "2023-03-10T06:57:40.207Z"
   },
   {
    "duration": 865,
    "start_time": "2023-03-10T06:57:41.843Z"
   },
   {
    "duration": 28,
    "start_time": "2023-03-10T06:57:42.710Z"
   },
   {
    "duration": 42,
    "start_time": "2023-03-10T06:57:42.740Z"
   },
   {
    "duration": 28,
    "start_time": "2023-03-10T06:57:42.789Z"
   },
   {
    "duration": 14,
    "start_time": "2023-03-10T06:57:42.818Z"
   },
   {
    "duration": 22,
    "start_time": "2023-03-10T06:57:42.834Z"
   },
   {
    "duration": 62,
    "start_time": "2023-03-10T06:57:42.858Z"
   },
   {
    "duration": 14,
    "start_time": "2023-03-10T06:57:42.922Z"
   },
   {
    "duration": 294,
    "start_time": "2023-03-10T06:57:42.939Z"
   },
   {
    "duration": 42,
    "start_time": "2023-03-10T06:57:43.236Z"
   },
   {
    "duration": 12,
    "start_time": "2023-03-10T06:57:43.345Z"
   },
   {
    "duration": 9,
    "start_time": "2023-03-10T06:57:44.544Z"
   },
   {
    "duration": 5,
    "start_time": "2023-03-10T06:57:45.163Z"
   },
   {
    "duration": 5,
    "start_time": "2023-03-10T06:57:45.369Z"
   },
   {
    "duration": 13,
    "start_time": "2023-03-10T06:57:45.758Z"
   },
   {
    "duration": 3897,
    "start_time": "2023-03-10T06:57:46.758Z"
   },
   {
    "duration": 455,
    "start_time": "2023-03-10T06:57:50.658Z"
   },
   {
    "duration": 6,
    "start_time": "2023-03-10T06:57:51.115Z"
   },
   {
    "duration": 79,
    "start_time": "2023-03-10T06:57:51.123Z"
   },
   {
    "duration": 2355,
    "start_time": "2023-03-10T06:57:51.204Z"
   },
   {
    "duration": 3,
    "start_time": "2023-03-10T06:57:53.560Z"
   },
   {
    "duration": 39,
    "start_time": "2023-03-10T06:57:53.566Z"
   },
   {
    "duration": 8,
    "start_time": "2023-03-10T06:57:53.894Z"
   },
   {
    "duration": 4,
    "start_time": "2023-03-10T06:57:57.107Z"
   },
   {
    "duration": 2,
    "start_time": "2023-03-10T06:57:58.303Z"
   },
   {
    "duration": 9,
    "start_time": "2023-03-10T06:58:28.356Z"
   },
   {
    "duration": 3,
    "start_time": "2023-03-10T06:58:36.243Z"
   },
   {
    "duration": 291,
    "start_time": "2023-03-10T06:58:48.809Z"
   },
   {
    "duration": 3,
    "start_time": "2023-03-10T06:59:19.343Z"
   },
   {
    "duration": 3,
    "start_time": "2023-03-10T06:59:30.247Z"
   },
   {
    "duration": 6,
    "start_time": "2023-03-10T06:59:46.109Z"
   },
   {
    "duration": 23,
    "start_time": "2023-03-10T07:00:16.097Z"
   },
   {
    "duration": 3,
    "start_time": "2023-03-10T07:00:28.504Z"
   },
   {
    "duration": 5739,
    "start_time": "2023-03-10T07:00:53.487Z"
   },
   {
    "duration": 13,
    "start_time": "2023-03-10T07:02:29.407Z"
   },
   {
    "duration": 47,
    "start_time": "2023-03-10T07:02:42.003Z"
   },
   {
    "duration": 1628,
    "start_time": "2023-03-10T07:03:12.603Z"
   },
   {
    "duration": 881,
    "start_time": "2023-03-10T07:03:14.233Z"
   },
   {
    "duration": 30,
    "start_time": "2023-03-10T07:03:15.116Z"
   },
   {
    "duration": 48,
    "start_time": "2023-03-10T07:03:15.149Z"
   },
   {
    "duration": 24,
    "start_time": "2023-03-10T07:03:15.200Z"
   },
   {
    "duration": 14,
    "start_time": "2023-03-10T07:03:15.226Z"
   },
   {
    "duration": 59,
    "start_time": "2023-03-10T07:03:15.242Z"
   },
   {
    "duration": 19,
    "start_time": "2023-03-10T07:03:15.303Z"
   },
   {
    "duration": 14,
    "start_time": "2023-03-10T07:03:15.324Z"
   },
   {
    "duration": 331,
    "start_time": "2023-03-10T07:03:15.342Z"
   },
   {
    "duration": 28,
    "start_time": "2023-03-10T07:03:15.674Z"
   },
   {
    "duration": 12,
    "start_time": "2023-03-10T07:03:15.705Z"
   },
   {
    "duration": 8,
    "start_time": "2023-03-10T07:03:15.817Z"
   },
   {
    "duration": 6,
    "start_time": "2023-03-10T07:03:16.410Z"
   },
   {
    "duration": 5,
    "start_time": "2023-03-10T07:03:16.603Z"
   },
   {
    "duration": 12,
    "start_time": "2023-03-10T07:03:17.027Z"
   },
   {
    "duration": 3725,
    "start_time": "2023-03-10T07:03:17.989Z"
   },
   {
    "duration": 501,
    "start_time": "2023-03-10T07:03:21.717Z"
   },
   {
    "duration": 6,
    "start_time": "2023-03-10T07:03:22.219Z"
   },
   {
    "duration": 78,
    "start_time": "2023-03-10T07:03:22.227Z"
   },
   {
    "duration": 2293,
    "start_time": "2023-03-10T07:03:22.307Z"
   },
   {
    "duration": 4,
    "start_time": "2023-03-10T07:03:24.608Z"
   },
   {
    "duration": 17,
    "start_time": "2023-03-10T07:03:24.614Z"
   },
   {
    "duration": 9,
    "start_time": "2023-03-10T07:03:24.634Z"
   },
   {
    "duration": 15,
    "start_time": "2023-03-10T07:03:24.645Z"
   },
   {
    "duration": 3,
    "start_time": "2023-03-10T07:03:31.197Z"
   },
   {
    "duration": 94,
    "start_time": "2023-03-10T07:03:39.455Z"
   },
   {
    "duration": 9,
    "start_time": "2023-03-10T07:03:56.714Z"
   },
   {
    "duration": 3,
    "start_time": "2023-03-10T07:04:03.352Z"
   },
   {
    "duration": 67,
    "start_time": "2023-03-10T07:04:11.947Z"
   },
   {
    "duration": 3,
    "start_time": "2023-03-10T07:05:17.013Z"
   },
   {
    "duration": 3,
    "start_time": "2023-03-10T07:05:25.050Z"
   },
   {
    "duration": 3,
    "start_time": "2023-03-10T07:05:33.633Z"
   },
   {
    "duration": 6,
    "start_time": "2023-03-10T07:05:53.927Z"
   },
   {
    "duration": 23,
    "start_time": "2023-03-10T07:06:03.105Z"
   },
   {
    "duration": 3,
    "start_time": "2023-03-10T07:06:10.564Z"
   },
   {
    "duration": 5577,
    "start_time": "2023-03-10T07:07:31.290Z"
   },
   {
    "duration": 3342,
    "start_time": "2023-03-10T07:07:36.869Z"
   },
   {
    "duration": 1583,
    "start_time": "2023-03-10T07:16:16.833Z"
   },
   {
    "duration": 866,
    "start_time": "2023-03-10T07:16:18.418Z"
   },
   {
    "duration": 30,
    "start_time": "2023-03-10T07:16:19.289Z"
   },
   {
    "duration": 29,
    "start_time": "2023-03-10T07:16:19.321Z"
   },
   {
    "duration": 24,
    "start_time": "2023-03-10T07:16:19.352Z"
   },
   {
    "duration": 22,
    "start_time": "2023-03-10T07:16:19.381Z"
   },
   {
    "duration": 26,
    "start_time": "2023-03-10T07:16:19.405Z"
   },
   {
    "duration": 43,
    "start_time": "2023-03-10T07:16:19.433Z"
   },
   {
    "duration": 25,
    "start_time": "2023-03-10T07:16:19.478Z"
   },
   {
    "duration": 299,
    "start_time": "2023-03-10T07:16:19.505Z"
   },
   {
    "duration": 25,
    "start_time": "2023-03-10T07:16:19.806Z"
   },
   {
    "duration": 12,
    "start_time": "2023-03-10T07:16:19.833Z"
   },
   {
    "duration": 41,
    "start_time": "2023-03-10T07:16:19.847Z"
   },
   {
    "duration": 13,
    "start_time": "2023-03-10T07:16:19.893Z"
   },
   {
    "duration": 8,
    "start_time": "2023-03-10T07:16:19.908Z"
   },
   {
    "duration": 14,
    "start_time": "2023-03-10T07:16:19.918Z"
   },
   {
    "duration": 3572,
    "start_time": "2023-03-10T07:16:19.933Z"
   },
   {
    "duration": 496,
    "start_time": "2023-03-10T07:16:23.507Z"
   },
   {
    "duration": 5,
    "start_time": "2023-03-10T07:16:24.005Z"
   },
   {
    "duration": 66,
    "start_time": "2023-03-10T07:16:24.012Z"
   },
   {
    "duration": 2272,
    "start_time": "2023-03-10T07:16:24.080Z"
   },
   {
    "duration": 3,
    "start_time": "2023-03-10T07:16:26.355Z"
   },
   {
    "duration": 71,
    "start_time": "2023-03-10T07:16:26.360Z"
   },
   {
    "duration": 35,
    "start_time": "2023-03-10T07:16:26.433Z"
   },
   {
    "duration": 66,
    "start_time": "2023-03-10T07:16:26.470Z"
   },
   {
    "duration": 52,
    "start_time": "2023-03-10T07:16:26.538Z"
   },
   {
    "duration": 26,
    "start_time": "2023-03-10T07:16:26.596Z"
   },
   {
    "duration": 57,
    "start_time": "2023-03-10T07:16:26.626Z"
   },
   {
    "duration": 5626,
    "start_time": "2023-03-10T07:16:26.688Z"
   },
   {
    "duration": 2667,
    "start_time": "2023-03-10T07:16:32.316Z"
   },
   {
    "duration": 6,
    "start_time": "2023-03-10T07:58:04.511Z"
   },
   {
    "duration": 13,
    "start_time": "2023-03-10T07:58:04.519Z"
   },
   {
    "duration": 11523,
    "start_time": "2023-03-10T07:58:04.534Z"
   },
   {
    "duration": 25,
    "start_time": "2023-03-10T07:58:16.060Z"
   },
   {
    "duration": 601656,
    "start_time": "2023-03-10T07:58:16.089Z"
   },
   {
    "duration": 7,
    "start_time": "2023-03-10T08:23:04.209Z"
   },
   {
    "duration": 16,
    "start_time": "2023-03-10T08:23:14.673Z"
   },
   {
    "duration": 6,
    "start_time": "2023-03-10T08:23:21.601Z"
   },
   {
    "duration": 4,
    "start_time": "2023-03-10T08:23:31.817Z"
   },
   {
    "duration": 1647,
    "start_time": "2023-03-10T08:34:17.115Z"
   },
   {
    "duration": 995,
    "start_time": "2023-03-10T08:34:18.765Z"
   },
   {
    "duration": 38,
    "start_time": "2023-03-10T08:34:19.763Z"
   },
   {
    "duration": 76,
    "start_time": "2023-03-10T08:34:19.806Z"
   },
   {
    "duration": 29,
    "start_time": "2023-03-10T08:34:19.885Z"
   },
   {
    "duration": 38,
    "start_time": "2023-03-10T08:34:19.917Z"
   },
   {
    "duration": 77,
    "start_time": "2023-03-10T08:34:19.957Z"
   },
   {
    "duration": 45,
    "start_time": "2023-03-10T08:34:20.037Z"
   },
   {
    "duration": 32,
    "start_time": "2023-03-10T08:34:20.091Z"
   },
   {
    "duration": 321,
    "start_time": "2023-03-10T08:34:20.125Z"
   },
   {
    "duration": 42,
    "start_time": "2023-03-10T08:34:20.448Z"
   },
   {
    "duration": 49,
    "start_time": "2023-03-10T08:34:20.500Z"
   },
   {
    "duration": 78,
    "start_time": "2023-03-10T08:34:20.551Z"
   },
   {
    "duration": 21,
    "start_time": "2023-03-10T08:34:20.633Z"
   },
   {
    "duration": 62,
    "start_time": "2023-03-10T08:34:20.656Z"
   },
   {
    "duration": 35,
    "start_time": "2023-03-10T08:34:20.721Z"
   },
   {
    "duration": 4128,
    "start_time": "2023-03-10T08:34:20.758Z"
   },
   {
    "duration": 430,
    "start_time": "2023-03-10T08:34:24.893Z"
   },
   {
    "duration": 6,
    "start_time": "2023-03-10T08:34:25.325Z"
   },
   {
    "duration": 78,
    "start_time": "2023-03-10T08:34:25.333Z"
   },
   {
    "duration": 2594,
    "start_time": "2023-03-10T08:34:25.414Z"
   },
   {
    "duration": 4,
    "start_time": "2023-03-10T08:34:28.010Z"
   },
   {
    "duration": 9,
    "start_time": "2023-03-10T08:34:28.016Z"
   },
   {
    "duration": 4,
    "start_time": "2023-03-10T08:35:58.504Z"
   },
   {
    "duration": 3,
    "start_time": "2023-03-10T08:36:04.608Z"
   },
   {
    "duration": 3,
    "start_time": "2023-03-10T08:36:17.910Z"
   },
   {
    "duration": 9,
    "start_time": "2023-03-10T08:37:14.100Z"
   },
   {
    "duration": 4,
    "start_time": "2023-03-10T08:37:44.237Z"
   },
   {
    "duration": 71,
    "start_time": "2023-03-10T08:38:00.807Z"
   },
   {
    "duration": 1548,
    "start_time": "2023-03-10T08:40:24.669Z"
   },
   {
    "duration": 862,
    "start_time": "2023-03-10T08:40:26.220Z"
   },
   {
    "duration": 28,
    "start_time": "2023-03-10T08:40:27.084Z"
   },
   {
    "duration": 27,
    "start_time": "2023-03-10T08:40:27.114Z"
   },
   {
    "duration": 41,
    "start_time": "2023-03-10T08:40:27.143Z"
   },
   {
    "duration": 17,
    "start_time": "2023-03-10T08:40:27.186Z"
   },
   {
    "duration": 23,
    "start_time": "2023-03-10T08:40:27.204Z"
   },
   {
    "duration": 21,
    "start_time": "2023-03-10T08:40:27.229Z"
   },
   {
    "duration": 20,
    "start_time": "2023-03-10T08:40:27.274Z"
   },
   {
    "duration": 302,
    "start_time": "2023-03-10T08:40:27.297Z"
   },
   {
    "duration": 24,
    "start_time": "2023-03-10T08:40:27.601Z"
   },
   {
    "duration": 12,
    "start_time": "2023-03-10T08:40:27.627Z"
   },
   {
    "duration": 8,
    "start_time": "2023-03-10T08:40:27.641Z"
   },
   {
    "duration": 19,
    "start_time": "2023-03-10T08:40:27.675Z"
   },
   {
    "duration": 7,
    "start_time": "2023-03-10T08:40:27.696Z"
   },
   {
    "duration": 22,
    "start_time": "2023-03-10T08:40:27.705Z"
   },
   {
    "duration": 142,
    "start_time": "2023-03-10T08:40:27.729Z"
   },
   {
    "duration": 0,
    "start_time": "2023-03-10T08:40:27.875Z"
   },
   {
    "duration": 0,
    "start_time": "2023-03-10T08:40:27.877Z"
   },
   {
    "duration": 0,
    "start_time": "2023-03-10T08:40:27.882Z"
   },
   {
    "duration": 0,
    "start_time": "2023-03-10T08:40:27.885Z"
   },
   {
    "duration": 0,
    "start_time": "2023-03-10T08:40:27.886Z"
   },
   {
    "duration": 0,
    "start_time": "2023-03-10T08:40:27.888Z"
   },
   {
    "duration": 0,
    "start_time": "2023-03-10T08:40:27.889Z"
   },
   {
    "duration": 0,
    "start_time": "2023-03-10T08:40:27.890Z"
   },
   {
    "duration": 0,
    "start_time": "2023-03-10T08:40:27.892Z"
   },
   {
    "duration": 0,
    "start_time": "2023-03-10T08:40:27.893Z"
   },
   {
    "duration": 0,
    "start_time": "2023-03-10T08:40:27.894Z"
   },
   {
    "duration": 0,
    "start_time": "2023-03-10T08:40:27.895Z"
   },
   {
    "duration": 0,
    "start_time": "2023-03-10T08:40:27.897Z"
   },
   {
    "duration": 1610,
    "start_time": "2023-03-10T08:40:53.120Z"
   },
   {
    "duration": 820,
    "start_time": "2023-03-10T08:40:54.732Z"
   },
   {
    "duration": 38,
    "start_time": "2023-03-10T08:40:55.554Z"
   },
   {
    "duration": 27,
    "start_time": "2023-03-10T08:40:55.594Z"
   },
   {
    "duration": 25,
    "start_time": "2023-03-10T08:40:55.623Z"
   },
   {
    "duration": 34,
    "start_time": "2023-03-10T08:40:55.650Z"
   },
   {
    "duration": 25,
    "start_time": "2023-03-10T08:40:55.688Z"
   },
   {
    "duration": 29,
    "start_time": "2023-03-10T08:40:55.715Z"
   },
   {
    "duration": 15,
    "start_time": "2023-03-10T08:40:55.746Z"
   },
   {
    "duration": 303,
    "start_time": "2023-03-10T08:40:55.763Z"
   },
   {
    "duration": 31,
    "start_time": "2023-03-10T08:40:56.073Z"
   },
   {
    "duration": 12,
    "start_time": "2023-03-10T08:40:56.106Z"
   },
   {
    "duration": 15,
    "start_time": "2023-03-10T08:40:56.120Z"
   },
   {
    "duration": 4,
    "start_time": "2023-03-10T08:40:56.138Z"
   },
   {
    "duration": 18,
    "start_time": "2023-03-10T08:40:56.144Z"
   },
   {
    "duration": 16,
    "start_time": "2023-03-10T08:40:56.172Z"
   },
   {
    "duration": 16,
    "start_time": "2023-03-10T08:40:56.191Z"
   },
   {
    "duration": 3193,
    "start_time": "2023-03-10T08:40:56.209Z"
   },
   {
    "duration": 479,
    "start_time": "2023-03-10T08:40:59.404Z"
   },
   {
    "duration": 5,
    "start_time": "2023-03-10T08:40:59.885Z"
   },
   {
    "duration": 66,
    "start_time": "2023-03-10T08:40:59.892Z"
   },
   {
    "duration": 2327,
    "start_time": "2023-03-10T08:40:59.960Z"
   },
   {
    "duration": 3,
    "start_time": "2023-03-10T08:41:02.293Z"
   },
   {
    "duration": 38,
    "start_time": "2023-03-10T08:41:02.298Z"
   },
   {
    "duration": 30,
    "start_time": "2023-03-10T08:41:02.338Z"
   },
   {
    "duration": 75,
    "start_time": "2023-03-10T08:41:02.369Z"
   },
   {
    "duration": 78,
    "start_time": "2023-03-10T08:41:02.446Z"
   },
   {
    "duration": 42,
    "start_time": "2023-03-10T08:41:02.526Z"
   },
   {
    "duration": 50,
    "start_time": "2023-03-10T08:41:02.570Z"
   },
   {
    "duration": 5157,
    "start_time": "2023-03-10T08:41:02.621Z"
   },
   {
    "duration": 4353,
    "start_time": "2023-03-10T08:41:30.029Z"
   },
   {
    "duration": 4914,
    "start_time": "2023-03-10T08:41:41.576Z"
   },
   {
    "duration": 8,
    "start_time": "2023-03-10T08:42:22.299Z"
   },
   {
    "duration": 29256,
    "start_time": "2023-03-10T08:42:34.338Z"
   },
   {
    "duration": 30394,
    "start_time": "2023-03-10T08:44:21.741Z"
   },
   {
    "duration": 49214,
    "start_time": "2023-03-10T08:45:19.109Z"
   },
   {
    "duration": 16,
    "start_time": "2023-03-10T08:46:08.325Z"
   },
   {
    "duration": 4,
    "start_time": "2023-03-10T08:46:26.622Z"
   },
   {
    "duration": 5191,
    "start_time": "2023-03-10T08:46:38.699Z"
   },
   {
    "duration": 30136,
    "start_time": "2023-03-10T08:46:58.608Z"
   },
   {
    "duration": 30093,
    "start_time": "2023-03-10T08:47:28.746Z"
   },
   {
    "duration": 7,
    "start_time": "2023-03-10T08:50:43.973Z"
   },
   {
    "duration": 11,
    "start_time": "2023-03-10T08:51:30.229Z"
   },
   {
    "duration": 2058,
    "start_time": "2023-03-10T08:51:30.579Z"
   },
   {
    "duration": 0,
    "start_time": "2023-03-10T08:51:32.639Z"
   },
   {
    "duration": 7,
    "start_time": "2023-03-10T08:51:49.175Z"
   },
   {
    "duration": 4417,
    "start_time": "2023-03-10T08:51:51.944Z"
   },
   {
    "duration": 3,
    "start_time": "2023-03-10T08:51:56.363Z"
   },
   {
    "duration": 37,
    "start_time": "2023-03-10T08:51:56.373Z"
   },
   {
    "duration": 12,
    "start_time": "2023-03-10T08:51:56.411Z"
   },
   {
    "duration": 9,
    "start_time": "2023-03-10T08:54:45.073Z"
   },
   {
    "duration": 4524,
    "start_time": "2023-03-10T08:55:04.872Z"
   },
   {
    "duration": 30643,
    "start_time": "2023-03-10T08:55:09.476Z"
   },
   {
    "duration": 968270,
    "start_time": "2023-03-10T08:55:40.121Z"
   },
   {
    "duration": 4,
    "start_time": "2023-03-10T09:11:48.398Z"
   },
   {
    "duration": 12,
    "start_time": "2023-03-10T09:11:48.405Z"
   },
   {
    "duration": 17,
    "start_time": "2023-03-10T09:11:48.419Z"
   },
   {
    "duration": 4804,
    "start_time": "2023-03-10T09:11:48.438Z"
   },
   {
    "duration": 4,
    "start_time": "2023-03-10T09:11:53.245Z"
   },
   {
    "duration": 30,
    "start_time": "2023-03-10T09:11:53.252Z"
   },
   {
    "duration": 5,
    "start_time": "2023-03-10T09:11:53.292Z"
   },
   {
    "duration": 50,
    "start_time": "2023-03-11T09:18:08.273Z"
   },
   {
    "duration": 1614,
    "start_time": "2023-03-11T09:18:19.131Z"
   },
   {
    "duration": 1927,
    "start_time": "2023-03-11T09:18:20.747Z"
   },
   {
    "duration": 31,
    "start_time": "2023-03-11T09:18:22.676Z"
   },
   {
    "duration": 19,
    "start_time": "2023-03-11T09:18:22.709Z"
   },
   {
    "duration": 41,
    "start_time": "2023-03-11T09:18:22.730Z"
   },
   {
    "duration": 24,
    "start_time": "2023-03-11T09:18:22.774Z"
   },
   {
    "duration": 21,
    "start_time": "2023-03-11T09:18:22.800Z"
   },
   {
    "duration": 20,
    "start_time": "2023-03-11T09:18:22.823Z"
   },
   {
    "duration": 45,
    "start_time": "2023-03-11T09:18:22.845Z"
   },
   {
    "duration": 261,
    "start_time": "2023-03-11T09:18:22.894Z"
   },
   {
    "duration": 25,
    "start_time": "2023-03-11T09:18:23.157Z"
   },
   {
    "duration": 10,
    "start_time": "2023-03-11T09:18:23.184Z"
   },
   {
    "duration": 8,
    "start_time": "2023-03-11T09:18:23.195Z"
   },
   {
    "duration": 4,
    "start_time": "2023-03-11T09:18:23.205Z"
   },
   {
    "duration": 4,
    "start_time": "2023-03-11T09:18:23.210Z"
   },
   {
    "duration": 11,
    "start_time": "2023-03-11T09:18:23.216Z"
   },
   {
    "duration": 48,
    "start_time": "2023-03-11T09:18:23.229Z"
   },
   {
    "duration": 3296,
    "start_time": "2023-03-11T09:18:23.279Z"
   },
   {
    "duration": 378,
    "start_time": "2023-03-11T09:18:26.577Z"
   },
   {
    "duration": 13,
    "start_time": "2023-03-11T09:18:26.957Z"
   },
   {
    "duration": 57,
    "start_time": "2023-03-11T09:18:26.972Z"
   },
   {
    "duration": 2110,
    "start_time": "2023-03-11T09:18:27.031Z"
   },
   {
    "duration": 39,
    "start_time": "2023-03-11T09:18:29.143Z"
   },
   {
    "duration": 3,
    "start_time": "2023-03-11T09:18:29.184Z"
   },
   {
    "duration": 15,
    "start_time": "2023-03-11T09:18:29.188Z"
   },
   {
    "duration": 10,
    "start_time": "2023-03-11T09:18:29.204Z"
   },
   {
    "duration": 6,
    "start_time": "2023-03-11T09:18:29.215Z"
   },
   {
    "duration": 7,
    "start_time": "2023-03-11T09:18:29.223Z"
   },
   {
    "duration": 7,
    "start_time": "2023-03-11T09:18:29.232Z"
   },
   {
    "duration": 6,
    "start_time": "2023-03-11T09:18:29.240Z"
   },
   {
    "duration": 3827,
    "start_time": "2023-03-11T09:18:29.247Z"
   },
   {
    "duration": 25226,
    "start_time": "2023-03-11T09:18:33.076Z"
   },
   {
    "duration": 763876,
    "start_time": "2023-03-11T09:18:58.304Z"
   },
   {
    "duration": 3,
    "start_time": "2023-03-11T09:31:42.182Z"
   },
   {
    "duration": 6,
    "start_time": "2023-03-11T09:31:42.186Z"
   },
   {
    "duration": 6,
    "start_time": "2023-03-11T09:31:42.193Z"
   },
   {
    "duration": 3270,
    "start_time": "2023-03-11T09:31:42.201Z"
   },
   {
    "duration": 3,
    "start_time": "2023-03-11T09:31:45.473Z"
   },
   {
    "duration": 23,
    "start_time": "2023-03-11T09:31:45.478Z"
   },
   {
    "duration": 13,
    "start_time": "2023-03-11T09:31:45.503Z"
   }
  ],
  "kernelspec": {
   "display_name": "Python 3 (ipykernel)",
   "language": "python",
   "name": "python3"
  },
  "language_info": {
   "codemirror_mode": {
    "name": "ipython",
    "version": 3
   },
   "file_extension": ".py",
   "mimetype": "text/x-python",
   "name": "python",
   "nbconvert_exporter": "python",
   "pygments_lexer": "ipython3",
   "version": "3.10.9"
  },
  "toc": {
   "base_numbering": 1,
   "nav_menu": {},
   "number_sections": true,
   "sideBar": true,
   "skip_h1_title": true,
   "title_cell": "Содержание",
   "title_sidebar": "Contents",
   "toc_cell": true,
   "toc_position": {
    "height": "calc(100% - 180px)",
    "left": "10px",
    "top": "150px",
    "width": "165px"
   },
   "toc_section_display": true,
   "toc_window_display": true
  }
 },
 "nbformat": 4,
 "nbformat_minor": 2
}
