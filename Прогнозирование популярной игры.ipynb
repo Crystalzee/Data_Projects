{
 "cells": [
  {
   "cell_type": "markdown",
   "metadata": {},
   "source": [
    "# Сборный проект 1. Описание рынка компьютерных игр."
   ]
  },
  {
   "cell_type": "markdown",
   "metadata": {},
   "source": [
    "Введение: Мы занимаемся продажей компьютерных игр по всему миру компьютерные игры. Из открытых источников доступны исторические данные о продажах игр, оценки пользователей и экспертов, жанры и платформы. Вам нужно выявить определяющие успешность игры закономерности. Это позволит сделать ставку на потенциально популярный продукт и спланировать рекламные кампании."
   ]
  },
  {
   "cell_type": "markdown",
   "metadata": {},
   "source": [
    "## Загрузка и просмотр датасета"
   ]
  },
  {
   "cell_type": "code",
   "execution_count": 1,
   "metadata": {},
   "outputs": [],
   "source": [
    "#Импорт библиотек\n",
    "\n",
    "import pandas as pd\n",
    "import numpy as np\n",
    "from datetime import datetime\n",
    "from scipy import stats as st\n",
    "import matplotlib.pyplot as plt\n"
   ]
  },
  {
   "cell_type": "code",
   "execution_count": 2,
   "metadata": {},
   "outputs": [],
   "source": [
    "# читаем датасет\n",
    "\n",
    "df = pd.read_csv('/datasets/games.csv')"
   ]
  },
  {
   "cell_type": "code",
   "execution_count": 3,
   "metadata": {},
   "outputs": [
    {
     "name": "stdout",
     "output_type": "stream",
     "text": [
      "<class 'pandas.core.frame.DataFrame'>\n",
      "RangeIndex: 16715 entries, 0 to 16714\n",
      "Data columns (total 11 columns):\n",
      " #   Column           Non-Null Count  Dtype  \n",
      "---  ------           --------------  -----  \n",
      " 0   Name             16713 non-null  object \n",
      " 1   Platform         16715 non-null  object \n",
      " 2   Year_of_Release  16446 non-null  float64\n",
      " 3   Genre            16713 non-null  object \n",
      " 4   NA_sales         16715 non-null  float64\n",
      " 5   EU_sales         16715 non-null  float64\n",
      " 6   JP_sales         16715 non-null  float64\n",
      " 7   Other_sales      16715 non-null  float64\n",
      " 8   Critic_Score     8137 non-null   float64\n",
      " 9   User_Score       10014 non-null  object \n",
      " 10  Rating           9949 non-null   object \n",
      "dtypes: float64(6), object(5)\n",
      "memory usage: 1.4+ MB\n"
     ]
    }
   ],
   "source": [
    "df.info()"
   ]
  },
  {
   "cell_type": "code",
   "execution_count": 4,
   "metadata": {},
   "outputs": [
    {
     "data": {
      "text/html": [
       "<div>\n",
       "<style scoped>\n",
       "    .dataframe tbody tr th:only-of-type {\n",
       "        vertical-align: middle;\n",
       "    }\n",
       "\n",
       "    .dataframe tbody tr th {\n",
       "        vertical-align: top;\n",
       "    }\n",
       "\n",
       "    .dataframe thead th {\n",
       "        text-align: right;\n",
       "    }\n",
       "</style>\n",
       "<table border=\"1\" class=\"dataframe\">\n",
       "  <thead>\n",
       "    <tr style=\"text-align: right;\">\n",
       "      <th></th>\n",
       "      <th>Year_of_Release</th>\n",
       "      <th>NA_sales</th>\n",
       "      <th>EU_sales</th>\n",
       "      <th>JP_sales</th>\n",
       "      <th>Other_sales</th>\n",
       "      <th>Critic_Score</th>\n",
       "    </tr>\n",
       "  </thead>\n",
       "  <tbody>\n",
       "    <tr>\n",
       "      <th>count</th>\n",
       "      <td>16446.000000</td>\n",
       "      <td>16715.000000</td>\n",
       "      <td>16715.000000</td>\n",
       "      <td>16715.000000</td>\n",
       "      <td>16715.000000</td>\n",
       "      <td>8137.000000</td>\n",
       "    </tr>\n",
       "    <tr>\n",
       "      <th>mean</th>\n",
       "      <td>2006.484616</td>\n",
       "      <td>0.263377</td>\n",
       "      <td>0.145060</td>\n",
       "      <td>0.077617</td>\n",
       "      <td>0.047342</td>\n",
       "      <td>68.967679</td>\n",
       "    </tr>\n",
       "    <tr>\n",
       "      <th>std</th>\n",
       "      <td>5.877050</td>\n",
       "      <td>0.813604</td>\n",
       "      <td>0.503339</td>\n",
       "      <td>0.308853</td>\n",
       "      <td>0.186731</td>\n",
       "      <td>13.938165</td>\n",
       "    </tr>\n",
       "    <tr>\n",
       "      <th>min</th>\n",
       "      <td>1980.000000</td>\n",
       "      <td>0.000000</td>\n",
       "      <td>0.000000</td>\n",
       "      <td>0.000000</td>\n",
       "      <td>0.000000</td>\n",
       "      <td>13.000000</td>\n",
       "    </tr>\n",
       "    <tr>\n",
       "      <th>25%</th>\n",
       "      <td>2003.000000</td>\n",
       "      <td>0.000000</td>\n",
       "      <td>0.000000</td>\n",
       "      <td>0.000000</td>\n",
       "      <td>0.000000</td>\n",
       "      <td>60.000000</td>\n",
       "    </tr>\n",
       "    <tr>\n",
       "      <th>50%</th>\n",
       "      <td>2007.000000</td>\n",
       "      <td>0.080000</td>\n",
       "      <td>0.020000</td>\n",
       "      <td>0.000000</td>\n",
       "      <td>0.010000</td>\n",
       "      <td>71.000000</td>\n",
       "    </tr>\n",
       "    <tr>\n",
       "      <th>75%</th>\n",
       "      <td>2010.000000</td>\n",
       "      <td>0.240000</td>\n",
       "      <td>0.110000</td>\n",
       "      <td>0.040000</td>\n",
       "      <td>0.030000</td>\n",
       "      <td>79.000000</td>\n",
       "    </tr>\n",
       "    <tr>\n",
       "      <th>max</th>\n",
       "      <td>2016.000000</td>\n",
       "      <td>41.360000</td>\n",
       "      <td>28.960000</td>\n",
       "      <td>10.220000</td>\n",
       "      <td>10.570000</td>\n",
       "      <td>98.000000</td>\n",
       "    </tr>\n",
       "  </tbody>\n",
       "</table>\n",
       "</div>"
      ],
      "text/plain": [
       "       Year_of_Release      NA_sales      EU_sales      JP_sales  \\\n",
       "count     16446.000000  16715.000000  16715.000000  16715.000000   \n",
       "mean       2006.484616      0.263377      0.145060      0.077617   \n",
       "std           5.877050      0.813604      0.503339      0.308853   \n",
       "min        1980.000000      0.000000      0.000000      0.000000   \n",
       "25%        2003.000000      0.000000      0.000000      0.000000   \n",
       "50%        2007.000000      0.080000      0.020000      0.000000   \n",
       "75%        2010.000000      0.240000      0.110000      0.040000   \n",
       "max        2016.000000     41.360000     28.960000     10.220000   \n",
       "\n",
       "        Other_sales  Critic_Score  \n",
       "count  16715.000000   8137.000000  \n",
       "mean       0.047342     68.967679  \n",
       "std        0.186731     13.938165  \n",
       "min        0.000000     13.000000  \n",
       "25%        0.000000     60.000000  \n",
       "50%        0.010000     71.000000  \n",
       "75%        0.030000     79.000000  \n",
       "max       10.570000     98.000000  "
      ]
     },
     "execution_count": 4,
     "metadata": {},
     "output_type": "execute_result"
    }
   ],
   "source": [
    "df.describe()"
   ]
  },
  {
   "cell_type": "code",
   "execution_count": 5,
   "metadata": {},
   "outputs": [
    {
     "data": {
      "text/html": [
       "<div>\n",
       "<style scoped>\n",
       "    .dataframe tbody tr th:only-of-type {\n",
       "        vertical-align: middle;\n",
       "    }\n",
       "\n",
       "    .dataframe tbody tr th {\n",
       "        vertical-align: top;\n",
       "    }\n",
       "\n",
       "    .dataframe thead th {\n",
       "        text-align: right;\n",
       "    }\n",
       "</style>\n",
       "<table border=\"1\" class=\"dataframe\">\n",
       "  <thead>\n",
       "    <tr style=\"text-align: right;\">\n",
       "      <th></th>\n",
       "      <th>Name</th>\n",
       "      <th>Platform</th>\n",
       "      <th>Year_of_Release</th>\n",
       "      <th>Genre</th>\n",
       "      <th>NA_sales</th>\n",
       "      <th>EU_sales</th>\n",
       "      <th>JP_sales</th>\n",
       "      <th>Other_sales</th>\n",
       "      <th>Critic_Score</th>\n",
       "      <th>User_Score</th>\n",
       "      <th>Rating</th>\n",
       "    </tr>\n",
       "  </thead>\n",
       "  <tbody>\n",
       "    <tr>\n",
       "      <th>0</th>\n",
       "      <td>Wii Sports</td>\n",
       "      <td>Wii</td>\n",
       "      <td>2006.0</td>\n",
       "      <td>Sports</td>\n",
       "      <td>41.36</td>\n",
       "      <td>28.96</td>\n",
       "      <td>3.77</td>\n",
       "      <td>8.45</td>\n",
       "      <td>76.0</td>\n",
       "      <td>8</td>\n",
       "      <td>E</td>\n",
       "    </tr>\n",
       "    <tr>\n",
       "      <th>1</th>\n",
       "      <td>Super Mario Bros.</td>\n",
       "      <td>NES</td>\n",
       "      <td>1985.0</td>\n",
       "      <td>Platform</td>\n",
       "      <td>29.08</td>\n",
       "      <td>3.58</td>\n",
       "      <td>6.81</td>\n",
       "      <td>0.77</td>\n",
       "      <td>NaN</td>\n",
       "      <td>NaN</td>\n",
       "      <td>NaN</td>\n",
       "    </tr>\n",
       "    <tr>\n",
       "      <th>2</th>\n",
       "      <td>Mario Kart Wii</td>\n",
       "      <td>Wii</td>\n",
       "      <td>2008.0</td>\n",
       "      <td>Racing</td>\n",
       "      <td>15.68</td>\n",
       "      <td>12.76</td>\n",
       "      <td>3.79</td>\n",
       "      <td>3.29</td>\n",
       "      <td>82.0</td>\n",
       "      <td>8.3</td>\n",
       "      <td>E</td>\n",
       "    </tr>\n",
       "    <tr>\n",
       "      <th>3</th>\n",
       "      <td>Wii Sports Resort</td>\n",
       "      <td>Wii</td>\n",
       "      <td>2009.0</td>\n",
       "      <td>Sports</td>\n",
       "      <td>15.61</td>\n",
       "      <td>10.93</td>\n",
       "      <td>3.28</td>\n",
       "      <td>2.95</td>\n",
       "      <td>80.0</td>\n",
       "      <td>8</td>\n",
       "      <td>E</td>\n",
       "    </tr>\n",
       "    <tr>\n",
       "      <th>4</th>\n",
       "      <td>Pokemon Red/Pokemon Blue</td>\n",
       "      <td>GB</td>\n",
       "      <td>1996.0</td>\n",
       "      <td>Role-Playing</td>\n",
       "      <td>11.27</td>\n",
       "      <td>8.89</td>\n",
       "      <td>10.22</td>\n",
       "      <td>1.00</td>\n",
       "      <td>NaN</td>\n",
       "      <td>NaN</td>\n",
       "      <td>NaN</td>\n",
       "    </tr>\n",
       "  </tbody>\n",
       "</table>\n",
       "</div>"
      ],
      "text/plain": [
       "                       Name Platform  Year_of_Release         Genre  NA_sales  \\\n",
       "0                Wii Sports      Wii           2006.0        Sports     41.36   \n",
       "1         Super Mario Bros.      NES           1985.0      Platform     29.08   \n",
       "2            Mario Kart Wii      Wii           2008.0        Racing     15.68   \n",
       "3         Wii Sports Resort      Wii           2009.0        Sports     15.61   \n",
       "4  Pokemon Red/Pokemon Blue       GB           1996.0  Role-Playing     11.27   \n",
       "\n",
       "   EU_sales  JP_sales  Other_sales  Critic_Score User_Score Rating  \n",
       "0     28.96      3.77         8.45          76.0          8      E  \n",
       "1      3.58      6.81         0.77           NaN        NaN    NaN  \n",
       "2     12.76      3.79         3.29          82.0        8.3      E  \n",
       "3     10.93      3.28         2.95          80.0          8      E  \n",
       "4      8.89     10.22         1.00           NaN        NaN    NaN  "
      ]
     },
     "execution_count": 5,
     "metadata": {},
     "output_type": "execute_result"
    }
   ],
   "source": [
    "df.head(5)"
   ]
  },
  {
   "cell_type": "code",
   "execution_count": 6,
   "metadata": {},
   "outputs": [
    {
     "data": {
      "text/plain": [
       "array(['E', nan, 'M', 'T', 'E10+', 'K-A', 'AO', 'EC', 'RP'], dtype=object)"
      ]
     },
     "execution_count": 6,
     "metadata": {},
     "output_type": "execute_result"
    }
   ],
   "source": [
    "df['Rating'].unique()\n"
   ]
  },
  {
   "cell_type": "code",
   "execution_count": 7,
   "metadata": {},
   "outputs": [
    {
     "data": {
      "text/plain": [
       "array(['Sports', 'Platform', 'Racing', 'Role-Playing', 'Puzzle', 'Misc',\n",
       "       'Shooter', 'Simulation', 'Action', 'Fighting', 'Adventure',\n",
       "       'Strategy', nan], dtype=object)"
      ]
     },
     "execution_count": 7,
     "metadata": {},
     "output_type": "execute_result"
    }
   ],
   "source": [
    "df['Genre'].unique()"
   ]
  },
  {
   "cell_type": "code",
   "execution_count": 8,
   "metadata": {},
   "outputs": [
    {
     "data": {
      "text/plain": [
       "array(['Wii', 'NES', 'GB', 'DS', 'X360', 'PS3', 'PS2', 'SNES', 'GBA',\n",
       "       'PS4', '3DS', 'N64', 'PS', 'XB', 'PC', '2600', 'PSP', 'XOne',\n",
       "       'WiiU', 'GC', 'GEN', 'DC', 'PSV', 'SAT', 'SCD', 'WS', 'NG', 'TG16',\n",
       "       '3DO', 'GG', 'PCFX'], dtype=object)"
      ]
     },
     "execution_count": 8,
     "metadata": {},
     "output_type": "execute_result"
    }
   ],
   "source": [
    "df['Platform'].unique()"
   ]
  },
  {
   "cell_type": "markdown",
   "metadata": {},
   "source": [
    "#### Выводы"
   ]
  },
  {
   "cell_type": "markdown",
   "metadata": {},
   "source": [
    "Список необходимых действий:\n",
    "- изменить тип данных в User_Score и Year_of_Release\t\n",
    "- обработать пропуски в колонках: Year_of_Release, Critic_Score, User_Score, Rating, Genre\n",
    "- изменить регистр заголовков столбцов"
   ]
  },
  {
   "cell_type": "markdown",
   "metadata": {},
   "source": [
    "## Предобработка данных"
   ]
  },
  {
   "cell_type": "code",
   "execution_count": 9,
   "metadata": {},
   "outputs": [],
   "source": [
    "# приведем названия столбцов в нижний регистр\n",
    "df.columns = map(str.lower, df.columns)"
   ]
  },
  {
   "cell_type": "code",
   "execution_count": 10,
   "metadata": {},
   "outputs": [
    {
     "name": "stdout",
     "output_type": "stream",
     "text": [
      "<class 'pandas.core.frame.DataFrame'>\n",
      "RangeIndex: 16715 entries, 0 to 16714\n",
      "Data columns (total 11 columns):\n",
      " #   Column           Non-Null Count  Dtype  \n",
      "---  ------           --------------  -----  \n",
      " 0   name             16713 non-null  object \n",
      " 1   platform         16715 non-null  object \n",
      " 2   year_of_release  16446 non-null  float64\n",
      " 3   genre            16713 non-null  object \n",
      " 4   na_sales         16715 non-null  float64\n",
      " 5   eu_sales         16715 non-null  float64\n",
      " 6   jp_sales         16715 non-null  float64\n",
      " 7   other_sales      16715 non-null  float64\n",
      " 8   critic_score     8137 non-null   float64\n",
      " 9   user_score       10014 non-null  object \n",
      " 10  rating           9949 non-null   object \n",
      "dtypes: float64(6), object(5)\n",
      "memory usage: 1.4+ MB\n"
     ]
    }
   ],
   "source": [
    "df.info()"
   ]
  },
  {
   "cell_type": "markdown",
   "metadata": {},
   "source": [
    "### Преобразовать данные к нужным типам"
   ]
  },
  {
   "cell_type": "markdown",
   "metadata": {},
   "source": [
    "Обратим внимание на то, что в 'user_score' есть значения с аббревиатурой 'tbd', которые не позволяют изменить тип данных. Проанализируем эти занчения."
   ]
  },
  {
   "cell_type": "code",
   "execution_count": 11,
   "metadata": {},
   "outputs": [
    {
     "data": {
      "text/html": [
       "<div>\n",
       "<style scoped>\n",
       "    .dataframe tbody tr th:only-of-type {\n",
       "        vertical-align: middle;\n",
       "    }\n",
       "\n",
       "    .dataframe tbody tr th {\n",
       "        vertical-align: top;\n",
       "    }\n",
       "\n",
       "    .dataframe thead th {\n",
       "        text-align: right;\n",
       "    }\n",
       "</style>\n",
       "<table border=\"1\" class=\"dataframe\">\n",
       "  <thead>\n",
       "    <tr style=\"text-align: right;\">\n",
       "      <th></th>\n",
       "      <th>name</th>\n",
       "      <th>platform</th>\n",
       "      <th>year_of_release</th>\n",
       "      <th>genre</th>\n",
       "      <th>na_sales</th>\n",
       "      <th>eu_sales</th>\n",
       "      <th>jp_sales</th>\n",
       "      <th>other_sales</th>\n",
       "      <th>critic_score</th>\n",
       "      <th>user_score</th>\n",
       "      <th>rating</th>\n",
       "    </tr>\n",
       "  </thead>\n",
       "  <tbody>\n",
       "    <tr>\n",
       "      <th>119</th>\n",
       "      <td>Zumba Fitness</td>\n",
       "      <td>Wii</td>\n",
       "      <td>2010.0</td>\n",
       "      <td>Sports</td>\n",
       "      <td>3.45</td>\n",
       "      <td>2.59</td>\n",
       "      <td>0.0</td>\n",
       "      <td>0.66</td>\n",
       "      <td>NaN</td>\n",
       "      <td>tbd</td>\n",
       "      <td>E</td>\n",
       "    </tr>\n",
       "    <tr>\n",
       "      <th>301</th>\n",
       "      <td>Namco Museum: 50th Anniversary</td>\n",
       "      <td>PS2</td>\n",
       "      <td>2005.0</td>\n",
       "      <td>Misc</td>\n",
       "      <td>2.08</td>\n",
       "      <td>1.35</td>\n",
       "      <td>0.0</td>\n",
       "      <td>0.54</td>\n",
       "      <td>61.0</td>\n",
       "      <td>tbd</td>\n",
       "      <td>E10+</td>\n",
       "    </tr>\n",
       "    <tr>\n",
       "      <th>520</th>\n",
       "      <td>Zumba Fitness 2</td>\n",
       "      <td>Wii</td>\n",
       "      <td>2011.0</td>\n",
       "      <td>Sports</td>\n",
       "      <td>1.51</td>\n",
       "      <td>1.03</td>\n",
       "      <td>0.0</td>\n",
       "      <td>0.27</td>\n",
       "      <td>NaN</td>\n",
       "      <td>tbd</td>\n",
       "      <td>T</td>\n",
       "    </tr>\n",
       "    <tr>\n",
       "      <th>645</th>\n",
       "      <td>uDraw Studio</td>\n",
       "      <td>Wii</td>\n",
       "      <td>2010.0</td>\n",
       "      <td>Misc</td>\n",
       "      <td>1.65</td>\n",
       "      <td>0.57</td>\n",
       "      <td>0.0</td>\n",
       "      <td>0.20</td>\n",
       "      <td>71.0</td>\n",
       "      <td>tbd</td>\n",
       "      <td>E</td>\n",
       "    </tr>\n",
       "    <tr>\n",
       "      <th>657</th>\n",
       "      <td>Frogger's Adventures: Temple of the Frog</td>\n",
       "      <td>GBA</td>\n",
       "      <td>NaN</td>\n",
       "      <td>Adventure</td>\n",
       "      <td>2.15</td>\n",
       "      <td>0.18</td>\n",
       "      <td>0.0</td>\n",
       "      <td>0.07</td>\n",
       "      <td>73.0</td>\n",
       "      <td>tbd</td>\n",
       "      <td>E</td>\n",
       "    </tr>\n",
       "    <tr>\n",
       "      <th>...</th>\n",
       "      <td>...</td>\n",
       "      <td>...</td>\n",
       "      <td>...</td>\n",
       "      <td>...</td>\n",
       "      <td>...</td>\n",
       "      <td>...</td>\n",
       "      <td>...</td>\n",
       "      <td>...</td>\n",
       "      <td>...</td>\n",
       "      <td>...</td>\n",
       "      <td>...</td>\n",
       "    </tr>\n",
       "    <tr>\n",
       "      <th>16695</th>\n",
       "      <td>Planet Monsters</td>\n",
       "      <td>GBA</td>\n",
       "      <td>2001.0</td>\n",
       "      <td>Action</td>\n",
       "      <td>0.01</td>\n",
       "      <td>0.00</td>\n",
       "      <td>0.0</td>\n",
       "      <td>0.00</td>\n",
       "      <td>67.0</td>\n",
       "      <td>tbd</td>\n",
       "      <td>E</td>\n",
       "    </tr>\n",
       "    <tr>\n",
       "      <th>16697</th>\n",
       "      <td>Bust-A-Move 3000</td>\n",
       "      <td>GC</td>\n",
       "      <td>2003.0</td>\n",
       "      <td>Puzzle</td>\n",
       "      <td>0.01</td>\n",
       "      <td>0.00</td>\n",
       "      <td>0.0</td>\n",
       "      <td>0.00</td>\n",
       "      <td>53.0</td>\n",
       "      <td>tbd</td>\n",
       "      <td>E</td>\n",
       "    </tr>\n",
       "    <tr>\n",
       "      <th>16698</th>\n",
       "      <td>Mega Brain Boost</td>\n",
       "      <td>DS</td>\n",
       "      <td>2008.0</td>\n",
       "      <td>Puzzle</td>\n",
       "      <td>0.01</td>\n",
       "      <td>0.00</td>\n",
       "      <td>0.0</td>\n",
       "      <td>0.00</td>\n",
       "      <td>48.0</td>\n",
       "      <td>tbd</td>\n",
       "      <td>E</td>\n",
       "    </tr>\n",
       "    <tr>\n",
       "      <th>16704</th>\n",
       "      <td>Plushees</td>\n",
       "      <td>DS</td>\n",
       "      <td>2008.0</td>\n",
       "      <td>Simulation</td>\n",
       "      <td>0.01</td>\n",
       "      <td>0.00</td>\n",
       "      <td>0.0</td>\n",
       "      <td>0.00</td>\n",
       "      <td>NaN</td>\n",
       "      <td>tbd</td>\n",
       "      <td>E</td>\n",
       "    </tr>\n",
       "    <tr>\n",
       "      <th>16706</th>\n",
       "      <td>Men in Black II: Alien Escape</td>\n",
       "      <td>GC</td>\n",
       "      <td>2003.0</td>\n",
       "      <td>Shooter</td>\n",
       "      <td>0.01</td>\n",
       "      <td>0.00</td>\n",
       "      <td>0.0</td>\n",
       "      <td>0.00</td>\n",
       "      <td>NaN</td>\n",
       "      <td>tbd</td>\n",
       "      <td>T</td>\n",
       "    </tr>\n",
       "  </tbody>\n",
       "</table>\n",
       "<p>2424 rows × 11 columns</p>\n",
       "</div>"
      ],
      "text/plain": [
       "                                           name platform  year_of_release  \\\n",
       "119                               Zumba Fitness      Wii           2010.0   \n",
       "301              Namco Museum: 50th Anniversary      PS2           2005.0   \n",
       "520                             Zumba Fitness 2      Wii           2011.0   \n",
       "645                                uDraw Studio      Wii           2010.0   \n",
       "657    Frogger's Adventures: Temple of the Frog      GBA              NaN   \n",
       "...                                         ...      ...              ...   \n",
       "16695                           Planet Monsters      GBA           2001.0   \n",
       "16697                          Bust-A-Move 3000       GC           2003.0   \n",
       "16698                          Mega Brain Boost       DS           2008.0   \n",
       "16704                                  Plushees       DS           2008.0   \n",
       "16706             Men in Black II: Alien Escape       GC           2003.0   \n",
       "\n",
       "            genre  na_sales  eu_sales  jp_sales  other_sales  critic_score  \\\n",
       "119        Sports      3.45      2.59       0.0         0.66           NaN   \n",
       "301          Misc      2.08      1.35       0.0         0.54          61.0   \n",
       "520        Sports      1.51      1.03       0.0         0.27           NaN   \n",
       "645          Misc      1.65      0.57       0.0         0.20          71.0   \n",
       "657     Adventure      2.15      0.18       0.0         0.07          73.0   \n",
       "...           ...       ...       ...       ...          ...           ...   \n",
       "16695      Action      0.01      0.00       0.0         0.00          67.0   \n",
       "16697      Puzzle      0.01      0.00       0.0         0.00          53.0   \n",
       "16698      Puzzle      0.01      0.00       0.0         0.00          48.0   \n",
       "16704  Simulation      0.01      0.00       0.0         0.00           NaN   \n",
       "16706     Shooter      0.01      0.00       0.0         0.00           NaN   \n",
       "\n",
       "      user_score rating  \n",
       "119          tbd      E  \n",
       "301          tbd   E10+  \n",
       "520          tbd      T  \n",
       "645          tbd      E  \n",
       "657          tbd      E  \n",
       "...          ...    ...  \n",
       "16695        tbd      E  \n",
       "16697        tbd      E  \n",
       "16698        tbd      E  \n",
       "16704        tbd      E  \n",
       "16706        tbd      T  \n",
       "\n",
       "[2424 rows x 11 columns]"
      ]
     },
     "execution_count": 11,
     "metadata": {},
     "output_type": "execute_result"
    }
   ],
   "source": [
    "#найдем строки с \"tbd\"\n",
    "df.query('user_score ==\"tbd\"')"
   ]
  },
  {
   "cell_type": "markdown",
   "metadata": {},
   "source": [
    "Из более чем 16 тыс строк, почти 2.5 тысячи имеют такую абревиатуру. Данная абревиатура используется для дальнейшего уточнения данных. Логично присвоить значение NaN, так как явных закономерностей нет, а заменить данные нулем мы не можем, так как может произойти искажение данных, которое повлияет на дальнейшее исследование."
   ]
  },
  {
   "cell_type": "code",
   "execution_count": 12,
   "metadata": {},
   "outputs": [
    {
     "name": "stdout",
     "output_type": "stream",
     "text": [
      "<class 'pandas.core.frame.DataFrame'>\n",
      "RangeIndex: 16715 entries, 0 to 16714\n",
      "Data columns (total 11 columns):\n",
      " #   Column           Non-Null Count  Dtype  \n",
      "---  ------           --------------  -----  \n",
      " 0   name             16713 non-null  object \n",
      " 1   platform         16715 non-null  object \n",
      " 2   year_of_release  16446 non-null  Int64  \n",
      " 3   genre            16713 non-null  object \n",
      " 4   na_sales         16715 non-null  float64\n",
      " 5   eu_sales         16715 non-null  float64\n",
      " 6   jp_sales         16715 non-null  float64\n",
      " 7   other_sales      16715 non-null  float64\n",
      " 8   critic_score     8137 non-null   float64\n",
      " 9   user_score       7590 non-null   float64\n",
      " 10  rating           9949 non-null   object \n",
      "dtypes: Int64(1), float64(6), object(4)\n",
      "memory usage: 1.4+ MB\n"
     ]
    }
   ],
   "source": [
    "#Заменим \"tbd\" на Nan\n",
    "df.loc[df['user_score']==\"tbd\", 'user_score']=np.nan\n",
    "#Заменим тип данных рейтинга пользователей на числовой с плавающей точкой\n",
    "df['user_score'] = df['user_score'].astype('float64')\n",
    "\n",
    "#Заменим тип данных года выпуска на целочисленный\n",
    "df['year_of_release'] = df['year_of_release'].astype('Int64')\n",
    "\n",
    "df.info()"
   ]
  },
  {
   "cell_type": "markdown",
   "metadata": {},
   "source": [
    "### Обработка пропусков"
   ]
  },
  {
   "cell_type": "code",
   "execution_count": 13,
   "metadata": {},
   "outputs": [
    {
     "data": {
      "text/plain": [
       "name                  2\n",
       "platform              0\n",
       "year_of_release     269\n",
       "genre                 2\n",
       "na_sales              0\n",
       "eu_sales              0\n",
       "jp_sales              0\n",
       "other_sales           0\n",
       "critic_score       8578\n",
       "user_score         9125\n",
       "rating             6766\n",
       "dtype: int64"
      ]
     },
     "execution_count": 13,
     "metadata": {},
     "output_type": "execute_result"
    }
   ],
   "source": [
    "# Посчитаем количество пропусков в данных\n",
    "df.isna().sum()"
   ]
  },
  {
   "cell_type": "markdown",
   "metadata": {},
   "source": [
    "Посмотрим на пропуски подробнее"
   ]
  },
  {
   "cell_type": "code",
   "execution_count": 14,
   "metadata": {},
   "outputs": [
    {
     "data": {
      "text/html": [
       "<div>\n",
       "<style scoped>\n",
       "    .dataframe tbody tr th:only-of-type {\n",
       "        vertical-align: middle;\n",
       "    }\n",
       "\n",
       "    .dataframe tbody tr th {\n",
       "        vertical-align: top;\n",
       "    }\n",
       "\n",
       "    .dataframe thead th {\n",
       "        text-align: right;\n",
       "    }\n",
       "</style>\n",
       "<table border=\"1\" class=\"dataframe\">\n",
       "  <thead>\n",
       "    <tr style=\"text-align: right;\">\n",
       "      <th></th>\n",
       "      <th>name</th>\n",
       "      <th>platform</th>\n",
       "      <th>year_of_release</th>\n",
       "      <th>genre</th>\n",
       "      <th>na_sales</th>\n",
       "      <th>eu_sales</th>\n",
       "      <th>jp_sales</th>\n",
       "      <th>other_sales</th>\n",
       "      <th>critic_score</th>\n",
       "      <th>user_score</th>\n",
       "      <th>rating</th>\n",
       "    </tr>\n",
       "  </thead>\n",
       "  <tbody>\n",
       "    <tr>\n",
       "      <th>659</th>\n",
       "      <td>NaN</td>\n",
       "      <td>GEN</td>\n",
       "      <td>1993</td>\n",
       "      <td>NaN</td>\n",
       "      <td>1.78</td>\n",
       "      <td>0.53</td>\n",
       "      <td>0.00</td>\n",
       "      <td>0.08</td>\n",
       "      <td>NaN</td>\n",
       "      <td>NaN</td>\n",
       "      <td>NaN</td>\n",
       "    </tr>\n",
       "    <tr>\n",
       "      <th>14244</th>\n",
       "      <td>NaN</td>\n",
       "      <td>GEN</td>\n",
       "      <td>1993</td>\n",
       "      <td>NaN</td>\n",
       "      <td>0.00</td>\n",
       "      <td>0.00</td>\n",
       "      <td>0.03</td>\n",
       "      <td>0.00</td>\n",
       "      <td>NaN</td>\n",
       "      <td>NaN</td>\n",
       "      <td>NaN</td>\n",
       "    </tr>\n",
       "  </tbody>\n",
       "</table>\n",
       "</div>"
      ],
      "text/plain": [
       "      name platform  year_of_release genre  na_sales  eu_sales  jp_sales  \\\n",
       "659    NaN      GEN             1993   NaN      1.78      0.53      0.00   \n",
       "14244  NaN      GEN             1993   NaN      0.00      0.00      0.03   \n",
       "\n",
       "       other_sales  critic_score  user_score rating  \n",
       "659           0.08           NaN         NaN    NaN  \n",
       "14244         0.00           NaN         NaN    NaN  "
      ]
     },
     "execution_count": 14,
     "metadata": {},
     "output_type": "execute_result"
    }
   ],
   "source": [
    "#Пропуски в названиях игр\n",
    "df.query('name.isnull()')"
   ]
  },
  {
   "cell_type": "markdown",
   "metadata": {},
   "source": [
    "В этих двух строках почти нет данных, вероятно в далеком 1993 году просто такие данные не собирали, либо они затерялись. Такие данные можно спокойно удалить. Они не повлияют на ход исследованния."
   ]
  },
  {
   "cell_type": "code",
   "execution_count": 15,
   "metadata": {},
   "outputs": [
    {
     "data": {
      "text/html": [
       "<div>\n",
       "<style scoped>\n",
       "    .dataframe tbody tr th:only-of-type {\n",
       "        vertical-align: middle;\n",
       "    }\n",
       "\n",
       "    .dataframe tbody tr th {\n",
       "        vertical-align: top;\n",
       "    }\n",
       "\n",
       "    .dataframe thead th {\n",
       "        text-align: right;\n",
       "    }\n",
       "</style>\n",
       "<table border=\"1\" class=\"dataframe\">\n",
       "  <thead>\n",
       "    <tr style=\"text-align: right;\">\n",
       "      <th></th>\n",
       "      <th>name</th>\n",
       "      <th>platform</th>\n",
       "      <th>year_of_release</th>\n",
       "      <th>genre</th>\n",
       "      <th>na_sales</th>\n",
       "      <th>eu_sales</th>\n",
       "      <th>jp_sales</th>\n",
       "      <th>other_sales</th>\n",
       "      <th>critic_score</th>\n",
       "      <th>user_score</th>\n",
       "      <th>rating</th>\n",
       "    </tr>\n",
       "  </thead>\n",
       "  <tbody>\n",
       "    <tr>\n",
       "      <th>659</th>\n",
       "      <td>NaN</td>\n",
       "      <td>GEN</td>\n",
       "      <td>1993</td>\n",
       "      <td>NaN</td>\n",
       "      <td>1.78</td>\n",
       "      <td>0.53</td>\n",
       "      <td>0.00</td>\n",
       "      <td>0.08</td>\n",
       "      <td>NaN</td>\n",
       "      <td>NaN</td>\n",
       "      <td>NaN</td>\n",
       "    </tr>\n",
       "    <tr>\n",
       "      <th>14244</th>\n",
       "      <td>NaN</td>\n",
       "      <td>GEN</td>\n",
       "      <td>1993</td>\n",
       "      <td>NaN</td>\n",
       "      <td>0.00</td>\n",
       "      <td>0.00</td>\n",
       "      <td>0.03</td>\n",
       "      <td>0.00</td>\n",
       "      <td>NaN</td>\n",
       "      <td>NaN</td>\n",
       "      <td>NaN</td>\n",
       "    </tr>\n",
       "  </tbody>\n",
       "</table>\n",
       "</div>"
      ],
      "text/plain": [
       "      name platform  year_of_release genre  na_sales  eu_sales  jp_sales  \\\n",
       "659    NaN      GEN             1993   NaN      1.78      0.53      0.00   \n",
       "14244  NaN      GEN             1993   NaN      0.00      0.00      0.03   \n",
       "\n",
       "       other_sales  critic_score  user_score rating  \n",
       "659           0.08           NaN         NaN    NaN  \n",
       "14244         0.00           NaN         NaN    NaN  "
      ]
     },
     "execution_count": 15,
     "metadata": {},
     "output_type": "execute_result"
    }
   ],
   "source": [
    "#Пропуски в жанре игр\n",
    "df.query('genre.isnull()')"
   ]
  },
  {
   "cell_type": "markdown",
   "metadata": {},
   "source": [
    "Мы получили абсолютно те же данные что и в жанрах игр. Удалим данные.\n"
   ]
  },
  {
   "cell_type": "code",
   "execution_count": 16,
   "metadata": {},
   "outputs": [],
   "source": [
    "# удаляем пропущенные значения\n",
    "df.dropna(subset = ['genre'], inplace = True)"
   ]
  },
  {
   "cell_type": "code",
   "execution_count": 17,
   "metadata": {},
   "outputs": [
    {
     "data": {
      "text/html": [
       "<div>\n",
       "<style scoped>\n",
       "    .dataframe tbody tr th:only-of-type {\n",
       "        vertical-align: middle;\n",
       "    }\n",
       "\n",
       "    .dataframe tbody tr th {\n",
       "        vertical-align: top;\n",
       "    }\n",
       "\n",
       "    .dataframe thead th {\n",
       "        text-align: right;\n",
       "    }\n",
       "</style>\n",
       "<table border=\"1\" class=\"dataframe\">\n",
       "  <thead>\n",
       "    <tr style=\"text-align: right;\">\n",
       "      <th></th>\n",
       "      <th>name</th>\n",
       "      <th>platform</th>\n",
       "      <th>year_of_release</th>\n",
       "      <th>genre</th>\n",
       "      <th>na_sales</th>\n",
       "      <th>eu_sales</th>\n",
       "      <th>jp_sales</th>\n",
       "      <th>other_sales</th>\n",
       "      <th>critic_score</th>\n",
       "      <th>user_score</th>\n",
       "      <th>rating</th>\n",
       "    </tr>\n",
       "  </thead>\n",
       "  <tbody>\n",
       "    <tr>\n",
       "      <th>183</th>\n",
       "      <td>Madden NFL 2004</td>\n",
       "      <td>PS2</td>\n",
       "      <td>&lt;NA&gt;</td>\n",
       "      <td>Sports</td>\n",
       "      <td>4.26</td>\n",
       "      <td>0.26</td>\n",
       "      <td>0.01</td>\n",
       "      <td>0.71</td>\n",
       "      <td>94.0</td>\n",
       "      <td>8.5</td>\n",
       "      <td>E</td>\n",
       "    </tr>\n",
       "    <tr>\n",
       "      <th>377</th>\n",
       "      <td>FIFA Soccer 2004</td>\n",
       "      <td>PS2</td>\n",
       "      <td>&lt;NA&gt;</td>\n",
       "      <td>Sports</td>\n",
       "      <td>0.59</td>\n",
       "      <td>2.36</td>\n",
       "      <td>0.04</td>\n",
       "      <td>0.51</td>\n",
       "      <td>84.0</td>\n",
       "      <td>6.4</td>\n",
       "      <td>E</td>\n",
       "    </tr>\n",
       "    <tr>\n",
       "      <th>456</th>\n",
       "      <td>LEGO Batman: The Videogame</td>\n",
       "      <td>Wii</td>\n",
       "      <td>&lt;NA&gt;</td>\n",
       "      <td>Action</td>\n",
       "      <td>1.80</td>\n",
       "      <td>0.97</td>\n",
       "      <td>0.00</td>\n",
       "      <td>0.29</td>\n",
       "      <td>74.0</td>\n",
       "      <td>7.9</td>\n",
       "      <td>E10+</td>\n",
       "    </tr>\n",
       "    <tr>\n",
       "      <th>475</th>\n",
       "      <td>wwe Smackdown vs. Raw 2006</td>\n",
       "      <td>PS2</td>\n",
       "      <td>&lt;NA&gt;</td>\n",
       "      <td>Fighting</td>\n",
       "      <td>1.57</td>\n",
       "      <td>1.02</td>\n",
       "      <td>0.00</td>\n",
       "      <td>0.41</td>\n",
       "      <td>NaN</td>\n",
       "      <td>NaN</td>\n",
       "      <td>NaN</td>\n",
       "    </tr>\n",
       "    <tr>\n",
       "      <th>609</th>\n",
       "      <td>Space Invaders</td>\n",
       "      <td>2600</td>\n",
       "      <td>&lt;NA&gt;</td>\n",
       "      <td>Shooter</td>\n",
       "      <td>2.36</td>\n",
       "      <td>0.14</td>\n",
       "      <td>0.00</td>\n",
       "      <td>0.03</td>\n",
       "      <td>NaN</td>\n",
       "      <td>NaN</td>\n",
       "      <td>NaN</td>\n",
       "    </tr>\n",
       "    <tr>\n",
       "      <th>...</th>\n",
       "      <td>...</td>\n",
       "      <td>...</td>\n",
       "      <td>...</td>\n",
       "      <td>...</td>\n",
       "      <td>...</td>\n",
       "      <td>...</td>\n",
       "      <td>...</td>\n",
       "      <td>...</td>\n",
       "      <td>...</td>\n",
       "      <td>...</td>\n",
       "      <td>...</td>\n",
       "    </tr>\n",
       "    <tr>\n",
       "      <th>16373</th>\n",
       "      <td>PDC World Championship Darts 2008</td>\n",
       "      <td>PSP</td>\n",
       "      <td>&lt;NA&gt;</td>\n",
       "      <td>Sports</td>\n",
       "      <td>0.01</td>\n",
       "      <td>0.00</td>\n",
       "      <td>0.00</td>\n",
       "      <td>0.00</td>\n",
       "      <td>43.0</td>\n",
       "      <td>NaN</td>\n",
       "      <td>E10+</td>\n",
       "    </tr>\n",
       "    <tr>\n",
       "      <th>16405</th>\n",
       "      <td>Freaky Flyers</td>\n",
       "      <td>GC</td>\n",
       "      <td>&lt;NA&gt;</td>\n",
       "      <td>Racing</td>\n",
       "      <td>0.01</td>\n",
       "      <td>0.00</td>\n",
       "      <td>0.00</td>\n",
       "      <td>0.00</td>\n",
       "      <td>69.0</td>\n",
       "      <td>6.5</td>\n",
       "      <td>T</td>\n",
       "    </tr>\n",
       "    <tr>\n",
       "      <th>16448</th>\n",
       "      <td>Inversion</td>\n",
       "      <td>PC</td>\n",
       "      <td>&lt;NA&gt;</td>\n",
       "      <td>Shooter</td>\n",
       "      <td>0.01</td>\n",
       "      <td>0.00</td>\n",
       "      <td>0.00</td>\n",
       "      <td>0.00</td>\n",
       "      <td>59.0</td>\n",
       "      <td>6.7</td>\n",
       "      <td>M</td>\n",
       "    </tr>\n",
       "    <tr>\n",
       "      <th>16458</th>\n",
       "      <td>Hakuouki: Shinsengumi Kitan</td>\n",
       "      <td>PS3</td>\n",
       "      <td>&lt;NA&gt;</td>\n",
       "      <td>Adventure</td>\n",
       "      <td>0.01</td>\n",
       "      <td>0.00</td>\n",
       "      <td>0.00</td>\n",
       "      <td>0.00</td>\n",
       "      <td>NaN</td>\n",
       "      <td>NaN</td>\n",
       "      <td>NaN</td>\n",
       "    </tr>\n",
       "    <tr>\n",
       "      <th>16522</th>\n",
       "      <td>Virtua Quest</td>\n",
       "      <td>GC</td>\n",
       "      <td>&lt;NA&gt;</td>\n",
       "      <td>Role-Playing</td>\n",
       "      <td>0.01</td>\n",
       "      <td>0.00</td>\n",
       "      <td>0.00</td>\n",
       "      <td>0.00</td>\n",
       "      <td>55.0</td>\n",
       "      <td>5.5</td>\n",
       "      <td>T</td>\n",
       "    </tr>\n",
       "  </tbody>\n",
       "</table>\n",
       "<p>269 rows × 11 columns</p>\n",
       "</div>"
      ],
      "text/plain": [
       "                                    name platform  year_of_release  \\\n",
       "183                      Madden NFL 2004      PS2             <NA>   \n",
       "377                     FIFA Soccer 2004      PS2             <NA>   \n",
       "456           LEGO Batman: The Videogame      Wii             <NA>   \n",
       "475           wwe Smackdown vs. Raw 2006      PS2             <NA>   \n",
       "609                       Space Invaders     2600             <NA>   \n",
       "...                                  ...      ...              ...   \n",
       "16373  PDC World Championship Darts 2008      PSP             <NA>   \n",
       "16405                      Freaky Flyers       GC             <NA>   \n",
       "16448                          Inversion       PC             <NA>   \n",
       "16458        Hakuouki: Shinsengumi Kitan      PS3             <NA>   \n",
       "16522                       Virtua Quest       GC             <NA>   \n",
       "\n",
       "              genre  na_sales  eu_sales  jp_sales  other_sales  critic_score  \\\n",
       "183          Sports      4.26      0.26      0.01         0.71          94.0   \n",
       "377          Sports      0.59      2.36      0.04         0.51          84.0   \n",
       "456          Action      1.80      0.97      0.00         0.29          74.0   \n",
       "475        Fighting      1.57      1.02      0.00         0.41           NaN   \n",
       "609         Shooter      2.36      0.14      0.00         0.03           NaN   \n",
       "...             ...       ...       ...       ...          ...           ...   \n",
       "16373        Sports      0.01      0.00      0.00         0.00          43.0   \n",
       "16405        Racing      0.01      0.00      0.00         0.00          69.0   \n",
       "16448       Shooter      0.01      0.00      0.00         0.00          59.0   \n",
       "16458     Adventure      0.01      0.00      0.00         0.00           NaN   \n",
       "16522  Role-Playing      0.01      0.00      0.00         0.00          55.0   \n",
       "\n",
       "       user_score rating  \n",
       "183           8.5      E  \n",
       "377           6.4      E  \n",
       "456           7.9   E10+  \n",
       "475           NaN    NaN  \n",
       "609           NaN    NaN  \n",
       "...           ...    ...  \n",
       "16373         NaN   E10+  \n",
       "16405         6.5      T  \n",
       "16448         6.7      M  \n",
       "16458         NaN    NaN  \n",
       "16522         5.5      T  \n",
       "\n",
       "[269 rows x 11 columns]"
      ]
     },
     "execution_count": 17,
     "metadata": {},
     "output_type": "execute_result"
    }
   ],
   "source": [
    "#Пропуски в дате выхода игр\n",
    "df.query('year_of_release.isnull()')"
   ]
  },
  {
   "cell_type": "markdown",
   "metadata": {},
   "source": [
    "К сожалению тут мы не можем ни чем заменить пропуски. Кажется, что можно частично заменить пропуски на год, указанный в названии игры. Но как показывает практика, года в названиях и по факту выпуска могут не соответствовать, так как часть игр выходит заранее (например FIFA)."
   ]
  },
  {
   "cell_type": "code",
   "execution_count": 18,
   "metadata": {},
   "outputs": [
    {
     "data": {
      "text/html": [
       "<div>\n",
       "<style scoped>\n",
       "    .dataframe tbody tr th:only-of-type {\n",
       "        vertical-align: middle;\n",
       "    }\n",
       "\n",
       "    .dataframe tbody tr th {\n",
       "        vertical-align: top;\n",
       "    }\n",
       "\n",
       "    .dataframe thead th {\n",
       "        text-align: right;\n",
       "    }\n",
       "</style>\n",
       "<table border=\"1\" class=\"dataframe\">\n",
       "  <thead>\n",
       "    <tr style=\"text-align: right;\">\n",
       "      <th></th>\n",
       "      <th>name</th>\n",
       "      <th>platform</th>\n",
       "      <th>year_of_release</th>\n",
       "      <th>genre</th>\n",
       "      <th>na_sales</th>\n",
       "      <th>eu_sales</th>\n",
       "      <th>jp_sales</th>\n",
       "      <th>other_sales</th>\n",
       "      <th>critic_score</th>\n",
       "      <th>user_score</th>\n",
       "      <th>rating</th>\n",
       "    </tr>\n",
       "  </thead>\n",
       "  <tbody>\n",
       "    <tr>\n",
       "      <th>1</th>\n",
       "      <td>Super Mario Bros.</td>\n",
       "      <td>NES</td>\n",
       "      <td>1985</td>\n",
       "      <td>Platform</td>\n",
       "      <td>29.08</td>\n",
       "      <td>3.58</td>\n",
       "      <td>6.81</td>\n",
       "      <td>0.77</td>\n",
       "      <td>NaN</td>\n",
       "      <td>NaN</td>\n",
       "      <td>NaN</td>\n",
       "    </tr>\n",
       "    <tr>\n",
       "      <th>4</th>\n",
       "      <td>Pokemon Red/Pokemon Blue</td>\n",
       "      <td>GB</td>\n",
       "      <td>1996</td>\n",
       "      <td>Role-Playing</td>\n",
       "      <td>11.27</td>\n",
       "      <td>8.89</td>\n",
       "      <td>10.22</td>\n",
       "      <td>1.00</td>\n",
       "      <td>NaN</td>\n",
       "      <td>NaN</td>\n",
       "      <td>NaN</td>\n",
       "    </tr>\n",
       "    <tr>\n",
       "      <th>5</th>\n",
       "      <td>Tetris</td>\n",
       "      <td>GB</td>\n",
       "      <td>1989</td>\n",
       "      <td>Puzzle</td>\n",
       "      <td>23.20</td>\n",
       "      <td>2.26</td>\n",
       "      <td>4.22</td>\n",
       "      <td>0.58</td>\n",
       "      <td>NaN</td>\n",
       "      <td>NaN</td>\n",
       "      <td>NaN</td>\n",
       "    </tr>\n",
       "    <tr>\n",
       "      <th>9</th>\n",
       "      <td>Duck Hunt</td>\n",
       "      <td>NES</td>\n",
       "      <td>1984</td>\n",
       "      <td>Shooter</td>\n",
       "      <td>26.93</td>\n",
       "      <td>0.63</td>\n",
       "      <td>0.28</td>\n",
       "      <td>0.47</td>\n",
       "      <td>NaN</td>\n",
       "      <td>NaN</td>\n",
       "      <td>NaN</td>\n",
       "    </tr>\n",
       "    <tr>\n",
       "      <th>10</th>\n",
       "      <td>Nintendogs</td>\n",
       "      <td>DS</td>\n",
       "      <td>2005</td>\n",
       "      <td>Simulation</td>\n",
       "      <td>9.05</td>\n",
       "      <td>10.95</td>\n",
       "      <td>1.93</td>\n",
       "      <td>2.74</td>\n",
       "      <td>NaN</td>\n",
       "      <td>NaN</td>\n",
       "      <td>NaN</td>\n",
       "    </tr>\n",
       "    <tr>\n",
       "      <th>...</th>\n",
       "      <td>...</td>\n",
       "      <td>...</td>\n",
       "      <td>...</td>\n",
       "      <td>...</td>\n",
       "      <td>...</td>\n",
       "      <td>...</td>\n",
       "      <td>...</td>\n",
       "      <td>...</td>\n",
       "      <td>...</td>\n",
       "      <td>...</td>\n",
       "      <td>...</td>\n",
       "    </tr>\n",
       "    <tr>\n",
       "      <th>16710</th>\n",
       "      <td>Samurai Warriors: Sanada Maru</td>\n",
       "      <td>PS3</td>\n",
       "      <td>2016</td>\n",
       "      <td>Action</td>\n",
       "      <td>0.00</td>\n",
       "      <td>0.00</td>\n",
       "      <td>0.01</td>\n",
       "      <td>0.00</td>\n",
       "      <td>NaN</td>\n",
       "      <td>NaN</td>\n",
       "      <td>NaN</td>\n",
       "    </tr>\n",
       "    <tr>\n",
       "      <th>16711</th>\n",
       "      <td>LMA Manager 2007</td>\n",
       "      <td>X360</td>\n",
       "      <td>2006</td>\n",
       "      <td>Sports</td>\n",
       "      <td>0.00</td>\n",
       "      <td>0.01</td>\n",
       "      <td>0.00</td>\n",
       "      <td>0.00</td>\n",
       "      <td>NaN</td>\n",
       "      <td>NaN</td>\n",
       "      <td>NaN</td>\n",
       "    </tr>\n",
       "    <tr>\n",
       "      <th>16712</th>\n",
       "      <td>Haitaka no Psychedelica</td>\n",
       "      <td>PSV</td>\n",
       "      <td>2016</td>\n",
       "      <td>Adventure</td>\n",
       "      <td>0.00</td>\n",
       "      <td>0.00</td>\n",
       "      <td>0.01</td>\n",
       "      <td>0.00</td>\n",
       "      <td>NaN</td>\n",
       "      <td>NaN</td>\n",
       "      <td>NaN</td>\n",
       "    </tr>\n",
       "    <tr>\n",
       "      <th>16713</th>\n",
       "      <td>Spirits &amp; Spells</td>\n",
       "      <td>GBA</td>\n",
       "      <td>2003</td>\n",
       "      <td>Platform</td>\n",
       "      <td>0.01</td>\n",
       "      <td>0.00</td>\n",
       "      <td>0.00</td>\n",
       "      <td>0.00</td>\n",
       "      <td>NaN</td>\n",
       "      <td>NaN</td>\n",
       "      <td>NaN</td>\n",
       "    </tr>\n",
       "    <tr>\n",
       "      <th>16714</th>\n",
       "      <td>Winning Post 8 2016</td>\n",
       "      <td>PSV</td>\n",
       "      <td>2016</td>\n",
       "      <td>Simulation</td>\n",
       "      <td>0.00</td>\n",
       "      <td>0.00</td>\n",
       "      <td>0.01</td>\n",
       "      <td>0.00</td>\n",
       "      <td>NaN</td>\n",
       "      <td>NaN</td>\n",
       "      <td>NaN</td>\n",
       "    </tr>\n",
       "  </tbody>\n",
       "</table>\n",
       "<p>8576 rows × 11 columns</p>\n",
       "</div>"
      ],
      "text/plain": [
       "                                name platform  year_of_release         genre  \\\n",
       "1                  Super Mario Bros.      NES             1985      Platform   \n",
       "4           Pokemon Red/Pokemon Blue       GB             1996  Role-Playing   \n",
       "5                             Tetris       GB             1989        Puzzle   \n",
       "9                          Duck Hunt      NES             1984       Shooter   \n",
       "10                        Nintendogs       DS             2005    Simulation   \n",
       "...                              ...      ...              ...           ...   \n",
       "16710  Samurai Warriors: Sanada Maru      PS3             2016        Action   \n",
       "16711               LMA Manager 2007     X360             2006        Sports   \n",
       "16712        Haitaka no Psychedelica      PSV             2016     Adventure   \n",
       "16713               Spirits & Spells      GBA             2003      Platform   \n",
       "16714            Winning Post 8 2016      PSV             2016    Simulation   \n",
       "\n",
       "       na_sales  eu_sales  jp_sales  other_sales  critic_score  user_score  \\\n",
       "1         29.08      3.58      6.81         0.77           NaN         NaN   \n",
       "4         11.27      8.89     10.22         1.00           NaN         NaN   \n",
       "5         23.20      2.26      4.22         0.58           NaN         NaN   \n",
       "9         26.93      0.63      0.28         0.47           NaN         NaN   \n",
       "10         9.05     10.95      1.93         2.74           NaN         NaN   \n",
       "...         ...       ...       ...          ...           ...         ...   \n",
       "16710      0.00      0.00      0.01         0.00           NaN         NaN   \n",
       "16711      0.00      0.01      0.00         0.00           NaN         NaN   \n",
       "16712      0.00      0.00      0.01         0.00           NaN         NaN   \n",
       "16713      0.01      0.00      0.00         0.00           NaN         NaN   \n",
       "16714      0.00      0.00      0.01         0.00           NaN         NaN   \n",
       "\n",
       "      rating  \n",
       "1        NaN  \n",
       "4        NaN  \n",
       "5        NaN  \n",
       "9        NaN  \n",
       "10       NaN  \n",
       "...      ...  \n",
       "16710    NaN  \n",
       "16711    NaN  \n",
       "16712    NaN  \n",
       "16713    NaN  \n",
       "16714    NaN  \n",
       "\n",
       "[8576 rows x 11 columns]"
      ]
     },
     "execution_count": 18,
     "metadata": {},
     "output_type": "execute_result"
    }
   ],
   "source": [
    "#Пропуски в колонке \"оценка критиков\"\n",
    "df.query('critic_score.isnull()')"
   ]
  },
  {
   "cell_type": "code",
   "execution_count": 19,
   "metadata": {},
   "outputs": [
    {
     "data": {
      "text/html": [
       "<div>\n",
       "<style scoped>\n",
       "    .dataframe tbody tr th:only-of-type {\n",
       "        vertical-align: middle;\n",
       "    }\n",
       "\n",
       "    .dataframe tbody tr th {\n",
       "        vertical-align: top;\n",
       "    }\n",
       "\n",
       "    .dataframe thead th {\n",
       "        text-align: right;\n",
       "    }\n",
       "</style>\n",
       "<table border=\"1\" class=\"dataframe\">\n",
       "  <thead>\n",
       "    <tr style=\"text-align: right;\">\n",
       "      <th></th>\n",
       "      <th>name</th>\n",
       "      <th>platform</th>\n",
       "      <th>year_of_release</th>\n",
       "      <th>genre</th>\n",
       "      <th>na_sales</th>\n",
       "      <th>eu_sales</th>\n",
       "      <th>jp_sales</th>\n",
       "      <th>other_sales</th>\n",
       "      <th>critic_score</th>\n",
       "      <th>user_score</th>\n",
       "      <th>rating</th>\n",
       "    </tr>\n",
       "  </thead>\n",
       "  <tbody>\n",
       "    <tr>\n",
       "      <th>1</th>\n",
       "      <td>Super Mario Bros.</td>\n",
       "      <td>NES</td>\n",
       "      <td>1985</td>\n",
       "      <td>Platform</td>\n",
       "      <td>29.08</td>\n",
       "      <td>3.58</td>\n",
       "      <td>6.81</td>\n",
       "      <td>0.77</td>\n",
       "      <td>NaN</td>\n",
       "      <td>NaN</td>\n",
       "      <td>NaN</td>\n",
       "    </tr>\n",
       "    <tr>\n",
       "      <th>4</th>\n",
       "      <td>Pokemon Red/Pokemon Blue</td>\n",
       "      <td>GB</td>\n",
       "      <td>1996</td>\n",
       "      <td>Role-Playing</td>\n",
       "      <td>11.27</td>\n",
       "      <td>8.89</td>\n",
       "      <td>10.22</td>\n",
       "      <td>1.00</td>\n",
       "      <td>NaN</td>\n",
       "      <td>NaN</td>\n",
       "      <td>NaN</td>\n",
       "    </tr>\n",
       "    <tr>\n",
       "      <th>5</th>\n",
       "      <td>Tetris</td>\n",
       "      <td>GB</td>\n",
       "      <td>1989</td>\n",
       "      <td>Puzzle</td>\n",
       "      <td>23.20</td>\n",
       "      <td>2.26</td>\n",
       "      <td>4.22</td>\n",
       "      <td>0.58</td>\n",
       "      <td>NaN</td>\n",
       "      <td>NaN</td>\n",
       "      <td>NaN</td>\n",
       "    </tr>\n",
       "    <tr>\n",
       "      <th>9</th>\n",
       "      <td>Duck Hunt</td>\n",
       "      <td>NES</td>\n",
       "      <td>1984</td>\n",
       "      <td>Shooter</td>\n",
       "      <td>26.93</td>\n",
       "      <td>0.63</td>\n",
       "      <td>0.28</td>\n",
       "      <td>0.47</td>\n",
       "      <td>NaN</td>\n",
       "      <td>NaN</td>\n",
       "      <td>NaN</td>\n",
       "    </tr>\n",
       "    <tr>\n",
       "      <th>10</th>\n",
       "      <td>Nintendogs</td>\n",
       "      <td>DS</td>\n",
       "      <td>2005</td>\n",
       "      <td>Simulation</td>\n",
       "      <td>9.05</td>\n",
       "      <td>10.95</td>\n",
       "      <td>1.93</td>\n",
       "      <td>2.74</td>\n",
       "      <td>NaN</td>\n",
       "      <td>NaN</td>\n",
       "      <td>NaN</td>\n",
       "    </tr>\n",
       "    <tr>\n",
       "      <th>...</th>\n",
       "      <td>...</td>\n",
       "      <td>...</td>\n",
       "      <td>...</td>\n",
       "      <td>...</td>\n",
       "      <td>...</td>\n",
       "      <td>...</td>\n",
       "      <td>...</td>\n",
       "      <td>...</td>\n",
       "      <td>...</td>\n",
       "      <td>...</td>\n",
       "      <td>...</td>\n",
       "    </tr>\n",
       "    <tr>\n",
       "      <th>16710</th>\n",
       "      <td>Samurai Warriors: Sanada Maru</td>\n",
       "      <td>PS3</td>\n",
       "      <td>2016</td>\n",
       "      <td>Action</td>\n",
       "      <td>0.00</td>\n",
       "      <td>0.00</td>\n",
       "      <td>0.01</td>\n",
       "      <td>0.00</td>\n",
       "      <td>NaN</td>\n",
       "      <td>NaN</td>\n",
       "      <td>NaN</td>\n",
       "    </tr>\n",
       "    <tr>\n",
       "      <th>16711</th>\n",
       "      <td>LMA Manager 2007</td>\n",
       "      <td>X360</td>\n",
       "      <td>2006</td>\n",
       "      <td>Sports</td>\n",
       "      <td>0.00</td>\n",
       "      <td>0.01</td>\n",
       "      <td>0.00</td>\n",
       "      <td>0.00</td>\n",
       "      <td>NaN</td>\n",
       "      <td>NaN</td>\n",
       "      <td>NaN</td>\n",
       "    </tr>\n",
       "    <tr>\n",
       "      <th>16712</th>\n",
       "      <td>Haitaka no Psychedelica</td>\n",
       "      <td>PSV</td>\n",
       "      <td>2016</td>\n",
       "      <td>Adventure</td>\n",
       "      <td>0.00</td>\n",
       "      <td>0.00</td>\n",
       "      <td>0.01</td>\n",
       "      <td>0.00</td>\n",
       "      <td>NaN</td>\n",
       "      <td>NaN</td>\n",
       "      <td>NaN</td>\n",
       "    </tr>\n",
       "    <tr>\n",
       "      <th>16713</th>\n",
       "      <td>Spirits &amp; Spells</td>\n",
       "      <td>GBA</td>\n",
       "      <td>2003</td>\n",
       "      <td>Platform</td>\n",
       "      <td>0.01</td>\n",
       "      <td>0.00</td>\n",
       "      <td>0.00</td>\n",
       "      <td>0.00</td>\n",
       "      <td>NaN</td>\n",
       "      <td>NaN</td>\n",
       "      <td>NaN</td>\n",
       "    </tr>\n",
       "    <tr>\n",
       "      <th>16714</th>\n",
       "      <td>Winning Post 8 2016</td>\n",
       "      <td>PSV</td>\n",
       "      <td>2016</td>\n",
       "      <td>Simulation</td>\n",
       "      <td>0.00</td>\n",
       "      <td>0.00</td>\n",
       "      <td>0.01</td>\n",
       "      <td>0.00</td>\n",
       "      <td>NaN</td>\n",
       "      <td>NaN</td>\n",
       "      <td>NaN</td>\n",
       "    </tr>\n",
       "  </tbody>\n",
       "</table>\n",
       "<p>9123 rows × 11 columns</p>\n",
       "</div>"
      ],
      "text/plain": [
       "                                name platform  year_of_release         genre  \\\n",
       "1                  Super Mario Bros.      NES             1985      Platform   \n",
       "4           Pokemon Red/Pokemon Blue       GB             1996  Role-Playing   \n",
       "5                             Tetris       GB             1989        Puzzle   \n",
       "9                          Duck Hunt      NES             1984       Shooter   \n",
       "10                        Nintendogs       DS             2005    Simulation   \n",
       "...                              ...      ...              ...           ...   \n",
       "16710  Samurai Warriors: Sanada Maru      PS3             2016        Action   \n",
       "16711               LMA Manager 2007     X360             2006        Sports   \n",
       "16712        Haitaka no Psychedelica      PSV             2016     Adventure   \n",
       "16713               Spirits & Spells      GBA             2003      Platform   \n",
       "16714            Winning Post 8 2016      PSV             2016    Simulation   \n",
       "\n",
       "       na_sales  eu_sales  jp_sales  other_sales  critic_score  user_score  \\\n",
       "1         29.08      3.58      6.81         0.77           NaN         NaN   \n",
       "4         11.27      8.89     10.22         1.00           NaN         NaN   \n",
       "5         23.20      2.26      4.22         0.58           NaN         NaN   \n",
       "9         26.93      0.63      0.28         0.47           NaN         NaN   \n",
       "10         9.05     10.95      1.93         2.74           NaN         NaN   \n",
       "...         ...       ...       ...          ...           ...         ...   \n",
       "16710      0.00      0.00      0.01         0.00           NaN         NaN   \n",
       "16711      0.00      0.01      0.00         0.00           NaN         NaN   \n",
       "16712      0.00      0.00      0.01         0.00           NaN         NaN   \n",
       "16713      0.01      0.00      0.00         0.00           NaN         NaN   \n",
       "16714      0.00      0.00      0.01         0.00           NaN         NaN   \n",
       "\n",
       "      rating  \n",
       "1        NaN  \n",
       "4        NaN  \n",
       "5        NaN  \n",
       "9        NaN  \n",
       "10       NaN  \n",
       "...      ...  \n",
       "16710    NaN  \n",
       "16711    NaN  \n",
       "16712    NaN  \n",
       "16713    NaN  \n",
       "16714    NaN  \n",
       "\n",
       "[9123 rows x 11 columns]"
      ]
     },
     "execution_count": 19,
     "metadata": {},
     "output_type": "execute_result"
    }
   ],
   "source": [
    "#Пропуски в колонке \"оценка пользователей\"\n",
    "df.query('user_score.isnull()')"
   ]
  },
  {
   "cell_type": "code",
   "execution_count": 20,
   "metadata": {},
   "outputs": [
    {
     "data": {
      "text/html": [
       "<div>\n",
       "<style scoped>\n",
       "    .dataframe tbody tr th:only-of-type {\n",
       "        vertical-align: middle;\n",
       "    }\n",
       "\n",
       "    .dataframe tbody tr th {\n",
       "        vertical-align: top;\n",
       "    }\n",
       "\n",
       "    .dataframe thead th {\n",
       "        text-align: right;\n",
       "    }\n",
       "</style>\n",
       "<table border=\"1\" class=\"dataframe\">\n",
       "  <thead>\n",
       "    <tr style=\"text-align: right;\">\n",
       "      <th></th>\n",
       "      <th>name</th>\n",
       "      <th>platform</th>\n",
       "      <th>year_of_release</th>\n",
       "      <th>genre</th>\n",
       "      <th>na_sales</th>\n",
       "      <th>eu_sales</th>\n",
       "      <th>jp_sales</th>\n",
       "      <th>other_sales</th>\n",
       "      <th>critic_score</th>\n",
       "      <th>user_score</th>\n",
       "      <th>rating</th>\n",
       "    </tr>\n",
       "  </thead>\n",
       "  <tbody>\n",
       "    <tr>\n",
       "      <th>1</th>\n",
       "      <td>Super Mario Bros.</td>\n",
       "      <td>NES</td>\n",
       "      <td>1985</td>\n",
       "      <td>Platform</td>\n",
       "      <td>29.08</td>\n",
       "      <td>3.58</td>\n",
       "      <td>6.81</td>\n",
       "      <td>0.77</td>\n",
       "      <td>NaN</td>\n",
       "      <td>NaN</td>\n",
       "      <td>NaN</td>\n",
       "    </tr>\n",
       "    <tr>\n",
       "      <th>4</th>\n",
       "      <td>Pokemon Red/Pokemon Blue</td>\n",
       "      <td>GB</td>\n",
       "      <td>1996</td>\n",
       "      <td>Role-Playing</td>\n",
       "      <td>11.27</td>\n",
       "      <td>8.89</td>\n",
       "      <td>10.22</td>\n",
       "      <td>1.00</td>\n",
       "      <td>NaN</td>\n",
       "      <td>NaN</td>\n",
       "      <td>NaN</td>\n",
       "    </tr>\n",
       "    <tr>\n",
       "      <th>5</th>\n",
       "      <td>Tetris</td>\n",
       "      <td>GB</td>\n",
       "      <td>1989</td>\n",
       "      <td>Puzzle</td>\n",
       "      <td>23.20</td>\n",
       "      <td>2.26</td>\n",
       "      <td>4.22</td>\n",
       "      <td>0.58</td>\n",
       "      <td>NaN</td>\n",
       "      <td>NaN</td>\n",
       "      <td>NaN</td>\n",
       "    </tr>\n",
       "    <tr>\n",
       "      <th>9</th>\n",
       "      <td>Duck Hunt</td>\n",
       "      <td>NES</td>\n",
       "      <td>1984</td>\n",
       "      <td>Shooter</td>\n",
       "      <td>26.93</td>\n",
       "      <td>0.63</td>\n",
       "      <td>0.28</td>\n",
       "      <td>0.47</td>\n",
       "      <td>NaN</td>\n",
       "      <td>NaN</td>\n",
       "      <td>NaN</td>\n",
       "    </tr>\n",
       "    <tr>\n",
       "      <th>10</th>\n",
       "      <td>Nintendogs</td>\n",
       "      <td>DS</td>\n",
       "      <td>2005</td>\n",
       "      <td>Simulation</td>\n",
       "      <td>9.05</td>\n",
       "      <td>10.95</td>\n",
       "      <td>1.93</td>\n",
       "      <td>2.74</td>\n",
       "      <td>NaN</td>\n",
       "      <td>NaN</td>\n",
       "      <td>NaN</td>\n",
       "    </tr>\n",
       "    <tr>\n",
       "      <th>...</th>\n",
       "      <td>...</td>\n",
       "      <td>...</td>\n",
       "      <td>...</td>\n",
       "      <td>...</td>\n",
       "      <td>...</td>\n",
       "      <td>...</td>\n",
       "      <td>...</td>\n",
       "      <td>...</td>\n",
       "      <td>...</td>\n",
       "      <td>...</td>\n",
       "      <td>...</td>\n",
       "    </tr>\n",
       "    <tr>\n",
       "      <th>16710</th>\n",
       "      <td>Samurai Warriors: Sanada Maru</td>\n",
       "      <td>PS3</td>\n",
       "      <td>2016</td>\n",
       "      <td>Action</td>\n",
       "      <td>0.00</td>\n",
       "      <td>0.00</td>\n",
       "      <td>0.01</td>\n",
       "      <td>0.00</td>\n",
       "      <td>NaN</td>\n",
       "      <td>NaN</td>\n",
       "      <td>NaN</td>\n",
       "    </tr>\n",
       "    <tr>\n",
       "      <th>16711</th>\n",
       "      <td>LMA Manager 2007</td>\n",
       "      <td>X360</td>\n",
       "      <td>2006</td>\n",
       "      <td>Sports</td>\n",
       "      <td>0.00</td>\n",
       "      <td>0.01</td>\n",
       "      <td>0.00</td>\n",
       "      <td>0.00</td>\n",
       "      <td>NaN</td>\n",
       "      <td>NaN</td>\n",
       "      <td>NaN</td>\n",
       "    </tr>\n",
       "    <tr>\n",
       "      <th>16712</th>\n",
       "      <td>Haitaka no Psychedelica</td>\n",
       "      <td>PSV</td>\n",
       "      <td>2016</td>\n",
       "      <td>Adventure</td>\n",
       "      <td>0.00</td>\n",
       "      <td>0.00</td>\n",
       "      <td>0.01</td>\n",
       "      <td>0.00</td>\n",
       "      <td>NaN</td>\n",
       "      <td>NaN</td>\n",
       "      <td>NaN</td>\n",
       "    </tr>\n",
       "    <tr>\n",
       "      <th>16713</th>\n",
       "      <td>Spirits &amp; Spells</td>\n",
       "      <td>GBA</td>\n",
       "      <td>2003</td>\n",
       "      <td>Platform</td>\n",
       "      <td>0.01</td>\n",
       "      <td>0.00</td>\n",
       "      <td>0.00</td>\n",
       "      <td>0.00</td>\n",
       "      <td>NaN</td>\n",
       "      <td>NaN</td>\n",
       "      <td>NaN</td>\n",
       "    </tr>\n",
       "    <tr>\n",
       "      <th>16714</th>\n",
       "      <td>Winning Post 8 2016</td>\n",
       "      <td>PSV</td>\n",
       "      <td>2016</td>\n",
       "      <td>Simulation</td>\n",
       "      <td>0.00</td>\n",
       "      <td>0.00</td>\n",
       "      <td>0.01</td>\n",
       "      <td>0.00</td>\n",
       "      <td>NaN</td>\n",
       "      <td>NaN</td>\n",
       "      <td>NaN</td>\n",
       "    </tr>\n",
       "  </tbody>\n",
       "</table>\n",
       "<p>6764 rows × 11 columns</p>\n",
       "</div>"
      ],
      "text/plain": [
       "                                name platform  year_of_release         genre  \\\n",
       "1                  Super Mario Bros.      NES             1985      Platform   \n",
       "4           Pokemon Red/Pokemon Blue       GB             1996  Role-Playing   \n",
       "5                             Tetris       GB             1989        Puzzle   \n",
       "9                          Duck Hunt      NES             1984       Shooter   \n",
       "10                        Nintendogs       DS             2005    Simulation   \n",
       "...                              ...      ...              ...           ...   \n",
       "16710  Samurai Warriors: Sanada Maru      PS3             2016        Action   \n",
       "16711               LMA Manager 2007     X360             2006        Sports   \n",
       "16712        Haitaka no Psychedelica      PSV             2016     Adventure   \n",
       "16713               Spirits & Spells      GBA             2003      Platform   \n",
       "16714            Winning Post 8 2016      PSV             2016    Simulation   \n",
       "\n",
       "       na_sales  eu_sales  jp_sales  other_sales  critic_score  user_score  \\\n",
       "1         29.08      3.58      6.81         0.77           NaN         NaN   \n",
       "4         11.27      8.89     10.22         1.00           NaN         NaN   \n",
       "5         23.20      2.26      4.22         0.58           NaN         NaN   \n",
       "9         26.93      0.63      0.28         0.47           NaN         NaN   \n",
       "10         9.05     10.95      1.93         2.74           NaN         NaN   \n",
       "...         ...       ...       ...          ...           ...         ...   \n",
       "16710      0.00      0.00      0.01         0.00           NaN         NaN   \n",
       "16711      0.00      0.01      0.00         0.00           NaN         NaN   \n",
       "16712      0.00      0.00      0.01         0.00           NaN         NaN   \n",
       "16713      0.01      0.00      0.00         0.00           NaN         NaN   \n",
       "16714      0.00      0.00      0.01         0.00           NaN         NaN   \n",
       "\n",
       "      rating  \n",
       "1        NaN  \n",
       "4        NaN  \n",
       "5        NaN  \n",
       "9        NaN  \n",
       "10       NaN  \n",
       "...      ...  \n",
       "16710    NaN  \n",
       "16711    NaN  \n",
       "16712    NaN  \n",
       "16713    NaN  \n",
       "16714    NaN  \n",
       "\n",
       "[6764 rows x 11 columns]"
      ]
     },
     "execution_count": 20,
     "metadata": {},
     "output_type": "execute_result"
    }
   ],
   "source": [
    "#Пропуски в рейтинге от организации ESRB \n",
    "df.query('rating.isnull()')"
   ]
  },
  {
   "cell_type": "markdown",
   "metadata": {},
   "source": [
    "Как мы можем наблюдать, пропуски имеют место быть во всех рейтингах и в достаточно большом количестве. Я не вижу подходящего способа заполнения пропусков, так как одна и та же игра ожет иметь разные рейтинги в разных оценках. Отсавим эти данные в исходном виде."
   ]
  },
  {
   "cell_type": "code",
   "execution_count": 21,
   "metadata": {},
   "outputs": [
    {
     "data": {
      "text/plain": [
       "0"
      ]
     },
     "execution_count": 21,
     "metadata": {},
     "output_type": "execute_result"
    }
   ],
   "source": [
    "#Дополнительно проверим дубликаты дубликаты\n",
    "df.duplicated().sum()"
   ]
  },
  {
   "cell_type": "markdown",
   "metadata": {},
   "source": [
    "### Рассчет суммарных продаж"
   ]
  },
  {
   "cell_type": "code",
   "execution_count": 22,
   "metadata": {},
   "outputs": [
    {
     "data": {
      "text/html": [
       "<div>\n",
       "<style scoped>\n",
       "    .dataframe tbody tr th:only-of-type {\n",
       "        vertical-align: middle;\n",
       "    }\n",
       "\n",
       "    .dataframe tbody tr th {\n",
       "        vertical-align: top;\n",
       "    }\n",
       "\n",
       "    .dataframe thead th {\n",
       "        text-align: right;\n",
       "    }\n",
       "</style>\n",
       "<table border=\"1\" class=\"dataframe\">\n",
       "  <thead>\n",
       "    <tr style=\"text-align: right;\">\n",
       "      <th></th>\n",
       "      <th>name</th>\n",
       "      <th>platform</th>\n",
       "      <th>year_of_release</th>\n",
       "      <th>genre</th>\n",
       "      <th>na_sales</th>\n",
       "      <th>eu_sales</th>\n",
       "      <th>jp_sales</th>\n",
       "      <th>other_sales</th>\n",
       "      <th>critic_score</th>\n",
       "      <th>user_score</th>\n",
       "      <th>rating</th>\n",
       "      <th>total_sales</th>\n",
       "    </tr>\n",
       "  </thead>\n",
       "  <tbody>\n",
       "    <tr>\n",
       "      <th>0</th>\n",
       "      <td>Wii Sports</td>\n",
       "      <td>Wii</td>\n",
       "      <td>2006</td>\n",
       "      <td>Sports</td>\n",
       "      <td>41.36</td>\n",
       "      <td>28.96</td>\n",
       "      <td>3.77</td>\n",
       "      <td>8.45</td>\n",
       "      <td>76.0</td>\n",
       "      <td>8.0</td>\n",
       "      <td>E</td>\n",
       "      <td>82.54</td>\n",
       "    </tr>\n",
       "    <tr>\n",
       "      <th>1</th>\n",
       "      <td>Super Mario Bros.</td>\n",
       "      <td>NES</td>\n",
       "      <td>1985</td>\n",
       "      <td>Platform</td>\n",
       "      <td>29.08</td>\n",
       "      <td>3.58</td>\n",
       "      <td>6.81</td>\n",
       "      <td>0.77</td>\n",
       "      <td>NaN</td>\n",
       "      <td>NaN</td>\n",
       "      <td>NaN</td>\n",
       "      <td>40.24</td>\n",
       "    </tr>\n",
       "    <tr>\n",
       "      <th>2</th>\n",
       "      <td>Mario Kart Wii</td>\n",
       "      <td>Wii</td>\n",
       "      <td>2008</td>\n",
       "      <td>Racing</td>\n",
       "      <td>15.68</td>\n",
       "      <td>12.76</td>\n",
       "      <td>3.79</td>\n",
       "      <td>3.29</td>\n",
       "      <td>82.0</td>\n",
       "      <td>8.3</td>\n",
       "      <td>E</td>\n",
       "      <td>35.52</td>\n",
       "    </tr>\n",
       "    <tr>\n",
       "      <th>3</th>\n",
       "      <td>Wii Sports Resort</td>\n",
       "      <td>Wii</td>\n",
       "      <td>2009</td>\n",
       "      <td>Sports</td>\n",
       "      <td>15.61</td>\n",
       "      <td>10.93</td>\n",
       "      <td>3.28</td>\n",
       "      <td>2.95</td>\n",
       "      <td>80.0</td>\n",
       "      <td>8.0</td>\n",
       "      <td>E</td>\n",
       "      <td>32.77</td>\n",
       "    </tr>\n",
       "    <tr>\n",
       "      <th>4</th>\n",
       "      <td>Pokemon Red/Pokemon Blue</td>\n",
       "      <td>GB</td>\n",
       "      <td>1996</td>\n",
       "      <td>Role-Playing</td>\n",
       "      <td>11.27</td>\n",
       "      <td>8.89</td>\n",
       "      <td>10.22</td>\n",
       "      <td>1.00</td>\n",
       "      <td>NaN</td>\n",
       "      <td>NaN</td>\n",
       "      <td>NaN</td>\n",
       "      <td>31.38</td>\n",
       "    </tr>\n",
       "  </tbody>\n",
       "</table>\n",
       "</div>"
      ],
      "text/plain": [
       "                       name platform  year_of_release         genre  na_sales  \\\n",
       "0                Wii Sports      Wii             2006        Sports     41.36   \n",
       "1         Super Mario Bros.      NES             1985      Platform     29.08   \n",
       "2            Mario Kart Wii      Wii             2008        Racing     15.68   \n",
       "3         Wii Sports Resort      Wii             2009        Sports     15.61   \n",
       "4  Pokemon Red/Pokemon Blue       GB             1996  Role-Playing     11.27   \n",
       "\n",
       "   eu_sales  jp_sales  other_sales  critic_score  user_score rating  \\\n",
       "0     28.96      3.77         8.45          76.0         8.0      E   \n",
       "1      3.58      6.81         0.77           NaN         NaN    NaN   \n",
       "2     12.76      3.79         3.29          82.0         8.3      E   \n",
       "3     10.93      3.28         2.95          80.0         8.0      E   \n",
       "4      8.89     10.22         1.00           NaN         NaN    NaN   \n",
       "\n",
       "   total_sales  \n",
       "0        82.54  \n",
       "1        40.24  \n",
       "2        35.52  \n",
       "3        32.77  \n",
       "4        31.38  "
      ]
     },
     "execution_count": 22,
     "metadata": {},
     "output_type": "execute_result"
    }
   ],
   "source": [
    "df['total_sales'] = df['na_sales'] + df['eu_sales'] + df['jp_sales'] + df['other_sales']\n",
    "df.head()"
   ]
  },
  {
   "cell_type": "markdown",
   "metadata": {},
   "source": [
    "### Вывод"
   ]
  },
  {
   "cell_type": "markdown",
   "metadata": {},
   "source": [
    "В данном разделе были преобразованны изначальные данные а именно:\n",
    "- перевод названий столбцов в нижний регистр\n",
    "- преобразование типов данных\n",
    "- обработка пропусков\n",
    "\n",
    "Так же был добавлен новый стобец total_sales - \"суммарные продажи во всех регионах\""
   ]
  },
  {
   "cell_type": "markdown",
   "metadata": {},
   "source": [
    "## Исследовательский анализ данных"
   ]
  },
  {
   "cell_type": "markdown",
   "metadata": {},
   "source": [
    "### Посмотрите, сколько игр выпускалось в разные годы. Важны ли данные за все периоды?"
   ]
  },
  {
   "cell_type": "code",
   "execution_count": 23,
   "metadata": {},
   "outputs": [
    {
     "data": {
      "text/html": [
       "<div>\n",
       "<style scoped>\n",
       "    .dataframe tbody tr th:only-of-type {\n",
       "        vertical-align: middle;\n",
       "    }\n",
       "\n",
       "    .dataframe tbody tr th {\n",
       "        vertical-align: top;\n",
       "    }\n",
       "\n",
       "    .dataframe thead th {\n",
       "        text-align: right;\n",
       "    }\n",
       "</style>\n",
       "<table border=\"1\" class=\"dataframe\">\n",
       "  <thead>\n",
       "    <tr style=\"text-align: right;\">\n",
       "      <th></th>\n",
       "      <th>year</th>\n",
       "      <th>kol</th>\n",
       "    </tr>\n",
       "  </thead>\n",
       "  <tbody>\n",
       "    <tr>\n",
       "      <th>0</th>\n",
       "      <td>1980</td>\n",
       "      <td>9</td>\n",
       "    </tr>\n",
       "    <tr>\n",
       "      <th>1</th>\n",
       "      <td>1981</td>\n",
       "      <td>46</td>\n",
       "    </tr>\n",
       "    <tr>\n",
       "      <th>2</th>\n",
       "      <td>1982</td>\n",
       "      <td>36</td>\n",
       "    </tr>\n",
       "    <tr>\n",
       "      <th>3</th>\n",
       "      <td>1983</td>\n",
       "      <td>17</td>\n",
       "    </tr>\n",
       "    <tr>\n",
       "      <th>4</th>\n",
       "      <td>1984</td>\n",
       "      <td>14</td>\n",
       "    </tr>\n",
       "    <tr>\n",
       "      <th>5</th>\n",
       "      <td>1985</td>\n",
       "      <td>14</td>\n",
       "    </tr>\n",
       "    <tr>\n",
       "      <th>6</th>\n",
       "      <td>1986</td>\n",
       "      <td>21</td>\n",
       "    </tr>\n",
       "    <tr>\n",
       "      <th>7</th>\n",
       "      <td>1987</td>\n",
       "      <td>16</td>\n",
       "    </tr>\n",
       "    <tr>\n",
       "      <th>8</th>\n",
       "      <td>1988</td>\n",
       "      <td>15</td>\n",
       "    </tr>\n",
       "    <tr>\n",
       "      <th>9</th>\n",
       "      <td>1989</td>\n",
       "      <td>17</td>\n",
       "    </tr>\n",
       "    <tr>\n",
       "      <th>10</th>\n",
       "      <td>1990</td>\n",
       "      <td>16</td>\n",
       "    </tr>\n",
       "    <tr>\n",
       "      <th>11</th>\n",
       "      <td>1991</td>\n",
       "      <td>41</td>\n",
       "    </tr>\n",
       "    <tr>\n",
       "      <th>12</th>\n",
       "      <td>1992</td>\n",
       "      <td>43</td>\n",
       "    </tr>\n",
       "    <tr>\n",
       "      <th>13</th>\n",
       "      <td>1993</td>\n",
       "      <td>60</td>\n",
       "    </tr>\n",
       "    <tr>\n",
       "      <th>14</th>\n",
       "      <td>1994</td>\n",
       "      <td>121</td>\n",
       "    </tr>\n",
       "    <tr>\n",
       "      <th>15</th>\n",
       "      <td>1995</td>\n",
       "      <td>219</td>\n",
       "    </tr>\n",
       "    <tr>\n",
       "      <th>16</th>\n",
       "      <td>1996</td>\n",
       "      <td>263</td>\n",
       "    </tr>\n",
       "    <tr>\n",
       "      <th>17</th>\n",
       "      <td>1997</td>\n",
       "      <td>289</td>\n",
       "    </tr>\n",
       "    <tr>\n",
       "      <th>18</th>\n",
       "      <td>1998</td>\n",
       "      <td>379</td>\n",
       "    </tr>\n",
       "    <tr>\n",
       "      <th>19</th>\n",
       "      <td>1999</td>\n",
       "      <td>338</td>\n",
       "    </tr>\n",
       "    <tr>\n",
       "      <th>20</th>\n",
       "      <td>2000</td>\n",
       "      <td>350</td>\n",
       "    </tr>\n",
       "    <tr>\n",
       "      <th>21</th>\n",
       "      <td>2001</td>\n",
       "      <td>482</td>\n",
       "    </tr>\n",
       "    <tr>\n",
       "      <th>22</th>\n",
       "      <td>2002</td>\n",
       "      <td>829</td>\n",
       "    </tr>\n",
       "    <tr>\n",
       "      <th>23</th>\n",
       "      <td>2003</td>\n",
       "      <td>775</td>\n",
       "    </tr>\n",
       "    <tr>\n",
       "      <th>24</th>\n",
       "      <td>2004</td>\n",
       "      <td>762</td>\n",
       "    </tr>\n",
       "    <tr>\n",
       "      <th>25</th>\n",
       "      <td>2005</td>\n",
       "      <td>939</td>\n",
       "    </tr>\n",
       "    <tr>\n",
       "      <th>26</th>\n",
       "      <td>2006</td>\n",
       "      <td>1006</td>\n",
       "    </tr>\n",
       "    <tr>\n",
       "      <th>27</th>\n",
       "      <td>2007</td>\n",
       "      <td>1197</td>\n",
       "    </tr>\n",
       "    <tr>\n",
       "      <th>28</th>\n",
       "      <td>2008</td>\n",
       "      <td>1427</td>\n",
       "    </tr>\n",
       "    <tr>\n",
       "      <th>29</th>\n",
       "      <td>2009</td>\n",
       "      <td>1426</td>\n",
       "    </tr>\n",
       "    <tr>\n",
       "      <th>30</th>\n",
       "      <td>2010</td>\n",
       "      <td>1255</td>\n",
       "    </tr>\n",
       "    <tr>\n",
       "      <th>31</th>\n",
       "      <td>2011</td>\n",
       "      <td>1136</td>\n",
       "    </tr>\n",
       "    <tr>\n",
       "      <th>32</th>\n",
       "      <td>2012</td>\n",
       "      <td>653</td>\n",
       "    </tr>\n",
       "    <tr>\n",
       "      <th>33</th>\n",
       "      <td>2013</td>\n",
       "      <td>544</td>\n",
       "    </tr>\n",
       "    <tr>\n",
       "      <th>34</th>\n",
       "      <td>2014</td>\n",
       "      <td>581</td>\n",
       "    </tr>\n",
       "    <tr>\n",
       "      <th>35</th>\n",
       "      <td>2015</td>\n",
       "      <td>606</td>\n",
       "    </tr>\n",
       "    <tr>\n",
       "      <th>36</th>\n",
       "      <td>2016</td>\n",
       "      <td>502</td>\n",
       "    </tr>\n",
       "  </tbody>\n",
       "</table>\n",
       "</div>"
      ],
      "text/plain": [
       "    year   kol\n",
       "0   1980     9\n",
       "1   1981    46\n",
       "2   1982    36\n",
       "3   1983    17\n",
       "4   1984    14\n",
       "5   1985    14\n",
       "6   1986    21\n",
       "7   1987    16\n",
       "8   1988    15\n",
       "9   1989    17\n",
       "10  1990    16\n",
       "11  1991    41\n",
       "12  1992    43\n",
       "13  1993    60\n",
       "14  1994   121\n",
       "15  1995   219\n",
       "16  1996   263\n",
       "17  1997   289\n",
       "18  1998   379\n",
       "19  1999   338\n",
       "20  2000   350\n",
       "21  2001   482\n",
       "22  2002   829\n",
       "23  2003   775\n",
       "24  2004   762\n",
       "25  2005   939\n",
       "26  2006  1006\n",
       "27  2007  1197\n",
       "28  2008  1427\n",
       "29  2009  1426\n",
       "30  2010  1255\n",
       "31  2011  1136\n",
       "32  2012   653\n",
       "33  2013   544\n",
       "34  2014   581\n",
       "35  2015   606\n",
       "36  2016   502"
      ]
     },
     "execution_count": 23,
     "metadata": {},
     "output_type": "execute_result"
    }
   ],
   "source": [
    "#Создадим таблицу учёта количества игр разных лет выпуска\n",
    "year_of_release = df.groupby('year_of_release')['name'].count().reset_index()\n",
    "year_of_release.columns = ['year', 'kol']\n",
    "year_of_release"
   ]
  },
  {
   "cell_type": "markdown",
   "metadata": {},
   "source": [
    "Построим график для более наглядного вида:"
   ]
  },
  {
   "cell_type": "code",
   "execution_count": 24,
   "metadata": {},
   "outputs": [
    {
     "data": {
      "image/png": "[encoded data removed]",
      "text/plain": [
       "<Figure size 432x288 with 1 Axes>"
      ]
     },
     "metadata": {
      "needs_background": "light"
     },
     "output_type": "display_data"
    }
   ],
   "source": [
    "plt.bar(year_of_release['year'], year_of_release['kol'], label='Кол-во выпусков в год')\n",
    "plt.xlabel('Год выпуска')\n",
    "plt.ylabel('Кол-во выпусков')\n",
    "plt.grid()\n",
    "plt.title(f'Кол-во игр в год')\n",
    "plt.show();"
   ]
  },
  {
   "cell_type": "markdown",
   "metadata": {},
   "source": [
    "Мы видим рост появления игр с 1995 года, когда в жизнь масс людей зашли компьютеры. Пик наблюдается в 2007-2008. Данные до 1995 года нет смысла анализировать, за их неактуальностью. Так же мы видим падение цен почти вполовину в 2012 году. Это сязано с мобильной разработкой, игры на телефоне стали в разы популярнее."
   ]
  },
  {
   "cell_type": "markdown",
   "metadata": {},
   "source": [
    "### Анализ продаж по платформам."
   ]
  },
  {
   "cell_type": "markdown",
   "metadata": {},
   "source": [
    "Задачи: \n",
    "- Рассмотреть как менялись продажи по платформам.\n",
    "- Выбрать платформы с наибольшими суммарными продажами и построить распределение по годам.\n",
    "- Выявить за какой  срок появляются новые и исчезают старые платформы"
   ]
  },
  {
   "cell_type": "code",
   "execution_count": 25,
   "metadata": {},
   "outputs": [
    {
     "data": {
      "text/html": [
       "<div>\n",
       "<style scoped>\n",
       "    .dataframe tbody tr th:only-of-type {\n",
       "        vertical-align: middle;\n",
       "    }\n",
       "\n",
       "    .dataframe tbody tr th {\n",
       "        vertical-align: top;\n",
       "    }\n",
       "\n",
       "    .dataframe thead th {\n",
       "        text-align: right;\n",
       "    }\n",
       "</style>\n",
       "<table border=\"1\" class=\"dataframe\">\n",
       "  <thead>\n",
       "    <tr style=\"text-align: right;\">\n",
       "      <th></th>\n",
       "      <th>platform</th>\n",
       "      <th>total_sales</th>\n",
       "    </tr>\n",
       "  </thead>\n",
       "  <tbody>\n",
       "    <tr>\n",
       "      <th>0</th>\n",
       "      <td>PCFX</td>\n",
       "      <td>0.03</td>\n",
       "    </tr>\n",
       "    <tr>\n",
       "      <th>1</th>\n",
       "      <td>GG</td>\n",
       "      <td>0.04</td>\n",
       "    </tr>\n",
       "    <tr>\n",
       "      <th>2</th>\n",
       "      <td>3DO</td>\n",
       "      <td>0.10</td>\n",
       "    </tr>\n",
       "    <tr>\n",
       "      <th>3</th>\n",
       "      <td>TG16</td>\n",
       "      <td>0.16</td>\n",
       "    </tr>\n",
       "    <tr>\n",
       "      <th>4</th>\n",
       "      <td>WS</td>\n",
       "      <td>1.42</td>\n",
       "    </tr>\n",
       "    <tr>\n",
       "      <th>5</th>\n",
       "      <td>NG</td>\n",
       "      <td>1.44</td>\n",
       "    </tr>\n",
       "    <tr>\n",
       "      <th>6</th>\n",
       "      <td>SCD</td>\n",
       "      <td>1.86</td>\n",
       "    </tr>\n",
       "    <tr>\n",
       "      <th>7</th>\n",
       "      <td>DC</td>\n",
       "      <td>15.95</td>\n",
       "    </tr>\n",
       "    <tr>\n",
       "      <th>8</th>\n",
       "      <td>GEN</td>\n",
       "      <td>28.35</td>\n",
       "    </tr>\n",
       "    <tr>\n",
       "      <th>9</th>\n",
       "      <td>SAT</td>\n",
       "      <td>33.59</td>\n",
       "    </tr>\n",
       "    <tr>\n",
       "      <th>10</th>\n",
       "      <td>PSV</td>\n",
       "      <td>54.07</td>\n",
       "    </tr>\n",
       "    <tr>\n",
       "      <th>11</th>\n",
       "      <td>WiiU</td>\n",
       "      <td>82.19</td>\n",
       "    </tr>\n",
       "    <tr>\n",
       "      <th>12</th>\n",
       "      <td>2600</td>\n",
       "      <td>96.98</td>\n",
       "    </tr>\n",
       "    <tr>\n",
       "      <th>13</th>\n",
       "      <td>XOne</td>\n",
       "      <td>159.32</td>\n",
       "    </tr>\n",
       "    <tr>\n",
       "      <th>14</th>\n",
       "      <td>GC</td>\n",
       "      <td>198.93</td>\n",
       "    </tr>\n",
       "    <tr>\n",
       "      <th>15</th>\n",
       "      <td>SNES</td>\n",
       "      <td>200.04</td>\n",
       "    </tr>\n",
       "    <tr>\n",
       "      <th>16</th>\n",
       "      <td>N64</td>\n",
       "      <td>218.68</td>\n",
       "    </tr>\n",
       "    <tr>\n",
       "      <th>17</th>\n",
       "      <td>NES</td>\n",
       "      <td>251.05</td>\n",
       "    </tr>\n",
       "    <tr>\n",
       "      <th>18</th>\n",
       "      <td>GB</td>\n",
       "      <td>255.46</td>\n",
       "    </tr>\n",
       "    <tr>\n",
       "      <th>19</th>\n",
       "      <td>XB</td>\n",
       "      <td>257.74</td>\n",
       "    </tr>\n",
       "    <tr>\n",
       "      <th>20</th>\n",
       "      <td>3DS</td>\n",
       "      <td>259.00</td>\n",
       "    </tr>\n",
       "    <tr>\n",
       "      <th>21</th>\n",
       "      <td>PC</td>\n",
       "      <td>259.52</td>\n",
       "    </tr>\n",
       "    <tr>\n",
       "      <th>22</th>\n",
       "      <td>PSP</td>\n",
       "      <td>294.05</td>\n",
       "    </tr>\n",
       "    <tr>\n",
       "      <th>23</th>\n",
       "      <td>PS4</td>\n",
       "      <td>314.14</td>\n",
       "    </tr>\n",
       "    <tr>\n",
       "      <th>24</th>\n",
       "      <td>GBA</td>\n",
       "      <td>317.85</td>\n",
       "    </tr>\n",
       "    <tr>\n",
       "      <th>25</th>\n",
       "      <td>PS</td>\n",
       "      <td>730.86</td>\n",
       "    </tr>\n",
       "    <tr>\n",
       "      <th>26</th>\n",
       "      <td>DS</td>\n",
       "      <td>806.12</td>\n",
       "    </tr>\n",
       "    <tr>\n",
       "      <th>27</th>\n",
       "      <td>Wii</td>\n",
       "      <td>907.51</td>\n",
       "    </tr>\n",
       "    <tr>\n",
       "      <th>28</th>\n",
       "      <td>PS3</td>\n",
       "      <td>939.65</td>\n",
       "    </tr>\n",
       "    <tr>\n",
       "      <th>29</th>\n",
       "      <td>X360</td>\n",
       "      <td>971.42</td>\n",
       "    </tr>\n",
       "    <tr>\n",
       "      <th>30</th>\n",
       "      <td>PS2</td>\n",
       "      <td>1255.77</td>\n",
       "    </tr>\n",
       "  </tbody>\n",
       "</table>\n",
       "</div>"
      ],
      "text/plain": [
       "   platform  total_sales\n",
       "0      PCFX         0.03\n",
       "1        GG         0.04\n",
       "2       3DO         0.10\n",
       "3      TG16         0.16\n",
       "4        WS         1.42\n",
       "5        NG         1.44\n",
       "6       SCD         1.86\n",
       "7        DC        15.95\n",
       "8       GEN        28.35\n",
       "9       SAT        33.59\n",
       "10      PSV        54.07\n",
       "11     WiiU        82.19\n",
       "12     2600        96.98\n",
       "13     XOne       159.32\n",
       "14       GC       198.93\n",
       "15     SNES       200.04\n",
       "16      N64       218.68\n",
       "17      NES       251.05\n",
       "18       GB       255.46\n",
       "19       XB       257.74\n",
       "20      3DS       259.00\n",
       "21       PC       259.52\n",
       "22      PSP       294.05\n",
       "23      PS4       314.14\n",
       "24      GBA       317.85\n",
       "25       PS       730.86\n",
       "26       DS       806.12\n",
       "27      Wii       907.51\n",
       "28      PS3       939.65\n",
       "29     X360       971.42\n",
       "30      PS2      1255.77"
      ]
     },
     "execution_count": 25,
     "metadata": {},
     "output_type": "execute_result"
    }
   ],
   "source": [
    "df.groupby('platform')['total_sales'].sum().sort_values().reset_index()"
   ]
  },
  {
   "cell_type": "code",
   "execution_count": 26,
   "metadata": {},
   "outputs": [
    {
     "data": {
      "text/html": [
       "<div>\n",
       "<style scoped>\n",
       "    .dataframe tbody tr th:only-of-type {\n",
       "        vertical-align: middle;\n",
       "    }\n",
       "\n",
       "    .dataframe tbody tr th {\n",
       "        vertical-align: top;\n",
       "    }\n",
       "\n",
       "    .dataframe thead th {\n",
       "        text-align: right;\n",
       "    }\n",
       "</style>\n",
       "<table border=\"1\" class=\"dataframe\">\n",
       "  <thead>\n",
       "    <tr style=\"text-align: right;\">\n",
       "      <th></th>\n",
       "      <th>platform</th>\n",
       "      <th>total_sales</th>\n",
       "    </tr>\n",
       "  </thead>\n",
       "  <tbody>\n",
       "    <tr>\n",
       "      <th>0</th>\n",
       "      <td>PS2</td>\n",
       "      <td>1255.77</td>\n",
       "    </tr>\n",
       "    <tr>\n",
       "      <th>1</th>\n",
       "      <td>X360</td>\n",
       "      <td>971.42</td>\n",
       "    </tr>\n",
       "    <tr>\n",
       "      <th>2</th>\n",
       "      <td>PS3</td>\n",
       "      <td>939.65</td>\n",
       "    </tr>\n",
       "    <tr>\n",
       "      <th>3</th>\n",
       "      <td>Wii</td>\n",
       "      <td>907.51</td>\n",
       "    </tr>\n",
       "    <tr>\n",
       "      <th>4</th>\n",
       "      <td>DS</td>\n",
       "      <td>806.12</td>\n",
       "    </tr>\n",
       "    <tr>\n",
       "      <th>5</th>\n",
       "      <td>PS</td>\n",
       "      <td>730.86</td>\n",
       "    </tr>\n",
       "    <tr>\n",
       "      <th>6</th>\n",
       "      <td>GBA</td>\n",
       "      <td>317.85</td>\n",
       "    </tr>\n",
       "    <tr>\n",
       "      <th>7</th>\n",
       "      <td>PS4</td>\n",
       "      <td>314.14</td>\n",
       "    </tr>\n",
       "    <tr>\n",
       "      <th>8</th>\n",
       "      <td>PSP</td>\n",
       "      <td>294.05</td>\n",
       "    </tr>\n",
       "    <tr>\n",
       "      <th>9</th>\n",
       "      <td>PC</td>\n",
       "      <td>259.52</td>\n",
       "    </tr>\n",
       "  </tbody>\n",
       "</table>\n",
       "</div>"
      ],
      "text/plain": [
       "  platform  total_sales\n",
       "0      PS2      1255.77\n",
       "1     X360       971.42\n",
       "2      PS3       939.65\n",
       "3      Wii       907.51\n",
       "4       DS       806.12\n",
       "5       PS       730.86\n",
       "6      GBA       317.85\n",
       "7      PS4       314.14\n",
       "8      PSP       294.05\n",
       "9       PC       259.52"
      ]
     },
     "execution_count": 26,
     "metadata": {},
     "output_type": "execute_result"
    }
   ],
   "source": [
    "# выберем топ 10 платформ по продажам\n",
    "platform_df = df.groupby('platform')['total_sales'].sum().sort_values(ascending=False).reset_index().head(10)\n",
    "platform_df"
   ]
  },
  {
   "cell_type": "markdown",
   "metadata": {},
   "source": [
    "Самыми продаваемыми платформами всех времен ожидаемо становятся PS2, XBOX360, PS3"
   ]
  },
  {
   "cell_type": "code",
   "execution_count": 27,
   "metadata": {},
   "outputs": [
    {
     "data": {
      "image/png": "[encoded data removed]",
      "text/plain": [
       "<Figure size 1080x360 with 1 Axes>"
      ]
     },
     "metadata": {
      "needs_background": "light"
     },
     "output_type": "display_data"
    }
   ],
   "source": [
    "df.groupby('year_of_release')['total_sales'].sum().plot(x='year_of_release', y='total_sales', kind='bar', figsize=(15,5))\n",
    "plt.title('Продажи по годам\\n')\n",
    "plt.xlabel('Год выпуска')\n",
    "plt.ylabel('Продажи млн.')\n",
    "plt.grid(True)\n",
    "plt.show();"
   ]
  },
  {
   "cell_type": "markdown",
   "metadata": {},
   "source": [
    "Пик продаваемости попадает на 2008 - 2009"
   ]
  },
  {
   "cell_type": "code",
   "execution_count": 28,
   "metadata": {},
   "outputs": [
    {
     "data": {
      "text/plain": [
       "['PS2', 'X360', 'PS3', 'Wii', 'DS', 'PS', 'GBA', 'PS4', 'PSP', 'PC']"
      ]
     },
     "execution_count": 28,
     "metadata": {},
     "output_type": "execute_result"
    }
   ],
   "source": [
    "top_platforms = platform_df['platform'].to_list()\n",
    "top_platforms"
   ]
  },
  {
   "cell_type": "code",
   "execution_count": 29,
   "metadata": {},
   "outputs": [
    {
     "data": {
      "text/html": [
       "<div>\n",
       "<style scoped>\n",
       "    .dataframe tbody tr th:only-of-type {\n",
       "        vertical-align: middle;\n",
       "    }\n",
       "\n",
       "    .dataframe tbody tr th {\n",
       "        vertical-align: top;\n",
       "    }\n",
       "\n",
       "    .dataframe thead th {\n",
       "        text-align: right;\n",
       "    }\n",
       "</style>\n",
       "<table border=\"1\" class=\"dataframe\">\n",
       "  <thead>\n",
       "    <tr style=\"text-align: right;\">\n",
       "      <th></th>\n",
       "      <th>name</th>\n",
       "      <th>platform</th>\n",
       "      <th>year_of_release</th>\n",
       "      <th>genre</th>\n",
       "      <th>na_sales</th>\n",
       "      <th>eu_sales</th>\n",
       "      <th>jp_sales</th>\n",
       "      <th>other_sales</th>\n",
       "      <th>critic_score</th>\n",
       "      <th>user_score</th>\n",
       "      <th>rating</th>\n",
       "      <th>total_sales</th>\n",
       "    </tr>\n",
       "  </thead>\n",
       "  <tbody>\n",
       "    <tr>\n",
       "      <th>0</th>\n",
       "      <td>Wii Sports</td>\n",
       "      <td>Wii</td>\n",
       "      <td>2006</td>\n",
       "      <td>Sports</td>\n",
       "      <td>41.36</td>\n",
       "      <td>28.96</td>\n",
       "      <td>3.77</td>\n",
       "      <td>8.45</td>\n",
       "      <td>76.0</td>\n",
       "      <td>8.0</td>\n",
       "      <td>E</td>\n",
       "      <td>82.54</td>\n",
       "    </tr>\n",
       "    <tr>\n",
       "      <th>2</th>\n",
       "      <td>Mario Kart Wii</td>\n",
       "      <td>Wii</td>\n",
       "      <td>2008</td>\n",
       "      <td>Racing</td>\n",
       "      <td>15.68</td>\n",
       "      <td>12.76</td>\n",
       "      <td>3.79</td>\n",
       "      <td>3.29</td>\n",
       "      <td>82.0</td>\n",
       "      <td>8.3</td>\n",
       "      <td>E</td>\n",
       "      <td>35.52</td>\n",
       "    </tr>\n",
       "    <tr>\n",
       "      <th>3</th>\n",
       "      <td>Wii Sports Resort</td>\n",
       "      <td>Wii</td>\n",
       "      <td>2009</td>\n",
       "      <td>Sports</td>\n",
       "      <td>15.61</td>\n",
       "      <td>10.93</td>\n",
       "      <td>3.28</td>\n",
       "      <td>2.95</td>\n",
       "      <td>80.0</td>\n",
       "      <td>8.0</td>\n",
       "      <td>E</td>\n",
       "      <td>32.77</td>\n",
       "    </tr>\n",
       "    <tr>\n",
       "      <th>6</th>\n",
       "      <td>New Super Mario Bros.</td>\n",
       "      <td>DS</td>\n",
       "      <td>2006</td>\n",
       "      <td>Platform</td>\n",
       "      <td>11.28</td>\n",
       "      <td>9.14</td>\n",
       "      <td>6.50</td>\n",
       "      <td>2.88</td>\n",
       "      <td>89.0</td>\n",
       "      <td>8.5</td>\n",
       "      <td>E</td>\n",
       "      <td>29.80</td>\n",
       "    </tr>\n",
       "    <tr>\n",
       "      <th>7</th>\n",
       "      <td>Wii Play</td>\n",
       "      <td>Wii</td>\n",
       "      <td>2006</td>\n",
       "      <td>Misc</td>\n",
       "      <td>13.96</td>\n",
       "      <td>9.18</td>\n",
       "      <td>2.93</td>\n",
       "      <td>2.84</td>\n",
       "      <td>58.0</td>\n",
       "      <td>6.6</td>\n",
       "      <td>E</td>\n",
       "      <td>28.91</td>\n",
       "    </tr>\n",
       "  </tbody>\n",
       "</table>\n",
       "</div>"
      ],
      "text/plain": [
       "                    name platform  year_of_release     genre  na_sales  \\\n",
       "0             Wii Sports      Wii             2006    Sports     41.36   \n",
       "2         Mario Kart Wii      Wii             2008    Racing     15.68   \n",
       "3      Wii Sports Resort      Wii             2009    Sports     15.61   \n",
       "6  New Super Mario Bros.       DS             2006  Platform     11.28   \n",
       "7               Wii Play      Wii             2006      Misc     13.96   \n",
       "\n",
       "   eu_sales  jp_sales  other_sales  critic_score  user_score rating  \\\n",
       "0     28.96      3.77         8.45          76.0         8.0      E   \n",
       "2     12.76      3.79         3.29          82.0         8.3      E   \n",
       "3     10.93      3.28         2.95          80.0         8.0      E   \n",
       "6      9.14      6.50         2.88          89.0         8.5      E   \n",
       "7      9.18      2.93         2.84          58.0         6.6      E   \n",
       "\n",
       "   total_sales  \n",
       "0        82.54  \n",
       "2        35.52  \n",
       "3        32.77  \n",
       "6        29.80  \n",
       "7        28.91  "
      ]
     },
     "execution_count": 29,
     "metadata": {},
     "output_type": "execute_result"
    }
   ],
   "source": [
    "#Создадим новый датасет, отфильтровав старый по названиям платформ, хранящимся в переменной\n",
    "df_new_top = df.query('platform in @top_platforms')\n",
    "df_new_top.head()"
   ]
  },
  {
   "cell_type": "code",
   "execution_count": 30,
   "metadata": {},
   "outputs": [
    {
     "data": {
      "image/png": "[encoded data removed]",
      "text/plain": [
       "<Figure size 1080x360 with 1 Axes>"
      ]
     },
     "metadata": {
      "needs_background": "light"
     },
     "output_type": "display_data"
    }
   ],
   "source": [
    "df_new_top.groupby('year_of_release')['total_sales'].sum().plot(x='year_of_release', y='total_sales', kind='bar', figsize=(15,5))\n",
    "plt.title('Продажи на Топ-10 платформ по годам\\n  ')\n",
    "plt.xlabel('Год выпуска')\n",
    "plt.ylabel('Продажи млн.')\n",
    "plt.grid(True)\n",
    "plt.show();"
   ]
  },
  {
   "cell_type": "code",
   "execution_count": 31,
   "metadata": {},
   "outputs": [
    {
     "data": {
      "image/png": "[encoded data removed]",
      "text/plain": [
       "<Figure size 720x360 with 1 Axes>"
      ]
     },
     "metadata": {
      "needs_background": "light"
     },
     "output_type": "display_data"
    }
   ],
   "source": [
    "# Распределение по годам для каждой из Топ10 платформ\n",
    "pd.pivot_table(df_new_top , index='year_of_release', columns='platform', values='total_sales', aggfunc='sum').plot(figsize=(10,5))\n",
    "plt.grid(True)\n",
    "plt.title('Продажи по платформам\\n  ')\n",
    "plt.xlabel('Год')\n",
    "plt.ylabel('Продажи млн.')\n",
    "plt.show()"
   ]
  },
  {
   "cell_type": "code",
   "execution_count": 32,
   "metadata": {},
   "outputs": [
    {
     "data": {
      "text/plain": [
       "PC      26\n",
       "PS2     12\n",
       "X360    12\n",
       "PSP     12\n",
       "DS      11\n",
       "PS3     11\n",
       "Wii     11\n",
       "PS      10\n",
       "GBA      8\n",
       "PS4      4\n",
       "Name: platform, dtype: int64"
      ]
     },
     "execution_count": 32,
     "metadata": {},
     "output_type": "execute_result"
    }
   ],
   "source": [
    "# продолжительность актуальности платформы\n",
    "df_new_top_years = df_new_top.groupby(['platform', 'year_of_release']).agg({'total_sales':'sum'}).reset_index()\n",
    "df_new_top_years['platform'].value_counts()"
   ]
  },
  {
   "cell_type": "markdown",
   "metadata": {},
   "source": [
    "Продолжительность актуальности покупок платформы в среднем составляет 11.5 лет."
   ]
  },
  {
   "cell_type": "markdown",
   "metadata": {},
   "source": [
    "### Определение актуального периода данных для анализа"
   ]
  },
  {
   "cell_type": "markdown",
   "metadata": {},
   "source": [
    "Определим период данных, который поможет построить прогноз на 2017 год, учитывая результаты изучения данный на Шаге 2.\n",
    "По результатам можно сказать, что:\n",
    "- период должен быть длинной не более 11 лет\n",
    "- (2011 - 2016) актуальный период, который поможет построить прогноз на 2017 год. Этот период со стабильнымы продажами игр и содержит информацию по 4 из 6 платформам с наибольшими суммарными продажами.\n",
    "\n",
    "Но учитывая высокую динамичность рынка, можно сделать вывод, что для дальнейшего анализа нам потребуются данные по платформам, возникшим не ранее 3 лет назад по отношению к 2017 году, на который нам нужно сделать прогноз и запланировать рекламные кампании. \n",
    "Поэтому примем за исследуемый период (2014-2016)"
   ]
  },
  {
   "cell_type": "code",
   "execution_count": 33,
   "metadata": {},
   "outputs": [
    {
     "data": {
      "text/html": [
       "<div>\n",
       "<style scoped>\n",
       "    .dataframe tbody tr th:only-of-type {\n",
       "        vertical-align: middle;\n",
       "    }\n",
       "\n",
       "    .dataframe tbody tr th {\n",
       "        vertical-align: top;\n",
       "    }\n",
       "\n",
       "    .dataframe thead th {\n",
       "        text-align: right;\n",
       "    }\n",
       "</style>\n",
       "<table border=\"1\" class=\"dataframe\">\n",
       "  <thead>\n",
       "    <tr style=\"text-align: right;\">\n",
       "      <th>year_of_release</th>\n",
       "      <th>2011</th>\n",
       "      <th>2012</th>\n",
       "      <th>2013</th>\n",
       "      <th>2014</th>\n",
       "      <th>2015</th>\n",
       "      <th>2016</th>\n",
       "    </tr>\n",
       "    <tr>\n",
       "      <th>platform</th>\n",
       "      <th></th>\n",
       "      <th></th>\n",
       "      <th></th>\n",
       "      <th></th>\n",
       "      <th></th>\n",
       "      <th></th>\n",
       "    </tr>\n",
       "  </thead>\n",
       "  <tbody>\n",
       "    <tr>\n",
       "      <th>3DS</th>\n",
       "      <td>116.0</td>\n",
       "      <td>93.0</td>\n",
       "      <td>91.0</td>\n",
       "      <td>80.0</td>\n",
       "      <td>86.0</td>\n",
       "      <td>46.0</td>\n",
       "    </tr>\n",
       "    <tr>\n",
       "      <th>DS</th>\n",
       "      <td>153.0</td>\n",
       "      <td>23.0</td>\n",
       "      <td>8.0</td>\n",
       "      <td>.</td>\n",
       "      <td>.</td>\n",
       "      <td>.</td>\n",
       "    </tr>\n",
       "    <tr>\n",
       "      <th>PC</th>\n",
       "      <td>139.0</td>\n",
       "      <td>61.0</td>\n",
       "      <td>38.0</td>\n",
       "      <td>47.0</td>\n",
       "      <td>50.0</td>\n",
       "      <td>54.0</td>\n",
       "    </tr>\n",
       "    <tr>\n",
       "      <th>PS2</th>\n",
       "      <td>7.0</td>\n",
       "      <td>.</td>\n",
       "      <td>.</td>\n",
       "      <td>.</td>\n",
       "      <td>.</td>\n",
       "      <td>.</td>\n",
       "    </tr>\n",
       "    <tr>\n",
       "      <th>PS3</th>\n",
       "      <td>215.0</td>\n",
       "      <td>148.0</td>\n",
       "      <td>126.0</td>\n",
       "      <td>108.0</td>\n",
       "      <td>73.0</td>\n",
       "      <td>38.0</td>\n",
       "    </tr>\n",
       "    <tr>\n",
       "      <th>PS4</th>\n",
       "      <td>.</td>\n",
       "      <td>.</td>\n",
       "      <td>16.0</td>\n",
       "      <td>75.0</td>\n",
       "      <td>137.0</td>\n",
       "      <td>164.0</td>\n",
       "    </tr>\n",
       "    <tr>\n",
       "      <th>PSP</th>\n",
       "      <td>139.0</td>\n",
       "      <td>106.0</td>\n",
       "      <td>54.0</td>\n",
       "      <td>10.0</td>\n",
       "      <td>3.0</td>\n",
       "      <td>.</td>\n",
       "    </tr>\n",
       "    <tr>\n",
       "      <th>PSV</th>\n",
       "      <td>18.0</td>\n",
       "      <td>53.0</td>\n",
       "      <td>63.0</td>\n",
       "      <td>100.0</td>\n",
       "      <td>110.0</td>\n",
       "      <td>85.0</td>\n",
       "    </tr>\n",
       "    <tr>\n",
       "      <th>Wii</th>\n",
       "      <td>143.0</td>\n",
       "      <td>31.0</td>\n",
       "      <td>12.0</td>\n",
       "      <td>6.0</td>\n",
       "      <td>4.0</td>\n",
       "      <td>1.0</td>\n",
       "    </tr>\n",
       "    <tr>\n",
       "      <th>WiiU</th>\n",
       "      <td>.</td>\n",
       "      <td>32.0</td>\n",
       "      <td>42.0</td>\n",
       "      <td>31.0</td>\n",
       "      <td>28.0</td>\n",
       "      <td>14.0</td>\n",
       "    </tr>\n",
       "    <tr>\n",
       "      <th>X360</th>\n",
       "      <td>206.0</td>\n",
       "      <td>106.0</td>\n",
       "      <td>75.0</td>\n",
       "      <td>63.0</td>\n",
       "      <td>35.0</td>\n",
       "      <td>13.0</td>\n",
       "    </tr>\n",
       "    <tr>\n",
       "      <th>XOne</th>\n",
       "      <td>.</td>\n",
       "      <td>.</td>\n",
       "      <td>19.0</td>\n",
       "      <td>61.0</td>\n",
       "      <td>80.0</td>\n",
       "      <td>87.0</td>\n",
       "    </tr>\n",
       "  </tbody>\n",
       "</table>\n",
       "</div>"
      ],
      "text/plain": [
       "year_of_release   2011   2012   2013   2014   2015   2016\n",
       "platform                                                 \n",
       "3DS              116.0   93.0   91.0   80.0   86.0   46.0\n",
       "DS               153.0   23.0    8.0      .      .      .\n",
       "PC               139.0   61.0   38.0   47.0   50.0   54.0\n",
       "PS2                7.0      .      .      .      .      .\n",
       "PS3              215.0  148.0  126.0  108.0   73.0   38.0\n",
       "PS4                  .      .   16.0   75.0  137.0  164.0\n",
       "PSP              139.0  106.0   54.0   10.0    3.0      .\n",
       "PSV               18.0   53.0   63.0  100.0  110.0   85.0\n",
       "Wii              143.0   31.0   12.0    6.0    4.0    1.0\n",
       "WiiU                 .   32.0   42.0   31.0   28.0   14.0\n",
       "X360             206.0  106.0   75.0   63.0   35.0   13.0\n",
       "XOne                 .      .   19.0   61.0   80.0   87.0"
      ]
     },
     "execution_count": 33,
     "metadata": {},
     "output_type": "execute_result"
    }
   ],
   "source": [
    "#кол-во игр для каждой платформы по годам в актуальный период\n",
    "df.query('year_of_release > 2010').pivot_table(index='platform', columns='year_of_release', values='name', aggfunc='count', fill_value='.')"
   ]
  },
  {
   "cell_type": "code",
   "execution_count": 34,
   "metadata": {},
   "outputs": [],
   "source": [
    "# актуализируем датасет\n",
    "df_actual_years = df[df['year_of_release'] >= 2014]"
   ]
  },
  {
   "cell_type": "markdown",
   "metadata": {},
   "source": [
    "### Поиск потенциально прибыльных платформ"
   ]
  },
  {
   "cell_type": "code",
   "execution_count": 35,
   "metadata": {},
   "outputs": [
    {
     "data": {
      "image/png": "[encoded data removed]",
      "text/plain": [
       "<Figure size 1080x720 with 1 Axes>"
      ]
     },
     "metadata": {
      "needs_background": "light"
     },
     "output_type": "display_data"
    }
   ],
   "source": [
    "# график продаж за актуальный период\n",
    "pd.pivot_table(df_actual_years, index='year_of_release', columns='platform', values='total_sales', aggfunc='sum').plot(figsize=(15,10))\n",
    "plt.grid(True)\n",
    "plt.title('Продажи с 2014 по 2016 по платформам\\n  ')\n",
    "plt.xlabel('Год')\n",
    "plt.ylabel('Продажи млн.')\n",
    "plt.show()"
   ]
  },
  {
   "cell_type": "markdown",
   "metadata": {},
   "source": [
    "Вывод: Анализируя график,мы видим, что все платформы теряют в продажах.\n",
    "В задании сказано, что данные 2016 года могут быть неполными, а значит ориентироваться на него не стоит.\n",
    "Стабильный продажи на протяжении всего периода показывает PC.\n",
    "Наилучшие перспективы в улучшении показателей у платформ PS4 и XOne."
   ]
  },
  {
   "cell_type": "markdown",
   "metadata": {},
   "source": [
    "### Глобальные продажи игр по платформам"
   ]
  },
  {
   "cell_type": "markdown",
   "metadata": {},
   "source": [
    "Построим график «ящик с усами» по глобальным продажам игр в разбивке по платформам."
   ]
  },
  {
   "cell_type": "code",
   "execution_count": 36,
   "metadata": {},
   "outputs": [
    {
     "data": {
      "text/plain": [
       "(0.0, 1.25)"
      ]
     },
     "execution_count": 36,
     "metadata": {},
     "output_type": "execute_result"
    },
    {
     "data": {
      "image/png": "[encoded data removed]",
      "text/plain": [
       "<Figure size 504x504 with 1 Axes>"
      ]
     },
     "metadata": {
      "needs_background": "light"
     },
     "output_type": "display_data"
    }
   ],
   "source": [
    "#Глобальные продажи за актуальный период по всем платформам\n",
    "df_actual_years.boxplot('total_sales', figsize=(7,7))\n",
    "plt.ylim(0,1.25)"
   ]
  },
  {
   "cell_type": "code",
   "execution_count": 37,
   "metadata": {},
   "outputs": [
    {
     "data": {
      "text/plain": [
       "count    1689.000000\n",
       "mean        0.431883\n",
       "std         1.056109\n",
       "min         0.010000\n",
       "25%         0.030000\n",
       "50%         0.100000\n",
       "75%         0.350000\n",
       "max        14.630000\n",
       "Name: total_sales, dtype: float64"
      ]
     },
     "execution_count": 37,
     "metadata": {},
     "output_type": "execute_result"
    }
   ],
   "source": [
    "df_actual_years['total_sales'].describe()"
   ]
  },
  {
   "cell_type": "code",
   "execution_count": 38,
   "metadata": {},
   "outputs": [
    {
     "data": {
      "image/png": "[encoded data removed]",
      "text/plain": [
       "<Figure size 1080x360 with 1 Axes>"
      ]
     },
     "metadata": {
      "needs_background": "light"
     },
     "output_type": "display_data"
    }
   ],
   "source": [
    "# Рассмотрим потенциально перспективных платформы более подробно\n",
    "potential_platform = ['X360', 'PS3', 'XOne', 'PS4']\n",
    "\n",
    "report = df.query('platform in @potential_platform')\n",
    "\n",
    "report.boxplot('total_sales', by='platform', figsize=(15, 5))\n",
    "plt.suptitle('Глобальные продажи игр в разбивке по потенциально прибыльным платформам')\n",
    "plt.title(None);\n",
    "plt.xlabel('Платформа'), plt.ylabel('Продажи (млн.)')\n",
    "plt.ylim(0, 10)\n",
    "plt.show()"
   ]
  },
  {
   "cell_type": "markdown",
   "metadata": {},
   "source": [
    "Вывод: График \"ящик с усами\" позволяет наглядно увидеть основные характеристики данных (медиана, нижний и верхний квартили, минимальное и максимальное значение выборки и выбросы).\n",
    "На построенном графике видно примерно одинаковые значения основных характеристик у старых платформ  PS3 и X360, и новых PS4 и XOne. \n",
    "Можно сказать, что сначала преобладала популярность игр на X360, а при выходе в одно время новых версий платформ данных серий стала преобладать популярность PS4."
   ]
  },
  {
   "cell_type": "code",
   "execution_count": 39,
   "id": "d0c5cdbd",
   "metadata": {
    "scrolled": false
   },
   "outputs": [
    {
     "data": {
      "image/png": "[encoded data removed]",
      "text/plain": [
       "<Figure size 1224x792 with 1 Axes>"
      ]
     },
     "metadata": {
      "needs_background": "light"
     },
     "output_type": "display_data"
    }
   ],
   "source": [
    "# код ревьюера\n",
    "\n",
    "import seaborn as sns\n",
    "\n",
    "plt.figure(figsize=(17, 11))\n",
    "sns.boxplot(data=df_actual_years, y='platform', x='total_sales')\n",
    "plt.xlim(-0.1, 5)\n",
    "\n",
    "plt.title('Объемы продаж игр на разных платформах', size=17)\n",
    "plt.xlabel('Объем продаж', size=12)\n",
    "plt.ylabel('Название платформы', size=12)\n",
    "\n",
    "plt.show()"
   ]
  },
  {
   "cell_type": "markdown",
   "metadata": {},
   "source": [
    "### Влияние пользователей и критиков"
   ]
  },
  {
   "cell_type": "markdown",
   "metadata": {},
   "source": [
    "Для подсчета выберем однц из наиболее популярных платформ - PS4."
   ]
  },
  {
   "cell_type": "code",
   "execution_count": 40,
   "metadata": {},
   "outputs": [],
   "source": [
    "ps4 = df_actual_years[df_actual_years['platform'] == 'PS4']"
   ]
  },
  {
   "cell_type": "code",
   "execution_count": 41,
   "metadata": {},
   "outputs": [
    {
     "data": {
      "image/png": "[encoded data removed]",
      "text/plain": [
       "<Figure size 432x288 with 1 Axes>"
      ]
     },
     "metadata": {
      "needs_background": "light"
     },
     "output_type": "display_data"
    }
   ],
   "source": [
    "ps4.plot(y='total_sales', x='user_score', kind='scatter');\n",
    "plt.ylabel('Продажи (млн.)'), plt.xlabel('Оценка пользователей'), plt.title('Зависимость отзывов пользователей на продажи игр на платформе PS4');"
   ]
  },
  {
   "cell_type": "code",
   "execution_count": 42,
   "metadata": {},
   "outputs": [
    {
     "name": "stdout",
     "output_type": "stream",
     "text": [
      "Коэффициент корреляции = -0.040131589472697356\n"
     ]
    }
   ],
   "source": [
    "print('Коэффициент корреляции =', ps4['total_sales'].corr(ps4['user_score']))"
   ]
  },
  {
   "cell_type": "code",
   "execution_count": 43,
   "metadata": {},
   "outputs": [
    {
     "data": {
      "image/png": "[encoded data removed]",
      "text/plain": [
       "<Figure size 432x288 with 1 Axes>"
      ]
     },
     "metadata": {
      "needs_background": "light"
     },
     "output_type": "display_data"
    }
   ],
   "source": [
    "ps4.plot(x='critic_score', y='total_sales', kind='scatter');\n",
    "plt.ylabel('Суммарные продажи (млн.)'), plt.xlabel('Оценка критиков'), plt.title('Зависимость отзывов критиков на продажи игр на платформе PS4\\n');"
   ]
  },
  {
   "cell_type": "code",
   "execution_count": 44,
   "metadata": {},
   "outputs": [
    {
     "name": "stdout",
     "output_type": "stream",
     "text": [
      "Коэффициент корреляции = 0.40266141068104083\n"
     ]
    }
   ],
   "source": [
    "print('Коэффициент корреляции =', ps4['total_sales'].corr(ps4['critic_score']))"
   ]
  },
  {
   "cell_type": "markdown",
   "metadata": {},
   "source": [
    "Вывод: Влияние оценки критиков на продажи есть, но совсем незначительное (коэффициент корреляции равен 0.4). В то время как влияние отзывов пользователей на продажи  нет (коэффициент корреляции равен -0.03)."
   ]
  },
  {
   "cell_type": "markdown",
   "metadata": {},
   "source": [
    "### Соотнесите выводы с продажами игр на других платформах."
   ]
  },
  {
   "cell_type": "code",
   "execution_count": 45,
   "metadata": {},
   "outputs": [
    {
     "data": {
      "text/html": [
       "<div>\n",
       "<style scoped>\n",
       "    .dataframe tbody tr th:only-of-type {\n",
       "        vertical-align: middle;\n",
       "    }\n",
       "\n",
       "    .dataframe tbody tr th {\n",
       "        vertical-align: top;\n",
       "    }\n",
       "\n",
       "    .dataframe thead th {\n",
       "        text-align: right;\n",
       "    }\n",
       "</style>\n",
       "<table border=\"1\" class=\"dataframe\">\n",
       "  <thead>\n",
       "    <tr style=\"text-align: right;\">\n",
       "      <th></th>\n",
       "      <th>critic_score</th>\n",
       "      <th>user_score</th>\n",
       "      <th>total_sales</th>\n",
       "    </tr>\n",
       "  </thead>\n",
       "  <tbody>\n",
       "    <tr>\n",
       "      <th>critic_score</th>\n",
       "      <td>1.00</td>\n",
       "      <td>0.69</td>\n",
       "      <td>0.45</td>\n",
       "    </tr>\n",
       "    <tr>\n",
       "      <th>user_score</th>\n",
       "      <td>0.69</td>\n",
       "      <td>1.00</td>\n",
       "      <td>-0.17</td>\n",
       "    </tr>\n",
       "    <tr>\n",
       "      <th>total_sales</th>\n",
       "      <td>0.45</td>\n",
       "      <td>-0.17</td>\n",
       "      <td>1.00</td>\n",
       "    </tr>\n",
       "  </tbody>\n",
       "</table>\n",
       "</div>"
      ],
      "text/plain": [
       "              critic_score  user_score  total_sales\n",
       "critic_score          1.00        0.69         0.45\n",
       "user_score            0.69        1.00        -0.17\n",
       "total_sales           0.45       -0.17         1.00"
      ]
     },
     "execution_count": 45,
     "metadata": {},
     "output_type": "execute_result"
    }
   ],
   "source": [
    "df_actual_years.query('platform == \"PS3\"')[['critic_score', 'user_score', 'total_sales']].corr().round(2)\n"
   ]
  },
  {
   "cell_type": "code",
   "execution_count": 46,
   "metadata": {},
   "outputs": [
    {
     "data": {
      "text/html": [
       "<div>\n",
       "<style scoped>\n",
       "    .dataframe tbody tr th:only-of-type {\n",
       "        vertical-align: middle;\n",
       "    }\n",
       "\n",
       "    .dataframe tbody tr th {\n",
       "        vertical-align: top;\n",
       "    }\n",
       "\n",
       "    .dataframe thead th {\n",
       "        text-align: right;\n",
       "    }\n",
       "</style>\n",
       "<table border=\"1\" class=\"dataframe\">\n",
       "  <thead>\n",
       "    <tr style=\"text-align: right;\">\n",
       "      <th></th>\n",
       "      <th>critic_score</th>\n",
       "      <th>user_score</th>\n",
       "      <th>total_sales</th>\n",
       "    </tr>\n",
       "  </thead>\n",
       "  <tbody>\n",
       "    <tr>\n",
       "      <th>critic_score</th>\n",
       "      <td>1.00</td>\n",
       "      <td>0.44</td>\n",
       "      <td>0.43</td>\n",
       "    </tr>\n",
       "    <tr>\n",
       "      <th>user_score</th>\n",
       "      <td>0.44</td>\n",
       "      <td>1.00</td>\n",
       "      <td>-0.07</td>\n",
       "    </tr>\n",
       "    <tr>\n",
       "      <th>total_sales</th>\n",
       "      <td>0.43</td>\n",
       "      <td>-0.07</td>\n",
       "      <td>1.00</td>\n",
       "    </tr>\n",
       "  </tbody>\n",
       "</table>\n",
       "</div>"
      ],
      "text/plain": [
       "              critic_score  user_score  total_sales\n",
       "critic_score          1.00        0.44         0.43\n",
       "user_score            0.44        1.00        -0.07\n",
       "total_sales           0.43       -0.07         1.00"
      ]
     },
     "execution_count": 46,
     "metadata": {},
     "output_type": "execute_result"
    }
   ],
   "source": [
    "\n",
    "df_actual_years.query('platform == \"XOne\"')[['critic_score', 'user_score', 'total_sales']].corr().round(2)"
   ]
  },
  {
   "cell_type": "code",
   "execution_count": 47,
   "metadata": {},
   "outputs": [
    {
     "data": {
      "text/html": [
       "<div>\n",
       "<style scoped>\n",
       "    .dataframe tbody tr th:only-of-type {\n",
       "        vertical-align: middle;\n",
       "    }\n",
       "\n",
       "    .dataframe tbody tr th {\n",
       "        vertical-align: top;\n",
       "    }\n",
       "\n",
       "    .dataframe thead th {\n",
       "        text-align: right;\n",
       "    }\n",
       "</style>\n",
       "<table border=\"1\" class=\"dataframe\">\n",
       "  <thead>\n",
       "    <tr style=\"text-align: right;\">\n",
       "      <th></th>\n",
       "      <th>critic_score</th>\n",
       "      <th>user_score</th>\n",
       "      <th>total_sales</th>\n",
       "    </tr>\n",
       "  </thead>\n",
       "  <tbody>\n",
       "    <tr>\n",
       "      <th>critic_score</th>\n",
       "      <td>1.00</td>\n",
       "      <td>0.63</td>\n",
       "      <td>0.53</td>\n",
       "    </tr>\n",
       "    <tr>\n",
       "      <th>user_score</th>\n",
       "      <td>0.63</td>\n",
       "      <td>1.00</td>\n",
       "      <td>-0.14</td>\n",
       "    </tr>\n",
       "    <tr>\n",
       "      <th>total_sales</th>\n",
       "      <td>0.53</td>\n",
       "      <td>-0.14</td>\n",
       "      <td>1.00</td>\n",
       "    </tr>\n",
       "  </tbody>\n",
       "</table>\n",
       "</div>"
      ],
      "text/plain": [
       "              critic_score  user_score  total_sales\n",
       "critic_score          1.00        0.63         0.53\n",
       "user_score            0.63        1.00        -0.14\n",
       "total_sales           0.53       -0.14         1.00"
      ]
     },
     "execution_count": 47,
     "metadata": {},
     "output_type": "execute_result"
    }
   ],
   "source": [
    "df_actual_years.query('platform == \"X360\"')[['critic_score', 'user_score', 'total_sales']].corr().round(2)"
   ]
  },
  {
   "cell_type": "markdown",
   "metadata": {},
   "source": [
    "Вывод: По таблице коэффициентов корреляции можно заметить, что у всех потенциально прибыльных платформах примерно равные значения коэффициентов корреляции зависимости отзывов критиков на продажи = 0.4. И нет зависимости от отзывов покупателей."
   ]
  },
  {
   "cell_type": "markdown",
   "metadata": {},
   "source": [
    "### Распределение игр по жанрам"
   ]
  },
  {
   "cell_type": "markdown",
   "metadata": {},
   "source": [
    "Что можно сказать о самых прибыльных жанрах? Выделяются ли жанры с высокими и низкими продажами?"
   ]
  },
  {
   "cell_type": "code",
   "execution_count": 48,
   "metadata": {},
   "outputs": [
    {
     "data": {
      "image/png": "[encoded data removed]",
      "text/plain": [
       "<Figure size 1080x360 with 1 Axes>"
      ]
     },
     "metadata": {
      "needs_background": "light"
     },
     "output_type": "display_data"
    }
   ],
   "source": [
    "fig, ax = plt.subplots(figsize=(15,5))\n",
    "my_colors = 'rgbkymc'\n",
    "pd.pivot_table(df_actual_years, columns='genre', values='total_sales', aggfunc='sum').plot(ax=ax, kind='bar');\n",
    "plt.ylabel('Продажи (млн)')\n",
    "plt.xlabel('Жанры')\n",
    "plt.title('Распределение игр по жанрам');"
   ]
  },
  {
   "cell_type": "code",
   "execution_count": 49,
   "metadata": {},
   "outputs": [
    {
     "data": {
      "text/html": [
       "<div>\n",
       "<style scoped>\n",
       "    .dataframe tbody tr th:only-of-type {\n",
       "        vertical-align: middle;\n",
       "    }\n",
       "\n",
       "    .dataframe tbody tr th {\n",
       "        vertical-align: top;\n",
       "    }\n",
       "\n",
       "    .dataframe thead th {\n",
       "        text-align: right;\n",
       "    }\n",
       "</style>\n",
       "<table border=\"1\" class=\"dataframe\">\n",
       "  <thead>\n",
       "    <tr style=\"text-align: right;\">\n",
       "      <th></th>\n",
       "      <th>genre</th>\n",
       "      <th>total_sales</th>\n",
       "    </tr>\n",
       "  </thead>\n",
       "  <tbody>\n",
       "    <tr>\n",
       "      <th>0</th>\n",
       "      <td>Action</td>\n",
       "      <td>199.36</td>\n",
       "    </tr>\n",
       "    <tr>\n",
       "      <th>1</th>\n",
       "      <td>Shooter</td>\n",
       "      <td>170.94</td>\n",
       "    </tr>\n",
       "    <tr>\n",
       "      <th>2</th>\n",
       "      <td>Sports</td>\n",
       "      <td>109.48</td>\n",
       "    </tr>\n",
       "    <tr>\n",
       "      <th>3</th>\n",
       "      <td>Role-Playing</td>\n",
       "      <td>101.44</td>\n",
       "    </tr>\n",
       "    <tr>\n",
       "      <th>4</th>\n",
       "      <td>Misc</td>\n",
       "      <td>37.55</td>\n",
       "    </tr>\n",
       "    <tr>\n",
       "      <th>5</th>\n",
       "      <td>Fighting</td>\n",
       "      <td>28.22</td>\n",
       "    </tr>\n",
       "    <tr>\n",
       "      <th>6</th>\n",
       "      <td>Racing</td>\n",
       "      <td>27.52</td>\n",
       "    </tr>\n",
       "    <tr>\n",
       "      <th>7</th>\n",
       "      <td>Platform</td>\n",
       "      <td>18.09</td>\n",
       "    </tr>\n",
       "    <tr>\n",
       "      <th>8</th>\n",
       "      <td>Adventure</td>\n",
       "      <td>17.55</td>\n",
       "    </tr>\n",
       "    <tr>\n",
       "      <th>9</th>\n",
       "      <td>Simulation</td>\n",
       "      <td>13.13</td>\n",
       "    </tr>\n",
       "    <tr>\n",
       "      <th>10</th>\n",
       "      <td>Strategy</td>\n",
       "      <td>3.96</td>\n",
       "    </tr>\n",
       "    <tr>\n",
       "      <th>11</th>\n",
       "      <td>Puzzle</td>\n",
       "      <td>2.21</td>\n",
       "    </tr>\n",
       "  </tbody>\n",
       "</table>\n",
       "</div>"
      ],
      "text/plain": [
       "           genre  total_sales\n",
       "0         Action       199.36\n",
       "1        Shooter       170.94\n",
       "2         Sports       109.48\n",
       "3   Role-Playing       101.44\n",
       "4           Misc        37.55\n",
       "5       Fighting        28.22\n",
       "6         Racing        27.52\n",
       "7       Platform        18.09\n",
       "8      Adventure        17.55\n",
       "9     Simulation        13.13\n",
       "10      Strategy         3.96\n",
       "11        Puzzle         2.21"
      ]
     },
     "execution_count": 49,
     "metadata": {},
     "output_type": "execute_result"
    }
   ],
   "source": [
    "df_actual_years.groupby('genre').agg({'total_sales':'sum'}).sort_values(by='total_sales', ascending=False).reset_index()"
   ]
  },
  {
   "cell_type": "markdown",
   "metadata": {},
   "source": [
    "- Жанрами с самыми высокими продажами являются жанры: Action (199,36 млн) и Shooter (170,94 млн)\n",
    "- Жанрами с самыми низкими продажами являются жанры: Puzzle (2,21) и Strategy (3,96)"
   ]
  },
  {
   "cell_type": "code",
   "execution_count": 50,
   "metadata": {},
   "outputs": [
    {
     "data": {
      "text/html": [
       "<div>\n",
       "<style scoped>\n",
       "    .dataframe tbody tr th:only-of-type {\n",
       "        vertical-align: middle;\n",
       "    }\n",
       "\n",
       "    .dataframe tbody tr th {\n",
       "        vertical-align: top;\n",
       "    }\n",
       "\n",
       "    .dataframe thead th {\n",
       "        text-align: right;\n",
       "    }\n",
       "</style>\n",
       "<table border=\"1\" class=\"dataframe\">\n",
       "  <thead>\n",
       "    <tr style=\"text-align: right;\">\n",
       "      <th></th>\n",
       "      <th>total_sales</th>\n",
       "      <th>name_count</th>\n",
       "    </tr>\n",
       "    <tr>\n",
       "      <th>genre</th>\n",
       "      <th></th>\n",
       "      <th></th>\n",
       "    </tr>\n",
       "  </thead>\n",
       "  <tbody>\n",
       "    <tr>\n",
       "      <th>Action</th>\n",
       "      <td>199.36</td>\n",
       "      <td>619</td>\n",
       "    </tr>\n",
       "    <tr>\n",
       "      <th>Shooter</th>\n",
       "      <td>170.94</td>\n",
       "      <td>128</td>\n",
       "    </tr>\n",
       "    <tr>\n",
       "      <th>Sports</th>\n",
       "      <td>109.48</td>\n",
       "      <td>161</td>\n",
       "    </tr>\n",
       "    <tr>\n",
       "      <th>Role-Playing</th>\n",
       "      <td>101.44</td>\n",
       "      <td>221</td>\n",
       "    </tr>\n",
       "    <tr>\n",
       "      <th>Misc</th>\n",
       "      <td>37.55</td>\n",
       "      <td>113</td>\n",
       "    </tr>\n",
       "    <tr>\n",
       "      <th>Fighting</th>\n",
       "      <td>28.22</td>\n",
       "      <td>60</td>\n",
       "    </tr>\n",
       "    <tr>\n",
       "      <th>Racing</th>\n",
       "      <td>27.52</td>\n",
       "      <td>69</td>\n",
       "    </tr>\n",
       "    <tr>\n",
       "      <th>Platform</th>\n",
       "      <td>18.09</td>\n",
       "      <td>38</td>\n",
       "    </tr>\n",
       "    <tr>\n",
       "      <th>Adventure</th>\n",
       "      <td>17.55</td>\n",
       "      <td>185</td>\n",
       "    </tr>\n",
       "    <tr>\n",
       "      <th>Simulation</th>\n",
       "      <td>13.13</td>\n",
       "      <td>44</td>\n",
       "    </tr>\n",
       "    <tr>\n",
       "      <th>Strategy</th>\n",
       "      <td>3.96</td>\n",
       "      <td>37</td>\n",
       "    </tr>\n",
       "    <tr>\n",
       "      <th>Puzzle</th>\n",
       "      <td>2.21</td>\n",
       "      <td>14</td>\n",
       "    </tr>\n",
       "  </tbody>\n",
       "</table>\n",
       "</div>"
      ],
      "text/plain": [
       "              total_sales  name_count\n",
       "genre                                \n",
       "Action             199.36         619\n",
       "Shooter            170.94         128\n",
       "Sports             109.48         161\n",
       "Role-Playing       101.44         221\n",
       "Misc                37.55         113\n",
       "Fighting            28.22          60\n",
       "Racing              27.52          69\n",
       "Platform            18.09          38\n",
       "Adventure           17.55         185\n",
       "Simulation          13.13          44\n",
       "Strategy             3.96          37\n",
       "Puzzle               2.21          14"
      ]
     },
     "execution_count": 50,
     "metadata": {},
     "output_type": "execute_result"
    }
   ],
   "source": [
    "df_genre = df_actual_years.groupby(['genre'])\\\n",
    "                        .agg({'total_sales':'sum', 'name':'count'})\\\n",
    "                        .rename(columns={'name':'name_count'})\\\n",
    "\n",
    "df_genre.sort_values(by = 'total_sales', ascending=False)"
   ]
  },
  {
   "cell_type": "code",
   "execution_count": 51,
   "metadata": {},
   "outputs": [
    {
     "data": {
      "image/png": "[encoded data removed]",
      "text/plain": [
       "<Figure size 720x432 with 1 Axes>"
      ]
     },
     "metadata": {
      "needs_background": "light"
     },
     "output_type": "display_data"
    }
   ],
   "source": [
    "ax=df_genre[['total_sales', 'name_count']].sort_values(by = 'total_sales', ascending=False).plot(kind='bar', figsize=(10, 6))\n",
    "\n",
    "plt.title('Количество игр в жанре и их продажи\\n  ', fontsize=10)\n",
    "plt.xlabel('Жанр')\n",
    "plt.ylabel('Количество проданных игр и изданных игр в жанре')\n",
    "plt.legend(['Продажи в жанре', 'Кол-во игр в жанре'])\n",
    "plt.grid(True)\n",
    "plt.show()"
   ]
  },
  {
   "cell_type": "markdown",
   "metadata": {},
   "source": [
    "Мы можем сказать, что самыми продаваемыми жанрами являются:\n",
    "\n",
    "- Action\n",
    "- Shooter\n",
    "- Role-Playing\n",
    "- Sports\n",
    "\n",
    "Но точно нельзя сказать о прибыльности жанра, так как прибыль складывается из выручка - затраты, а затрат на выпуск игр мы не можем. В жанре Action самое большое кол-во игр, возможно их создание обходится недорого, а объемы продаж позволяют производителям получать хорошую прибыль. Также большое кличество игр наблюдается в жанре Role-Playing и сопровождается высоким уровнем продаж.\n",
    "А вот в жанре Shooter игр не так много, хотя жанр на 2 месте по объемам продаж, возможно создание игр обходится существенно дороже и прибыль становится не такой ощутимой."
   ]
  },
  {
   "cell_type": "markdown",
   "metadata": {},
   "source": [
    "Посмотрим жанры самых продаваемых игр в каждом из регионов"
   ]
  },
  {
   "cell_type": "code",
   "execution_count": 52,
   "metadata": {},
   "outputs": [
    {
     "data": {
      "text/html": [
       "<div>\n",
       "<style scoped>\n",
       "    .dataframe tbody tr th:only-of-type {\n",
       "        vertical-align: middle;\n",
       "    }\n",
       "\n",
       "    .dataframe tbody tr th {\n",
       "        vertical-align: top;\n",
       "    }\n",
       "\n",
       "    .dataframe thead th {\n",
       "        text-align: right;\n",
       "    }\n",
       "</style>\n",
       "<table border=\"1\" class=\"dataframe\">\n",
       "  <thead>\n",
       "    <tr style=\"text-align: right;\">\n",
       "      <th></th>\n",
       "      <th>name</th>\n",
       "      <th>platform</th>\n",
       "      <th>year_of_release</th>\n",
       "      <th>genre</th>\n",
       "      <th>na_sales</th>\n",
       "      <th>eu_sales</th>\n",
       "      <th>jp_sales</th>\n",
       "      <th>other_sales</th>\n",
       "      <th>critic_score</th>\n",
       "      <th>user_score</th>\n",
       "      <th>rating</th>\n",
       "      <th>total_sales</th>\n",
       "    </tr>\n",
       "  </thead>\n",
       "  <tbody>\n",
       "    <tr>\n",
       "      <th>31</th>\n",
       "      <td>Call of Duty: Black Ops 3</td>\n",
       "      <td>PS4</td>\n",
       "      <td>2015</td>\n",
       "      <td>Shooter</td>\n",
       "      <td>6.03</td>\n",
       "      <td>5.86</td>\n",
       "      <td>0.36</td>\n",
       "      <td>2.38</td>\n",
       "      <td>NaN</td>\n",
       "      <td>NaN</td>\n",
       "      <td>NaN</td>\n",
       "      <td>14.63</td>\n",
       "    </tr>\n",
       "    <tr>\n",
       "      <th>99</th>\n",
       "      <td>Call of Duty: Black Ops 3</td>\n",
       "      <td>XOne</td>\n",
       "      <td>2015</td>\n",
       "      <td>Shooter</td>\n",
       "      <td>4.59</td>\n",
       "      <td>2.11</td>\n",
       "      <td>0.01</td>\n",
       "      <td>0.68</td>\n",
       "      <td>NaN</td>\n",
       "      <td>NaN</td>\n",
       "      <td>NaN</td>\n",
       "      <td>7.39</td>\n",
       "    </tr>\n",
       "    <tr>\n",
       "      <th>47</th>\n",
       "      <td>Pokemon Omega Ruby/Pokemon Alpha Sapphire</td>\n",
       "      <td>3DS</td>\n",
       "      <td>2014</td>\n",
       "      <td>Role-Playing</td>\n",
       "      <td>4.35</td>\n",
       "      <td>3.49</td>\n",
       "      <td>3.10</td>\n",
       "      <td>0.74</td>\n",
       "      <td>NaN</td>\n",
       "      <td>NaN</td>\n",
       "      <td>NaN</td>\n",
       "      <td>11.68</td>\n",
       "    </tr>\n",
       "    <tr>\n",
       "      <th>42</th>\n",
       "      <td>Grand Theft Auto V</td>\n",
       "      <td>PS4</td>\n",
       "      <td>2014</td>\n",
       "      <td>Action</td>\n",
       "      <td>3.96</td>\n",
       "      <td>6.31</td>\n",
       "      <td>0.38</td>\n",
       "      <td>1.97</td>\n",
       "      <td>97.0</td>\n",
       "      <td>8.3</td>\n",
       "      <td>M</td>\n",
       "      <td>12.62</td>\n",
       "    </tr>\n",
       "    <tr>\n",
       "      <th>96</th>\n",
       "      <td>Super Smash Bros. for Wii U and 3DS</td>\n",
       "      <td>3DS</td>\n",
       "      <td>2014</td>\n",
       "      <td>Fighting</td>\n",
       "      <td>3.27</td>\n",
       "      <td>1.37</td>\n",
       "      <td>2.43</td>\n",
       "      <td>0.48</td>\n",
       "      <td>NaN</td>\n",
       "      <td>NaN</td>\n",
       "      <td>NaN</td>\n",
       "      <td>7.55</td>\n",
       "    </tr>\n",
       "  </tbody>\n",
       "</table>\n",
       "</div>"
      ],
      "text/plain": [
       "                                         name platform  year_of_release  \\\n",
       "31                  Call of Duty: Black Ops 3      PS4             2015   \n",
       "99                  Call of Duty: Black Ops 3     XOne             2015   \n",
       "47  Pokemon Omega Ruby/Pokemon Alpha Sapphire      3DS             2014   \n",
       "42                         Grand Theft Auto V      PS4             2014   \n",
       "96        Super Smash Bros. for Wii U and 3DS      3DS             2014   \n",
       "\n",
       "           genre  na_sales  eu_sales  jp_sales  other_sales  critic_score  \\\n",
       "31       Shooter      6.03      5.86      0.36         2.38           NaN   \n",
       "99       Shooter      4.59      2.11      0.01         0.68           NaN   \n",
       "47  Role-Playing      4.35      3.49      3.10         0.74           NaN   \n",
       "42        Action      3.96      6.31      0.38         1.97          97.0   \n",
       "96      Fighting      3.27      1.37      2.43         0.48           NaN   \n",
       "\n",
       "    user_score rating  total_sales  \n",
       "31         NaN    NaN        14.63  \n",
       "99         NaN    NaN         7.39  \n",
       "47         NaN    NaN        11.68  \n",
       "42         8.3      M        12.62  \n",
       "96         NaN    NaN         7.55  "
      ]
     },
     "execution_count": 52,
     "metadata": {},
     "output_type": "execute_result"
    }
   ],
   "source": [
    "df_actual_years.sort_values(by='na_sales', ascending=False).head()"
   ]
  },
  {
   "cell_type": "code",
   "execution_count": 53,
   "metadata": {},
   "outputs": [
    {
     "data": {
      "text/html": [
       "<div>\n",
       "<style scoped>\n",
       "    .dataframe tbody tr th:only-of-type {\n",
       "        vertical-align: middle;\n",
       "    }\n",
       "\n",
       "    .dataframe tbody tr th {\n",
       "        vertical-align: top;\n",
       "    }\n",
       "\n",
       "    .dataframe thead th {\n",
       "        text-align: right;\n",
       "    }\n",
       "</style>\n",
       "<table border=\"1\" class=\"dataframe\">\n",
       "  <thead>\n",
       "    <tr style=\"text-align: right;\">\n",
       "      <th></th>\n",
       "      <th>name</th>\n",
       "      <th>platform</th>\n",
       "      <th>year_of_release</th>\n",
       "      <th>genre</th>\n",
       "      <th>na_sales</th>\n",
       "      <th>eu_sales</th>\n",
       "      <th>jp_sales</th>\n",
       "      <th>other_sales</th>\n",
       "      <th>critic_score</th>\n",
       "      <th>user_score</th>\n",
       "      <th>rating</th>\n",
       "      <th>total_sales</th>\n",
       "    </tr>\n",
       "  </thead>\n",
       "  <tbody>\n",
       "    <tr>\n",
       "      <th>42</th>\n",
       "      <td>Grand Theft Auto V</td>\n",
       "      <td>PS4</td>\n",
       "      <td>2014</td>\n",
       "      <td>Action</td>\n",
       "      <td>3.96</td>\n",
       "      <td>6.31</td>\n",
       "      <td>0.38</td>\n",
       "      <td>1.97</td>\n",
       "      <td>97.0</td>\n",
       "      <td>8.3</td>\n",
       "      <td>M</td>\n",
       "      <td>12.62</td>\n",
       "    </tr>\n",
       "    <tr>\n",
       "      <th>77</th>\n",
       "      <td>FIFA 16</td>\n",
       "      <td>PS4</td>\n",
       "      <td>2015</td>\n",
       "      <td>Sports</td>\n",
       "      <td>1.12</td>\n",
       "      <td>6.12</td>\n",
       "      <td>0.06</td>\n",
       "      <td>1.28</td>\n",
       "      <td>82.0</td>\n",
       "      <td>4.3</td>\n",
       "      <td>E</td>\n",
       "      <td>8.58</td>\n",
       "    </tr>\n",
       "    <tr>\n",
       "      <th>31</th>\n",
       "      <td>Call of Duty: Black Ops 3</td>\n",
       "      <td>PS4</td>\n",
       "      <td>2015</td>\n",
       "      <td>Shooter</td>\n",
       "      <td>6.03</td>\n",
       "      <td>5.86</td>\n",
       "      <td>0.36</td>\n",
       "      <td>2.38</td>\n",
       "      <td>NaN</td>\n",
       "      <td>NaN</td>\n",
       "      <td>NaN</td>\n",
       "      <td>14.63</td>\n",
       "    </tr>\n",
       "    <tr>\n",
       "      <th>94</th>\n",
       "      <td>FIFA 17</td>\n",
       "      <td>PS4</td>\n",
       "      <td>2016</td>\n",
       "      <td>Sports</td>\n",
       "      <td>0.66</td>\n",
       "      <td>5.75</td>\n",
       "      <td>0.08</td>\n",
       "      <td>1.11</td>\n",
       "      <td>85.0</td>\n",
       "      <td>5.0</td>\n",
       "      <td>E</td>\n",
       "      <td>7.60</td>\n",
       "    </tr>\n",
       "    <tr>\n",
       "      <th>143</th>\n",
       "      <td>FIFA 15</td>\n",
       "      <td>PS4</td>\n",
       "      <td>2014</td>\n",
       "      <td>Sports</td>\n",
       "      <td>0.80</td>\n",
       "      <td>4.33</td>\n",
       "      <td>0.05</td>\n",
       "      <td>0.90</td>\n",
       "      <td>82.0</td>\n",
       "      <td>5.7</td>\n",
       "      <td>E</td>\n",
       "      <td>6.08</td>\n",
       "    </tr>\n",
       "  </tbody>\n",
       "</table>\n",
       "</div>"
      ],
      "text/plain": [
       "                          name platform  year_of_release    genre  na_sales  \\\n",
       "42          Grand Theft Auto V      PS4             2014   Action      3.96   \n",
       "77                     FIFA 16      PS4             2015   Sports      1.12   \n",
       "31   Call of Duty: Black Ops 3      PS4             2015  Shooter      6.03   \n",
       "94                     FIFA 17      PS4             2016   Sports      0.66   \n",
       "143                    FIFA 15      PS4             2014   Sports      0.80   \n",
       "\n",
       "     eu_sales  jp_sales  other_sales  critic_score  user_score rating  \\\n",
       "42       6.31      0.38         1.97          97.0         8.3      M   \n",
       "77       6.12      0.06         1.28          82.0         4.3      E   \n",
       "31       5.86      0.36         2.38           NaN         NaN    NaN   \n",
       "94       5.75      0.08         1.11          85.0         5.0      E   \n",
       "143      4.33      0.05         0.90          82.0         5.7      E   \n",
       "\n",
       "     total_sales  \n",
       "42         12.62  \n",
       "77          8.58  \n",
       "31         14.63  \n",
       "94          7.60  \n",
       "143         6.08  "
      ]
     },
     "execution_count": 53,
     "metadata": {},
     "output_type": "execute_result"
    }
   ],
   "source": [
    "df_actual_years.sort_values(by='eu_sales', ascending=False).head()"
   ]
  },
  {
   "cell_type": "code",
   "execution_count": 54,
   "metadata": {},
   "outputs": [
    {
     "data": {
      "text/html": [
       "<div>\n",
       "<style scoped>\n",
       "    .dataframe tbody tr th:only-of-type {\n",
       "        vertical-align: middle;\n",
       "    }\n",
       "\n",
       "    .dataframe tbody tr th {\n",
       "        vertical-align: top;\n",
       "    }\n",
       "\n",
       "    .dataframe thead th {\n",
       "        text-align: right;\n",
       "    }\n",
       "</style>\n",
       "<table border=\"1\" class=\"dataframe\">\n",
       "  <thead>\n",
       "    <tr style=\"text-align: right;\">\n",
       "      <th></th>\n",
       "      <th>name</th>\n",
       "      <th>platform</th>\n",
       "      <th>year_of_release</th>\n",
       "      <th>genre</th>\n",
       "      <th>na_sales</th>\n",
       "      <th>eu_sales</th>\n",
       "      <th>jp_sales</th>\n",
       "      <th>other_sales</th>\n",
       "      <th>critic_score</th>\n",
       "      <th>user_score</th>\n",
       "      <th>rating</th>\n",
       "      <th>total_sales</th>\n",
       "    </tr>\n",
       "  </thead>\n",
       "  <tbody>\n",
       "    <tr>\n",
       "      <th>412</th>\n",
       "      <td>Yokai Watch 2 Ganso/Honke</td>\n",
       "      <td>3DS</td>\n",
       "      <td>2014</td>\n",
       "      <td>Role-Playing</td>\n",
       "      <td>0.09</td>\n",
       "      <td>0.00</td>\n",
       "      <td>3.18</td>\n",
       "      <td>0.01</td>\n",
       "      <td>NaN</td>\n",
       "      <td>NaN</td>\n",
       "      <td>NaN</td>\n",
       "      <td>3.28</td>\n",
       "    </tr>\n",
       "    <tr>\n",
       "      <th>47</th>\n",
       "      <td>Pokemon Omega Ruby/Pokemon Alpha Sapphire</td>\n",
       "      <td>3DS</td>\n",
       "      <td>2014</td>\n",
       "      <td>Role-Playing</td>\n",
       "      <td>4.35</td>\n",
       "      <td>3.49</td>\n",
       "      <td>3.10</td>\n",
       "      <td>0.74</td>\n",
       "      <td>NaN</td>\n",
       "      <td>NaN</td>\n",
       "      <td>NaN</td>\n",
       "      <td>11.68</td>\n",
       "    </tr>\n",
       "    <tr>\n",
       "      <th>406</th>\n",
       "      <td>Monster Hunter X</td>\n",
       "      <td>3DS</td>\n",
       "      <td>2015</td>\n",
       "      <td>Action</td>\n",
       "      <td>0.27</td>\n",
       "      <td>0.21</td>\n",
       "      <td>2.79</td>\n",
       "      <td>0.05</td>\n",
       "      <td>NaN</td>\n",
       "      <td>NaN</td>\n",
       "      <td>NaN</td>\n",
       "      <td>3.32</td>\n",
       "    </tr>\n",
       "    <tr>\n",
       "      <th>563</th>\n",
       "      <td>Yokai Watch 2 Shinuchi</td>\n",
       "      <td>3DS</td>\n",
       "      <td>2014</td>\n",
       "      <td>Role-Playing</td>\n",
       "      <td>0.00</td>\n",
       "      <td>0.00</td>\n",
       "      <td>2.68</td>\n",
       "      <td>0.00</td>\n",
       "      <td>NaN</td>\n",
       "      <td>NaN</td>\n",
       "      <td>NaN</td>\n",
       "      <td>2.68</td>\n",
       "    </tr>\n",
       "    <tr>\n",
       "      <th>312</th>\n",
       "      <td>Monster Hunter 4 Ultimate</td>\n",
       "      <td>3DS</td>\n",
       "      <td>2014</td>\n",
       "      <td>Role-Playing</td>\n",
       "      <td>0.68</td>\n",
       "      <td>0.48</td>\n",
       "      <td>2.62</td>\n",
       "      <td>0.11</td>\n",
       "      <td>86.0</td>\n",
       "      <td>8.7</td>\n",
       "      <td>T</td>\n",
       "      <td>3.89</td>\n",
       "    </tr>\n",
       "  </tbody>\n",
       "</table>\n",
       "</div>"
      ],
      "text/plain": [
       "                                          name platform  year_of_release  \\\n",
       "412                  Yokai Watch 2 Ganso/Honke      3DS             2014   \n",
       "47   Pokemon Omega Ruby/Pokemon Alpha Sapphire      3DS             2014   \n",
       "406                           Monster Hunter X      3DS             2015   \n",
       "563                     Yokai Watch 2 Shinuchi      3DS             2014   \n",
       "312                  Monster Hunter 4 Ultimate      3DS             2014   \n",
       "\n",
       "            genre  na_sales  eu_sales  jp_sales  other_sales  critic_score  \\\n",
       "412  Role-Playing      0.09      0.00      3.18         0.01           NaN   \n",
       "47   Role-Playing      4.35      3.49      3.10         0.74           NaN   \n",
       "406        Action      0.27      0.21      2.79         0.05           NaN   \n",
       "563  Role-Playing      0.00      0.00      2.68         0.00           NaN   \n",
       "312  Role-Playing      0.68      0.48      2.62         0.11          86.0   \n",
       "\n",
       "     user_score rating  total_sales  \n",
       "412         NaN    NaN         3.28  \n",
       "47          NaN    NaN        11.68  \n",
       "406         NaN    NaN         3.32  \n",
       "563         NaN    NaN         2.68  \n",
       "312         8.7      T         3.89  "
      ]
     },
     "execution_count": 54,
     "metadata": {},
     "output_type": "execute_result"
    }
   ],
   "source": [
    "df_actual_years.sort_values(by='jp_sales', ascending=False).head()"
   ]
  },
  {
   "cell_type": "markdown",
   "metadata": {},
   "source": [
    "Вывод:\n",
    "- в Северной Америке самые продаваемые игры имеют жанры Action (Grand Theft Auto V на платформах XOne и PS) и Shooter (разновидности Call of Duty)\n",
    "- в Европе похожая ситуация с Северной Америкой, т.е. игры имеют жанры Action (Grand Theft Auto V на платформах PS4) и Shooter (Call of Duty: Black Ops 3), но дополнительно присутствуют игры жанра Sports (FIFA 16 и FIFA 17)\n",
    "- в Японии совершенно другая ситуация, популярны жанры Simulation (Animal Crossing: New Leaf) и Role-Playing, связано это скорее всего с культурой жителей и их интересами."
   ]
  },
  {
   "cell_type": "markdown",
   "metadata": {},
   "source": [
    "## Портрет пользователя каждого региона"
   ]
  },
  {
   "cell_type": "markdown",
   "metadata": {},
   "source": [
    "Определим для пользователя каждого региона (NA, EU, JP):\n",
    "\n",
    "- Самые популярные платформы (топ-5)\n",
    "- Самые популярные жанры (топ-5)\n",
    "- Влияет ли рейтинг ESRB на продажи в отдельном регионе?"
   ]
  },
  {
   "cell_type": "markdown",
   "metadata": {},
   "source": [
    "### Определение популярных платформ"
   ]
  },
  {
   "cell_type": "markdown",
   "metadata": {},
   "source": [
    "Для определения популярных платформ создадим отдельную таблицу, в которую запишем сгруппированные данные платформам и посчитаем суммы продаж по каждой платформе в каждом регионе."
   ]
  },
  {
   "cell_type": "code",
   "execution_count": 55,
   "metadata": {},
   "outputs": [
    {
     "data": {
      "text/html": [
       "<div>\n",
       "<style scoped>\n",
       "    .dataframe tbody tr th:only-of-type {\n",
       "        vertical-align: middle;\n",
       "    }\n",
       "\n",
       "    .dataframe tbody tr th {\n",
       "        vertical-align: top;\n",
       "    }\n",
       "\n",
       "    .dataframe thead th {\n",
       "        text-align: right;\n",
       "    }\n",
       "</style>\n",
       "<table border=\"1\" class=\"dataframe\">\n",
       "  <thead>\n",
       "    <tr style=\"text-align: right;\">\n",
       "      <th></th>\n",
       "      <th>platform</th>\n",
       "      <th>na_sales</th>\n",
       "      <th>%_na_sales</th>\n",
       "      <th>eu_sales</th>\n",
       "      <th>%_eu_sales</th>\n",
       "      <th>jp_sales</th>\n",
       "      <th>%_jp_sales</th>\n",
       "    </tr>\n",
       "  </thead>\n",
       "  <tbody>\n",
       "    <tr>\n",
       "      <th>0</th>\n",
       "      <td>3DS</td>\n",
       "      <td>22.64</td>\n",
       "      <td>7.970147</td>\n",
       "      <td>16.12</td>\n",
       "      <td>5.955372</td>\n",
       "      <td>44.24</td>\n",
       "      <td>47.523902</td>\n",
       "    </tr>\n",
       "    <tr>\n",
       "      <th>1</th>\n",
       "      <td>PC</td>\n",
       "      <td>7.23</td>\n",
       "      <td>2.545237</td>\n",
       "      <td>17.97</td>\n",
       "      <td>6.638836</td>\n",
       "      <td>0.00</td>\n",
       "      <td>0.000000</td>\n",
       "    </tr>\n",
       "    <tr>\n",
       "      <th>2</th>\n",
       "      <td>PS3</td>\n",
       "      <td>22.05</td>\n",
       "      <td>7.762445</td>\n",
       "      <td>25.54</td>\n",
       "      <td>9.435496</td>\n",
       "      <td>11.22</td>\n",
       "      <td>12.052852</td>\n",
       "    </tr>\n",
       "    <tr>\n",
       "      <th>3</th>\n",
       "      <td>PS4</td>\n",
       "      <td>98.61</td>\n",
       "      <td>34.714497</td>\n",
       "      <td>130.04</td>\n",
       "      <td>48.041968</td>\n",
       "      <td>15.02</td>\n",
       "      <td>16.134923</td>\n",
       "    </tr>\n",
       "    <tr>\n",
       "      <th>4</th>\n",
       "      <td>PSP</td>\n",
       "      <td>0.00</td>\n",
       "      <td>0.000000</td>\n",
       "      <td>0.00</td>\n",
       "      <td>0.000000</td>\n",
       "      <td>0.36</td>\n",
       "      <td>0.386723</td>\n",
       "    </tr>\n",
       "    <tr>\n",
       "      <th>5</th>\n",
       "      <td>PSV</td>\n",
       "      <td>2.52</td>\n",
       "      <td>0.887137</td>\n",
       "      <td>3.53</td>\n",
       "      <td>1.304123</td>\n",
       "      <td>14.54</td>\n",
       "      <td>15.619293</td>\n",
       "    </tr>\n",
       "    <tr>\n",
       "      <th>6</th>\n",
       "      <td>Wii</td>\n",
       "      <td>2.08</td>\n",
       "      <td>0.732240</td>\n",
       "      <td>2.59</td>\n",
       "      <td>0.956849</td>\n",
       "      <td>0.00</td>\n",
       "      <td>0.000000</td>\n",
       "    </tr>\n",
       "    <tr>\n",
       "      <th>7</th>\n",
       "      <td>WiiU</td>\n",
       "      <td>19.36</td>\n",
       "      <td>6.815462</td>\n",
       "      <td>13.15</td>\n",
       "      <td>4.858135</td>\n",
       "      <td>7.31</td>\n",
       "      <td>7.852616</td>\n",
       "    </tr>\n",
       "    <tr>\n",
       "      <th>8</th>\n",
       "      <td>X360</td>\n",
       "      <td>28.30</td>\n",
       "      <td>9.962684</td>\n",
       "      <td>15.49</td>\n",
       "      <td>5.722625</td>\n",
       "      <td>0.08</td>\n",
       "      <td>0.085938</td>\n",
       "    </tr>\n",
       "    <tr>\n",
       "      <th>9</th>\n",
       "      <td>XOne</td>\n",
       "      <td>81.27</td>\n",
       "      <td>28.610153</td>\n",
       "      <td>46.25</td>\n",
       "      <td>17.086597</td>\n",
       "      <td>0.32</td>\n",
       "      <td>0.343753</td>\n",
       "    </tr>\n",
       "  </tbody>\n",
       "</table>\n",
       "</div>"
      ],
      "text/plain": [
       "  platform  na_sales  %_na_sales  eu_sales  %_eu_sales  jp_sales  %_jp_sales\n",
       "0      3DS     22.64    7.970147     16.12    5.955372     44.24   47.523902\n",
       "1       PC      7.23    2.545237     17.97    6.638836      0.00    0.000000\n",
       "2      PS3     22.05    7.762445     25.54    9.435496     11.22   12.052852\n",
       "3      PS4     98.61   34.714497    130.04   48.041968     15.02   16.134923\n",
       "4      PSP      0.00    0.000000      0.00    0.000000      0.36    0.386723\n",
       "5      PSV      2.52    0.887137      3.53    1.304123     14.54   15.619293\n",
       "6      Wii      2.08    0.732240      2.59    0.956849      0.00    0.000000\n",
       "7     WiiU     19.36    6.815462     13.15    4.858135      7.31    7.852616\n",
       "8     X360     28.30    9.962684     15.49    5.722625      0.08    0.085938\n",
       "9     XOne     81.27   28.610153     46.25   17.086597      0.32    0.343753"
      ]
     },
     "execution_count": 55,
     "metadata": {},
     "output_type": "execute_result"
    }
   ],
   "source": [
    "platform_for_region=df_actual_years.groupby('platform').agg({'na_sales':'sum', 'eu_sales':'sum', 'jp_sales':'sum'}).reset_index()\n",
    "platform_for_region['%_na_sales'] = platform_for_region['na_sales'] / platform_for_region['na_sales'].sum() * 100\n",
    "platform_for_region['%_eu_sales'] = platform_for_region['eu_sales'] / platform_for_region['eu_sales'].sum() * 100\n",
    "platform_for_region['%_jp_sales'] = platform_for_region['jp_sales'] / platform_for_region['jp_sales'].sum() * 100\n",
    "platform_for_region = platform_for_region[['platform', 'na_sales', '%_na_sales', 'eu_sales', '%_eu_sales', 'jp_sales', '%_jp_sales']]\n",
    "platform_for_region"
   ]
  },
  {
   "cell_type": "markdown",
   "metadata": {},
   "source": [
    "Проиллюстрируем полученные результаты с помощью графика.\n"
   ]
  },
  {
   "cell_type": "code",
   "execution_count": 56,
   "metadata": {},
   "outputs": [],
   "source": [
    "def graph_func(data, parametr):\n",
    "    regions = ['na_sales', 'eu_sales', 'jp_sales']\n",
    "    num_cols = len(regions)\n",
    "    num_rows = 1\n",
    "    fig, ax = plt.subplots(num_rows, num_cols, figsize=(18, 5))\n",
    "    for i, region in enumerate(regions):\n",
    "        data = data.sort_values(by=region)\n",
    "        ax[i].barh(data[parametr], data[region])\n",
    "        ax[i].set(xlabel = region)"
   ]
  },
  {
   "cell_type": "code",
   "execution_count": 57,
   "metadata": {},
   "outputs": [
    {
     "data": {
      "image/png": "[encoded data removed]",
      "text/plain": [
       "<Figure size 1296x360 with 3 Axes>"
      ]
     },
     "metadata": {
      "needs_background": "light"
     },
     "output_type": "display_data"
    }
   ],
   "source": [
    "graph_func(platform_for_region, 'platform')"
   ]
  },
  {
   "cell_type": "markdown",
   "metadata": {},
   "source": [
    "### Определение популярных жанров"
   ]
  },
  {
   "cell_type": "markdown",
   "metadata": {},
   "source": [
    "Аналогично определим популярные жанры"
   ]
  },
  {
   "cell_type": "code",
   "execution_count": 58,
   "metadata": {},
   "outputs": [
    {
     "data": {
      "text/html": [
       "<div>\n",
       "<style scoped>\n",
       "    .dataframe tbody tr th:only-of-type {\n",
       "        vertical-align: middle;\n",
       "    }\n",
       "\n",
       "    .dataframe tbody tr th {\n",
       "        vertical-align: top;\n",
       "    }\n",
       "\n",
       "    .dataframe thead th {\n",
       "        text-align: right;\n",
       "    }\n",
       "</style>\n",
       "<table border=\"1\" class=\"dataframe\">\n",
       "  <thead>\n",
       "    <tr style=\"text-align: right;\">\n",
       "      <th></th>\n",
       "      <th>genre</th>\n",
       "      <th>na_sales</th>\n",
       "      <th>eu_sales</th>\n",
       "      <th>jp_sales</th>\n",
       "    </tr>\n",
       "  </thead>\n",
       "  <tbody>\n",
       "    <tr>\n",
       "      <th>0</th>\n",
       "      <td>Action</td>\n",
       "      <td>72.53</td>\n",
       "      <td>74.68</td>\n",
       "      <td>29.58</td>\n",
       "    </tr>\n",
       "    <tr>\n",
       "      <th>1</th>\n",
       "      <td>Adventure</td>\n",
       "      <td>5.64</td>\n",
       "      <td>6.49</td>\n",
       "      <td>3.60</td>\n",
       "    </tr>\n",
       "    <tr>\n",
       "      <th>2</th>\n",
       "      <td>Fighting</td>\n",
       "      <td>12.43</td>\n",
       "      <td>6.69</td>\n",
       "      <td>6.37</td>\n",
       "    </tr>\n",
       "    <tr>\n",
       "      <th>3</th>\n",
       "      <td>Misc</td>\n",
       "      <td>15.05</td>\n",
       "      <td>12.86</td>\n",
       "      <td>5.61</td>\n",
       "    </tr>\n",
       "    <tr>\n",
       "      <th>4</th>\n",
       "      <td>Platform</td>\n",
       "      <td>6.79</td>\n",
       "      <td>6.80</td>\n",
       "      <td>2.69</td>\n",
       "    </tr>\n",
       "    <tr>\n",
       "      <th>5</th>\n",
       "      <td>Puzzle</td>\n",
       "      <td>0.65</td>\n",
       "      <td>0.52</td>\n",
       "      <td>0.93</td>\n",
       "    </tr>\n",
       "    <tr>\n",
       "      <th>6</th>\n",
       "      <td>Racing</td>\n",
       "      <td>8.74</td>\n",
       "      <td>14.13</td>\n",
       "      <td>1.76</td>\n",
       "    </tr>\n",
       "    <tr>\n",
       "      <th>7</th>\n",
       "      <td>Role-Playing</td>\n",
       "      <td>33.47</td>\n",
       "      <td>28.17</td>\n",
       "      <td>31.16</td>\n",
       "    </tr>\n",
       "    <tr>\n",
       "      <th>8</th>\n",
       "      <td>Shooter</td>\n",
       "      <td>79.02</td>\n",
       "      <td>65.52</td>\n",
       "      <td>4.87</td>\n",
       "    </tr>\n",
       "    <tr>\n",
       "      <th>9</th>\n",
       "      <td>Simulation</td>\n",
       "      <td>2.63</td>\n",
       "      <td>7.30</td>\n",
       "      <td>2.31</td>\n",
       "    </tr>\n",
       "    <tr>\n",
       "      <th>10</th>\n",
       "      <td>Sports</td>\n",
       "      <td>46.13</td>\n",
       "      <td>45.73</td>\n",
       "      <td>3.26</td>\n",
       "    </tr>\n",
       "    <tr>\n",
       "      <th>11</th>\n",
       "      <td>Strategy</td>\n",
       "      <td>0.98</td>\n",
       "      <td>1.79</td>\n",
       "      <td>0.95</td>\n",
       "    </tr>\n",
       "  </tbody>\n",
       "</table>\n",
       "</div>"
      ],
      "text/plain": [
       "           genre  na_sales  eu_sales  jp_sales\n",
       "0         Action     72.53     74.68     29.58\n",
       "1      Adventure      5.64      6.49      3.60\n",
       "2       Fighting     12.43      6.69      6.37\n",
       "3           Misc     15.05     12.86      5.61\n",
       "4       Platform      6.79      6.80      2.69\n",
       "5         Puzzle      0.65      0.52      0.93\n",
       "6         Racing      8.74     14.13      1.76\n",
       "7   Role-Playing     33.47     28.17     31.16\n",
       "8        Shooter     79.02     65.52      4.87\n",
       "9     Simulation      2.63      7.30      2.31\n",
       "10        Sports     46.13     45.73      3.26\n",
       "11      Strategy      0.98      1.79      0.95"
      ]
     },
     "execution_count": 58,
     "metadata": {},
     "output_type": "execute_result"
    }
   ],
   "source": [
    "genre_for_region=df_actual_years.groupby('genre').agg({'na_sales':'sum', 'eu_sales':'sum', 'jp_sales':'sum'}).reset_index()\n",
    "genre_for_region"
   ]
  },
  {
   "cell_type": "code",
   "execution_count": 59,
   "metadata": {},
   "outputs": [
    {
     "data": {
      "image/png": "[encoded data removed]",
      "text/plain": [
       "<Figure size 1296x360 with 3 Axes>"
      ]
     },
     "metadata": {
      "needs_background": "light"
     },
     "output_type": "display_data"
    }
   ],
   "source": [
    "graph_func(genre_for_region, 'genre')"
   ]
  },
  {
   "cell_type": "markdown",
   "metadata": {},
   "source": [
    "Топ 5 популярных жанов в Северной Америке и Европе примерно похож между собой,разве что первые два места Shooter и Action меняются местами в зависимости от ркгиона, но в Японии ситуация сильно отличается, на первое место выходит жанр Role Play. Скорее всего это связано с культурой населения."
   ]
  },
  {
   "cell_type": "markdown",
   "metadata": {},
   "source": [
    "### Зависимость рейтинга ESRB на продажи в отдельном регионе"
   ]
  },
  {
   "cell_type": "code",
   "execution_count": 60,
   "metadata": {},
   "outputs": [],
   "source": [
    "df_rating = df_actual_years[df_actual_years['rating'].isna() == False]"
   ]
  },
  {
   "cell_type": "code",
   "execution_count": 61,
   "metadata": {},
   "outputs": [
    {
     "data": {
      "text/plain": [
       "array(['M', 'E', 'T', 'E10+'], dtype=object)"
      ]
     },
     "execution_count": 61,
     "metadata": {},
     "output_type": "execute_result"
    }
   ],
   "source": [
    "df_rating['rating'].unique()"
   ]
  },
  {
   "cell_type": "code",
   "execution_count": 62,
   "metadata": {},
   "outputs": [],
   "source": [
    "rating_for_region=df_actual_years.groupby('rating').agg({'na_sales':'sum', 'eu_sales':'sum', 'jp_sales':'sum'}).reset_index()"
   ]
  },
  {
   "cell_type": "code",
   "execution_count": 63,
   "metadata": {},
   "outputs": [],
   "source": [
    "rating_for_region['%_na_sales'] = rating_for_region['na_sales'] / rating_for_region['na_sales'].sum() * 100\n",
    "rating_for_region['%_eu_sales'] = rating_for_region['eu_sales'] / rating_for_region['eu_sales'].sum() * 100\n",
    "rating_for_region['%_jp_sales'] = rating_for_region['jp_sales'] / rating_for_region['jp_sales'].sum() * 100"
   ]
  },
  {
   "cell_type": "code",
   "execution_count": 64,
   "metadata": {},
   "outputs": [],
   "source": [
    "rating_for_region = rating_for_region[['rating', 'na_sales', '%_na_sales', 'eu_sales', '%_eu_sales', 'jp_sales', '%_jp_sales']]\n",
    "rating_for_region['desc'] = ['Для взрослых', 'Для всех', 'Для подростков', '10 лет и старше']"
   ]
  },
  {
   "cell_type": "code",
   "execution_count": 65,
   "metadata": {},
   "outputs": [
    {
     "data": {
      "text/html": [
       "<div>\n",
       "<style scoped>\n",
       "    .dataframe tbody tr th:only-of-type {\n",
       "        vertical-align: middle;\n",
       "    }\n",
       "\n",
       "    .dataframe tbody tr th {\n",
       "        vertical-align: top;\n",
       "    }\n",
       "\n",
       "    .dataframe thead th {\n",
       "        text-align: right;\n",
       "    }\n",
       "</style>\n",
       "<table border=\"1\" class=\"dataframe\">\n",
       "  <thead>\n",
       "    <tr style=\"text-align: right;\">\n",
       "      <th></th>\n",
       "      <th>rating</th>\n",
       "      <th>na_sales</th>\n",
       "      <th>%_na_sales</th>\n",
       "      <th>eu_sales</th>\n",
       "      <th>%_eu_sales</th>\n",
       "      <th>jp_sales</th>\n",
       "      <th>%_jp_sales</th>\n",
       "      <th>desc</th>\n",
       "    </tr>\n",
       "  </thead>\n",
       "  <tbody>\n",
       "    <tr>\n",
       "      <th>0</th>\n",
       "      <td>E</td>\n",
       "      <td>50.74</td>\n",
       "      <td>23.133035</td>\n",
       "      <td>58.06</td>\n",
       "      <td>27.421716</td>\n",
       "      <td>8.94</td>\n",
       "      <td>24.702957</td>\n",
       "      <td>Для взрослых</td>\n",
       "    </tr>\n",
       "    <tr>\n",
       "      <th>1</th>\n",
       "      <td>E10+</td>\n",
       "      <td>33.23</td>\n",
       "      <td>15.149995</td>\n",
       "      <td>26.16</td>\n",
       "      <td>12.355358</td>\n",
       "      <td>4.46</td>\n",
       "      <td>12.323846</td>\n",
       "      <td>Для всех</td>\n",
       "    </tr>\n",
       "    <tr>\n",
       "      <th>2</th>\n",
       "      <td>M</td>\n",
       "      <td>96.42</td>\n",
       "      <td>43.959150</td>\n",
       "      <td>93.44</td>\n",
       "      <td>44.131677</td>\n",
       "      <td>8.01</td>\n",
       "      <td>22.133186</td>\n",
       "      <td>Для подростков</td>\n",
       "    </tr>\n",
       "    <tr>\n",
       "      <th>3</th>\n",
       "      <td>T</td>\n",
       "      <td>38.95</td>\n",
       "      <td>17.757819</td>\n",
       "      <td>34.07</td>\n",
       "      <td>16.091248</td>\n",
       "      <td>14.78</td>\n",
       "      <td>40.840011</td>\n",
       "      <td>10 лет и старше</td>\n",
       "    </tr>\n",
       "  </tbody>\n",
       "</table>\n",
       "</div>"
      ],
      "text/plain": [
       "  rating  na_sales  %_na_sales  eu_sales  %_eu_sales  jp_sales  %_jp_sales  \\\n",
       "0      E     50.74   23.133035     58.06   27.421716      8.94   24.702957   \n",
       "1   E10+     33.23   15.149995     26.16   12.355358      4.46   12.323846   \n",
       "2      M     96.42   43.959150     93.44   44.131677      8.01   22.133186   \n",
       "3      T     38.95   17.757819     34.07   16.091248     14.78   40.840011   \n",
       "\n",
       "              desc  \n",
       "0     Для взрослых  \n",
       "1         Для всех  \n",
       "2   Для подростков  \n",
       "3  10 лет и старше  "
      ]
     },
     "execution_count": 65,
     "metadata": {},
     "output_type": "execute_result"
    }
   ],
   "source": [
    "rating_for_region"
   ]
  },
  {
   "cell_type": "markdown",
   "metadata": {},
   "source": [
    "Выводы:\n",
    "\n",
    "Портрет пользователя NA:\n",
    "- Топ популярных платформ: PS4,XOne,X360,3DS,PS3 \n",
    "- Топ популярных жанров игр:  Shooter, Action, Sports, Role-Playing, Misc\n",
    "- Больше всего игр рейтинга M 43.9% от всех акуальных игр\n",
    "\n",
    "Портрет пользователя EU:\n",
    "- Топ популярных платформ: PS4,XOne, X360, PC, 3DS\n",
    "- Топ популярных жанров игр: Action, Shooter, Sports, Role-Playing, Racing\n",
    "- Больше всего игр рейтинга M  44.1% от всех акуальных игр\n",
    "\n",
    "Портрет пользователя JP:\n",
    "- Топ популярных платформ: 3DS, PS, PSV, PS3, WiiU\n",
    "- Топ популярных жанров игр: Role-Playing, Action, Misc, Fighting, Platform\n",
    "- Больше всего игр рейтинга T  40.8% от всех акуальных игр\n"
   ]
  },
  {
   "cell_type": "markdown",
   "metadata": {},
   "source": [
    "## Проверка гипотез"
   ]
  },
  {
   "cell_type": "markdown",
   "metadata": {},
   "source": [
    "### Проверка гипотезы: Средние пользовательские рейтинги платформ Xbox One и PC одинаковые"
   ]
  },
  {
   "cell_type": "markdown",
   "metadata": {},
   "source": [
    "H0: cредние пользовательские рейтинги платформ Xbox One и PC одинаковые.\n",
    "H1: cредние пользовательские рейтинги платформ Xbox One и PC различаются"
   ]
  },
  {
   "cell_type": "code",
   "execution_count": 66,
   "metadata": {},
   "outputs": [
    {
     "name": "stdout",
     "output_type": "stream",
     "text": [
      "Средний пользовательский рейтинг Xbox One: 6.59\n",
      "Средний пользовательский рейтинг PC: 6.3\n"
     ]
    }
   ],
   "source": [
    "#Сформируем данные для проверки гипотезы\n",
    "xone = df_actual_years.query(' platform == \"XOne\" ')['user_score'].dropna().to_list()\n",
    "pc = df_actual_years.query(' platform == \"PC\" ')['user_score'].dropna().to_list()\n",
    "\n",
    "#Рассчитаем средние значения\n",
    "xone_mean = df_actual_years.query(' platform == \"XOne\" ')['user_score'].mean()\n",
    "pc_mean = df_actual_years.query(' platform == \"PC\" ')['user_score'].mean()\n",
    "\n",
    "print('Средний пользовательский рейтинг Xbox One: {:.3}\\n'\n",
    "     'Средний пользовательский рейтинг PC: {:.2}'.format(xone_mean, pc_mean))"
   ]
  },
  {
   "cell_type": "code",
   "execution_count": 67,
   "metadata": {},
   "outputs": [
    {
     "name": "stdout",
     "output_type": "stream",
     "text": [
      "p-значение: 0.11601398086668832\n",
      "Не получилось отвергнуть нулевую гипотезу\n"
     ]
    }
   ],
   "source": [
    "alpha = .01\n",
    "\n",
    "results = st.ttest_ind(xone,  pc,  equal_var = False)\n",
    "\n",
    "print('p-значение:', results.pvalue)\n",
    "\n",
    "if (results.pvalue < alpha):\n",
    "    print(\"Отвергаем нулевую гипотезу\")\n",
    "else:\n",
    "    print(\"Не получилось отвергнуть нулевую гипотезу\")"
   ]
  },
  {
   "cell_type": "markdown",
   "metadata": {},
   "source": [
    "Отвергнуть нулевую гипотезу не получилось, а значит можно сказать, что с большой долей вероятности средние пользовательские рейтинги платформ XOne и PC не имеют статистически значимых отличий."
   ]
  },
  {
   "cell_type": "markdown",
   "metadata": {},
   "source": [
    "### Средние пользовательские рейтинги жанров Action и Sports разные"
   ]
  },
  {
   "cell_type": "markdown",
   "metadata": {},
   "source": [
    "H0: cредние пользовательские рейтинги жанров Action и Sports одинаковые\n",
    "H1: средние пользовательские рейтинги жанров Action и Sports разные"
   ]
  },
  {
   "cell_type": "code",
   "execution_count": 68,
   "metadata": {},
   "outputs": [
    {
     "name": "stdout",
     "output_type": "stream",
     "text": [
      "Средний пользовательский рейтинг Action: 6.76\n",
      "Средний пользовательский рейтинг Sports: 5.2\n"
     ]
    }
   ],
   "source": [
    "#Сформируем данные для проверки гипотезы\n",
    "action = df_actual_years.query('genre == \"Action\"')['user_score'].dropna().to_list()\n",
    "sports = df_actual_years.query('genre == \"Sports\"')['user_score'].dropna().to_list()\n",
    "\n",
    "#Рассчитаем средние значения\n",
    "action_mean = df_actual_years.query('genre == \"Action\"')['user_score'].mean()\n",
    "sports_mean = df_actual_years.query('genre == \"Sports\"')['user_score'].mean()\n",
    "\n",
    "print('Средний пользовательский рейтинг Action: {:.3}\\n'\n",
    "     'Средний пользовательский рейтинг Sports: {:.2}'.format(action_mean, sports_mean))"
   ]
  },
  {
   "cell_type": "code",
   "execution_count": 69,
   "metadata": {},
   "outputs": [
    {
     "name": "stdout",
     "output_type": "stream",
     "text": [
      "p-значение: 1.1825550382644557e-14\n",
      "Отвергаем нулевую гипотезу\n"
     ]
    }
   ],
   "source": [
    "alpha = .01\n",
    "\n",
    "results = st.ttest_ind(\n",
    "    action, \n",
    "    sports, \n",
    "    equal_var = False)\n",
    "\n",
    "print('p-значение:', results.pvalue)\n",
    "\n",
    "if (results.pvalue < alpha):\n",
    "    print(\"Отвергаем нулевую гипотезу\")\n",
    "else:\n",
    "    print(\"Не получилось отвергнуть нулевую гипотезу\")"
   ]
  },
  {
   "cell_type": "markdown",
   "metadata": {},
   "source": [
    "Альтернативная гипотеза может быть правдой, с большой долей вероятности средние пользовательские рейтинги жанров Action и Sports  имеют статистически значимые отличий."
   ]
  },
  {
   "cell_type": "markdown",
   "metadata": {},
   "source": [
    "## Вывод"
   ]
  },
  {
   "cell_type": "markdown",
   "metadata": {},
   "source": [
    "**Целью исследования** было выявление определяющих успешность игры закономерностей, что позволит сделать ставку на потенциально популярный продукт и спланировать рекламные кампании на предстоящий год.\n",
    "\n",
    "**Для этого был обработан массив данных:**\n",
    "- заменили названия столбцов\n",
    "- преобразовали типы данных в нужные\n",
    "- обработали пропуски\n",
    "- посчитали суммарные продажи во всех регионах в новый столбец\n",
    "\n",
    "**В ходе исследования мы выяснили:**\n",
    "- актуальный период для исследования 2011-2016гг\n",
    "- самые перспективные платформы это PS4, XOne\n",
    "- обьемы продаж немного зависят от оценок критиков, и не зависят от оценок пользователей\n",
    "- cамые продаваемые жанры: Action,Shooting именно в этих жанрах подавляющее большинство игр. \n",
    "\n",
    "**Анализируя портрет пользователей мы выяснили:**\n",
    "\n",
    "Портрет пользователя NA:\n",
    "- Топ популярных платформ: PS4,XOne,X360,3DS,PS3 \n",
    "- Топ популярных жанров игр:  Shooter, Action, Sports, Role-Playing, Misc\n",
    "- Больше всего игр рейтинга M 43.9% от всех акуальных игр\n",
    "\n",
    "Портрет пользователя EU:\n",
    "- Топ популярных платформ: PS4,XOne, X360, PC, 3DS\n",
    "- Топ популярных жанров игр: Action, Shooter, Sports, Role-Playing, Racing\n",
    "- Больше всего игр рейтинга M  44.1% от всех акуальных игр\n",
    "\n",
    "Портрет пользователя JP:\n",
    "- Топ популярных платформ: 3DS, PS, PSV, PS3, WiiU\n",
    "- Топ популярных жанров игр: Role-Playing, Action, Misc, Fighting, Platform\n",
    "- Больше всего игр рейтинга T  40.8% от всех акуальных игр\n",
    "\n",
    "\n",
    "**В результате проверки гипотез мы выявили:**\n",
    "- Cредние пользовательские рейтинги платформ Xbox One и PC не различаются\n",
    "- Cредние пользовательские рейтинги жанров Action и Sports различаются\n",
    "\n",
    "\n",
    "**Исходя из полученных результатов можно сделать соответствующие рекомендации:**\n",
    "\n",
    "- игры для приставок/консолей принесут больше прибыли\n",
    "- всегда важно ориентировать на показатели страны в которой продаешь товар\n",
    "- популярным продуктом будет являться игра на PS4/XOne в жанре Action/Shooting\n"
   ]
  }
 ],
 "metadata": {
  "ExecuteTimeLog": [
   {
    "duration": 4,
    "start_time": "2022-12-23T06:04:31.236Z"
   },
   {
    "duration": 764,
    "start_time": "2022-12-23T06:05:23.404Z"
   },
   {
    "duration": 91,
    "start_time": "2022-12-23T06:41:44.636Z"
   },
   {
    "duration": 16,
    "start_time": "2022-12-23T06:41:56.854Z"
   },
   {
    "duration": 34,
    "start_time": "2022-12-23T06:42:16.271Z"
   },
   {
    "duration": 13,
    "start_time": "2022-12-23T06:43:05.505Z"
   },
   {
    "duration": 4,
    "start_time": "2022-12-23T06:47:47.234Z"
   },
   {
    "duration": 5,
    "start_time": "2022-12-23T06:47:55.378Z"
   },
   {
    "duration": 5,
    "start_time": "2022-12-23T06:50:48.081Z"
   },
   {
    "duration": 5,
    "start_time": "2022-12-23T06:50:53.433Z"
   },
   {
    "duration": 8,
    "start_time": "2022-12-23T06:51:25.047Z"
   },
   {
    "duration": 106,
    "start_time": "2022-12-23T07:04:02.408Z"
   },
   {
    "duration": 9,
    "start_time": "2022-12-23T07:04:08.355Z"
   },
   {
    "duration": 8,
    "start_time": "2022-12-23T07:04:13.976Z"
   },
   {
    "duration": 3,
    "start_time": "2022-12-23T07:04:18.605Z"
   },
   {
    "duration": 12,
    "start_time": "2022-12-23T07:04:32.369Z"
   },
   {
    "duration": 24,
    "start_time": "2022-12-23T07:06:45.607Z"
   },
   {
    "duration": 13,
    "start_time": "2022-12-23T07:12:37.736Z"
   },
   {
    "duration": 21,
    "start_time": "2022-12-23T07:12:50.411Z"
   },
   {
    "duration": 36,
    "start_time": "2022-12-23T07:34:06.747Z"
   },
   {
    "duration": 22,
    "start_time": "2022-12-23T07:36:55.564Z"
   },
   {
    "duration": 23,
    "start_time": "2022-12-23T07:40:15.854Z"
   },
   {
    "duration": 9,
    "start_time": "2022-12-23T07:41:33.224Z"
   },
   {
    "duration": 7,
    "start_time": "2022-12-23T07:41:37.274Z"
   },
   {
    "duration": 19,
    "start_time": "2022-12-23T07:41:43.337Z"
   },
   {
    "duration": 28,
    "start_time": "2022-12-23T07:42:35.039Z"
   },
   {
    "duration": 33,
    "start_time": "2022-12-23T08:36:25.697Z"
   },
   {
    "duration": 29,
    "start_time": "2022-12-23T08:37:19.634Z"
   },
   {
    "duration": 23,
    "start_time": "2022-12-23T08:37:31.501Z"
   },
   {
    "duration": 16,
    "start_time": "2022-12-23T09:02:19.302Z"
   },
   {
    "duration": 2,
    "start_time": "2022-12-23T09:03:34.515Z"
   },
   {
    "duration": 19,
    "start_time": "2022-12-23T09:03:57.420Z"
   },
   {
    "duration": 12,
    "start_time": "2022-12-23T09:18:23.946Z"
   },
   {
    "duration": 11,
    "start_time": "2022-12-23T09:19:50.916Z"
   },
   {
    "duration": 460,
    "start_time": "2022-12-23T09:23:17.315Z"
   },
   {
    "duration": 202,
    "start_time": "2022-12-23T09:26:04.511Z"
   },
   {
    "duration": 13,
    "start_time": "2022-12-23T09:44:05.246Z"
   },
   {
    "duration": 12,
    "start_time": "2022-12-23T09:50:41.556Z"
   },
   {
    "duration": 218,
    "start_time": "2022-12-23T09:51:52.556Z"
   },
   {
    "duration": 336,
    "start_time": "2022-12-23T09:52:06.933Z"
   },
   {
    "duration": 310,
    "start_time": "2022-12-23T09:58:26.117Z"
   },
   {
    "duration": 322,
    "start_time": "2022-12-23T09:58:40.391Z"
   },
   {
    "duration": 437,
    "start_time": "2022-12-23T09:58:51.428Z"
   },
   {
    "duration": 338,
    "start_time": "2022-12-23T09:58:57.120Z"
   },
   {
    "duration": 369,
    "start_time": "2022-12-23T09:59:02.401Z"
   },
   {
    "duration": 298,
    "start_time": "2022-12-23T10:00:55.462Z"
   },
   {
    "duration": 353,
    "start_time": "2022-12-23T10:01:02.621Z"
   },
   {
    "duration": 395,
    "start_time": "2022-12-23T10:01:20.625Z"
   },
   {
    "duration": 5,
    "start_time": "2022-12-23T10:03:22.482Z"
   },
   {
    "duration": 19,
    "start_time": "2022-12-23T10:04:56.361Z"
   },
   {
    "duration": 238,
    "start_time": "2022-12-23T10:05:24.798Z"
   },
   {
    "duration": 242,
    "start_time": "2022-12-23T10:06:40.377Z"
   },
   {
    "duration": 275,
    "start_time": "2022-12-23T10:07:52.970Z"
   },
   {
    "duration": 270,
    "start_time": "2022-12-23T10:09:56.399Z"
   },
   {
    "duration": 250,
    "start_time": "2022-12-23T10:10:06.359Z"
   },
   {
    "duration": 255,
    "start_time": "2022-12-23T10:11:18.401Z"
   },
   {
    "duration": 12,
    "start_time": "2022-12-23T10:31:59.921Z"
   },
   {
    "duration": 53,
    "start_time": "2022-12-23T10:39:31.036Z"
   },
   {
    "duration": 6,
    "start_time": "2022-12-23T10:41:55.315Z"
   },
   {
    "duration": 28,
    "start_time": "2022-12-23T10:42:13.098Z"
   },
   {
    "duration": 327,
    "start_time": "2022-12-23T10:43:24.937Z"
   },
   {
    "duration": 4,
    "start_time": "2022-12-23T10:43:26.099Z"
   },
   {
    "duration": 364,
    "start_time": "2022-12-23T10:44:09.701Z"
   },
   {
    "duration": 229,
    "start_time": "2022-12-23T10:44:11.443Z"
   },
   {
    "duration": 15,
    "start_time": "2022-12-23T10:44:12.520Z"
   },
   {
    "duration": 22,
    "start_time": "2022-12-23T10:58:30.725Z"
   },
   {
    "duration": 19,
    "start_time": "2022-12-23T11:02:07.501Z"
   },
   {
    "duration": 24,
    "start_time": "2022-12-23T11:02:12.589Z"
   },
   {
    "duration": 23,
    "start_time": "2022-12-23T11:02:19.744Z"
   },
   {
    "duration": 6,
    "start_time": "2022-12-23T11:02:24.533Z"
   },
   {
    "duration": 21,
    "start_time": "2022-12-23T11:02:33.933Z"
   },
   {
    "duration": 21,
    "start_time": "2022-12-23T11:02:47.696Z"
   },
   {
    "duration": 22,
    "start_time": "2022-12-23T11:02:57.663Z"
   },
   {
    "duration": 21,
    "start_time": "2022-12-23T11:02:58.853Z"
   },
   {
    "duration": 3,
    "start_time": "2022-12-23T11:03:27.249Z"
   },
   {
    "duration": 51,
    "start_time": "2022-12-23T11:03:27.440Z"
   },
   {
    "duration": 15,
    "start_time": "2022-12-23T11:03:27.753Z"
   },
   {
    "duration": 29,
    "start_time": "2022-12-23T11:03:27.956Z"
   },
   {
    "duration": 14,
    "start_time": "2022-12-23T11:03:28.152Z"
   },
   {
    "duration": 5,
    "start_time": "2022-12-23T11:03:28.336Z"
   },
   {
    "duration": 5,
    "start_time": "2022-12-23T11:03:28.534Z"
   },
   {
    "duration": 5,
    "start_time": "2022-12-23T11:03:28.697Z"
   },
   {
    "duration": 3,
    "start_time": "2022-12-23T11:03:29.444Z"
   },
   {
    "duration": 15,
    "start_time": "2022-12-23T11:03:29.634Z"
   },
   {
    "duration": 23,
    "start_time": "2022-12-23T11:03:30.165Z"
   },
   {
    "duration": 18,
    "start_time": "2022-12-23T11:03:30.546Z"
   },
   {
    "duration": 10,
    "start_time": "2022-12-23T11:03:30.933Z"
   },
   {
    "duration": 16,
    "start_time": "2022-12-23T11:03:31.310Z"
   },
   {
    "duration": 16,
    "start_time": "2022-12-23T11:03:31.690Z"
   },
   {
    "duration": 7,
    "start_time": "2022-12-23T11:03:32.086Z"
   },
   {
    "duration": 29,
    "start_time": "2022-12-23T11:03:32.583Z"
   },
   {
    "duration": 22,
    "start_time": "2022-12-23T11:03:32.973Z"
   },
   {
    "duration": 21,
    "start_time": "2022-12-23T11:03:33.171Z"
   },
   {
    "duration": 21,
    "start_time": "2022-12-23T11:03:33.508Z"
   },
   {
    "duration": 16,
    "start_time": "2022-12-23T11:03:33.837Z"
   },
   {
    "duration": 17,
    "start_time": "2022-12-23T11:03:34.267Z"
   },
   {
    "duration": 11,
    "start_time": "2022-12-23T11:03:35.445Z"
   },
   {
    "duration": 182,
    "start_time": "2022-12-23T11:03:35.846Z"
   },
   {
    "duration": 13,
    "start_time": "2022-12-23T11:03:37.992Z"
   },
   {
    "duration": 12,
    "start_time": "2022-12-23T11:03:38.196Z"
   },
   {
    "duration": 337,
    "start_time": "2022-12-23T11:03:38.632Z"
   },
   {
    "duration": 5,
    "start_time": "2022-12-23T11:03:39.032Z"
   },
   {
    "duration": 19,
    "start_time": "2022-12-23T11:03:39.232Z"
   },
   {
    "duration": 262,
    "start_time": "2022-12-23T11:03:39.452Z"
   },
   {
    "duration": 249,
    "start_time": "2022-12-23T11:03:39.716Z"
   },
   {
    "duration": 10,
    "start_time": "2022-12-23T11:03:39.968Z"
   },
   {
    "duration": 22,
    "start_time": "2022-12-23T11:03:40.993Z"
   },
   {
    "duration": 23,
    "start_time": "2022-12-23T11:03:46.599Z"
   },
   {
    "duration": 5,
    "start_time": "2022-12-23T11:04:00.441Z"
   },
   {
    "duration": 22,
    "start_time": "2022-12-23T11:04:31.642Z"
   },
   {
    "duration": 24,
    "start_time": "2022-12-23T11:06:59.046Z"
   },
   {
    "duration": 5,
    "start_time": "2022-12-23T11:07:12.789Z"
   },
   {
    "duration": 319,
    "start_time": "2022-12-23T11:09:48.691Z"
   },
   {
    "duration": 102,
    "start_time": "2022-12-23T11:58:29.854Z"
   },
   {
    "duration": 200,
    "start_time": "2022-12-23T11:58:37.623Z"
   },
   {
    "duration": 105,
    "start_time": "2022-12-23T11:58:45.110Z"
   },
   {
    "duration": 8,
    "start_time": "2022-12-23T11:59:27.464Z"
   },
   {
    "duration": 3,
    "start_time": "2022-12-23T12:02:37.831Z"
   },
   {
    "duration": 200,
    "start_time": "2022-12-23T12:09:28.337Z"
   },
   {
    "duration": 167,
    "start_time": "2022-12-23T12:10:25.230Z"
   },
   {
    "duration": 7,
    "start_time": "2022-12-23T12:17:36.519Z"
   },
   {
    "duration": 156,
    "start_time": "2022-12-23T12:18:56.252Z"
   },
   {
    "duration": 5,
    "start_time": "2022-12-23T12:19:46.672Z"
   },
   {
    "duration": 5,
    "start_time": "2022-12-23T12:20:46.533Z"
   },
   {
    "duration": 160,
    "start_time": "2022-12-23T12:21:21.717Z"
   },
   {
    "duration": 5,
    "start_time": "2022-12-23T12:21:38.709Z"
   },
   {
    "duration": 6,
    "start_time": "2022-12-23T12:21:49.095Z"
   },
   {
    "duration": 14,
    "start_time": "2022-12-23T12:25:29.675Z"
   },
   {
    "duration": 13,
    "start_time": "2022-12-23T12:25:44.288Z"
   },
   {
    "duration": 14,
    "start_time": "2022-12-23T12:25:57.028Z"
   },
   {
    "duration": 13,
    "start_time": "2022-12-23T12:25:59.099Z"
   },
   {
    "duration": 14,
    "start_time": "2022-12-23T12:25:59.786Z"
   },
   {
    "duration": 14,
    "start_time": "2022-12-23T12:26:17.144Z"
   },
   {
    "duration": 40,
    "start_time": "2022-12-23T12:29:25.483Z"
   },
   {
    "duration": 235,
    "start_time": "2022-12-23T12:31:30.118Z"
   },
   {
    "duration": 266,
    "start_time": "2022-12-23T12:31:40.221Z"
   },
   {
    "duration": 262,
    "start_time": "2022-12-23T12:32:26.262Z"
   },
   {
    "duration": 13,
    "start_time": "2022-12-23T12:32:48.164Z"
   },
   {
    "duration": 250,
    "start_time": "2022-12-23T12:33:39.520Z"
   },
   {
    "duration": 15,
    "start_time": "2022-12-23T12:33:49.165Z"
   },
   {
    "duration": 16,
    "start_time": "2022-12-23T12:44:52.040Z"
   },
   {
    "duration": 18,
    "start_time": "2022-12-23T12:45:03.654Z"
   },
   {
    "duration": 16,
    "start_time": "2022-12-23T12:45:16.470Z"
   },
   {
    "duration": 7,
    "start_time": "2022-12-23T12:55:22.908Z"
   },
   {
    "duration": 8,
    "start_time": "2022-12-23T12:55:48.146Z"
   },
   {
    "duration": 8,
    "start_time": "2022-12-23T12:55:51.317Z"
   },
   {
    "duration": 12,
    "start_time": "2022-12-23T12:56:18.404Z"
   },
   {
    "duration": 21,
    "start_time": "2022-12-23T12:56:27.377Z"
   },
   {
    "duration": 6,
    "start_time": "2022-12-23T13:05:00.584Z"
   },
   {
    "duration": 530,
    "start_time": "2022-12-23T13:05:00.746Z"
   },
   {
    "duration": 14,
    "start_time": "2022-12-23T13:10:17.169Z"
   },
   {
    "duration": 440,
    "start_time": "2022-12-23T13:10:29.828Z"
   },
   {
    "duration": 7,
    "start_time": "2022-12-23T13:13:58.590Z"
   },
   {
    "duration": 5,
    "start_time": "2022-12-23T13:14:05.937Z"
   },
   {
    "duration": 6,
    "start_time": "2022-12-23T13:14:42.794Z"
   },
   {
    "duration": 5,
    "start_time": "2022-12-23T13:14:45.281Z"
   },
   {
    "duration": 8,
    "start_time": "2022-12-23T13:14:48.569Z"
   },
   {
    "duration": 7,
    "start_time": "2022-12-23T13:15:01.435Z"
   },
   {
    "duration": 5,
    "start_time": "2022-12-23T13:15:11.668Z"
   },
   {
    "duration": 14,
    "start_time": "2022-12-23T13:16:03.525Z"
   },
   {
    "duration": 6,
    "start_time": "2022-12-23T13:16:09.268Z"
   },
   {
    "duration": 18,
    "start_time": "2022-12-23T13:16:09.549Z"
   },
   {
    "duration": 6,
    "start_time": "2022-12-23T13:16:59.326Z"
   },
   {
    "duration": 5,
    "start_time": "2022-12-23T13:17:04.029Z"
   },
   {
    "duration": 20,
    "start_time": "2022-12-23T13:17:06.021Z"
   },
   {
    "duration": 9,
    "start_time": "2022-12-23T13:24:56.839Z"
   },
   {
    "duration": 12,
    "start_time": "2022-12-23T13:25:50.217Z"
   },
   {
    "duration": 14,
    "start_time": "2022-12-23T13:27:22.800Z"
   },
   {
    "duration": 15,
    "start_time": "2022-12-23T13:27:33.204Z"
   },
   {
    "duration": 5,
    "start_time": "2022-12-23T13:29:24.559Z"
   },
   {
    "duration": 6,
    "start_time": "2022-12-23T13:29:40.539Z"
   },
   {
    "duration": 16,
    "start_time": "2022-12-23T13:34:33.114Z"
   },
   {
    "duration": 20,
    "start_time": "2022-12-23T13:34:42.252Z"
   },
   {
    "duration": 17,
    "start_time": "2022-12-23T13:34:56.385Z"
   },
   {
    "duration": 16,
    "start_time": "2022-12-23T13:35:01.724Z"
   },
   {
    "duration": 19,
    "start_time": "2022-12-23T13:35:18.319Z"
   },
   {
    "duration": 22,
    "start_time": "2022-12-23T13:35:22.630Z"
   },
   {
    "duration": 14,
    "start_time": "2022-12-23T13:35:47.334Z"
   },
   {
    "duration": 14,
    "start_time": "2022-12-23T13:36:14.419Z"
   },
   {
    "duration": 6,
    "start_time": "2022-12-23T13:36:51.557Z"
   },
   {
    "duration": 988,
    "start_time": "2022-12-23T14:32:14.567Z"
   },
   {
    "duration": 98,
    "start_time": "2022-12-23T14:32:15.556Z"
   },
   {
    "duration": 14,
    "start_time": "2022-12-23T14:32:15.656Z"
   },
   {
    "duration": 58,
    "start_time": "2022-12-23T14:32:15.672Z"
   },
   {
    "duration": 24,
    "start_time": "2022-12-23T14:32:15.732Z"
   },
   {
    "duration": 17,
    "start_time": "2022-12-23T14:32:15.757Z"
   },
   {
    "duration": 63,
    "start_time": "2022-12-23T14:32:15.775Z"
   },
   {
    "duration": 45,
    "start_time": "2022-12-23T14:32:15.839Z"
   },
   {
    "duration": 35,
    "start_time": "2022-12-23T14:32:15.886Z"
   },
   {
    "duration": 52,
    "start_time": "2022-12-23T14:32:15.924Z"
   },
   {
    "duration": 53,
    "start_time": "2022-12-23T14:32:15.978Z"
   },
   {
    "duration": 44,
    "start_time": "2022-12-23T14:32:16.033Z"
   },
   {
    "duration": 46,
    "start_time": "2022-12-23T14:32:16.079Z"
   },
   {
    "duration": 47,
    "start_time": "2022-12-23T14:32:16.127Z"
   },
   {
    "duration": 41,
    "start_time": "2022-12-23T14:32:16.176Z"
   },
   {
    "duration": 36,
    "start_time": "2022-12-23T14:32:16.219Z"
   },
   {
    "duration": 70,
    "start_time": "2022-12-23T14:32:16.257Z"
   },
   {
    "duration": 39,
    "start_time": "2022-12-23T14:32:16.329Z"
   },
   {
    "duration": 75,
    "start_time": "2022-12-23T14:32:16.370Z"
   },
   {
    "duration": 34,
    "start_time": "2022-12-23T14:32:16.447Z"
   },
   {
    "duration": 44,
    "start_time": "2022-12-23T14:32:16.483Z"
   },
   {
    "duration": 42,
    "start_time": "2022-12-23T14:32:16.528Z"
   },
   {
    "duration": 40,
    "start_time": "2022-12-23T14:32:16.572Z"
   },
   {
    "duration": 200,
    "start_time": "2022-12-23T14:32:16.613Z"
   },
   {
    "duration": 12,
    "start_time": "2022-12-23T14:32:16.815Z"
   },
   {
    "duration": 47,
    "start_time": "2022-12-23T14:32:16.828Z"
   },
   {
    "duration": 327,
    "start_time": "2022-12-23T14:32:16.877Z"
   },
   {
    "duration": 4,
    "start_time": "2022-12-23T14:32:17.208Z"
   },
   {
    "duration": 45,
    "start_time": "2022-12-23T14:32:17.213Z"
   },
   {
    "duration": 265,
    "start_time": "2022-12-23T14:32:17.259Z"
   },
   {
    "duration": 238,
    "start_time": "2022-12-23T14:32:17.526Z"
   },
   {
    "duration": 11,
    "start_time": "2022-12-23T14:32:17.766Z"
   },
   {
    "duration": 38,
    "start_time": "2022-12-23T14:32:17.778Z"
   },
   {
    "duration": 11,
    "start_time": "2022-12-23T14:32:17.817Z"
   },
   {
    "duration": 300,
    "start_time": "2022-12-23T14:32:17.830Z"
   },
   {
    "duration": 107,
    "start_time": "2022-12-23T14:32:18.131Z"
   },
   {
    "duration": 16,
    "start_time": "2022-12-23T14:32:18.240Z"
   },
   {
    "duration": 163,
    "start_time": "2022-12-23T14:32:18.258Z"
   },
   {
    "duration": 4,
    "start_time": "2022-12-23T14:32:18.422Z"
   },
   {
    "duration": 143,
    "start_time": "2022-12-23T14:32:18.428Z"
   },
   {
    "duration": 4,
    "start_time": "2022-12-23T14:32:18.573Z"
   },
   {
    "duration": 255,
    "start_time": "2022-12-23T14:32:18.578Z"
   },
   {
    "duration": 5,
    "start_time": "2022-12-23T14:32:18.834Z"
   },
   {
    "duration": 43,
    "start_time": "2022-12-23T14:32:18.840Z"
   },
   {
    "duration": 23,
    "start_time": "2022-12-23T14:32:18.885Z"
   },
   {
    "duration": 28,
    "start_time": "2022-12-23T14:32:18.910Z"
   },
   {
    "duration": 274,
    "start_time": "2022-12-23T14:32:18.939Z"
   },
   {
    "duration": 13,
    "start_time": "2022-12-23T14:32:19.214Z"
   },
   {
    "duration": 29,
    "start_time": "2022-12-23T14:32:19.229Z"
   },
   {
    "duration": 20,
    "start_time": "2022-12-23T14:32:19.260Z"
   },
   {
    "duration": 15,
    "start_time": "2022-12-23T14:32:19.282Z"
   },
   {
    "duration": 26,
    "start_time": "2022-12-23T14:32:19.299Z"
   },
   {
    "duration": 5,
    "start_time": "2022-12-23T14:32:19.327Z"
   },
   {
    "duration": 377,
    "start_time": "2022-12-23T14:32:19.334Z"
   },
   {
    "duration": 14,
    "start_time": "2022-12-23T14:32:19.713Z"
   },
   {
    "duration": 390,
    "start_time": "2022-12-23T14:32:19.729Z"
   },
   {
    "duration": 5,
    "start_time": "2022-12-23T14:32:20.121Z"
   },
   {
    "duration": 28,
    "start_time": "2022-12-23T14:32:20.127Z"
   },
   {
    "duration": 36,
    "start_time": "2022-12-23T14:32:20.157Z"
   },
   {
    "duration": 21,
    "start_time": "2022-12-23T14:32:20.194Z"
   },
   {
    "duration": 30,
    "start_time": "2022-12-23T14:32:20.216Z"
   },
   {
    "duration": 34,
    "start_time": "2022-12-23T14:32:20.247Z"
   },
   {
    "duration": 31,
    "start_time": "2022-12-23T14:32:20.282Z"
   },
   {
    "duration": 21,
    "start_time": "2022-12-23T14:32:20.315Z"
   },
   {
    "duration": 35,
    "start_time": "2022-12-23T14:32:20.338Z"
   },
   {
    "duration": 46,
    "start_time": "2022-12-23T14:32:20.374Z"
   },
   {
    "duration": 23,
    "start_time": "2022-12-23T14:38:15.742Z"
   },
   {
    "duration": 95,
    "start_time": "2022-12-23T14:40:11.066Z"
   },
   {
    "duration": 350,
    "start_time": "2022-12-23T14:40:23.748Z"
   },
   {
    "duration": 1049,
    "start_time": "2022-12-23T14:46:34.097Z"
   },
   {
    "duration": 118,
    "start_time": "2022-12-23T14:46:35.148Z"
   },
   {
    "duration": 20,
    "start_time": "2022-12-23T14:46:35.269Z"
   },
   {
    "duration": 32,
    "start_time": "2022-12-23T14:46:35.292Z"
   },
   {
    "duration": 13,
    "start_time": "2022-12-23T14:46:35.326Z"
   },
   {
    "duration": 12,
    "start_time": "2022-12-23T14:46:35.352Z"
   },
   {
    "duration": 29,
    "start_time": "2022-12-23T14:46:35.365Z"
   },
   {
    "duration": 22,
    "start_time": "2022-12-23T14:46:35.396Z"
   },
   {
    "duration": 12,
    "start_time": "2022-12-23T14:46:35.420Z"
   },
   {
    "duration": 27,
    "start_time": "2022-12-23T14:46:35.435Z"
   },
   {
    "duration": 26,
    "start_time": "2022-12-23T14:46:35.465Z"
   },
   {
    "duration": 19,
    "start_time": "2022-12-23T14:46:35.492Z"
   },
   {
    "duration": 13,
    "start_time": "2022-12-23T14:46:35.513Z"
   },
   {
    "duration": 28,
    "start_time": "2022-12-23T14:46:35.527Z"
   },
   {
    "duration": 17,
    "start_time": "2022-12-23T14:46:35.557Z"
   },
   {
    "duration": 24,
    "start_time": "2022-12-23T14:46:35.575Z"
   },
   {
    "duration": 25,
    "start_time": "2022-12-23T14:46:35.601Z"
   },
   {
    "duration": 35,
    "start_time": "2022-12-23T14:46:35.628Z"
   },
   {
    "duration": 40,
    "start_time": "2022-12-23T14:46:35.664Z"
   },
   {
    "duration": 23,
    "start_time": "2022-12-23T14:46:35.706Z"
   },
   {
    "duration": 26,
    "start_time": "2022-12-23T14:46:35.731Z"
   },
   {
    "duration": 17,
    "start_time": "2022-12-23T14:46:35.759Z"
   },
   {
    "duration": 21,
    "start_time": "2022-12-23T14:46:35.778Z"
   },
   {
    "duration": 206,
    "start_time": "2022-12-23T14:46:35.801Z"
   },
   {
    "duration": 13,
    "start_time": "2022-12-23T14:46:36.008Z"
   },
   {
    "duration": 29,
    "start_time": "2022-12-23T14:46:36.023Z"
   },
   {
    "duration": 351,
    "start_time": "2022-12-23T14:46:36.061Z"
   },
   {
    "duration": 4,
    "start_time": "2022-12-23T14:46:36.416Z"
   },
   {
    "duration": 33,
    "start_time": "2022-12-23T14:46:36.422Z"
   },
   {
    "duration": 288,
    "start_time": "2022-12-23T14:46:36.457Z"
   },
   {
    "duration": 262,
    "start_time": "2022-12-23T14:46:36.747Z"
   },
   {
    "duration": 12,
    "start_time": "2022-12-23T14:46:37.010Z"
   },
   {
    "duration": 46,
    "start_time": "2022-12-23T14:46:37.023Z"
   },
   {
    "duration": 3,
    "start_time": "2022-12-23T14:46:37.071Z"
   },
   {
    "duration": 338,
    "start_time": "2022-12-23T14:46:37.076Z"
   },
   {
    "duration": 116,
    "start_time": "2022-12-23T14:46:37.415Z"
   },
   {
    "duration": 26,
    "start_time": "2022-12-23T14:46:37.533Z"
   },
   {
    "duration": 171,
    "start_time": "2022-12-23T14:46:37.564Z"
   },
   {
    "duration": 460,
    "start_time": "2022-12-23T14:46:37.736Z"
   },
   {
    "duration": 6,
    "start_time": "2022-12-23T14:46:38.199Z"
   },
   {
    "duration": 175,
    "start_time": "2022-12-23T14:46:38.207Z"
   },
   {
    "duration": 6,
    "start_time": "2022-12-23T14:46:38.384Z"
   },
   {
    "duration": 179,
    "start_time": "2022-12-23T14:46:38.391Z"
   },
   {
    "duration": 4,
    "start_time": "2022-12-23T14:46:38.572Z"
   },
   {
    "duration": 17,
    "start_time": "2022-12-23T14:46:38.577Z"
   },
   {
    "duration": 17,
    "start_time": "2022-12-23T14:46:38.596Z"
   },
   {
    "duration": 17,
    "start_time": "2022-12-23T14:46:38.615Z"
   },
   {
    "duration": 269,
    "start_time": "2022-12-23T14:46:38.634Z"
   },
   {
    "duration": 11,
    "start_time": "2022-12-23T14:46:38.905Z"
   },
   {
    "duration": 15,
    "start_time": "2022-12-23T14:46:38.917Z"
   },
   {
    "duration": 40,
    "start_time": "2022-12-23T14:46:38.935Z"
   },
   {
    "duration": 23,
    "start_time": "2022-12-23T14:46:38.978Z"
   },
   {
    "duration": 30,
    "start_time": "2022-12-23T14:46:39.002Z"
   },
   {
    "duration": 22,
    "start_time": "2022-12-23T14:46:39.033Z"
   },
   {
    "duration": 402,
    "start_time": "2022-12-23T14:46:39.057Z"
   },
   {
    "duration": 17,
    "start_time": "2022-12-23T14:46:39.460Z"
   },
   {
    "duration": 406,
    "start_time": "2022-12-23T14:46:39.478Z"
   },
   {
    "duration": 5,
    "start_time": "2022-12-23T14:46:39.885Z"
   },
   {
    "duration": 12,
    "start_time": "2022-12-23T14:46:39.891Z"
   },
   {
    "duration": 12,
    "start_time": "2022-12-23T14:46:39.905Z"
   },
   {
    "duration": 12,
    "start_time": "2022-12-23T14:46:39.919Z"
   },
   {
    "duration": 10,
    "start_time": "2022-12-23T14:46:39.932Z"
   },
   {
    "duration": 21,
    "start_time": "2022-12-23T14:46:39.944Z"
   },
   {
    "duration": 20,
    "start_time": "2022-12-23T14:46:39.966Z"
   },
   {
    "duration": 4,
    "start_time": "2022-12-23T14:46:39.988Z"
   },
   {
    "duration": 19,
    "start_time": "2022-12-23T14:46:39.994Z"
   },
   {
    "duration": 7,
    "start_time": "2022-12-23T14:46:40.014Z"
   },
   {
    "duration": 48,
    "start_time": "2022-12-24T07:48:55.318Z"
   },
   {
    "duration": 1185,
    "start_time": "2022-12-24T07:49:08.145Z"
   },
   {
    "duration": 151,
    "start_time": "2022-12-24T07:49:09.334Z"
   },
   {
    "duration": 15,
    "start_time": "2022-12-24T07:49:10.074Z"
   },
   {
    "duration": 32,
    "start_time": "2022-12-24T07:49:11.079Z"
   },
   {
    "duration": 14,
    "start_time": "2022-12-24T07:49:11.717Z"
   },
   {
    "duration": 5,
    "start_time": "2022-12-24T07:49:11.997Z"
   },
   {
    "duration": 4,
    "start_time": "2022-12-24T07:49:12.241Z"
   },
   {
    "duration": 5,
    "start_time": "2022-12-24T07:49:12.455Z"
   },
   {
    "duration": 3,
    "start_time": "2022-12-24T07:49:15.356Z"
   },
   {
    "duration": 13,
    "start_time": "2022-12-24T07:49:16.027Z"
   },
   {
    "duration": 22,
    "start_time": "2022-12-24T07:49:18.287Z"
   },
   {
    "duration": 20,
    "start_time": "2022-12-24T07:49:20.786Z"
   },
   {
    "duration": 10,
    "start_time": "2022-12-24T07:49:21.370Z"
   },
   {
    "duration": 18,
    "start_time": "2022-12-24T07:49:21.837Z"
   },
   {
    "duration": 16,
    "start_time": "2022-12-24T07:49:22.327Z"
   },
   {
    "duration": 7,
    "start_time": "2022-12-24T07:49:22.810Z"
   },
   {
    "duration": 22,
    "start_time": "2022-12-24T07:49:23.040Z"
   },
   {
    "duration": 21,
    "start_time": "2022-12-24T07:49:23.455Z"
   },
   {
    "duration": 21,
    "start_time": "2022-12-24T07:49:23.682Z"
   },
   {
    "duration": 20,
    "start_time": "2022-12-24T07:49:23.906Z"
   },
   {
    "duration": 14,
    "start_time": "2022-12-24T07:49:24.340Z"
   },
   {
    "duration": 16,
    "start_time": "2022-12-24T07:49:24.762Z"
   },
   {
    "duration": 11,
    "start_time": "2022-12-24T07:49:26.298Z"
   },
   {
    "duration": 189,
    "start_time": "2022-12-24T07:49:26.973Z"
   },
   {
    "duration": 17,
    "start_time": "2022-12-24T07:49:28.466Z"
   },
   {
    "duration": 14,
    "start_time": "2022-12-24T07:49:28.883Z"
   },
   {
    "duration": 310,
    "start_time": "2022-12-24T07:49:29.316Z"
   },
   {
    "duration": 4,
    "start_time": "2022-12-24T07:49:29.979Z"
   },
   {
    "duration": 18,
    "start_time": "2022-12-24T07:49:30.186Z"
   },
   {
    "duration": 255,
    "start_time": "2022-12-24T07:49:30.410Z"
   },
   {
    "duration": 267,
    "start_time": "2022-12-24T07:49:30.666Z"
   },
   {
    "duration": 15,
    "start_time": "2022-12-24T07:49:30.935Z"
   },
   {
    "duration": 23,
    "start_time": "2022-12-24T07:49:32.879Z"
   },
   {
    "duration": 4,
    "start_time": "2022-12-24T07:49:33.491Z"
   },
   {
    "duration": 287,
    "start_time": "2022-12-24T07:49:38.204Z"
   },
   {
    "duration": 292,
    "start_time": "2022-12-24T07:49:48.676Z"
   },
   {
    "duration": 103,
    "start_time": "2022-12-24T07:50:04.896Z"
   },
   {
    "duration": 9,
    "start_time": "2022-12-24T07:50:10.550Z"
   },
   {
    "duration": 157,
    "start_time": "2022-12-24T07:50:16.012Z"
   },
   {
    "duration": 4,
    "start_time": "2022-12-24T07:54:09.547Z"
   },
   {
    "duration": 229,
    "start_time": "2022-12-24T07:54:10.398Z"
   },
   {
    "duration": 4,
    "start_time": "2022-12-24T07:54:17.457Z"
   },
   {
    "duration": 154,
    "start_time": "2022-12-24T07:54:22.140Z"
   },
   {
    "duration": 5,
    "start_time": "2022-12-24T07:54:27.654Z"
   },
   {
    "duration": 12,
    "start_time": "2022-12-24T07:54:33.430Z"
   },
   {
    "duration": 13,
    "start_time": "2022-12-24T07:54:34.053Z"
   },
   {
    "duration": 13,
    "start_time": "2022-12-24T07:56:08.762Z"
   },
   {
    "duration": 13,
    "start_time": "2022-12-24T07:56:09.342Z"
   },
   {
    "duration": 12,
    "start_time": "2022-12-24T07:56:10.954Z"
   },
   {
    "duration": 11,
    "start_time": "2022-12-24T07:59:00.222Z"
   },
   {
    "duration": 13,
    "start_time": "2022-12-24T08:04:17.036Z"
   },
   {
    "duration": 217,
    "start_time": "2022-12-24T08:04:17.540Z"
   },
   {
    "duration": 215,
    "start_time": "2022-12-24T08:05:13.105Z"
   },
   {
    "duration": 16,
    "start_time": "2022-12-24T08:10:41.844Z"
   },
   {
    "duration": 19,
    "start_time": "2022-12-24T08:10:42.417Z"
   },
   {
    "duration": 14,
    "start_time": "2022-12-24T08:10:43.099Z"
   },
   {
    "duration": 21,
    "start_time": "2022-12-24T08:13:03.620Z"
   },
   {
    "duration": 3,
    "start_time": "2022-12-24T08:13:04.858Z"
   },
   {
    "duration": 310,
    "start_time": "2022-12-24T08:13:05.469Z"
   },
   {
    "duration": 13,
    "start_time": "2022-12-24T08:13:07.582Z"
   },
   {
    "duration": 366,
    "start_time": "2022-12-24T08:13:08.608Z"
   },
   {
    "duration": 4,
    "start_time": "2022-12-24T08:15:31.026Z"
   },
   {
    "duration": 4,
    "start_time": "2022-12-24T08:15:31.633Z"
   },
   {
    "duration": 8,
    "start_time": "2022-12-24T08:15:32.275Z"
   },
   {
    "duration": 7,
    "start_time": "2022-12-24T08:15:32.848Z"
   },
   {
    "duration": 70,
    "start_time": "2022-12-24T08:15:33.437Z"
   },
   {
    "duration": 12,
    "start_time": "2022-12-24T08:15:35.869Z"
   },
   {
    "duration": 5,
    "start_time": "2022-12-24T08:18:40.908Z"
   },
   {
    "duration": 10,
    "start_time": "2022-12-24T08:18:44.357Z"
   },
   {
    "duration": 5,
    "start_time": "2022-12-24T08:18:50.568Z"
   },
   {
    "duration": 4,
    "start_time": "2022-12-24T08:18:50.922Z"
   },
   {
    "duration": 6,
    "start_time": "2022-12-24T08:18:51.251Z"
   },
   {
    "duration": 7,
    "start_time": "2022-12-24T08:18:51.752Z"
   },
   {
    "duration": 5,
    "start_time": "2022-12-24T08:18:52.245Z"
   },
   {
    "duration": 10,
    "start_time": "2022-12-24T08:18:54.344Z"
   },
   {
    "duration": 17,
    "start_time": "2022-12-24T08:20:40.481Z"
   },
   {
    "duration": 141,
    "start_time": "2022-12-24T08:40:49.212Z"
   },
   {
    "duration": 245,
    "start_time": "2022-12-24T08:41:53.694Z"
   },
   {
    "duration": 126,
    "start_time": "2022-12-24T08:43:21.917Z"
   },
   {
    "duration": 215,
    "start_time": "2022-12-24T08:43:47.781Z"
   },
   {
    "duration": 241,
    "start_time": "2022-12-24T08:44:08.241Z"
   },
   {
    "duration": 985,
    "start_time": "2022-12-24T10:10:48.477Z"
   },
   {
    "duration": 108,
    "start_time": "2022-12-24T10:10:49.464Z"
   },
   {
    "duration": 28,
    "start_time": "2022-12-24T10:10:49.573Z"
   },
   {
    "duration": 43,
    "start_time": "2022-12-24T10:10:49.604Z"
   },
   {
    "duration": 19,
    "start_time": "2022-12-24T10:10:49.649Z"
   },
   {
    "duration": 8,
    "start_time": "2022-12-24T10:10:49.670Z"
   },
   {
    "duration": 6,
    "start_time": "2022-12-24T10:10:49.679Z"
   },
   {
    "duration": 9,
    "start_time": "2022-12-24T10:10:49.687Z"
   },
   {
    "duration": 3,
    "start_time": "2022-12-24T10:10:49.698Z"
   },
   {
    "duration": 23,
    "start_time": "2022-12-24T10:10:49.721Z"
   },
   {
    "duration": 35,
    "start_time": "2022-12-24T10:10:49.746Z"
   },
   {
    "duration": 50,
    "start_time": "2022-12-24T10:10:49.782Z"
   },
   {
    "duration": 10,
    "start_time": "2022-12-24T10:10:49.834Z"
   },
   {
    "duration": 19,
    "start_time": "2022-12-24T10:10:49.846Z"
   },
   {
    "duration": 14,
    "start_time": "2022-12-24T10:10:49.867Z"
   },
   {
    "duration": 10,
    "start_time": "2022-12-24T10:10:49.882Z"
   },
   {
    "duration": 50,
    "start_time": "2022-12-24T10:10:49.894Z"
   },
   {
    "duration": 22,
    "start_time": "2022-12-24T10:10:49.946Z"
   },
   {
    "duration": 20,
    "start_time": "2022-12-24T10:10:49.970Z"
   },
   {
    "duration": 44,
    "start_time": "2022-12-24T10:10:49.991Z"
   },
   {
    "duration": 17,
    "start_time": "2022-12-24T10:10:50.036Z"
   },
   {
    "duration": 30,
    "start_time": "2022-12-24T10:10:50.054Z"
   },
   {
    "duration": 24,
    "start_time": "2022-12-24T10:10:50.085Z"
   },
   {
    "duration": 202,
    "start_time": "2022-12-24T10:10:50.110Z"
   },
   {
    "duration": 18,
    "start_time": "2022-12-24T10:10:50.314Z"
   },
   {
    "duration": 10,
    "start_time": "2022-12-24T10:10:50.339Z"
   },
   {
    "duration": 348,
    "start_time": "2022-12-24T10:10:50.351Z"
   },
   {
    "duration": 4,
    "start_time": "2022-12-24T10:10:50.703Z"
   },
   {
    "duration": 34,
    "start_time": "2022-12-24T10:10:50.708Z"
   },
   {
    "duration": 273,
    "start_time": "2022-12-24T10:10:50.743Z"
   },
   {
    "duration": 316,
    "start_time": "2022-12-24T10:10:51.024Z"
   },
   {
    "duration": 11,
    "start_time": "2022-12-24T10:10:51.342Z"
   },
   {
    "duration": 23,
    "start_time": "2022-12-24T10:10:51.355Z"
   },
   {
    "duration": 4,
    "start_time": "2022-12-24T10:10:51.380Z"
   },
   {
    "duration": 323,
    "start_time": "2022-12-24T10:10:51.385Z"
   },
   {
    "duration": 125,
    "start_time": "2022-12-24T10:10:51.710Z"
   },
   {
    "duration": 9,
    "start_time": "2022-12-24T10:10:51.839Z"
   },
   {
    "duration": 190,
    "start_time": "2022-12-24T10:10:51.849Z"
   },
   {
    "duration": 407,
    "start_time": "2022-12-24T10:10:52.041Z"
   },
   {
    "duration": 4,
    "start_time": "2022-12-24T10:10:52.450Z"
   },
   {
    "duration": 156,
    "start_time": "2022-12-24T10:10:52.455Z"
   },
   {
    "duration": 11,
    "start_time": "2022-12-24T10:10:52.613Z"
   },
   {
    "duration": 187,
    "start_time": "2022-12-24T10:10:52.628Z"
   },
   {
    "duration": 4,
    "start_time": "2022-12-24T10:10:52.817Z"
   },
   {
    "duration": 33,
    "start_time": "2022-12-24T10:10:52.823Z"
   },
   {
    "duration": 22,
    "start_time": "2022-12-24T10:10:52.857Z"
   },
   {
    "duration": 20,
    "start_time": "2022-12-24T10:10:52.880Z"
   },
   {
    "duration": 275,
    "start_time": "2022-12-24T10:10:52.902Z"
   },
   {
    "duration": 11,
    "start_time": "2022-12-24T10:10:53.179Z"
   },
   {
    "duration": 13,
    "start_time": "2022-12-24T10:10:53.192Z"
   },
   {
    "duration": 246,
    "start_time": "2022-12-24T10:10:53.223Z"
   },
   {
    "duration": 15,
    "start_time": "2022-12-24T10:10:53.471Z"
   },
   {
    "duration": 31,
    "start_time": "2022-12-24T10:10:53.488Z"
   },
   {
    "duration": 20,
    "start_time": "2022-12-24T10:10:53.521Z"
   },
   {
    "duration": 25,
    "start_time": "2022-12-24T10:10:53.542Z"
   },
   {
    "duration": 10,
    "start_time": "2022-12-24T10:10:53.568Z"
   },
   {
    "duration": 330,
    "start_time": "2022-12-24T10:10:53.580Z"
   },
   {
    "duration": 24,
    "start_time": "2022-12-24T10:10:53.912Z"
   },
   {
    "duration": 385,
    "start_time": "2022-12-24T10:10:53.938Z"
   },
   {
    "duration": 11,
    "start_time": "2022-12-24T10:10:54.327Z"
   },
   {
    "duration": 8,
    "start_time": "2022-12-24T10:10:54.340Z"
   },
   {
    "duration": 13,
    "start_time": "2022-12-24T10:10:54.350Z"
   },
   {
    "duration": 7,
    "start_time": "2022-12-24T10:10:54.365Z"
   },
   {
    "duration": 8,
    "start_time": "2022-12-24T10:10:54.373Z"
   },
   {
    "duration": 15,
    "start_time": "2022-12-24T10:10:54.382Z"
   },
   {
    "duration": 31,
    "start_time": "2022-12-24T10:10:54.399Z"
   },
   {
    "duration": 7,
    "start_time": "2022-12-24T10:10:54.435Z"
   },
   {
    "duration": 23,
    "start_time": "2022-12-24T10:10:54.444Z"
   },
   {
    "duration": 8,
    "start_time": "2022-12-24T10:10:54.468Z"
   }
  ],
  "kernelspec": {
   "display_name": "Python 3 (ipykernel)",
   "language": "python",
   "name": "python3"
  },
  "language_info": {
   "codemirror_mode": {
    "name": "ipython",
    "version": 3
   },
   "file_extension": ".py",
   "mimetype": "text/x-python",
   "name": "python",
   "nbconvert_exporter": "python",
   "pygments_lexer": "ipython3",
   "version": "3.10.9"
  },
  "toc": {
   "base_numbering": 1,
   "nav_menu": {},
   "number_sections": true,
   "sideBar": true,
   "skip_h1_title": true,
   "title_cell": "Table of Contents",
   "title_sidebar": "Contents",
   "toc_cell": false,
   "toc_position": {},
   "toc_section_display": true,
   "toc_window_display": false
  }
 },
 "nbformat": 4,
 "nbformat_minor": 2
}
