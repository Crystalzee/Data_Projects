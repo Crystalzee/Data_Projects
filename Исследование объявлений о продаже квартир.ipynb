{
 "cells": [
  {
   "cell_type": "markdown",
   "metadata": {},
   "source": [
    "# Исследование объявлений о продаже квартир\n",
    "\n",
    "В вашем распоряжении данные сервиса Яндекс.Недвижимость — архив объявлений о продаже квартир в Санкт-Петербурге и соседних населённых пунктов за несколько лет. Нужно научиться определять рыночную стоимость объектов недвижимости. Ваша задача — установить параметры. Это позволит построить автоматизированную систему: она отследит аномалии и мошенническую деятельность. \n",
    "\n",
    "По каждой квартире на продажу доступны два вида данных. Первые вписаны пользователем, вторые — получены автоматически на основе картографических данных. Например, расстояние до центра, аэропорта, ближайшего парка и водоёма. "
   ]
  },
  {
   "cell_type": "markdown",
   "metadata": {},
   "source": [
    "### Откройте файл с данными и изучите общую информацию. "
   ]
  },
  {
   "cell_type": "code",
   "execution_count": 1,
   "metadata": {},
   "outputs": [
    {
     "data": {
      "text/html": [
       "<div>\n",
       "<style scoped>\n",
       "    .dataframe tbody tr th:only-of-type {\n",
       "        vertical-align: middle;\n",
       "    }\n",
       "\n",
       "    .dataframe tbody tr th {\n",
       "        vertical-align: top;\n",
       "    }\n",
       "\n",
       "    .dataframe thead th {\n",
       "        text-align: right;\n",
       "    }\n",
       "</style>\n",
       "<table border=\"1\" class=\"dataframe\">\n",
       "  <thead>\n",
       "    <tr style=\"text-align: right;\">\n",
       "      <th></th>\n",
       "      <th>total_images</th>\n",
       "      <th>last_price</th>\n",
       "      <th>total_area</th>\n",
       "      <th>first_day_exposition</th>\n",
       "      <th>rooms</th>\n",
       "      <th>ceiling_height</th>\n",
       "      <th>floors_total</th>\n",
       "      <th>living_area</th>\n",
       "      <th>floor</th>\n",
       "      <th>is_apartment</th>\n",
       "      <th>...</th>\n",
       "      <th>kitchen_area</th>\n",
       "      <th>balcony</th>\n",
       "      <th>locality_name</th>\n",
       "      <th>airports_nearest</th>\n",
       "      <th>cityCenters_nearest</th>\n",
       "      <th>parks_around3000</th>\n",
       "      <th>parks_nearest</th>\n",
       "      <th>ponds_around3000</th>\n",
       "      <th>ponds_nearest</th>\n",
       "      <th>days_exposition</th>\n",
       "    </tr>\n",
       "  </thead>\n",
       "  <tbody>\n",
       "    <tr>\n",
       "      <th>0</th>\n",
       "      <td>20</td>\n",
       "      <td>13000000.0</td>\n",
       "      <td>108.0</td>\n",
       "      <td>2019-03-07T00:00:00</td>\n",
       "      <td>3</td>\n",
       "      <td>2.70</td>\n",
       "      <td>16.0</td>\n",
       "      <td>51.0</td>\n",
       "      <td>8</td>\n",
       "      <td>NaN</td>\n",
       "      <td>...</td>\n",
       "      <td>25.0</td>\n",
       "      <td>NaN</td>\n",
       "      <td>Санкт-Петербург</td>\n",
       "      <td>18863.0</td>\n",
       "      <td>16028.0</td>\n",
       "      <td>1.0</td>\n",
       "      <td>482.0</td>\n",
       "      <td>2.0</td>\n",
       "      <td>755.0</td>\n",
       "      <td>NaN</td>\n",
       "    </tr>\n",
       "    <tr>\n",
       "      <th>1</th>\n",
       "      <td>7</td>\n",
       "      <td>3350000.0</td>\n",
       "      <td>40.4</td>\n",
       "      <td>2018-12-04T00:00:00</td>\n",
       "      <td>1</td>\n",
       "      <td>NaN</td>\n",
       "      <td>11.0</td>\n",
       "      <td>18.6</td>\n",
       "      <td>1</td>\n",
       "      <td>NaN</td>\n",
       "      <td>...</td>\n",
       "      <td>11.0</td>\n",
       "      <td>2.0</td>\n",
       "      <td>посёлок Шушары</td>\n",
       "      <td>12817.0</td>\n",
       "      <td>18603.0</td>\n",
       "      <td>0.0</td>\n",
       "      <td>NaN</td>\n",
       "      <td>0.0</td>\n",
       "      <td>NaN</td>\n",
       "      <td>81.0</td>\n",
       "    </tr>\n",
       "    <tr>\n",
       "      <th>2</th>\n",
       "      <td>10</td>\n",
       "      <td>5196000.0</td>\n",
       "      <td>56.0</td>\n",
       "      <td>2015-08-20T00:00:00</td>\n",
       "      <td>2</td>\n",
       "      <td>NaN</td>\n",
       "      <td>5.0</td>\n",
       "      <td>34.3</td>\n",
       "      <td>4</td>\n",
       "      <td>NaN</td>\n",
       "      <td>...</td>\n",
       "      <td>8.3</td>\n",
       "      <td>0.0</td>\n",
       "      <td>Санкт-Петербург</td>\n",
       "      <td>21741.0</td>\n",
       "      <td>13933.0</td>\n",
       "      <td>1.0</td>\n",
       "      <td>90.0</td>\n",
       "      <td>2.0</td>\n",
       "      <td>574.0</td>\n",
       "      <td>558.0</td>\n",
       "    </tr>\n",
       "    <tr>\n",
       "      <th>3</th>\n",
       "      <td>0</td>\n",
       "      <td>64900000.0</td>\n",
       "      <td>159.0</td>\n",
       "      <td>2015-07-24T00:00:00</td>\n",
       "      <td>3</td>\n",
       "      <td>NaN</td>\n",
       "      <td>14.0</td>\n",
       "      <td>NaN</td>\n",
       "      <td>9</td>\n",
       "      <td>NaN</td>\n",
       "      <td>...</td>\n",
       "      <td>NaN</td>\n",
       "      <td>0.0</td>\n",
       "      <td>Санкт-Петербург</td>\n",
       "      <td>28098.0</td>\n",
       "      <td>6800.0</td>\n",
       "      <td>2.0</td>\n",
       "      <td>84.0</td>\n",
       "      <td>3.0</td>\n",
       "      <td>234.0</td>\n",
       "      <td>424.0</td>\n",
       "    </tr>\n",
       "    <tr>\n",
       "      <th>4</th>\n",
       "      <td>2</td>\n",
       "      <td>10000000.0</td>\n",
       "      <td>100.0</td>\n",
       "      <td>2018-06-19T00:00:00</td>\n",
       "      <td>2</td>\n",
       "      <td>3.03</td>\n",
       "      <td>14.0</td>\n",
       "      <td>32.0</td>\n",
       "      <td>13</td>\n",
       "      <td>NaN</td>\n",
       "      <td>...</td>\n",
       "      <td>41.0</td>\n",
       "      <td>NaN</td>\n",
       "      <td>Санкт-Петербург</td>\n",
       "      <td>31856.0</td>\n",
       "      <td>8098.0</td>\n",
       "      <td>2.0</td>\n",
       "      <td>112.0</td>\n",
       "      <td>1.0</td>\n",
       "      <td>48.0</td>\n",
       "      <td>121.0</td>\n",
       "    </tr>\n",
       "  </tbody>\n",
       "</table>\n",
       "<p>5 rows × 22 columns</p>\n",
       "</div>"
      ],
      "text/plain": [
       "   total_images  last_price  total_area first_day_exposition  rooms  \\\n",
       "0            20  13000000.0       108.0  2019-03-07T00:00:00      3   \n",
       "1             7   3350000.0        40.4  2018-12-04T00:00:00      1   \n",
       "2            10   5196000.0        56.0  2015-08-20T00:00:00      2   \n",
       "3             0  64900000.0       159.0  2015-07-24T00:00:00      3   \n",
       "4             2  10000000.0       100.0  2018-06-19T00:00:00      2   \n",
       "\n",
       "   ceiling_height  floors_total  living_area  floor is_apartment  ...  \\\n",
       "0            2.70          16.0         51.0      8          NaN  ...   \n",
       "1             NaN          11.0         18.6      1          NaN  ...   \n",
       "2             NaN           5.0         34.3      4          NaN  ...   \n",
       "3             NaN          14.0          NaN      9          NaN  ...   \n",
       "4            3.03          14.0         32.0     13          NaN  ...   \n",
       "\n",
       "   kitchen_area  balcony    locality_name  airports_nearest  \\\n",
       "0          25.0      NaN  Санкт-Петербург           18863.0   \n",
       "1          11.0      2.0   посёлок Шушары           12817.0   \n",
       "2           8.3      0.0  Санкт-Петербург           21741.0   \n",
       "3           NaN      0.0  Санкт-Петербург           28098.0   \n",
       "4          41.0      NaN  Санкт-Петербург           31856.0   \n",
       "\n",
       "  cityCenters_nearest  parks_around3000  parks_nearest  ponds_around3000  \\\n",
       "0             16028.0               1.0          482.0               2.0   \n",
       "1             18603.0               0.0            NaN               0.0   \n",
       "2             13933.0               1.0           90.0               2.0   \n",
       "3              6800.0               2.0           84.0               3.0   \n",
       "4              8098.0               2.0          112.0               1.0   \n",
       "\n",
       "   ponds_nearest  days_exposition  \n",
       "0          755.0              NaN  \n",
       "1            NaN             81.0  \n",
       "2          574.0            558.0  \n",
       "3          234.0            424.0  \n",
       "4           48.0            121.0  \n",
       "\n",
       "[5 rows x 22 columns]"
      ]
     },
     "execution_count": 1,
     "metadata": {},
     "output_type": "execute_result"
    }
   ],
   "source": [
    "import pandas as pd\n",
    "import numpy as np\n",
    "import matplotlib.pyplot as plt\n",
    "\n",
    "data = pd.read_csv('/datasets/real_estate_data.csv', sep='\\t')\n",
    "data.head()\n"
   ]
  },
  {
   "cell_type": "code",
   "execution_count": 2,
   "metadata": {},
   "outputs": [
    {
     "name": "stdout",
     "output_type": "stream",
     "text": [
      "<class 'pandas.core.frame.DataFrame'>\n",
      "RangeIndex: 23699 entries, 0 to 23698\n",
      "Data columns (total 22 columns):\n",
      " #   Column                Non-Null Count  Dtype  \n",
      "---  ------                --------------  -----  \n",
      " 0   total_images          23699 non-null  int64  \n",
      " 1   last_price            23699 non-null  float64\n",
      " 2   total_area            23699 non-null  float64\n",
      " 3   first_day_exposition  23699 non-null  object \n",
      " 4   rooms                 23699 non-null  int64  \n",
      " 5   ceiling_height        14504 non-null  float64\n",
      " 6   floors_total          23613 non-null  float64\n",
      " 7   living_area           21796 non-null  float64\n",
      " 8   floor                 23699 non-null  int64  \n",
      " 9   is_apartment          2775 non-null   object \n",
      " 10  studio                23699 non-null  bool   \n",
      " 11  open_plan             23699 non-null  bool   \n",
      " 12  kitchen_area          21421 non-null  float64\n",
      " 13  balcony               12180 non-null  float64\n",
      " 14  locality_name         23650 non-null  object \n",
      " 15  airports_nearest      18157 non-null  float64\n",
      " 16  cityCenters_nearest   18180 non-null  float64\n",
      " 17  parks_around3000      18181 non-null  float64\n",
      " 18  parks_nearest         8079 non-null   float64\n",
      " 19  ponds_around3000      18181 non-null  float64\n",
      " 20  ponds_nearest         9110 non-null   float64\n",
      " 21  days_exposition       20518 non-null  float64\n",
      "dtypes: bool(2), float64(14), int64(3), object(3)\n",
      "memory usage: 3.7+ MB\n",
      "None\n"
     ]
    }
   ],
   "source": [
    "print(data.info())"
   ]
  },
  {
   "cell_type": "code",
   "execution_count": 3,
   "metadata": {},
   "outputs": [
    {
     "data": {
      "image/png": "[encoded data removed]",
      "text/plain": [
       "<Figure size 1080x1440 with 20 Axes>"
      ]
     },
     "metadata": {
      "needs_background": "light"
     },
     "output_type": "display_data"
    }
   ],
   "source": [
    "data.hist(figsize=(15, 20));"
   ]
  },
  {
   "cell_type": "markdown",
   "metadata": {},
   "source": [
    "В 1 пункте были загружены  данные, и изучена общая информация о датафрейме а именно: вывод датафрейма, информация о столбцах и показательные гистограммы для всех числовых столбцов таблицы."
   ]
  },
  {
   "cell_type": "markdown",
   "metadata": {},
   "source": [
    "### Предобработка данных"
   ]
  },
  {
   "cell_type": "code",
   "execution_count": 4,
   "metadata": {},
   "outputs": [],
   "source": [
    "# приведем столбцы к змеиному синтаксису\n",
    "data.rename(columns={'cityCenters_nearest' : 'city_centers_nearest'}, inplace=True)\n",
    "data.rename(columns={'parks_around3000' : 'parks_around_3000'}, inplace=True)\n",
    "data.rename(columns={'ponds_around3000' : 'ponds_around_3000'}, inplace=True)"
   ]
  },
  {
   "cell_type": "markdown",
   "metadata": {},
   "source": [
    "1.Пропущенные значения"
   ]
  },
  {
   "cell_type": "code",
   "execution_count": 5,
   "metadata": {},
   "outputs": [
    {
     "data": {
      "text/html": [
       "<div>\n",
       "<style scoped>\n",
       "    .dataframe tbody tr th:only-of-type {\n",
       "        vertical-align: middle;\n",
       "    }\n",
       "\n",
       "    .dataframe tbody tr th {\n",
       "        vertical-align: top;\n",
       "    }\n",
       "\n",
       "    .dataframe thead th {\n",
       "        text-align: right;\n",
       "    }\n",
       "</style>\n",
       "<table border=\"1\" class=\"dataframe\">\n",
       "  <thead>\n",
       "    <tr style=\"text-align: right;\">\n",
       "      <th></th>\n",
       "      <th>name</th>\n",
       "      <th>kol_miss</th>\n",
       "      <th>perc_miss</th>\n",
       "    </tr>\n",
       "  </thead>\n",
       "  <tbody>\n",
       "    <tr>\n",
       "      <th>total_images</th>\n",
       "      <td>total_images</td>\n",
       "      <td>0</td>\n",
       "      <td>0.00</td>\n",
       "    </tr>\n",
       "    <tr>\n",
       "      <th>last_price</th>\n",
       "      <td>last_price</td>\n",
       "      <td>0</td>\n",
       "      <td>0.00</td>\n",
       "    </tr>\n",
       "    <tr>\n",
       "      <th>total_area</th>\n",
       "      <td>total_area</td>\n",
       "      <td>0</td>\n",
       "      <td>0.00</td>\n",
       "    </tr>\n",
       "    <tr>\n",
       "      <th>first_day_exposition</th>\n",
       "      <td>first_day_exposition</td>\n",
       "      <td>0</td>\n",
       "      <td>0.00</td>\n",
       "    </tr>\n",
       "    <tr>\n",
       "      <th>rooms</th>\n",
       "      <td>rooms</td>\n",
       "      <td>0</td>\n",
       "      <td>0.00</td>\n",
       "    </tr>\n",
       "    <tr>\n",
       "      <th>ceiling_height</th>\n",
       "      <td>ceiling_height</td>\n",
       "      <td>9195</td>\n",
       "      <td>38.80</td>\n",
       "    </tr>\n",
       "    <tr>\n",
       "      <th>floors_total</th>\n",
       "      <td>floors_total</td>\n",
       "      <td>86</td>\n",
       "      <td>0.36</td>\n",
       "    </tr>\n",
       "    <tr>\n",
       "      <th>living_area</th>\n",
       "      <td>living_area</td>\n",
       "      <td>1903</td>\n",
       "      <td>8.03</td>\n",
       "    </tr>\n",
       "    <tr>\n",
       "      <th>floor</th>\n",
       "      <td>floor</td>\n",
       "      <td>0</td>\n",
       "      <td>0.00</td>\n",
       "    </tr>\n",
       "    <tr>\n",
       "      <th>is_apartment</th>\n",
       "      <td>is_apartment</td>\n",
       "      <td>20924</td>\n",
       "      <td>88.29</td>\n",
       "    </tr>\n",
       "    <tr>\n",
       "      <th>studio</th>\n",
       "      <td>studio</td>\n",
       "      <td>0</td>\n",
       "      <td>0.00</td>\n",
       "    </tr>\n",
       "    <tr>\n",
       "      <th>open_plan</th>\n",
       "      <td>open_plan</td>\n",
       "      <td>0</td>\n",
       "      <td>0.00</td>\n",
       "    </tr>\n",
       "    <tr>\n",
       "      <th>kitchen_area</th>\n",
       "      <td>kitchen_area</td>\n",
       "      <td>2278</td>\n",
       "      <td>9.61</td>\n",
       "    </tr>\n",
       "    <tr>\n",
       "      <th>balcony</th>\n",
       "      <td>balcony</td>\n",
       "      <td>11519</td>\n",
       "      <td>48.61</td>\n",
       "    </tr>\n",
       "    <tr>\n",
       "      <th>locality_name</th>\n",
       "      <td>locality_name</td>\n",
       "      <td>49</td>\n",
       "      <td>0.21</td>\n",
       "    </tr>\n",
       "    <tr>\n",
       "      <th>airports_nearest</th>\n",
       "      <td>airports_nearest</td>\n",
       "      <td>5542</td>\n",
       "      <td>23.38</td>\n",
       "    </tr>\n",
       "    <tr>\n",
       "      <th>city_centers_nearest</th>\n",
       "      <td>city_centers_nearest</td>\n",
       "      <td>5519</td>\n",
       "      <td>23.29</td>\n",
       "    </tr>\n",
       "    <tr>\n",
       "      <th>parks_around_3000</th>\n",
       "      <td>parks_around_3000</td>\n",
       "      <td>5518</td>\n",
       "      <td>23.28</td>\n",
       "    </tr>\n",
       "    <tr>\n",
       "      <th>parks_nearest</th>\n",
       "      <td>parks_nearest</td>\n",
       "      <td>15620</td>\n",
       "      <td>65.91</td>\n",
       "    </tr>\n",
       "    <tr>\n",
       "      <th>ponds_around_3000</th>\n",
       "      <td>ponds_around_3000</td>\n",
       "      <td>5518</td>\n",
       "      <td>23.28</td>\n",
       "    </tr>\n",
       "    <tr>\n",
       "      <th>ponds_nearest</th>\n",
       "      <td>ponds_nearest</td>\n",
       "      <td>14589</td>\n",
       "      <td>61.56</td>\n",
       "    </tr>\n",
       "    <tr>\n",
       "      <th>days_exposition</th>\n",
       "      <td>days_exposition</td>\n",
       "      <td>3181</td>\n",
       "      <td>13.42</td>\n",
       "    </tr>\n",
       "  </tbody>\n",
       "</table>\n",
       "</div>"
      ],
      "text/plain": [
       "                                      name  kol_miss  perc_miss\n",
       "total_images                  total_images         0       0.00\n",
       "last_price                      last_price         0       0.00\n",
       "total_area                      total_area         0       0.00\n",
       "first_day_exposition  first_day_exposition         0       0.00\n",
       "rooms                                rooms         0       0.00\n",
       "ceiling_height              ceiling_height      9195      38.80\n",
       "floors_total                  floors_total        86       0.36\n",
       "living_area                    living_area      1903       8.03\n",
       "floor                                floor         0       0.00\n",
       "is_apartment                  is_apartment     20924      88.29\n",
       "studio                              studio         0       0.00\n",
       "open_plan                        open_plan         0       0.00\n",
       "kitchen_area                  kitchen_area      2278       9.61\n",
       "balcony                            balcony     11519      48.61\n",
       "locality_name                locality_name        49       0.21\n",
       "airports_nearest          airports_nearest      5542      23.38\n",
       "city_centers_nearest  city_centers_nearest      5519      23.29\n",
       "parks_around_3000        parks_around_3000      5518      23.28\n",
       "parks_nearest                parks_nearest     15620      65.91\n",
       "ponds_around_3000        ponds_around_3000      5518      23.28\n",
       "ponds_nearest                ponds_nearest     14589      61.56\n",
       "days_exposition            days_exposition      3181      13.42"
      ]
     },
     "execution_count": 5,
     "metadata": {},
     "output_type": "execute_result"
    }
   ],
   "source": [
    "# Найдем количество пропущенных значений и определим сколько процентов пропуски состовляют от общего количества данных в столбце:\n",
    "def miss_values(data):\n",
    "    miss_count = data.isna().sum()\n",
    "    miss_percent = round(data.isna().sum() * 100 / len(data), 2)\n",
    "    \n",
    "    miss_data = pd.DataFrame({'name': data.columns,\n",
    "                              'kol_miss': miss_count,\n",
    "                              'perc_miss': miss_percent})\n",
    "    \n",
    "    return miss_data\n",
    "miss_values(data)\n"
   ]
  },
  {
   "cell_type": "markdown",
   "metadata": {},
   "source": [
    "Количество пропусков из общего количества:\n",
    "- ceiling_height: 9195 пропусков, а это 38%. Оставим значение Null в столбце с высотой потолков.\n",
    "- floors_total: данные не ввели оставляем Null.\n",
    "- living_area: данные не ввели оставляем Null.\n",
    "- is_apartment: скорее всего так обозначаются не апартаменты, поставим значение False.\n",
    "- kitchen_area: данные не ввели оставляем Null.\n",
    "- balcony: скорее всего там нет балконов, поставим значение 0.\n",
    "- locality_name: данные не ввели оставляем Null.\n",
    "- airports_nearest: аэропортов  нет, оставляем Null.\n",
    "- city_centers_nearest: центр далеко оставляем Null.\n",
    "- parks_around_3000: парков нет в радиусе 3км, поставим значение 0.\n",
    "- parks_nearest: парков нет, оставляем Null.\n",
    "- ponds_around_3000: прудов нет в радиусе 3км, поставим значение 0.\n",
    "- ponds_nearest: прудов нет, оставляем Null.\n",
    "- days_exposition: данные не ввели оставляем Null.\n",
    "\n",
    "\n"
   ]
  },
  {
   "cell_type": "code",
   "execution_count": 6,
   "metadata": {},
   "outputs": [],
   "source": [
    "# изменим нужные Null значения\n",
    "data['is_apartment'] = data['is_apartment'].fillna('False')\n",
    "data['balcony'] = data['balcony'].fillna(0).astype(int)\n",
    "data['parks_around_3000'] = data['parks_around_3000'].fillna(value=0).astype(int)\n",
    "data['ponds_around_3000'] = data['ponds_around_3000'].fillna(value=0).astype(int)"
   ]
  },
  {
   "cell_type": "code",
   "execution_count": 7,
   "metadata": {},
   "outputs": [
    {
     "data": {
      "text/plain": [
       "True"
      ]
     },
     "execution_count": 7,
     "metadata": {},
     "output_type": "execute_result"
    }
   ],
   "source": [
    "# код ревьюера\n",
    "\n",
    "bool('False')"
   ]
  },
  {
   "cell_type": "code",
   "execution_count": 8,
   "metadata": {
    "scrolled": false
   },
   "outputs": [],
   "source": [
    "# Заменяем оставшиеся пустые значения высоты потолков на медианное значение по всему датасету\n",
    "data['ceiling_height'].fillna(data['ceiling_height'].median(), inplace=True)\n",
    "\n",
    "# Заменяем оставшиеся пустые значения жилой площади и площади кухни\n",
    "living_ratio = data['living_area'].mean() / data['total_area'].mean()\n",
    "kitchen_ratio = data['kitchen_area'].mean() / data['total_area'].mean()\n",
    "data['living_area'].fillna(living_ratio * data['total_area'], inplace=True)\n",
    "data['kitchen_area'].fillna(kitchen_ratio * data['total_area'], inplace=True)\n",
    "\n",
    "# Удаляем записи, где отсутствует локация и этажность\n",
    "data.dropna(subset=['locality_name'], inplace=True)\n",
    "data.dropna(subset=['floors_total'], inplace=True)\n",
    "\n",
    "\n"
   ]
  },
  {
   "cell_type": "code",
   "execution_count": 9,
   "metadata": {},
   "outputs": [
    {
     "data": {
      "text/plain": [
       "total_images                0\n",
       "last_price                  0\n",
       "total_area                  0\n",
       "first_day_exposition        0\n",
       "rooms                       0\n",
       "ceiling_height              0\n",
       "floors_total                0\n",
       "living_area                 0\n",
       "floor                       0\n",
       "is_apartment                0\n",
       "studio                      0\n",
       "open_plan                   0\n",
       "kitchen_area                0\n",
       "balcony                     0\n",
       "locality_name               0\n",
       "airports_nearest         5524\n",
       "city_centers_nearest     5501\n",
       "parks_around_3000           0\n",
       "parks_nearest           15535\n",
       "ponds_around_3000           0\n",
       "ponds_nearest           14529\n",
       "days_exposition          3171\n",
       "dtype: int64"
      ]
     },
     "execution_count": 9,
     "metadata": {},
     "output_type": "execute_result"
    }
   ],
   "source": [
    "data.isnull().sum()"
   ]
  },
  {
   "cell_type": "markdown",
   "metadata": {},
   "source": [
    "2. Типы данных"
   ]
  },
  {
   "cell_type": "code",
   "execution_count": 10,
   "metadata": {},
   "outputs": [
    {
     "name": "stdout",
     "output_type": "stream",
     "text": [
      "<class 'pandas.core.frame.DataFrame'>\n",
      "Int64Index: 23565 entries, 0 to 23698\n",
      "Data columns (total 22 columns):\n",
      " #   Column                Non-Null Count  Dtype  \n",
      "---  ------                --------------  -----  \n",
      " 0   total_images          23565 non-null  int64  \n",
      " 1   last_price            23565 non-null  float64\n",
      " 2   total_area            23565 non-null  float64\n",
      " 3   first_day_exposition  23565 non-null  object \n",
      " 4   rooms                 23565 non-null  int64  \n",
      " 5   ceiling_height        23565 non-null  float64\n",
      " 6   floors_total          23565 non-null  float64\n",
      " 7   living_area           23565 non-null  float64\n",
      " 8   floor                 23565 non-null  int64  \n",
      " 9   is_apartment          23565 non-null  object \n",
      " 10  studio                23565 non-null  bool   \n",
      " 11  open_plan             23565 non-null  bool   \n",
      " 12  kitchen_area          23565 non-null  float64\n",
      " 13  balcony               23565 non-null  int64  \n",
      " 14  locality_name         23565 non-null  object \n",
      " 15  airports_nearest      18041 non-null  float64\n",
      " 16  city_centers_nearest  18064 non-null  float64\n",
      " 17  parks_around_3000     23565 non-null  int64  \n",
      " 18  parks_nearest         8030 non-null   float64\n",
      " 19  ponds_around_3000     23565 non-null  int64  \n",
      " 20  ponds_nearest         9036 non-null   float64\n",
      " 21  days_exposition       20394 non-null  float64\n",
      "dtypes: bool(2), float64(11), int64(6), object(3)\n",
      "memory usage: 3.8+ MB\n"
     ]
    }
   ],
   "source": [
    "data.info()"
   ]
  },
  {
   "cell_type": "markdown",
   "metadata": {},
   "source": [
    "- Изменение типа first_day_exposition c object на date необходимо, чтобы работать с датой было удобно.\n",
    "- В остальных случаях экономим памть"
   ]
  },
  {
   "cell_type": "code",
   "execution_count": 11,
   "metadata": {},
   "outputs": [],
   "source": [
    "data['first_day_exposition'] = pd.to_datetime(data['first_day_exposition'], format='%Y-%m-%dT%H:%M:%S')\n",
    "data['floors_total'] =  data['floors_total'].astype('Int8')\n",
    "data['last_price'] = data['last_price'].astype('int64')\n",
    "\n"
   ]
  },
  {
   "cell_type": "code",
   "execution_count": 12,
   "metadata": {},
   "outputs": [
    {
     "name": "stdout",
     "output_type": "stream",
     "text": [
      "<class 'pandas.core.frame.DataFrame'>\n",
      "Int64Index: 23565 entries, 0 to 23698\n",
      "Data columns (total 22 columns):\n",
      " #   Column                Non-Null Count  Dtype         \n",
      "---  ------                --------------  -----         \n",
      " 0   total_images          23565 non-null  int64         \n",
      " 1   last_price            23565 non-null  int64         \n",
      " 2   total_area            23565 non-null  float64       \n",
      " 3   first_day_exposition  23565 non-null  datetime64[ns]\n",
      " 4   rooms                 23565 non-null  int64         \n",
      " 5   ceiling_height        23565 non-null  float64       \n",
      " 6   floors_total          23565 non-null  Int8          \n",
      " 7   living_area           23565 non-null  float64       \n",
      " 8   floor                 23565 non-null  int64         \n",
      " 9   is_apartment          23565 non-null  object        \n",
      " 10  studio                23565 non-null  bool          \n",
      " 11  open_plan             23565 non-null  bool          \n",
      " 12  kitchen_area          23565 non-null  float64       \n",
      " 13  balcony               23565 non-null  int64         \n",
      " 14  locality_name         23565 non-null  object        \n",
      " 15  airports_nearest      18041 non-null  float64       \n",
      " 16  city_centers_nearest  18064 non-null  float64       \n",
      " 17  parks_around_3000     23565 non-null  int64         \n",
      " 18  parks_nearest         8030 non-null   float64       \n",
      " 19  ponds_around_3000     23565 non-null  int64         \n",
      " 20  ponds_nearest         9036 non-null   float64       \n",
      " 21  days_exposition       20394 non-null  float64       \n",
      "dtypes: Int8(1), bool(2), datetime64[ns](1), float64(9), int64(7), object(2)\n",
      "memory usage: 3.7+ MB\n"
     ]
    }
   ],
   "source": [
    "data.info()\n",
    "\n",
    "\n",
    "     "
   ]
  },
  {
   "cell_type": "markdown",
   "metadata": {},
   "source": [
    "3. Уникальные значения"
   ]
  },
  {
   "cell_type": "code",
   "execution_count": 13,
   "metadata": {},
   "outputs": [
    {
     "name": "stdout",
     "output_type": "stream",
     "text": [
      "Количество уникальных значений: 364\n"
     ]
    }
   ],
   "source": [
    "def loc_length():\n",
    "    return print('Количество уникальных значений:', data['locality_name'].unique().shape[0])\n",
    "loc_length()\n"
   ]
  },
  {
   "cell_type": "markdown",
   "metadata": {},
   "source": [
    "Удаление дубликатов:\n",
    "1. Перевод в нижний регистр.\n",
    "2. Замена ё на е.\n",
    "3. \"городской поселок\" --> \"поселок городского типа\"\n",
    "4. наличие явнфх дубликатов"
   ]
  },
  {
   "cell_type": "code",
   "execution_count": 14,
   "metadata": {},
   "outputs": [],
   "source": [
    "# нижний регистр\n",
    "data['locality_name'] = data['locality_name'].str.lower()\n"
   ]
  },
  {
   "cell_type": "code",
   "execution_count": 15,
   "metadata": {},
   "outputs": [
    {
     "name": "stdout",
     "output_type": "stream",
     "text": [
      "Заменяем все \"ё\" на \"е\"\n",
      "Количество уникальных значений: 330\n",
      "\n"
     ]
    }
   ],
   "source": [
    "data['locality_name'] = data['locality_name'].str.replace('ё', 'е')\n",
    "print('Заменяем все \"ё\" на \"е\"')\n",
    "loc_length()\n",
    "print()\n",
    "\n"
   ]
  },
  {
   "cell_type": "code",
   "execution_count": 16,
   "metadata": {},
   "outputs": [
    {
     "name": "stdout",
     "output_type": "stream",
     "text": [
      "Заменяем \"городской поселок\" на \"поселок городского типа\"\n",
      "Количество уникальных значений: 323\n",
      "\n"
     ]
    }
   ],
   "source": [
    "data['locality_name'] = data['locality_name'].str.replace('городской поселок','поселок городского типа')\n",
    "print('Заменяем \"городской поселок\" на \"поселок городского типа\"')\n",
    "loc_length()\n",
    "print()"
   ]
  },
  {
   "cell_type": "code",
   "execution_count": 17,
   "metadata": {},
   "outputs": [
    {
     "name": "stdout",
     "output_type": "stream",
     "text": [
      "Количество явных дубликатов: 0\n"
     ]
    }
   ],
   "source": [
    "# кол-во явных дубликато\n",
    "print('Количество явных дубликатов:', data.duplicated().sum())\n",
    "\n"
   ]
  },
  {
   "cell_type": "markdown",
   "metadata": {},
   "source": [
    "Аномальные значения"
   ]
  },
  {
   "cell_type": "code",
   "execution_count": 18,
   "metadata": {},
   "outputs": [
    {
     "data": {
      "text/html": [
       "<div>\n",
       "<style scoped>\n",
       "    .dataframe tbody tr th:only-of-type {\n",
       "        vertical-align: middle;\n",
       "    }\n",
       "\n",
       "    .dataframe tbody tr th {\n",
       "        vertical-align: top;\n",
       "    }\n",
       "\n",
       "    .dataframe thead th {\n",
       "        text-align: right;\n",
       "    }\n",
       "</style>\n",
       "<table border=\"1\" class=\"dataframe\">\n",
       "  <thead>\n",
       "    <tr style=\"text-align: right;\">\n",
       "      <th></th>\n",
       "      <th>total_images</th>\n",
       "      <th>last_price</th>\n",
       "      <th>total_area</th>\n",
       "      <th>rooms</th>\n",
       "      <th>ceiling_height</th>\n",
       "      <th>floors_total</th>\n",
       "      <th>living_area</th>\n",
       "      <th>floor</th>\n",
       "      <th>kitchen_area</th>\n",
       "      <th>balcony</th>\n",
       "      <th>airports_nearest</th>\n",
       "      <th>city_centers_nearest</th>\n",
       "      <th>parks_around_3000</th>\n",
       "      <th>parks_nearest</th>\n",
       "      <th>ponds_around_3000</th>\n",
       "      <th>ponds_nearest</th>\n",
       "      <th>days_exposition</th>\n",
       "    </tr>\n",
       "  </thead>\n",
       "  <tbody>\n",
       "    <tr>\n",
       "      <th>count</th>\n",
       "      <td>23565.000000</td>\n",
       "      <td>2.356500e+04</td>\n",
       "      <td>23565.000000</td>\n",
       "      <td>23565.000000</td>\n",
       "      <td>23565.000000</td>\n",
       "      <td>23565.000000</td>\n",
       "      <td>23565.000000</td>\n",
       "      <td>23565.000000</td>\n",
       "      <td>23565.000000</td>\n",
       "      <td>23565.000000</td>\n",
       "      <td>18041.000000</td>\n",
       "      <td>18064.000000</td>\n",
       "      <td>23565.000000</td>\n",
       "      <td>8030.000000</td>\n",
       "      <td>23565.000000</td>\n",
       "      <td>9036.000000</td>\n",
       "      <td>20394.000000</td>\n",
       "    </tr>\n",
       "    <tr>\n",
       "      <th>mean</th>\n",
       "      <td>9.878421</td>\n",
       "      <td>6.540058e+06</td>\n",
       "      <td>60.322824</td>\n",
       "      <td>2.070656</td>\n",
       "      <td>2.724530</td>\n",
       "      <td>10.675875</td>\n",
       "      <td>34.591303</td>\n",
       "      <td>5.878124</td>\n",
       "      <td>10.500277</td>\n",
       "      <td>0.593677</td>\n",
       "      <td>28797.082701</td>\n",
       "      <td>14192.656056</td>\n",
       "      <td>0.468831</td>\n",
       "      <td>490.580448</td>\n",
       "      <td>0.589900</td>\n",
       "      <td>518.289509</td>\n",
       "      <td>180.741395</td>\n",
       "    </tr>\n",
       "    <tr>\n",
       "      <th>std</th>\n",
       "      <td>5.681156</td>\n",
       "      <td>1.091093e+07</td>\n",
       "      <td>35.657060</td>\n",
       "      <td>1.078591</td>\n",
       "      <td>0.991026</td>\n",
       "      <td>6.594823</td>\n",
       "      <td>22.372806</td>\n",
       "      <td>4.871485</td>\n",
       "      <td>6.038042</td>\n",
       "      <td>0.960660</td>\n",
       "      <td>12632.499735</td>\n",
       "      <td>8613.348153</td>\n",
       "      <td>0.748403</td>\n",
       "      <td>341.572956</td>\n",
       "      <td>0.883966</td>\n",
       "      <td>278.009558</td>\n",
       "      <td>219.732782</td>\n",
       "    </tr>\n",
       "    <tr>\n",
       "      <th>min</th>\n",
       "      <td>0.000000</td>\n",
       "      <td>1.219000e+04</td>\n",
       "      <td>12.000000</td>\n",
       "      <td>0.000000</td>\n",
       "      <td>1.000000</td>\n",
       "      <td>1.000000</td>\n",
       "      <td>2.000000</td>\n",
       "      <td>1.000000</td>\n",
       "      <td>1.300000</td>\n",
       "      <td>0.000000</td>\n",
       "      <td>0.000000</td>\n",
       "      <td>181.000000</td>\n",
       "      <td>0.000000</td>\n",
       "      <td>1.000000</td>\n",
       "      <td>0.000000</td>\n",
       "      <td>13.000000</td>\n",
       "      <td>1.000000</td>\n",
       "    </tr>\n",
       "    <tr>\n",
       "      <th>25%</th>\n",
       "      <td>6.000000</td>\n",
       "      <td>3.400000e+06</td>\n",
       "      <td>40.000000</td>\n",
       "      <td>1.000000</td>\n",
       "      <td>2.600000</td>\n",
       "      <td>5.000000</td>\n",
       "      <td>19.000000</td>\n",
       "      <td>2.000000</td>\n",
       "      <td>7.000000</td>\n",
       "      <td>0.000000</td>\n",
       "      <td>18565.000000</td>\n",
       "      <td>9238.000000</td>\n",
       "      <td>0.000000</td>\n",
       "      <td>288.000000</td>\n",
       "      <td>0.000000</td>\n",
       "      <td>293.000000</td>\n",
       "      <td>45.000000</td>\n",
       "    </tr>\n",
       "    <tr>\n",
       "      <th>50%</th>\n",
       "      <td>9.000000</td>\n",
       "      <td>4.646000e+06</td>\n",
       "      <td>52.000000</td>\n",
       "      <td>2.000000</td>\n",
       "      <td>2.650000</td>\n",
       "      <td>9.000000</td>\n",
       "      <td>30.000000</td>\n",
       "      <td>4.000000</td>\n",
       "      <td>9.000000</td>\n",
       "      <td>0.000000</td>\n",
       "      <td>26757.000000</td>\n",
       "      <td>13096.500000</td>\n",
       "      <td>0.000000</td>\n",
       "      <td>455.000000</td>\n",
       "      <td>0.000000</td>\n",
       "      <td>503.000000</td>\n",
       "      <td>95.000000</td>\n",
       "    </tr>\n",
       "    <tr>\n",
       "      <th>75%</th>\n",
       "      <td>14.000000</td>\n",
       "      <td>6.790000e+06</td>\n",
       "      <td>69.700000</td>\n",
       "      <td>3.000000</td>\n",
       "      <td>2.700000</td>\n",
       "      <td>16.000000</td>\n",
       "      <td>42.100000</td>\n",
       "      <td>8.000000</td>\n",
       "      <td>12.000000</td>\n",
       "      <td>1.000000</td>\n",
       "      <td>37273.000000</td>\n",
       "      <td>16285.000000</td>\n",
       "      <td>1.000000</td>\n",
       "      <td>612.000000</td>\n",
       "      <td>1.000000</td>\n",
       "      <td>730.000000</td>\n",
       "      <td>231.000000</td>\n",
       "    </tr>\n",
       "    <tr>\n",
       "      <th>max</th>\n",
       "      <td>50.000000</td>\n",
       "      <td>7.630000e+08</td>\n",
       "      <td>900.000000</td>\n",
       "      <td>19.000000</td>\n",
       "      <td>100.000000</td>\n",
       "      <td>60.000000</td>\n",
       "      <td>409.700000</td>\n",
       "      <td>33.000000</td>\n",
       "      <td>112.000000</td>\n",
       "      <td>5.000000</td>\n",
       "      <td>84869.000000</td>\n",
       "      <td>65968.000000</td>\n",
       "      <td>3.000000</td>\n",
       "      <td>3190.000000</td>\n",
       "      <td>3.000000</td>\n",
       "      <td>1344.000000</td>\n",
       "      <td>1580.000000</td>\n",
       "    </tr>\n",
       "  </tbody>\n",
       "</table>\n",
       "</div>"
      ],
      "text/plain": [
       "       total_images    last_price    total_area         rooms  ceiling_height  \\\n",
       "count  23565.000000  2.356500e+04  23565.000000  23565.000000    23565.000000   \n",
       "mean       9.878421  6.540058e+06     60.322824      2.070656        2.724530   \n",
       "std        5.681156  1.091093e+07     35.657060      1.078591        0.991026   \n",
       "min        0.000000  1.219000e+04     12.000000      0.000000        1.000000   \n",
       "25%        6.000000  3.400000e+06     40.000000      1.000000        2.600000   \n",
       "50%        9.000000  4.646000e+06     52.000000      2.000000        2.650000   \n",
       "75%       14.000000  6.790000e+06     69.700000      3.000000        2.700000   \n",
       "max       50.000000  7.630000e+08    900.000000     19.000000      100.000000   \n",
       "\n",
       "       floors_total   living_area         floor  kitchen_area       balcony  \\\n",
       "count  23565.000000  23565.000000  23565.000000  23565.000000  23565.000000   \n",
       "mean      10.675875     34.591303      5.878124     10.500277      0.593677   \n",
       "std        6.594823     22.372806      4.871485      6.038042      0.960660   \n",
       "min        1.000000      2.000000      1.000000      1.300000      0.000000   \n",
       "25%        5.000000     19.000000      2.000000      7.000000      0.000000   \n",
       "50%        9.000000     30.000000      4.000000      9.000000      0.000000   \n",
       "75%       16.000000     42.100000      8.000000     12.000000      1.000000   \n",
       "max       60.000000    409.700000     33.000000    112.000000      5.000000   \n",
       "\n",
       "       airports_nearest  city_centers_nearest  parks_around_3000  \\\n",
       "count      18041.000000          18064.000000       23565.000000   \n",
       "mean       28797.082701          14192.656056           0.468831   \n",
       "std        12632.499735           8613.348153           0.748403   \n",
       "min            0.000000            181.000000           0.000000   \n",
       "25%        18565.000000           9238.000000           0.000000   \n",
       "50%        26757.000000          13096.500000           0.000000   \n",
       "75%        37273.000000          16285.000000           1.000000   \n",
       "max        84869.000000          65968.000000           3.000000   \n",
       "\n",
       "       parks_nearest  ponds_around_3000  ponds_nearest  days_exposition  \n",
       "count    8030.000000       23565.000000    9036.000000     20394.000000  \n",
       "mean      490.580448           0.589900     518.289509       180.741395  \n",
       "std       341.572956           0.883966     278.009558       219.732782  \n",
       "min         1.000000           0.000000      13.000000         1.000000  \n",
       "25%       288.000000           0.000000     293.000000        45.000000  \n",
       "50%       455.000000           0.000000     503.000000        95.000000  \n",
       "75%       612.000000           1.000000     730.000000       231.000000  \n",
       "max      3190.000000           3.000000    1344.000000      1580.000000  "
      ]
     },
     "execution_count": 18,
     "metadata": {},
     "output_type": "execute_result"
    }
   ],
   "source": [
    "# оценим распределение\n",
    "data.describe()\n",
    "\n",
    "\n"
   ]
  },
  {
   "cell_type": "markdown",
   "metadata": {},
   "source": [
    "*total_images* - значения нас устраивают"
   ]
  },
  {
   "cell_type": "markdown",
   "metadata": {},
   "source": [
    "*last_price* - нет квартир стоимостью 0. Существует квартира стоимостью меньше 100 т.р, её надо удалить. так же существует 225 квартир со стоим < 1 млн, кол-во достаточно большое - не похоже на вброс. Следует так же удалить очень дорогие квартиры стоимостью больше 100.000.000. "
   ]
  },
  {
   "cell_type": "code",
   "execution_count": 19,
   "metadata": {},
   "outputs": [
    {
     "name": "stdout",
     "output_type": "stream",
     "text": [
      "Квартир стоимостью 0: 0\n",
      "Квартир стоимостью меньше 100 т.р: 1\n",
      "Квартир стоимостью больше 100 млн: 37\n"
     ]
    }
   ],
   "source": [
    "print('Квартир стоимостью 0:', data.query('last_price == 0')['last_price'].count())\n",
    "print('Квартир стоимостью меньше 100 т.р:', data.query('last_price < 1e+05')['last_price'].count())\n",
    "print('Квартир стоимостью больше 100 млн:', data.query('last_price > 1e+08')['last_price'].count())\n",
    "data.drop(index=data.query('last_price > 1e+08').index,inplace=True)\n"
   ]
  },
  {
   "cell_type": "code",
   "execution_count": 20,
   "metadata": {},
   "outputs": [
    {
     "data": {
      "image/png": "[encoded data removed]",
      "text/plain": [
       "<Figure size 432x288 with 1 Axes>"
      ]
     },
     "metadata": {
      "needs_background": "light"
     },
     "output_type": "display_data"
    },
    {
     "data": {
      "image/png": "[encoded data removed]",
      "text/plain": [
       "<Figure size 432x288 with 1 Axes>"
      ]
     },
     "metadata": {
      "needs_background": "light"
     },
     "output_type": "display_data"
    }
   ],
   "source": [
    "# показательные графики\n",
    "data.hist('last_price', bins=30, range=(0,2e+07));\n",
    "data.hist('last_price', bins=30, range=(0,4e+06));\n",
    "\n",
    "data.drop(index=data.query('last_price < 1e+05').index,inplace=True)"
   ]
  },
  {
   "cell_type": "markdown",
   "metadata": {},
   "source": [
    "*total_area* - рассмотрим аномально маленькие и аномально большие квартиры. По закону квартира не должна быть меньше 14 м"
   ]
  },
  {
   "cell_type": "code",
   "execution_count": 21,
   "metadata": {},
   "outputs": [
    {
     "name": "stdout",
     "output_type": "stream",
     "text": [
      "Квартир площадью менее 14 кв.м.: 5\n",
      "Квартир площадью более 500 кв.м.: 3\n"
     ]
    }
   ],
   "source": [
    "print('Квартир площадью менее 14 кв.м.:',data.query('total_area < 14')['total_area'].count()) \n",
    "print('Квартир площадью более 500 кв.м.:',data.query('total_area > 500')['total_area'].count())\n",
    "data.drop(index=data.query('total_area < 14').index,inplace=True)\n",
    "data.drop(index=data.query('total_area > 500').index,inplace=True)"
   ]
  },
  {
   "cell_type": "code",
   "execution_count": 22,
   "metadata": {},
   "outputs": [
    {
     "data": {
      "image/png": "[encoded data removed]",
      "text/plain": [
       "<Figure size 432x288 with 1 Axes>"
      ]
     },
     "metadata": {
      "needs_background": "light"
     },
     "output_type": "display_data"
    },
    {
     "data": {
      "image/png": "[encoded data removed]",
      "text/plain": [
       "<Figure size 432x288 with 1 Axes>"
      ]
     },
     "metadata": {
      "needs_background": "light"
     },
     "output_type": "display_data"
    }
   ],
   "source": [
    "# показательные графики\n",
    "data.hist('total_area', bins=40, range=(0,500));\n",
    "data.hist('total_area', bins=40, range=(0,100));\n"
   ]
  },
  {
   "cell_type": "markdown",
   "metadata": {},
   "source": [
    "*rooms* - исследования показывают нам, что есть квартиры без комнат. Рассмотрим варианты "
   ]
  },
  {
   "cell_type": "code",
   "execution_count": 23,
   "metadata": {},
   "outputs": [
    {
     "name": "stdout",
     "output_type": "stream",
     "text": [
      "Квартиры без комнат: 194\n",
      "Квартиры без комнат/студии: 135\n",
      "Квартиры без комнат/апартаменты: 188\n",
      "Квартиры без комнат/свободная планировка: 59\n",
      "Квартиры без комнат не апартаменты и не свободная планировка: 0\n"
     ]
    }
   ],
   "source": [
    "print('Квартиры без комнат:',data.query('rooms == 0')['rooms'].count())\n",
    "print('Квартиры без комнат/студии:',data.query('rooms == 0 and studio')['rooms'].count()) \n",
    "print('Квартиры без комнат/апартаменты:',data.query('rooms == 0 and is_apartment')['rooms'].count()) \n",
    "print('Квартиры без комнат/свободная планировка:',data.query('rooms == 0 and open_plan')['rooms'].count())\n",
    "print('Квартиры без комнат не апартаменты и не свободная планировка:',data.query('rooms == 0 and ~open_plan and ~studio')['rooms'].count())\n",
    "# удалим квартиры с аномально большим кол-вом комнат\n",
    "data.drop(index=data.query('rooms > 7').index,inplace=True)"
   ]
  },
  {
   "cell_type": "code",
   "execution_count": 24,
   "metadata": {},
   "outputs": [
    {
     "data": {
      "image/png": "[encoded data removed]",
      "text/plain": [
       "<Figure size 432x288 with 1 Axes>"
      ]
     },
     "metadata": {
      "needs_background": "light"
     },
     "output_type": "display_data"
    }
   ],
   "source": [
    "data.hist('rooms', bins=50, range=(0,7));\n",
    "\n"
   ]
  },
  {
   "cell_type": "markdown",
   "metadata": {},
   "source": [
    "*ceiling_height* - высота потолков. По закону в жилых домах потолки должны быть от 2.5 - 4 метра. "
   ]
  },
  {
   "cell_type": "code",
   "execution_count": 25,
   "metadata": {},
   "outputs": [
    {
     "data": {
      "image/png": "[encoded data removed]",
      "text/plain": [
       "<Figure size 432x288 with 1 Axes>"
      ]
     },
     "metadata": {
      "needs_background": "light"
     },
     "output_type": "display_data"
    }
   ],
   "source": [
    "data.hist('ceiling_height', bins=50, range=(0,10));"
   ]
  },
  {
   "cell_type": "code",
   "execution_count": 26,
   "metadata": {},
   "outputs": [
    {
     "name": "stdout",
     "output_type": "stream",
     "text": [
      "Квартир с потолками больше 4 метров: 70 шт.\n",
      "Квартир с потолками от 25м до 40м: 19 шт.\n"
     ]
    }
   ],
   "source": [
    "print('Квартир с потолками больше 4 метров: ' + str(data.query('ceiling_height > 4')['ceiling_height'].count()) + ' шт.')\n",
    "print('Квартир с потолками от 25м до 40м: ' + str(data.query('ceiling_height >= 25 and ceiling_height <= 40')['ceiling_height'].count()) + ' шт.')\n"
   ]
  },
  {
   "cell_type": "markdown",
   "metadata": {},
   "source": [
    "Предположим, что квартиры с высотой потолков 25-40м это строки в которых не указан разделяющий знак (2,5-4).\n",
    "Для квартир с высотой потолков до 25 до 40 метров - делим на 10, получая 2.5 и 4 метра.\n",
    "Следовательно квартиры с высотой потолков > 40м являются вбросами.\n",
    "Удалим квартиры с высотой потолков меньше 2.5, от 4 до 25 и свыше 40 метров.\n"
   ]
  },
  {
   "cell_type": "code",
   "execution_count": 27,
   "metadata": {},
   "outputs": [],
   "source": [
    "data.drop(index=data.query('ceiling_height < 2.5').index,inplace=True)\n",
    "data.drop(index=data.query('ceiling_height > 4 and ceiling_height < 25').index,inplace=True)\n",
    "data.update(data[(data['ceiling_height'] >= 25) & (data['ceiling_height'] <= 40)]['ceiling_height']/10)\n",
    "data.drop(index=data.query('ceiling_height > 40').index,inplace=True)"
   ]
  },
  {
   "cell_type": "code",
   "execution_count": 28,
   "metadata": {},
   "outputs": [
    {
     "data": {
      "image/png": "[encoded data removed]",
      "text/plain": [
       "<Figure size 432x288 with 1 Axes>"
      ]
     },
     "metadata": {
      "needs_background": "light"
     },
     "output_type": "display_data"
    }
   ],
   "source": [
    "data.hist('ceiling_height', bins=50, range=(0,5));"
   ]
  },
  {
   "cell_type": "markdown",
   "metadata": {},
   "source": [
    "*floors_total* - по графику видим, что основная часть домов лежит в диапазоне от 1 до 30 этажей."
   ]
  },
  {
   "cell_type": "code",
   "execution_count": 29,
   "metadata": {},
   "outputs": [
    {
     "name": "stdout",
     "output_type": "stream",
     "text": [
      "Квартир в одноэтажных домах :  23\n",
      "Квартир в 30+ этажных домах :  31\n"
     ]
    },
    {
     "data": {
      "image/png": "[encoded data removed]",
      "text/plain": [
       "<Figure size 432x288 with 1 Axes>"
      ]
     },
     "metadata": {
      "needs_background": "light"
     },
     "output_type": "display_data"
    }
   ],
   "source": [
    "print('Квартир в одноэтажных домах : ',data.query('floors_total == 1')['floors_total'].count())\n",
    "print('Квартир в 30+ этажных домах : ',data.query('floors_total > 30')['floors_total'].count())\n",
    "\n",
    "data.drop(index=data.query('floors_total > 30').index,inplace=True)\n",
    "data.hist('floors_total', bins=30);"
   ]
  },
  {
   "cell_type": "markdown",
   "metadata": {},
   "source": [
    "*living_area* - большее количество квартир с площадью от 10 до 60 кв.м.\n",
    "Отбросим значения с жилой площадью меньше 10кв.м.\n",
    "Отбросим квартиры с площадью более 200 кв.м.\n",
    "Так же важно проверить, чтобы жилая площадь квартиры не превышала ее общую площадь."
   ]
  },
  {
   "cell_type": "code",
   "execution_count": 30,
   "metadata": {},
   "outputs": [
    {
     "name": "stdout",
     "output_type": "stream",
     "text": [
      "Жилая площадь меньше 10 кв.м.:  28\n",
      "Жилая площадь больше общей:  0\n",
      "Жилая площадь больше 200:  20\n"
     ]
    },
    {
     "data": {
      "image/png": "[encoded data removed]",
      "text/plain": [
       "<Figure size 432x288 with 1 Axes>"
      ]
     },
     "metadata": {
      "needs_background": "light"
     },
     "output_type": "display_data"
    },
    {
     "data": {
      "image/png": "[encoded data removed]",
      "text/plain": [
       "<Figure size 432x288 with 1 Axes>"
      ]
     },
     "metadata": {
      "needs_background": "light"
     },
     "output_type": "display_data"
    }
   ],
   "source": [
    "print('Жилая площадь меньше 10 кв.м.: ',data.query('living_area < 10')['living_area'].count())\n",
    "print('Жилая площадь больше общей: ',data.query('living_area > total_area')['living_area'].count())\n",
    "print('Жилая площадь больше 200: ',data.query('living_area > 200')['living_area'].count())\n",
    "\n",
    "data.drop(index=data.query('living_area < 10').index,inplace=True)\n",
    "data.drop(index=data.query('living_area > 200').index,inplace=True)\n",
    "\n",
    "data.hist('living_area', bins=30);\n",
    "data.hist('living_area', bins=60, range=(0,60));\n"
   ]
  },
  {
   "cell_type": "markdown",
   "metadata": {},
   "source": [
    "*floor* - следует проверить, есть ли значения этажа больше этажности здания, а так же 0 этаж.\n"
   ]
  },
  {
   "cell_type": "code",
   "execution_count": 31,
   "metadata": {},
   "outputs": [
    {
     "name": "stdout",
     "output_type": "stream",
     "text": [
      "Этаж 0: 0\n",
      "Этаж больше количества этажей:  0\n"
     ]
    },
    {
     "data": {
      "image/png": "[encoded data removed]",
      "text/plain": [
       "<Figure size 432x288 with 1 Axes>"
      ]
     },
     "metadata": {
      "needs_background": "light"
     },
     "output_type": "display_data"
    }
   ],
   "source": [
    "print('Этаж 0:',data.query('floor == 0')['floor'].count())\n",
    "print('Этаж больше количества этажей: ',data.query('floor > floors_total')['floor'].count())\n",
    "data.hist('floor',bins=20);"
   ]
  },
  {
   "cell_type": "markdown",
   "metadata": {},
   "source": [
    "*kitchen_area* - площадь кухни. Здесь есть квартира с площадью кухни меньше 1 кв. метра - аномалия. Кухонь с площадью более 50 кв.м. довольно мало. Следовательно удалим строки с кухнями менее 2 кв.м. и больше 50кв.м."
   ]
  },
  {
   "cell_type": "code",
   "execution_count": 32,
   "metadata": {},
   "outputs": [
    {
     "name": "stdout",
     "output_type": "stream",
     "text": [
      "Площадь кухни меньше 2 кв.м.:  1\n",
      "Площадь кухни больше 50 кв.м.:  36\n",
      "Площадь кухни больше общей:  0\n"
     ]
    },
    {
     "data": {
      "image/png": "[encoded data removed]",
      "text/plain": [
       "<Figure size 432x288 with 1 Axes>"
      ]
     },
     "metadata": {
      "needs_background": "light"
     },
     "output_type": "display_data"
    },
    {
     "data": {
      "image/png": "[encoded data removed]",
      "text/plain": [
       "<Figure size 432x288 with 1 Axes>"
      ]
     },
     "metadata": {
      "needs_background": "light"
     },
     "output_type": "display_data"
    }
   ],
   "source": [
    "print('Площадь кухни меньше 2 кв.м.: ',data.query('kitchen_area < 2')['living_area'].count())\n",
    "print('Площадь кухни больше 50 кв.м.: ',data.query('kitchen_area > 50')['living_area'].count())\n",
    "print('Площадь кухни больше общей: ',data.query('kitchen_area > total_area')['living_area'].count())\n",
    "\n",
    "data.drop(index=data.query('kitchen_area < 2').index,inplace=True)\n",
    "data.drop(index=data.query('kitchen_area > 50').index,inplace=True)\n",
    "\n",
    "data.hist('kitchen_area', bins=50);\n",
    "data.hist('kitchen_area', bins=30, range=(0,30));"
   ]
  },
  {
   "cell_type": "markdown",
   "metadata": {},
   "source": [
    "*balcony* - по графику аномалий не выявлено."
   ]
  },
  {
   "cell_type": "code",
   "execution_count": 33,
   "metadata": {},
   "outputs": [
    {
     "data": {
      "image/png": "[encoded data removed]",
      "text/plain": [
       "<Figure size 432x288 with 1 Axes>"
      ]
     },
     "metadata": {
      "needs_background": "light"
     },
     "output_type": "display_data"
    }
   ],
   "source": [
    "data.hist('balcony', bins=10);"
   ]
  },
  {
   "cell_type": "markdown",
   "metadata": {},
   "source": [
    "*days_exposition* - кол-во дней с момента размещения обьявления. По гистограмме видим что в целом вбросов и аномалий нет. Удалим обьявления которым больше 3 лет."
   ]
  },
  {
   "cell_type": "code",
   "execution_count": 34,
   "metadata": {},
   "outputs": [
    {
     "name": "stdout",
     "output_type": "stream",
     "text": [
      "Объявлению больше 3 лет :  163\n"
     ]
    },
    {
     "data": {
      "image/png": "[encoded data removed]",
      "text/plain": [
       "<Figure size 432x288 with 1 Axes>"
      ]
     },
     "metadata": {
      "needs_background": "light"
     },
     "output_type": "display_data"
    }
   ],
   "source": [
    "print('Объявлению больше 3 лет : ',data.query('days_exposition > 365*3')['days_exposition'].count())\n",
    "\n",
    "data.drop(index=data.query('days_exposition > 365*3').index,inplace=True)\n",
    "\n",
    "data.hist('days_exposition', bins=100);\n"
   ]
  },
  {
   "cell_type": "markdown",
   "metadata": {},
   "source": [
    "Данные в следующих столбцах собраны автоматически. Глядя на гистограммы аномалий не выявлено.\n",
    "- airports_nearest\n",
    "- city_centers_nearest\n",
    "- parks_around_3000\n",
    "- parks_nearest\n",
    "- ponds_around_3000\n",
    "- ponds_nearest\n"
   ]
  },
  {
   "cell_type": "code",
   "execution_count": 35,
   "metadata": {},
   "outputs": [],
   "source": [
    "# сброс индексации\n",
    "data.reset_index(drop=True,inplace=True)"
   ]
  },
  {
   "cell_type": "code",
   "execution_count": 36,
   "metadata": {},
   "outputs": [
    {
     "name": "stdout",
     "output_type": "stream",
     "text": [
      "<class 'pandas.core.frame.DataFrame'>\n",
      "RangeIndex: 23089 entries, 0 to 23088\n",
      "Data columns (total 22 columns):\n",
      " #   Column                Non-Null Count  Dtype         \n",
      "---  ------                --------------  -----         \n",
      " 0   total_images          23089 non-null  int64         \n",
      " 1   last_price            23089 non-null  int64         \n",
      " 2   total_area            23089 non-null  float64       \n",
      " 3   first_day_exposition  23089 non-null  datetime64[ns]\n",
      " 4   rooms                 23089 non-null  int64         \n",
      " 5   ceiling_height        23089 non-null  float64       \n",
      " 6   floors_total          23089 non-null  Int8          \n",
      " 7   living_area           23089 non-null  float64       \n",
      " 8   floor                 23089 non-null  int64         \n",
      " 9   is_apartment          23089 non-null  object        \n",
      " 10  studio                23089 non-null  bool          \n",
      " 11  open_plan             23089 non-null  bool          \n",
      " 12  kitchen_area          23089 non-null  float64       \n",
      " 13  balcony               23089 non-null  int64         \n",
      " 14  locality_name         23089 non-null  object        \n",
      " 15  airports_nearest      17630 non-null  float64       \n",
      " 16  city_centers_nearest  17650 non-null  float64       \n",
      " 17  parks_around_3000     23089 non-null  int64         \n",
      " 18  parks_nearest         7792 non-null   float64       \n",
      " 19  ponds_around_3000     23089 non-null  int64         \n",
      " 20  ponds_nearest         8765 non-null   float64       \n",
      " 21  days_exposition       19972 non-null  float64       \n",
      "dtypes: Int8(1), bool(2), datetime64[ns](1), float64(9), int64(7), object(2)\n",
      "memory usage: 3.4+ MB\n"
     ]
    }
   ],
   "source": [
    "\n",
    "data.info()"
   ]
  },
  {
   "cell_type": "markdown",
   "metadata": {},
   "source": [
    "*Вывод*: В процессе предобработки данных пропуски значений были заполнены в зависимости от ситуации:\n",
    "- медианой по группам значений либо общей медианой по всем значениям,\n",
    "- там, где логически это возможно – конкретными значениями ( например False, 0)\n",
    "- В случаях , когда заполнение невозможно, строки были удалены (отсутствие наименования населенного пункта в locality_name, количество этажей в доме , floors_total)\n",
    "\n",
    "Среди возможных причин пропусков можно указать:\n",
    "- незаполнение поля клиентом в случае отсутствия информации\n",
    "- сбой при выгрузке данных.\n",
    "- разные форматы данных из разных источников\n"
   ]
  },
  {
   "cell_type": "markdown",
   "metadata": {},
   "source": [
    "### Посчитайте и добавьте в таблицу новые столбцы"
   ]
  },
  {
   "cell_type": "code",
   "execution_count": 37,
   "metadata": {},
   "outputs": [],
   "source": [
    "# цена квадратного метра\n",
    "data['cost_per_metr'] = data['last_price'] / data['total_area']\n",
    "\n",
    "#добавление столбца с днем недели публикации объявления\n",
    "data['dayofweek'] = data['first_day_exposition'].dt.weekday\n",
    "\n",
    "#добавление столбца с месяцем публикации объявления\n",
    "data['month'] = data['first_day_exposition'].dt.month\n",
    "\n",
    "#добавление столбца с годом публикации\n",
    "data['year'] = data['first_day_exposition'].dt.year\n"
   ]
  },
  {
   "cell_type": "code",
   "execution_count": 38,
   "metadata": {},
   "outputs": [],
   "source": [
    "# тип этажа квартиры (значения — «первый», «последний», «другой»)\n",
    "def floors_category(row):\n",
    "    if row['floor'] == 1:\n",
    "        return 'первый'\n",
    "    elif row['floor'] == row['floors_total']:\n",
    "        return 'последний'\n",
    "    else:\n",
    "        return 'другой'\n",
    "\n",
    "#применяем метод apply и функцию floors_category к созданному столбцу floor_group:\n",
    "data['floor_group'] = data.apply(floors_category, axis=1)  "
   ]
  },
  {
   "cell_type": "code",
   "execution_count": 39,
   "metadata": {},
   "outputs": [],
   "source": [
    "# расстояние в км до центра города\n",
    "data['city_centers_nearest_km'] = round(data['city_centers_nearest'] / 1000)\n"
   ]
  },
  {
   "cell_type": "code",
   "execution_count": 40,
   "metadata": {},
   "outputs": [
    {
     "name": "stdout",
     "output_type": "stream",
     "text": [
      "<class 'pandas.core.frame.DataFrame'>\n",
      "RangeIndex: 23089 entries, 0 to 23088\n",
      "Data columns (total 28 columns):\n",
      " #   Column                   Non-Null Count  Dtype         \n",
      "---  ------                   --------------  -----         \n",
      " 0   total_images             23089 non-null  int64         \n",
      " 1   last_price               23089 non-null  int64         \n",
      " 2   total_area               23089 non-null  float64       \n",
      " 3   first_day_exposition     23089 non-null  datetime64[ns]\n",
      " 4   rooms                    23089 non-null  int64         \n",
      " 5   ceiling_height           23089 non-null  float64       \n",
      " 6   floors_total             23089 non-null  Int8          \n",
      " 7   living_area              23089 non-null  float64       \n",
      " 8   floor                    23089 non-null  int64         \n",
      " 9   is_apartment             23089 non-null  object        \n",
      " 10  studio                   23089 non-null  bool          \n",
      " 11  open_plan                23089 non-null  bool          \n",
      " 12  kitchen_area             23089 non-null  float64       \n",
      " 13  balcony                  23089 non-null  int64         \n",
      " 14  locality_name            23089 non-null  object        \n",
      " 15  airports_nearest         17630 non-null  float64       \n",
      " 16  city_centers_nearest     17650 non-null  float64       \n",
      " 17  parks_around_3000        23089 non-null  int64         \n",
      " 18  parks_nearest            7792 non-null   float64       \n",
      " 19  ponds_around_3000        23089 non-null  int64         \n",
      " 20  ponds_nearest            8765 non-null   float64       \n",
      " 21  days_exposition          19972 non-null  float64       \n",
      " 22  cost_per_metr            23089 non-null  float64       \n",
      " 23  dayofweek                23089 non-null  int64         \n",
      " 24  month                    23089 non-null  int64         \n",
      " 25  year                     23089 non-null  int64         \n",
      " 26  floor_group              23089 non-null  object        \n",
      " 27  city_centers_nearest_km  17650 non-null  float64       \n",
      "dtypes: Int8(1), bool(2), datetime64[ns](1), float64(11), int64(10), object(3)\n",
      "memory usage: 4.5+ MB\n"
     ]
    }
   ],
   "source": [
    "data.info()"
   ]
  },
  {
   "cell_type": "markdown",
   "metadata": {},
   "source": [
    "### Проведите исследовательский анализ данных"
   ]
  },
  {
   "cell_type": "markdown",
   "metadata": {},
   "source": [
    "1. ***Изучение основных параметров***"
   ]
  },
  {
   "cell_type": "code",
   "execution_count": 41,
   "metadata": {},
   "outputs": [
    {
     "data": {
      "image/png": "[encoded data removed]",
      "text/plain": [
       "<Figure size 432x288 with 1 Axes>"
      ]
     },
     "metadata": {
      "needs_background": "light"
     },
     "output_type": "display_data"
    },
    {
     "name": "stdout",
     "output_type": "stream",
     "text": [
      "Наибольшие по площади варианты:\n",
      "14612    413.5\n",
      "4912     380.0\n",
      "19459    365.0\n",
      "20293    342.0\n",
      "15778    336.0\n",
      "14221    327.2\n",
      "10808    320.0\n",
      "7462     315.0\n",
      "7730     312.0\n",
      "9324     312.0\n",
      "Name: total_area, dtype: float64\n"
     ]
    }
   ],
   "source": [
    "# Общая площадь\n",
    "plt.hist(data['total_area'], bins=50, range=(10,200))\n",
    "plt.title('Общая площадь квартир')\n",
    "plt.xlabel('Квадратные метры')\n",
    "plt.ylabel('Количество квартир')\n",
    "plt.show()\n",
    "print('Наибольшие по площади варианты:')\n",
    "print(data['total_area'].sort_values(ascending=False).head(10))\n"
   ]
  },
  {
   "cell_type": "code",
   "execution_count": 42,
   "metadata": {},
   "outputs": [
    {
     "data": {
      "image/png": "[encoded data removed]",
      "text/plain": [
       "<Figure size 432x288 with 1 Axes>"
      ]
     },
     "metadata": {
      "needs_background": "light"
     },
     "output_type": "display_data"
    },
    {
     "name": "stdout",
     "output_type": "stream",
     "text": [
      "Наибольшие по жилой площади варианты:\n",
      "9988     200.0\n",
      "22316    200.0\n",
      "4912     198.0\n",
      "7730     194.0\n",
      "4089     193.5\n",
      "7491     193.0\n",
      "10808    190.0\n",
      "20293    187.0\n",
      "8522     184.9\n",
      "2956     184.0\n",
      "Name: living_area, dtype: float64\n"
     ]
    }
   ],
   "source": [
    "# Жилая площадь\n",
    "plt.hist(data['living_area'], bins=70, range=(10,80))\n",
    "plt.title('Жилая площадь')\n",
    "plt.xlabel('Квадратные метры')\n",
    "plt.ylabel('Количество квартир')\n",
    "plt.show()\n",
    "print('Наибольшие по жилой площади варианты:')\n",
    "print(data['living_area'].sort_values(ascending=False).head(10))\n"
   ]
  },
  {
   "cell_type": "code",
   "execution_count": 43,
   "metadata": {},
   "outputs": [
    {
     "data": {
      "image/png": "[encoded data removed]",
      "text/plain": [
       "<Figure size 432x288 with 1 Axes>"
      ]
     },
     "metadata": {
      "needs_background": "light"
     },
     "output_type": "display_data"
    },
    {
     "name": "stdout",
     "output_type": "stream",
     "text": [
      "Наибольшие по площади кухни варианты:\n",
      "9754     50.0\n",
      "51       50.0\n",
      "496      50.0\n",
      "635      50.0\n",
      "4912     50.0\n",
      "2286     50.0\n",
      "18784    50.0\n",
      "5003     50.0\n",
      "20790    49.4\n",
      "256      49.2\n",
      "Name: kitchen_area, dtype: float64\n"
     ]
    }
   ],
   "source": [
    "# площадь кухни\n",
    "plt.hist(data['kitchen_area'], bins=30, range=(0,30))\n",
    "plt.title('Площадь кухни')\n",
    "plt.xlabel('Квадратные метры')\n",
    "plt.ylabel('Количество квартир')\n",
    "plt.show()\n",
    "print('Наибольшие по площади кухни варианты:')\n",
    "print(data['kitchen_area'].sort_values(ascending=False).head(10))"
   ]
  },
  {
   "cell_type": "code",
   "execution_count": 44,
   "metadata": {},
   "outputs": [
    {
     "data": {
      "image/png": "[encoded data removed]",
      "text/plain": [
       "<Figure size 432x288 with 1 Axes>"
      ]
     },
     "metadata": {
      "needs_background": "light"
     },
     "output_type": "display_data"
    },
    {
     "name": "stdout",
     "output_type": "stream",
     "text": [
      "Наибольшие по цене варианты:\n",
      "5492     99000000\n",
      "16179    98000000\n",
      "11043    95000000\n",
      "494      90000000\n",
      "5396     87000000\n",
      "11740    86738800\n",
      "11140    85000000\n",
      "10101    83820000\n",
      "6293     82000000\n",
      "6291     82000000\n",
      "Name: last_price, dtype: int64\n"
     ]
    }
   ],
   "source": [
    "# цена обьекта\n",
    "plt.hist(data['last_price'], bins=30, range=(0,20000000))\n",
    "plt.title('Стоимость квартир')\n",
    "plt.xlabel('Стоимость')\n",
    "plt.ylabel('Количество квартир')\n",
    "plt.show()\n",
    "print('Наибольшие по цене варианты:')\n",
    "print(data['last_price'].sort_values(ascending=False).head(10))"
   ]
  },
  {
   "cell_type": "code",
   "execution_count": 45,
   "metadata": {},
   "outputs": [
    {
     "data": {
      "image/png": "[encoded data removed]",
      "text/plain": [
       "<Figure size 432x288 with 1 Axes>"
      ]
     },
     "metadata": {
      "needs_background": "light"
     },
     "output_type": "display_data"
    },
    {
     "name": "stdout",
     "output_type": "stream",
     "text": [
      "Наибольшие по числу комнат варианты:\n",
      "825      7\n",
      "5314     7\n",
      "13182    7\n",
      "21692    7\n",
      "14233    7\n",
      "13429    7\n",
      "5571     7\n",
      "21139    7\n",
      "3273     7\n",
      "2391     7\n",
      "Name: rooms, dtype: int64\n"
     ]
    }
   ],
   "source": [
    "# количество комнат\n",
    "plt.hist(data['rooms'], bins=7, range=(1,7))\n",
    "plt.title('Комнаты')\n",
    "plt.xlabel('Количество комнат')\n",
    "plt.ylabel('Количество квартир')\n",
    "plt.show()\n",
    "print('Наибольшие по числу комнат варианты:')\n",
    "print(data['rooms'].sort_values(ascending=False).head(10))"
   ]
  },
  {
   "cell_type": "code",
   "execution_count": 46,
   "metadata": {},
   "outputs": [
    {
     "data": {
      "image/png": "[encoded data removed]",
      "text/plain": [
       "<Figure size 432x288 with 1 Axes>"
      ]
     },
     "metadata": {
      "needs_background": "light"
     },
     "output_type": "display_data"
    },
    {
     "name": "stdout",
     "output_type": "stream",
     "text": [
      "Наибольшие по высоте потолков варианты:\n",
      "11467    4.0\n",
      "19124    4.0\n",
      "16767    4.0\n",
      "13539    4.0\n",
      "13647    4.0\n",
      "18344    4.0\n",
      "22371    4.0\n",
      "7493     4.0\n",
      "176      4.0\n",
      "9684     4.0\n",
      "Name: ceiling_height, dtype: float64\n"
     ]
    }
   ],
   "source": [
    "# высота потолков\n",
    "plt.hist(data.query('(ceiling_height > 2) & (ceiling_height < 4)')['ceiling_height'], bins=10)\n",
    "plt.title('Высота потолков')\n",
    "plt.xlabel('Метры')\n",
    "plt.ylabel('Количество квартир')\n",
    "plt.show()\n",
    "print('Наибольшие по высоте потолков варианты:')\n",
    "print(data['ceiling_height'].sort_values(ascending=False).head(10))"
   ]
  },
  {
   "cell_type": "code",
   "execution_count": 47,
   "metadata": {},
   "outputs": [
    {
     "data": {
      "image/png": "[encoded data removed]",
      "text/plain": [
       "<Figure size 432x288 with 1 Axes>"
      ]
     },
     "metadata": {
      "needs_background": "light"
     },
     "output_type": "display_data"
    }
   ],
   "source": [
    "# общее кол-во этажей\n",
    "data.hist('floors_total', bins= 30);\n",
    "plt.title('кол-во этажей')\n",
    "plt.xlabel('Этажи')\n",
    "plt.ylabel('Количество квартир')\n",
    "plt.show()"
   ]
  },
  {
   "cell_type": "code",
   "execution_count": 48,
   "metadata": {},
   "outputs": [
    {
     "data": {
      "image/png": "[encoded data removed]",
      "text/plain": [
       "<Figure size 432x288 with 1 Axes>"
      ]
     },
     "metadata": {
      "needs_background": "light"
     },
     "output_type": "display_data"
    }
   ],
   "source": [
    "# этаж квартиры\n",
    "data.hist('floor', bins = 30);\n",
    "plt.title('этаж квартиры')\n",
    "plt.xlabel('Этажи')\n",
    "plt.ylabel('Количество квартир')\n",
    "plt.show()\n"
   ]
  },
  {
   "cell_type": "code",
   "execution_count": 49,
   "metadata": {},
   "outputs": [
    {
     "data": {
      "image/png": "[encoded data removed]",
      "text/plain": [
       "<Figure size 432x288 with 1 Axes>"
      ]
     },
     "metadata": {
      "needs_background": "light"
     },
     "output_type": "display_data"
    },
    {
     "data": {
      "image/png": "[encoded data removed]",
      "text/plain": [
       "<Figure size 432x288 with 1 Axes>"
      ]
     },
     "metadata": {
      "needs_background": "light"
     },
     "output_type": "display_data"
    },
    {
     "data": {
      "image/png": "[encoded data removed]",
      "text/plain": [
       "<Figure size 432x288 with 1 Axes>"
      ]
     },
     "metadata": {
      "needs_background": "light"
     },
     "output_type": "display_data"
    },
    {
     "data": {
      "image/png": "[encoded data removed]",
      "text/plain": [
       "<Figure size 432x288 with 1 Axes>"
      ]
     },
     "metadata": {
      "needs_background": "light"
     },
     "output_type": "display_data"
    },
    {
     "data": {
      "image/png": "[encoded data removed]",
      "text/plain": [
       "<Figure size 432x288 with 1 Axes>"
      ]
     },
     "metadata": {
      "needs_background": "light"
     },
     "output_type": "display_data"
    }
   ],
   "source": [
    "# расстояние до центра города в метрах;\n",
    "data.hist('city_centers_nearest', bins=100);\n",
    "# расстояние до ближайшего аэропорта;\n",
    "data.hist('airports_nearest', bins=100);\n",
    "# расстояние до ближайшего парка;\n",
    "data.hist('parks_nearest', bins=100);\n",
    "# день и месяц публикации;\n",
    "data.hist('dayofweek', bins=7);\n",
    "data.hist('month', bins=12);"
   ]
  },
  {
   "cell_type": "markdown",
   "metadata": {},
   "source": [
    "***Вывод***"
   ]
  },
  {
   "cell_type": "markdown",
   "metadata": {},
   "source": [
    "- *Площадь*:\n",
    "Большинство квартир - менее 100 квадратных метров, больше площадь практически не встречается. В подборке есть несколько очень больших  вариантов с площадью более 200 квадратных метров.\n",
    "- *Площадь кухни*:  Самые распространённые кухни - от 5 до 15 метров. Больше 20 метров кухни практически не встречаются. Больше 30 - единичные случаи.\n",
    "- *Жилая площадь*: Самые распространённые варианты с жилой площадью от 10 до 50 метров. После 80 метров встречаются единичные случаи. Два пика графика вызваны, вероятно, тем, что это жилые площади для 1-комнатной, затем для 2-комнатной и после этого для 3-комнатной квартиры.\n",
    "- *Цена обьекта*: В основном стоимость квартир - порядка 5 миллионов. Больше 20 миллионов вариантов мало и они выглядят очень странно и некоторые - на порядок дороже.\n",
    "- *кол-во комнат*: В основном квартиры состоят из 1, 2 и 3 комнат. Есть небольшая доля 4-комнатных квартир. Варианты, где больше 7 комнат выглядят неправдоподобно. Возможно, это отдельный дом.\n",
    "- *Высота потолков*: Большинство вариантов имеют высоту потолков от 2,5 до 3 метров. Больше 4 метров высота потолков выглядит подозрительно.\n",
    "- расстояние до центра города в метрах: Здесь наблюдаем два пика, один маленький, 5км и другой побльшой от 10 км. до 15 км. Так же есть совсем небольшие всплески на 30 км. и 50 км.\n",
    "- расстояние до ближайшего аэропорта: Здесь видим довольно \"шумный\" график. Но это вполне нормально.\n",
    "- расстояние до ближайшего парка: Судя по графику больше всего квартир с парками на расстоянии до 750м.\n",
    "- день и месяц публикации объявления: Видим провал в публикации объявлений в субботу и воскресенье, что логично. Так же видим что с февраля по апрель наблюдалосась повышенная активность. Так же был плавный рост активности с июля по ноябрь. Провалы в декабре, январе и мае.\n"
   ]
  },
  {
   "cell_type": "markdown",
   "metadata": {},
   "source": [
    "1. ***Изучение времени продажи квартиры***"
   ]
  },
  {
   "cell_type": "code",
   "execution_count": 50,
   "metadata": {},
   "outputs": [
    {
     "name": "stdout",
     "output_type": "stream",
     "text": [
      "Среднее время продажи квартиры в днях: 171\n",
      "Медианное время продажи квартиры в днях: 93\n"
     ]
    },
    {
     "data": {
      "image/png": "[encoded data removed]",
      "text/plain": [
       "<Figure size 432x288 with 1 Axes>"
      ]
     },
     "metadata": {
      "needs_background": "light"
     },
     "output_type": "display_data"
    },
    {
     "data": {
      "image/png": "[encoded data removed]",
      "text/plain": [
       "<Figure size 432x288 with 1 Axes>"
      ]
     },
     "metadata": {
      "needs_background": "light"
     },
     "output_type": "display_data"
    }
   ],
   "source": [
    "data.hist('days_exposition', bins=100);\n",
    "data.hist('days_exposition', bins=100, range = (0,100));\n",
    "print(f'Среднее время продажи квартиры в днях:',int(data['days_exposition'].mean()))\n",
    "print('Медианное время продажи квартиры в днях:',int(data['days_exposition'].median()))"
   ]
  },
  {
   "cell_type": "markdown",
   "metadata": {},
   "source": [
    "*Вывод* - Исходя из полученных результатов, среднее время продажи квартиры составляет 171 день . В то время как медиана - 93 дня, в два раза меньше. Так происходит потому что у нас есть очень большое количество квартир, которые продавались годами.\n",
    "Я бы предложил считать быстрыми продажи до 93 дней, а долгими - свыше 171 дня. Предполагаю, что выбросы - платные обьявления с истекшим сроком публикации."
   ]
  },
  {
   "cell_type": "markdown",
   "metadata": {},
   "source": [
    "3.***Факторы которые больше всего влияют на общую (полную) стоимость объекта***"
   ]
  },
  {
   "cell_type": "code",
   "execution_count": 51,
   "metadata": {},
   "outputs": [
    {
     "name": "stdout",
     "output_type": "stream",
     "text": [
      "Корреляция между last_price и total_area составляет: 75.17%\n",
      "Корреляция между last_price и living_area составляет: 66.85%\n",
      "Корреляция между last_price и kitchen_area составляет: 57.97%\n",
      "Корреляция между last_price и rooms составляет: 46.03%\n",
      "Корреляция между last_price и dayofweek составляет: -0.32%\n",
      "Корреляция между last_price и month составляет: 0.64%\n",
      "Корреляция между last_price и year составляет: -4.08%\n"
     ]
    }
   ],
   "source": [
    "factor_cost = ['total_area',\n",
    "                  'living_area',\n",
    "                  'kitchen_area',\n",
    "                  'rooms',\n",
    "                  'dayofweek',\n",
    "                  'month',\n",
    "                  'year']\n",
    "\n",
    "for entry in factor_cost:\n",
    "    correlation = data['last_price'].corr(data[entry])\n",
    "    print(f'Корреляция между last_price и {entry} составляет: {correlation:0.2%}')"
   ]
  },
  {
   "cell_type": "markdown",
   "metadata": {},
   "source": [
    "Построим наглядные графики для каждой категории."
   ]
  },
  {
   "cell_type": "code",
   "execution_count": 52,
   "metadata": {},
   "outputs": [
    {
     "data": {
      "image/png": "[encoded data removed]",
      "text/plain": [
       "<Figure size 432x288 with 1 Axes>"
      ]
     },
     "metadata": {
      "needs_background": "light"
     },
     "output_type": "display_data"
    },
    {
     "data": {
      "image/png": "[encoded data removed]",
      "text/plain": [
       "<Figure size 432x288 with 1 Axes>"
      ]
     },
     "metadata": {
      "needs_background": "light"
     },
     "output_type": "display_data"
    },
    {
     "data": {
      "image/png": "[encoded data removed]",
      "text/plain": [
       "<Figure size 432x288 with 1 Axes>"
      ]
     },
     "metadata": {
      "needs_background": "light"
     },
     "output_type": "display_data"
    },
    {
     "data": {
      "image/png": "[encoded data removed]",
      "text/plain": [
       "<Figure size 432x288 with 1 Axes>"
      ]
     },
     "metadata": {
      "needs_background": "light"
     },
     "output_type": "display_data"
    }
   ],
   "source": [
    "data.plot(x='last_price', y='total_area', kind='scatter', alpha=0.2)\n",
    "data.plot(x='last_price', y='living_area', kind='scatter', alpha=0.2)\n",
    "data.plot(x='last_price', y='kitchen_area', kind='scatter', alpha=0.2)\n",
    "data.pivot_table(index='rooms',values='last_price').plot(y='last_price', kind='bar');\n"
   ]
  },
  {
   "cell_type": "markdown",
   "metadata": {},
   "source": [
    "***Вывод***: \n",
    "Цена прямо пропорционально зависит от:\n",
    "общей площади;\n",
    "жилой площади;\n",
    "площади кухни;\n",
    "количества комнат.\n",
    "Цена практически на зависит от даты размещения."
   ]
  },
  {
   "cell_type": "code",
   "execution_count": 53,
   "metadata": {},
   "outputs": [
    {
     "data": {
      "image/png": "[encoded data removed]",
      "text/plain": [
       "<Figure size 432x288 with 1 Axes>"
      ]
     },
     "metadata": {
      "needs_background": "light"
     },
     "output_type": "display_data"
    },
    {
     "data": {
      "image/png": "[encoded data removed]",
      "text/plain": [
       "<Figure size 432x288 with 1 Axes>"
      ]
     },
     "metadata": {
      "needs_background": "light"
     },
     "output_type": "display_data"
    },
    {
     "data": {
      "image/png": "[encoded data removed]",
      "text/plain": [
       "<Figure size 432x288 with 1 Axes>"
      ]
     },
     "metadata": {
      "needs_background": "light"
     },
     "output_type": "display_data"
    },
    {
     "data": {
      "image/png": "[encoded data removed]",
      "text/plain": [
       "<Figure size 432x288 with 1 Axes>"
      ]
     },
     "metadata": {
      "needs_background": "light"
     },
     "output_type": "display_data"
    },
    {
     "data": {
      "image/png": "[encoded data removed]",
      "text/plain": [
       "<Figure size 432x288 with 1 Axes>"
      ]
     },
     "metadata": {
      "needs_background": "light"
     },
     "output_type": "display_data"
    },
    {
     "data": {
      "image/png": "[encoded data removed]",
      "text/plain": [
       "<Figure size 432x288 with 1 Axes>"
      ]
     },
     "metadata": {
      "needs_background": "light"
     },
     "output_type": "display_data"
    }
   ],
   "source": [
    "data.pivot_table(index='dayofweek',values='last_price',aggfunc='mean').plot(y='last_price', kind='line', title='mean');\n",
    "data.pivot_table(index='dayofweek',values='last_price',aggfunc='median').plot(y='last_price', kind='line', title='median');\n",
    "\n",
    "data.pivot_table(index='month',values='last_price',aggfunc='mean').plot(y='last_price', kind='line', title='mean');\n",
    "data.pivot_table(index='month',values='last_price',aggfunc='median').plot(y='last_price', kind='line', title='median');\n",
    "\n",
    "data.pivot_table(index='year',values='last_price',aggfunc='mean').plot(y='last_price', kind='line', title='mean');\n",
    "data.pivot_table(index='year',values='last_price',aggfunc='median').plot(y='last_price', kind='line', title='median');"
   ]
  },
  {
   "cell_type": "code",
   "execution_count": 54,
   "metadata": {},
   "outputs": [
    {
     "data": {
      "text/plain": [
       "<AxesSubplot:xlabel='last_price', ylabel='floor_group'>"
      ]
     },
     "execution_count": 54,
     "metadata": {},
     "output_type": "execute_result"
    },
    {
     "data": {
      "image/png": "[encoded data removed]",
      "text/plain": [
       "<Figure size 432x288 with 1 Axes>"
      ]
     },
     "metadata": {
      "needs_background": "light"
     },
     "output_type": "display_data"
    },
    {
     "data": {
      "image/png": "[encoded data removed]",
      "text/plain": [
       "<Figure size 432x288 with 1 Axes>"
      ]
     },
     "metadata": {
      "needs_background": "light"
     },
     "output_type": "display_data"
    }
   ],
   "source": [
    "data.pivot_table(index='floor_group',values='last_price').plot(y='last_price', kind='barh');\n",
    "\n",
    "data.plot(x='last_price', y='floor_group', kind='scatter', alpha=0.2)"
   ]
  },
  {
   "cell_type": "markdown",
   "metadata": {},
   "source": [
    "4.***Cредняя цена одного квадратного метра в топ-10 населенных пунктах***"
   ]
  },
  {
   "cell_type": "code",
   "execution_count": 55,
   "metadata": {},
   "outputs": [
    {
     "data": {
      "text/plain": [
       "<AxesSubplot:ylabel='locality_name'>"
      ]
     },
     "execution_count": 55,
     "metadata": {},
     "output_type": "execute_result"
    },
    {
     "data": {
      "image/png": "[encoded data removed]",
      "text/plain": [
       "<Figure size 432x288 with 1 Axes>"
      ]
     },
     "metadata": {
      "needs_background": "light"
     },
     "output_type": "display_data"
    }
   ],
   "source": [
    "top_10 = data.pivot_table(index='locality_name', values=['last_price','total_area'] ,aggfunc=['sum','count'])\n",
    "top_10.columns=['last_price_sum','total_area_sum','last_price_count','total_area_count']\n",
    "top_10.pop('total_area_count')\n",
    "top_10.sort_values(by=['last_price_count'],ascending=False, inplace=True)\n",
    "top_10 = top_10.iloc[:10]\n",
    "top_10['price_per_sq_m'] = top_10['last_price_sum']/top_10['total_area_sum']\n",
    "top_10.sort_values(by=['price_per_sq_m'],ascending=True, inplace=True)\n",
    "top_10['price_per_sq_m'].plot(kind='barh')"
   ]
  },
  {
   "cell_type": "code",
   "execution_count": 56,
   "metadata": {},
   "outputs": [
    {
     "data": {
      "text/html": [
       "<div>\n",
       "<style scoped>\n",
       "    .dataframe tbody tr th:only-of-type {\n",
       "        vertical-align: middle;\n",
       "    }\n",
       "\n",
       "    .dataframe tbody tr th {\n",
       "        vertical-align: top;\n",
       "    }\n",
       "\n",
       "    .dataframe thead th {\n",
       "        text-align: right;\n",
       "    }\n",
       "</style>\n",
       "<table border=\"1\" class=\"dataframe\">\n",
       "  <thead>\n",
       "    <tr style=\"text-align: right;\">\n",
       "      <th></th>\n",
       "      <th>total_images</th>\n",
       "      <th>last_price</th>\n",
       "      <th>total_area</th>\n",
       "      <th>first_day_exposition</th>\n",
       "      <th>rooms</th>\n",
       "      <th>ceiling_height</th>\n",
       "      <th>floors_total</th>\n",
       "      <th>living_area</th>\n",
       "      <th>floor</th>\n",
       "      <th>is_apartment</th>\n",
       "      <th>...</th>\n",
       "      <th>parks_nearest</th>\n",
       "      <th>ponds_around_3000</th>\n",
       "      <th>ponds_nearest</th>\n",
       "      <th>days_exposition</th>\n",
       "      <th>cost_per_metr</th>\n",
       "      <th>dayofweek</th>\n",
       "      <th>month</th>\n",
       "      <th>year</th>\n",
       "      <th>floor_group</th>\n",
       "      <th>city_centers_nearest_km</th>\n",
       "    </tr>\n",
       "  </thead>\n",
       "  <tbody>\n",
       "    <tr>\n",
       "      <th>0</th>\n",
       "      <td>20</td>\n",
       "      <td>13000000</td>\n",
       "      <td>108.0</td>\n",
       "      <td>2019-03-07</td>\n",
       "      <td>3</td>\n",
       "      <td>2.70</td>\n",
       "      <td>16</td>\n",
       "      <td>51.000000</td>\n",
       "      <td>8</td>\n",
       "      <td>False</td>\n",
       "      <td>...</td>\n",
       "      <td>482.0</td>\n",
       "      <td>2</td>\n",
       "      <td>755.0</td>\n",
       "      <td>NaN</td>\n",
       "      <td>120370.370370</td>\n",
       "      <td>3</td>\n",
       "      <td>3</td>\n",
       "      <td>2019</td>\n",
       "      <td>другой</td>\n",
       "      <td>16.0</td>\n",
       "    </tr>\n",
       "    <tr>\n",
       "      <th>1</th>\n",
       "      <td>7</td>\n",
       "      <td>3350000</td>\n",
       "      <td>40.4</td>\n",
       "      <td>2018-12-04</td>\n",
       "      <td>1</td>\n",
       "      <td>2.65</td>\n",
       "      <td>11</td>\n",
       "      <td>18.600000</td>\n",
       "      <td>1</td>\n",
       "      <td>False</td>\n",
       "      <td>...</td>\n",
       "      <td>NaN</td>\n",
       "      <td>0</td>\n",
       "      <td>NaN</td>\n",
       "      <td>81.0</td>\n",
       "      <td>82920.792079</td>\n",
       "      <td>1</td>\n",
       "      <td>12</td>\n",
       "      <td>2018</td>\n",
       "      <td>первый</td>\n",
       "      <td>19.0</td>\n",
       "    </tr>\n",
       "    <tr>\n",
       "      <th>2</th>\n",
       "      <td>10</td>\n",
       "      <td>5196000</td>\n",
       "      <td>56.0</td>\n",
       "      <td>2015-08-20</td>\n",
       "      <td>2</td>\n",
       "      <td>2.65</td>\n",
       "      <td>5</td>\n",
       "      <td>34.300000</td>\n",
       "      <td>4</td>\n",
       "      <td>False</td>\n",
       "      <td>...</td>\n",
       "      <td>90.0</td>\n",
       "      <td>2</td>\n",
       "      <td>574.0</td>\n",
       "      <td>558.0</td>\n",
       "      <td>92785.714286</td>\n",
       "      <td>3</td>\n",
       "      <td>8</td>\n",
       "      <td>2015</td>\n",
       "      <td>другой</td>\n",
       "      <td>14.0</td>\n",
       "    </tr>\n",
       "    <tr>\n",
       "      <th>3</th>\n",
       "      <td>0</td>\n",
       "      <td>64900000</td>\n",
       "      <td>159.0</td>\n",
       "      <td>2015-07-24</td>\n",
       "      <td>3</td>\n",
       "      <td>2.65</td>\n",
       "      <td>14</td>\n",
       "      <td>90.785766</td>\n",
       "      <td>9</td>\n",
       "      <td>False</td>\n",
       "      <td>...</td>\n",
       "      <td>84.0</td>\n",
       "      <td>3</td>\n",
       "      <td>234.0</td>\n",
       "      <td>424.0</td>\n",
       "      <td>408176.100629</td>\n",
       "      <td>4</td>\n",
       "      <td>7</td>\n",
       "      <td>2015</td>\n",
       "      <td>другой</td>\n",
       "      <td>7.0</td>\n",
       "    </tr>\n",
       "    <tr>\n",
       "      <th>4</th>\n",
       "      <td>2</td>\n",
       "      <td>10000000</td>\n",
       "      <td>100.0</td>\n",
       "      <td>2018-06-19</td>\n",
       "      <td>2</td>\n",
       "      <td>3.03</td>\n",
       "      <td>14</td>\n",
       "      <td>32.000000</td>\n",
       "      <td>13</td>\n",
       "      <td>False</td>\n",
       "      <td>...</td>\n",
       "      <td>112.0</td>\n",
       "      <td>1</td>\n",
       "      <td>48.0</td>\n",
       "      <td>121.0</td>\n",
       "      <td>100000.000000</td>\n",
       "      <td>1</td>\n",
       "      <td>6</td>\n",
       "      <td>2018</td>\n",
       "      <td>другой</td>\n",
       "      <td>8.0</td>\n",
       "    </tr>\n",
       "  </tbody>\n",
       "</table>\n",
       "<p>5 rows × 28 columns</p>\n",
       "</div>"
      ],
      "text/plain": [
       "   total_images  last_price  total_area first_day_exposition  rooms  \\\n",
       "0            20    13000000       108.0           2019-03-07      3   \n",
       "1             7     3350000        40.4           2018-12-04      1   \n",
       "2            10     5196000        56.0           2015-08-20      2   \n",
       "3             0    64900000       159.0           2015-07-24      3   \n",
       "4             2    10000000       100.0           2018-06-19      2   \n",
       "\n",
       "   ceiling_height  floors_total  living_area  floor is_apartment  ...  \\\n",
       "0            2.70            16    51.000000      8        False  ...   \n",
       "1            2.65            11    18.600000      1        False  ...   \n",
       "2            2.65             5    34.300000      4        False  ...   \n",
       "3            2.65            14    90.785766      9        False  ...   \n",
       "4            3.03            14    32.000000     13        False  ...   \n",
       "\n",
       "   parks_nearest  ponds_around_3000  ponds_nearest  days_exposition  \\\n",
       "0          482.0                  2          755.0              NaN   \n",
       "1            NaN                  0            NaN             81.0   \n",
       "2           90.0                  2          574.0            558.0   \n",
       "3           84.0                  3          234.0            424.0   \n",
       "4          112.0                  1           48.0            121.0   \n",
       "\n",
       "   cost_per_metr  dayofweek  month  year  floor_group  city_centers_nearest_km  \n",
       "0  120370.370370          3      3  2019       другой                     16.0  \n",
       "1   82920.792079          1     12  2018       первый                     19.0  \n",
       "2   92785.714286          3      8  2015       другой                     14.0  \n",
       "3  408176.100629          4      7  2015       другой                      7.0  \n",
       "4  100000.000000          1      6  2018       другой                      8.0  \n",
       "\n",
       "[5 rows x 28 columns]"
      ]
     },
     "execution_count": 56,
     "metadata": {},
     "output_type": "execute_result"
    }
   ],
   "source": [
    "data.head()"
   ]
  },
  {
   "cell_type": "markdown",
   "metadata": {},
   "source": [
    "*Выыод* - Самая дорогая недвижимость находится в Санкт-Петербурге.В ТОП-10 входят ближайшие к Санкт-Петербургу населенные пункты."
   ]
  },
  {
   "cell_type": "markdown",
   "metadata": {},
   "source": [
    "5.***Расстояние до центра***"
   ]
  },
  {
   "cell_type": "code",
   "execution_count": 57,
   "metadata": {},
   "outputs": [
    {
     "data": {
      "text/plain": [
       "<AxesSubplot:xlabel='city_centers_nearest_km'>"
      ]
     },
     "execution_count": 57,
     "metadata": {},
     "output_type": "execute_result"
    },
    {
     "data": {
      "image/png": "[encoded data removed]",
      "text/plain": [
       "<Figure size 432x288 with 1 Axes>"
      ]
     },
     "metadata": {
      "needs_background": "light"
     },
     "output_type": "display_data"
    }
   ],
   "source": [
    "(\n",
    "    data[data['locality_name']=='санкт-петербург']\n",
    "    .pivot_table(\n",
    "        index='city_centers_nearest_km',\n",
    "        values='last_price',\n",
    "        aggfunc='mean')\n",
    "    .plot(kind='bar')\n",
    ")"
   ]
  },
  {
   "cell_type": "markdown",
   "metadata": {},
   "source": [
    "*Вывод*: Мы наглядно видим, что чем ближе недвижимость находится к центру - тем она дороже. В самом центре - сильно дороже. Некоторые выбросы как например на 27км могут быть связаны с премиальным районом."
   ]
  },
  {
   "cell_type": "markdown",
   "metadata": {},
   "source": [
    "### Общий вывод"
   ]
  },
  {
   "cell_type": "markdown",
   "metadata": {},
   "source": [
    "Для анализа были представленны данные о квартирах выставленных на продажу, часть из которых были вписаны пользователем, часть полученна автоматически. \n",
    "\n",
    "На этапе предобработки данных были выявлены явные и неявные недочеты в данных. Они были исправлены. Скорее всего фактором таких ошибок служил человеческий фактор, люди ошибались при заполнении заявлений.\n",
    "\n",
    "Так же для анализа были добавленны дополнительные столбцы в датасет: цена одного квадратного метра; месяц публикации объявления;год публикации объявления;тип этажа квартиры ;расстояние до центра города в километрах; \n",
    "\n",
    "- Срок продажи квартиры \n",
    "\n",
    "Чаще всего квартиру продают за 93 дней. Если меньше 93 дней, то это быстро, если дольше 171 дня - это долго. Существуют квартиры которые продавались годами.\n",
    "\n",
    "- Факторы, влияющие на стоимость \n",
    "\n",
    "Цена прямо пропорционально зависит от: общей площади; жилой площади; площади кухни; количества комнат. Цена практически на зависит от даты размещения.\n",
    "\n",
    "- Стоимость квадратного метра в топ-10 населённых пунктов \n",
    "\n",
    "Самая дорогая недвижимость находится в Санкт-Петербурге.В ТОП-10 входят ближайшие к Санкт-Петербургу населенные пункты.\n",
    "\n",
    "- Факторы, влияющие на стоимость в центре Санкт-Петербурга \n",
    "\n",
    "Мы наглядно видим, что чем ближе недвижимость находится к центру - тем она дороже. В самом центре - сильно дороже. Некоторые выбросы как например на 27км могут быть связаны с премиальным районом.\n",
    "\n",
    "Иследование показало, что на рынке недвижимости представлено жилье с большим разбросом площади и цены. Цена 1 кв.м. зависит от удаленности от центра, этажа  и количества комнат. Так же имеет место быть сезонность цен: в целом после окончания года к марту цена начинает расти, а летом падает. Это связано с экономикой: спад, как правило прослеживается в феврале и летом.\n",
    "\n",
    "\n",
    "\n",
    "\n"
   ]
  },
  {
   "cell_type": "markdown",
   "metadata": {},
   "source": []
  },
  {
   "cell_type": "markdown",
   "metadata": {},
   "source": [
    "**Чек-лист готовности проекта**\n",
    "\n",
    "\n"
   ]
  },
  {
   "cell_type": "markdown",
   "metadata": {},
   "source": [
    "- [x]  открыт файл\n",
    "- [x]  файлы изучены (выведены первые строки, метод `info()`, гистограммы и т.д.)\n",
    "- [x]  определены пропущенные значения\n",
    "- [x]  заполнены пропущенные значения там, где это возможно\n",
    "- [x]  есть пояснение, какие пропущенные значения обнаружены\n",
    "- [x]  изменены типы данных\n",
    "- [x]  есть пояснение, в каких столбцах изменены типы и почему\n",
    "- [x]  устранены неявные дубликаты в названиях населённых пунктов\n",
    "- [x]  устранены редкие и выбивающиеся значения (аномалии) во всех столбцах\n",
    "- [x]  посчитано и добавлено в таблицу: цена одного квадратного мета\n",
    "- [x]  посчитано и добавлено в таблицу: день публикации объявления (0 - понедельник, 1 - вторник и т.д.)\n",
    "- [x]  посчитано и добавлено в таблицу: месяц публикации объявления\n",
    "- [x]  посчитано и добавлено в таблицу: год публикации объявления\n",
    "- [x]  посчитано и добавлено в таблицу: тип этажа квартиры (значения — «первый», «последний», «другой»)\n",
    "- [x]  посчитано и добавлено в таблицу: расстояние в км до центра города\n",
    "- [x]  изучены и описаны следующие параметры:\n",
    "        - общая площадь;\n",
    "        - жилая площадь;\n",
    "        - площадь кухни;\n",
    "        - цена объекта;\n",
    "        - количество комнат;\n",
    "        - высота потолков;\n",
    "        - этаж квартиры;\n",
    "        - тип этажа квартиры («первый», «последний», «другой»);\n",
    "        - общее количество этажей в доме;\n",
    "        - расстояние до центра города в метрах;\n",
    "        - расстояние до ближайшего аэропорта;\n",
    "        - расстояние до ближайшего парка;\n",
    "        - день и месяц публикации объявления\n",
    "- [x]  построены гистограммы для каждого параметра\n",
    "- [x]  выполнено задание: \"Изучите, как быстро продавались квартиры (столбец days_exposition). Этот параметр показывает, сколько дней «висело» каждое объявление.\n",
    "    - Постройте гистограмму.\n",
    "    - Посчитайте среднее и медиану.\n",
    "    - В ячейке типа markdown опишите, сколько обычно занимает продажа. Какие продажи можно считать быстрыми, а какие — необычно долгими?\"\n",
    "- [x]  выполнено задание: \"Какие факторы больше всего влияют на общую (полную) стоимость объекта? Постройте графики, которые покажут зависимость цены от указанных ниже параметров. Для подготовки данных перед визуализацией вы можете использовать сводные таблицы.\"\n",
    "        - общей площади;\n",
    "        - жилой площади;\n",
    "        - площади кухни;\n",
    "        - количество комнат;\n",
    "        - типа этажа, на котором расположена квартира (первый, последний, другой);\n",
    "        - даты размещения (день недели, месяц, год);\n",
    "- [x]  выполнено задание: \"Посчитайте среднюю цену одного квадратного метра в 10 населённых пунктах с наибольшим числом объявлений. Выделите населённые пункты с самой высокой и низкой стоимостью квадратного метра. Эти данные можно найти по имени в столбце `locality_name`.\"\n",
    "- [x]  выполнено задание: \"Ранее вы посчитали расстояние до центра в километрах. Теперь выделите квартиры в Санкт-Петербурге с помощью столбца `locality_name` и вычислите среднюю цену каждого километра. Опишите, как стоимость объектов зависит от расстояния до центра города.\"\n",
    "- [x]  в каждом этапе есть промежуточные выводы\n",
    "- [x]  есть общий вывод"
   ]
  },
  {
   "cell_type": "code",
   "execution_count": null,
   "metadata": {},
   "outputs": [],
   "source": []
  }
 ],
 "metadata": {
  "ExecuteTimeLog": [
   {
    "duration": 788,
    "start_time": "2022-12-11T19:12:19.388Z"
   },
   {
    "duration": 108,
    "start_time": "2022-12-11T23:46:13.208Z"
   },
   {
    "duration": 122,
    "start_time": "2022-12-11T23:48:37.289Z"
   },
   {
    "duration": 23,
    "start_time": "2022-12-11T23:49:06.598Z"
   },
   {
    "duration": 2527,
    "start_time": "2022-12-12T00:01:23.687Z"
   },
   {
    "duration": 116,
    "start_time": "2022-12-12T00:01:27.852Z"
   },
   {
    "duration": 15,
    "start_time": "2022-12-12T00:01:28.668Z"
   },
   {
    "duration": 8,
    "start_time": "2022-12-12T00:07:33.515Z"
   },
   {
    "duration": 3,
    "start_time": "2022-12-12T00:22:56.413Z"
   },
   {
    "duration": 108,
    "start_time": "2022-12-12T00:23:01.427Z"
   },
   {
    "duration": 13,
    "start_time": "2022-12-12T00:23:02.024Z"
   },
   {
    "duration": 1881,
    "start_time": "2022-12-12T00:23:02.662Z"
   },
   {
    "duration": 4,
    "start_time": "2022-12-12T00:23:04.809Z"
   },
   {
    "duration": 4,
    "start_time": "2022-12-12T00:23:11.434Z"
   },
   {
    "duration": 14,
    "start_time": "2022-12-12T00:24:50.129Z"
   },
   {
    "duration": 19,
    "start_time": "2022-12-12T00:26:47.462Z"
   },
   {
    "duration": 23,
    "start_time": "2022-12-12T00:26:59.786Z"
   },
   {
    "duration": 20,
    "start_time": "2022-12-12T00:27:11.867Z"
   },
   {
    "duration": 3,
    "start_time": "2022-12-12T00:50:28.472Z"
   },
   {
    "duration": 20,
    "start_time": "2022-12-12T00:50:30.118Z"
   },
   {
    "duration": 2,
    "start_time": "2022-12-12T01:01:21.620Z"
   },
   {
    "duration": 3,
    "start_time": "2022-12-12T01:01:30.594Z"
   },
   {
    "duration": 2,
    "start_time": "2022-12-12T01:01:33.399Z"
   },
   {
    "duration": 5,
    "start_time": "2022-12-12T01:04:06.966Z"
   },
   {
    "duration": 19,
    "start_time": "2022-12-12T01:04:08.180Z"
   },
   {
    "duration": 4,
    "start_time": "2022-12-12T01:10:31.223Z"
   },
   {
    "duration": 14,
    "start_time": "2022-12-12T01:13:24.039Z"
   },
   {
    "duration": 12,
    "start_time": "2022-12-12T01:22:36.776Z"
   },
   {
    "duration": 19,
    "start_time": "2022-12-12T01:31:37.685Z"
   },
   {
    "duration": 118,
    "start_time": "2022-12-12T01:32:50.738Z"
   },
   {
    "duration": 11,
    "start_time": "2022-12-12T01:33:06.410Z"
   },
   {
    "duration": 12,
    "start_time": "2022-12-12T01:33:22.655Z"
   },
   {
    "duration": 6,
    "start_time": "2022-12-12T01:35:21.377Z"
   },
   {
    "duration": 720,
    "start_time": "2022-12-12T23:53:35.483Z"
   },
   {
    "duration": 16,
    "start_time": "2022-12-12T23:53:36.244Z"
   },
   {
    "duration": 2378,
    "start_time": "2022-12-12T23:53:36.747Z"
   },
   {
    "duration": 5,
    "start_time": "2022-12-12T23:53:39.127Z"
   },
   {
    "duration": 36,
    "start_time": "2022-12-12T23:53:39.133Z"
   },
   {
    "duration": 728,
    "start_time": "2022-12-12T23:53:39.985Z"
   },
   {
    "duration": 16,
    "start_time": "2022-12-12T23:53:40.927Z"
   },
   {
    "duration": 15,
    "start_time": "2022-12-12T23:53:42.493Z"
   },
   {
    "duration": 14,
    "start_time": "2022-12-12T23:53:43.357Z"
   },
   {
    "duration": 5,
    "start_time": "2022-12-12T23:53:45.886Z"
   },
   {
    "duration": 14,
    "start_time": "2022-12-13T00:13:19.106Z"
   },
   {
    "duration": 15,
    "start_time": "2022-12-13T00:13:44.982Z"
   },
   {
    "duration": 18,
    "start_time": "2022-12-13T00:14:00.864Z"
   },
   {
    "duration": 17,
    "start_time": "2022-12-13T00:14:10.088Z"
   },
   {
    "duration": 7,
    "start_time": "2022-12-13T00:14:16.684Z"
   },
   {
    "duration": 5,
    "start_time": "2022-12-13T00:14:36.351Z"
   },
   {
    "duration": 6,
    "start_time": "2022-12-13T00:14:45.490Z"
   },
   {
    "duration": 18,
    "start_time": "2022-12-13T00:14:50.798Z"
   },
   {
    "duration": 14,
    "start_time": "2022-12-13T00:15:06.412Z"
   },
   {
    "duration": 15,
    "start_time": "2022-12-13T00:15:09.296Z"
   },
   {
    "duration": 21,
    "start_time": "2022-12-13T00:15:28.272Z"
   },
   {
    "duration": 24,
    "start_time": "2022-12-13T00:15:53.595Z"
   },
   {
    "duration": 19,
    "start_time": "2022-12-13T00:16:00.385Z"
   },
   {
    "duration": 95,
    "start_time": "2022-12-13T00:54:11.958Z"
   },
   {
    "duration": 706,
    "start_time": "2022-12-13T00:56:21.316Z"
   },
   {
    "duration": 9,
    "start_time": "2022-12-13T00:57:26.950Z"
   },
   {
    "duration": 48,
    "start_time": "2022-12-13T01:07:35.238Z"
   },
   {
    "duration": 19,
    "start_time": "2022-12-13T01:18:13.690Z"
   },
   {
    "duration": 18,
    "start_time": "2022-12-13T01:18:33.305Z"
   },
   {
    "duration": 20,
    "start_time": "2022-12-13T01:18:37.846Z"
   },
   {
    "duration": 18,
    "start_time": "2022-12-13T01:18:40.571Z"
   },
   {
    "duration": 13,
    "start_time": "2022-12-13T01:19:05.057Z"
   },
   {
    "duration": 17,
    "start_time": "2022-12-13T01:19:10.630Z"
   },
   {
    "duration": 415,
    "start_time": "2022-12-13T01:20:06.448Z"
   },
   {
    "duration": 349,
    "start_time": "2022-12-13T01:20:35.345Z"
   },
   {
    "duration": 10,
    "start_time": "2022-12-13T01:28:19.226Z"
   },
   {
    "duration": 10,
    "start_time": "2022-12-13T01:28:27.501Z"
   },
   {
    "duration": 10,
    "start_time": "2022-12-13T01:28:32.592Z"
   },
   {
    "duration": 9,
    "start_time": "2022-12-13T01:28:37.750Z"
   },
   {
    "duration": 9,
    "start_time": "2022-12-13T01:28:41.477Z"
   },
   {
    "duration": 10,
    "start_time": "2022-12-13T01:28:57.102Z"
   },
   {
    "duration": 10,
    "start_time": "2022-12-13T01:29:00.909Z"
   },
   {
    "duration": 10,
    "start_time": "2022-12-13T01:29:05.201Z"
   },
   {
    "duration": 462,
    "start_time": "2022-12-13T01:30:18.773Z"
   },
   {
    "duration": 22,
    "start_time": "2022-12-13T01:30:49.181Z"
   },
   {
    "duration": 341,
    "start_time": "2022-12-13T01:30:50.064Z"
   },
   {
    "duration": 347,
    "start_time": "2022-12-13T01:32:36.814Z"
   },
   {
    "duration": 28,
    "start_time": "2022-12-13T02:22:40.076Z"
   },
   {
    "duration": 38,
    "start_time": "2022-12-13T02:24:56.369Z"
   },
   {
    "duration": 31,
    "start_time": "2022-12-13T02:25:13.767Z"
   },
   {
    "duration": 388,
    "start_time": "2022-12-13T02:26:07.808Z"
   },
   {
    "duration": 361,
    "start_time": "2022-12-13T02:26:17.569Z"
   },
   {
    "duration": 462,
    "start_time": "2022-12-13T02:26:38.926Z"
   },
   {
    "duration": 27,
    "start_time": "2022-12-13T02:26:44.234Z"
   },
   {
    "duration": 381,
    "start_time": "2022-12-13T02:27:15.450Z"
   },
   {
    "duration": 122,
    "start_time": "2022-12-13T02:27:22.438Z"
   },
   {
    "duration": 14,
    "start_time": "2022-12-13T02:27:23.108Z"
   },
   {
    "duration": 1904,
    "start_time": "2022-12-13T02:27:23.534Z"
   },
   {
    "duration": 4,
    "start_time": "2022-12-13T02:27:25.440Z"
   },
   {
    "duration": 23,
    "start_time": "2022-12-13T02:27:25.446Z"
   },
   {
    "duration": 10,
    "start_time": "2022-12-13T02:27:25.550Z"
   },
   {
    "duration": 14,
    "start_time": "2022-12-13T02:27:26.217Z"
   },
   {
    "duration": 18,
    "start_time": "2022-12-13T02:27:26.742Z"
   },
   {
    "duration": 14,
    "start_time": "2022-12-13T02:27:26.990Z"
   },
   {
    "duration": 4,
    "start_time": "2022-12-13T02:27:27.469Z"
   },
   {
    "duration": 14,
    "start_time": "2022-12-13T02:27:27.962Z"
   },
   {
    "duration": 18,
    "start_time": "2022-12-13T02:27:28.230Z"
   },
   {
    "duration": 19,
    "start_time": "2022-12-13T02:27:28.498Z"
   },
   {
    "duration": 24,
    "start_time": "2022-12-13T02:27:28.753Z"
   },
   {
    "duration": 76,
    "start_time": "2022-12-13T02:27:29.438Z"
   },
   {
    "duration": 18,
    "start_time": "2022-12-13T02:27:30.377Z"
   },
   {
    "duration": 355,
    "start_time": "2022-12-13T02:27:31.053Z"
   },
   {
    "duration": 23,
    "start_time": "2022-12-13T02:27:32.201Z"
   },
   {
    "duration": 367,
    "start_time": "2022-12-13T02:27:32.646Z"
   },
   {
    "duration": 374,
    "start_time": "2022-12-13T02:27:33.106Z"
   },
   {
    "duration": 23,
    "start_time": "2022-12-13T02:27:35.938Z"
   },
   {
    "duration": 372,
    "start_time": "2022-12-13T02:27:36.794Z"
   },
   {
    "duration": 224,
    "start_time": "2022-12-13T02:28:09.565Z"
   },
   {
    "duration": 350,
    "start_time": "2022-12-13T02:30:54.538Z"
   },
   {
    "duration": 184,
    "start_time": "2022-12-13T02:31:09.208Z"
   },
   {
    "duration": 192,
    "start_time": "2022-12-13T02:31:49.396Z"
   },
   {
    "duration": 185,
    "start_time": "2022-12-13T02:35:49.723Z"
   },
   {
    "duration": 8,
    "start_time": "2022-12-13T02:36:56.518Z"
   },
   {
    "duration": 8,
    "start_time": "2022-12-13T02:40:19.511Z"
   },
   {
    "duration": 10,
    "start_time": "2022-12-13T02:43:53.736Z"
   },
   {
    "duration": 26,
    "start_time": "2022-12-13T02:48:11.171Z"
   },
   {
    "duration": 31,
    "start_time": "2022-12-13T02:49:27.119Z"
   },
   {
    "duration": 8,
    "start_time": "2022-12-13T02:49:50.398Z"
   },
   {
    "duration": 176,
    "start_time": "2022-12-13T02:50:22.918Z"
   },
   {
    "duration": 167,
    "start_time": "2022-12-13T02:51:22.202Z"
   },
   {
    "duration": 16,
    "start_time": "2022-12-13T02:53:08.476Z"
   },
   {
    "duration": 189,
    "start_time": "2022-12-13T02:53:27.946Z"
   },
   {
    "duration": 48,
    "start_time": "2022-12-13T03:32:28.162Z"
   },
   {
    "duration": 412,
    "start_time": "2022-12-13T03:32:37.191Z"
   },
   {
    "duration": 178,
    "start_time": "2022-12-13T03:35:21.879Z"
   },
   {
    "duration": 168,
    "start_time": "2022-12-13T03:35:30.879Z"
   },
   {
    "duration": 488,
    "start_time": "2022-12-13T03:42:12.573Z"
   },
   {
    "duration": 366,
    "start_time": "2022-12-13T03:42:32.780Z"
   },
   {
    "duration": 413,
    "start_time": "2022-12-13T03:42:42.511Z"
   },
   {
    "duration": 384,
    "start_time": "2022-12-13T03:42:57.164Z"
   },
   {
    "duration": 404,
    "start_time": "2022-12-13T03:43:21.805Z"
   },
   {
    "duration": 149,
    "start_time": "2022-12-13T03:44:09.118Z"
   },
   {
    "duration": 239,
    "start_time": "2022-12-13T03:46:17.975Z"
   },
   {
    "duration": 3,
    "start_time": "2022-12-13T03:49:18.670Z"
   },
   {
    "duration": 16,
    "start_time": "2022-12-13T03:49:31.564Z"
   },
   {
    "duration": 283,
    "start_time": "2022-12-13T03:53:12.662Z"
   },
   {
    "duration": 263,
    "start_time": "2022-12-13T03:53:53.248Z"
   },
   {
    "duration": 270,
    "start_time": "2022-12-13T04:00:15.967Z"
   },
   {
    "duration": 276,
    "start_time": "2022-12-13T04:01:16.743Z"
   },
   {
    "duration": 337,
    "start_time": "2022-12-13T04:01:52.899Z"
   },
   {
    "duration": 1115,
    "start_time": "2022-12-13T04:02:27.896Z"
   },
   {
    "duration": 528,
    "start_time": "2022-12-13T04:03:34.516Z"
   },
   {
    "duration": 7,
    "start_time": "2022-12-13T04:06:00.577Z"
   },
   {
    "duration": 5,
    "start_time": "2022-12-13T04:06:43.451Z"
   },
   {
    "duration": 9,
    "start_time": "2022-12-13T04:24:04.178Z"
   },
   {
    "duration": 103,
    "start_time": "2022-12-13T04:24:59.666Z"
   },
   {
    "duration": 262,
    "start_time": "2022-12-13T04:25:12.239Z"
   },
   {
    "duration": 190,
    "start_time": "2022-12-13T04:25:24.712Z"
   },
   {
    "duration": 257,
    "start_time": "2022-12-13T04:27:17.183Z"
   },
   {
    "duration": 171,
    "start_time": "2022-12-13T04:28:06.292Z"
   },
   {
    "duration": 177,
    "start_time": "2022-12-13T04:29:14.188Z"
   },
   {
    "duration": 155,
    "start_time": "2022-12-13T04:33:15.032Z"
   },
   {
    "duration": 168,
    "start_time": "2022-12-13T04:34:07.082Z"
   },
   {
    "duration": 145,
    "start_time": "2022-12-13T04:34:25.233Z"
   },
   {
    "duration": 343,
    "start_time": "2022-12-13T04:38:39.824Z"
   },
   {
    "duration": 443,
    "start_time": "2022-12-13T04:39:18.013Z"
   },
   {
    "duration": 368,
    "start_time": "2022-12-13T04:40:26.330Z"
   },
   {
    "duration": 151,
    "start_time": "2022-12-13T04:40:48.907Z"
   },
   {
    "duration": 345,
    "start_time": "2022-12-13T04:41:01.669Z"
   },
   {
    "duration": 340,
    "start_time": "2022-12-13T04:41:11.454Z"
   },
   {
    "duration": 669,
    "start_time": "2022-12-13T04:41:21.458Z"
   },
   {
    "duration": 802,
    "start_time": "2022-12-13T04:41:59.892Z"
   },
   {
    "duration": 822,
    "start_time": "2022-12-13T04:42:08.823Z"
   },
   {
    "duration": 950,
    "start_time": "2022-12-13T04:42:35.051Z"
   },
   {
    "duration": 840,
    "start_time": "2022-12-13T04:43:04.684Z"
   },
   {
    "duration": 924,
    "start_time": "2022-12-13T04:43:12.535Z"
   },
   {
    "duration": 795,
    "start_time": "2022-12-13T04:51:01.312Z"
   },
   {
    "duration": 186,
    "start_time": "2022-12-13T04:53:16.786Z"
   },
   {
    "duration": 183,
    "start_time": "2022-12-13T04:53:44.115Z"
   },
   {
    "duration": 48,
    "start_time": "2022-12-14T00:10:22.636Z"
   },
   {
    "duration": 1124,
    "start_time": "2022-12-14T00:10:34.037Z"
   },
   {
    "duration": 15,
    "start_time": "2022-12-14T00:10:35.162Z"
   },
   {
    "duration": 1882,
    "start_time": "2022-12-14T00:10:36.038Z"
   },
   {
    "duration": 5,
    "start_time": "2022-12-14T00:10:37.921Z"
   },
   {
    "duration": 24,
    "start_time": "2022-12-14T00:10:37.928Z"
   },
   {
    "duration": 12,
    "start_time": "2022-12-14T00:10:38.082Z"
   },
   {
    "duration": 15,
    "start_time": "2022-12-14T00:10:38.482Z"
   },
   {
    "duration": 10,
    "start_time": "2022-12-14T00:10:38.885Z"
   },
   {
    "duration": 14,
    "start_time": "2022-12-14T00:10:39.078Z"
   },
   {
    "duration": 4,
    "start_time": "2022-12-14T00:10:39.454Z"
   },
   {
    "duration": 16,
    "start_time": "2022-12-14T00:10:39.827Z"
   },
   {
    "duration": 15,
    "start_time": "2022-12-14T00:10:40.022Z"
   },
   {
    "duration": 19,
    "start_time": "2022-12-14T00:10:40.214Z"
   },
   {
    "duration": 23,
    "start_time": "2022-12-14T00:10:40.399Z"
   },
   {
    "duration": 73,
    "start_time": "2022-12-14T00:10:40.778Z"
   },
   {
    "duration": 18,
    "start_time": "2022-12-14T00:10:41.354Z"
   },
   {
    "duration": 307,
    "start_time": "2022-12-14T00:10:41.538Z"
   },
   {
    "duration": 20,
    "start_time": "2022-12-14T00:10:41.920Z"
   },
   {
    "duration": 333,
    "start_time": "2022-12-14T00:10:42.113Z"
   },
   {
    "duration": 27,
    "start_time": "2022-12-14T00:10:42.507Z"
   },
   {
    "duration": 173,
    "start_time": "2022-12-14T00:10:42.691Z"
   },
   {
    "duration": 256,
    "start_time": "2022-12-14T00:10:43.064Z"
   },
   {
    "duration": 10,
    "start_time": "2022-12-14T00:10:43.322Z"
   },
   {
    "duration": 30,
    "start_time": "2022-12-14T00:10:43.630Z"
   },
   {
    "duration": 164,
    "start_time": "2022-12-14T00:10:43.836Z"
   },
   {
    "duration": 166,
    "start_time": "2022-12-14T00:10:44.218Z"
   },
   {
    "duration": 342,
    "start_time": "2022-12-14T00:10:44.586Z"
   },
   {
    "duration": 150,
    "start_time": "2022-12-14T00:10:44.929Z"
   },
   {
    "duration": 339,
    "start_time": "2022-12-14T00:10:45.301Z"
   },
   {
    "duration": 120,
    "start_time": "2022-12-14T00:10:45.686Z"
   },
   {
    "duration": 358,
    "start_time": "2022-12-14T00:10:46.059Z"
   },
   {
    "duration": 2,
    "start_time": "2022-12-14T00:10:46.439Z"
   },
   {
    "duration": 13,
    "start_time": "2022-12-14T00:10:46.669Z"
   },
   {
    "duration": 13,
    "start_time": "2022-12-14T00:10:47.395Z"
   },
   {
    "duration": 520,
    "start_time": "2022-12-14T00:10:47.592Z"
   },
   {
    "duration": 4,
    "start_time": "2022-12-14T00:10:48.113Z"
   },
   {
    "duration": 175,
    "start_time": "2022-12-14T00:10:48.385Z"
   },
   {
    "duration": 216,
    "start_time": "2022-12-14T00:10:48.569Z"
   },
   {
    "duration": 159,
    "start_time": "2022-12-14T00:10:48.786Z"
   },
   {
    "duration": 166,
    "start_time": "2022-12-14T00:10:48.979Z"
   },
   {
    "duration": 132,
    "start_time": "2022-12-14T00:10:49.167Z"
   },
   {
    "duration": 138,
    "start_time": "2022-12-14T00:10:49.365Z"
   },
   {
    "duration": 215,
    "start_time": "2022-12-14T00:10:49.565Z"
   },
   {
    "duration": 153,
    "start_time": "2022-12-14T00:10:49.782Z"
   },
   {
    "duration": 447,
    "start_time": "2022-12-14T00:10:50.588Z"
   },
   {
    "duration": 448,
    "start_time": "2022-12-14T00:11:42.582Z"
   },
   {
    "duration": 446,
    "start_time": "2022-12-14T00:12:11.332Z"
   },
   {
    "duration": 729,
    "start_time": "2022-12-14T00:27:04.088Z"
   },
   {
    "duration": 688,
    "start_time": "2022-12-14T00:27:22.967Z"
   },
   {
    "duration": 16,
    "start_time": "2022-12-14T00:27:47.212Z"
   },
   {
    "duration": 353,
    "start_time": "2022-12-14T00:28:03.644Z"
   },
   {
    "duration": 9,
    "start_time": "2022-12-14T00:28:27.422Z"
   },
   {
    "duration": 52,
    "start_time": "2022-12-14T00:35:42.073Z"
   },
   {
    "duration": 50,
    "start_time": "2022-12-14T00:36:26.110Z"
   },
   {
    "duration": 48,
    "start_time": "2022-12-14T00:36:31.537Z"
   },
   {
    "duration": 636,
    "start_time": "2022-12-14T00:36:36.508Z"
   },
   {
    "duration": 53,
    "start_time": "2022-12-14T00:38:07.497Z"
   },
   {
    "duration": 161,
    "start_time": "2022-12-14T00:44:31.666Z"
   },
   {
    "duration": 7,
    "start_time": "2022-12-14T00:45:58.689Z"
   },
   {
    "duration": 23,
    "start_time": "2022-12-14T00:46:04.647Z"
   },
   {
    "duration": 249,
    "start_time": "2022-12-14T00:49:50.201Z"
   },
   {
    "duration": 1002,
    "start_time": "2022-12-14T13:05:22.819Z"
   },
   {
    "duration": 15,
    "start_time": "2022-12-14T13:05:23.824Z"
   },
   {
    "duration": 2011,
    "start_time": "2022-12-14T13:05:23.841Z"
   },
   {
    "duration": 5,
    "start_time": "2022-12-14T13:05:25.854Z"
   },
   {
    "duration": 37,
    "start_time": "2022-12-14T13:05:25.861Z"
   },
   {
    "duration": 12,
    "start_time": "2022-12-14T13:05:25.900Z"
   },
   {
    "duration": 17,
    "start_time": "2022-12-14T13:05:25.914Z"
   },
   {
    "duration": 11,
    "start_time": "2022-12-14T13:05:25.933Z"
   },
   {
    "duration": 18,
    "start_time": "2022-12-14T13:05:25.947Z"
   },
   {
    "duration": 7,
    "start_time": "2022-12-14T13:05:25.998Z"
   },
   {
    "duration": 26,
    "start_time": "2022-12-14T13:05:26.008Z"
   },
   {
    "duration": 14,
    "start_time": "2022-12-14T13:05:26.036Z"
   },
   {
    "duration": 22,
    "start_time": "2022-12-14T13:05:26.052Z"
   },
   {
    "duration": 24,
    "start_time": "2022-12-14T13:05:26.097Z"
   },
   {
    "duration": 94,
    "start_time": "2022-12-14T13:05:26.123Z"
   },
   {
    "duration": 21,
    "start_time": "2022-12-14T13:05:26.219Z"
   },
   {
    "duration": 357,
    "start_time": "2022-12-14T13:05:26.243Z"
   },
   {
    "duration": 22,
    "start_time": "2022-12-14T13:05:26.602Z"
   },
   {
    "duration": 405,
    "start_time": "2022-12-14T13:05:26.626Z"
   },
   {
    "duration": 30,
    "start_time": "2022-12-14T13:05:27.032Z"
   },
   {
    "duration": 264,
    "start_time": "2022-12-14T13:05:27.064Z"
   },
   {
    "duration": 281,
    "start_time": "2022-12-14T13:05:27.330Z"
   },
   {
    "duration": 16,
    "start_time": "2022-12-14T13:05:27.613Z"
   },
   {
    "duration": 69,
    "start_time": "2022-12-14T13:05:27.632Z"
   },
   {
    "duration": 177,
    "start_time": "2022-12-14T13:05:27.704Z"
   },
   {
    "duration": 182,
    "start_time": "2022-12-14T13:05:27.883Z"
   },
   {
    "duration": 387,
    "start_time": "2022-12-14T13:05:28.066Z"
   },
   {
    "duration": 157,
    "start_time": "2022-12-14T13:05:28.456Z"
   },
   {
    "duration": 372,
    "start_time": "2022-12-14T13:05:28.614Z"
   },
   {
    "duration": 168,
    "start_time": "2022-12-14T13:05:28.987Z"
   },
   {
    "duration": 368,
    "start_time": "2022-12-14T13:05:29.157Z"
   },
   {
    "duration": 4,
    "start_time": "2022-12-14T13:05:29.526Z"
   },
   {
    "duration": 43,
    "start_time": "2022-12-14T13:05:29.532Z"
   },
   {
    "duration": 15,
    "start_time": "2022-12-14T13:05:29.577Z"
   },
   {
    "duration": 647,
    "start_time": "2022-12-14T13:05:29.593Z"
   },
   {
    "duration": 4,
    "start_time": "2022-12-14T13:05:30.243Z"
   },
   {
    "duration": 237,
    "start_time": "2022-12-14T13:05:30.249Z"
   },
   {
    "duration": 247,
    "start_time": "2022-12-14T13:05:30.487Z"
   },
   {
    "duration": 169,
    "start_time": "2022-12-14T13:05:30.736Z"
   },
   {
    "duration": 191,
    "start_time": "2022-12-14T13:05:30.907Z"
   },
   {
    "duration": 158,
    "start_time": "2022-12-14T13:05:31.100Z"
   },
   {
    "duration": 159,
    "start_time": "2022-12-14T13:05:31.260Z"
   },
   {
    "duration": 232,
    "start_time": "2022-12-14T13:05:31.420Z"
   },
   {
    "duration": 156,
    "start_time": "2022-12-14T13:05:31.653Z"
   },
   {
    "duration": 453,
    "start_time": "2022-12-14T13:05:31.810Z"
   },
   {
    "duration": 10,
    "start_time": "2022-12-14T13:05:32.265Z"
   },
   {
    "duration": 666,
    "start_time": "2022-12-14T13:05:32.277Z"
   },
   {
    "duration": 194,
    "start_time": "2022-12-14T13:05:32.945Z"
   },
   {
    "duration": 25,
    "start_time": "2022-12-14T13:05:33.141Z"
   },
   {
    "duration": 272,
    "start_time": "2022-12-14T13:05:33.168Z"
   },
   {
    "duration": 688,
    "start_time": "2022-12-14T13:06:40.610Z"
   },
   {
    "duration": 14,
    "start_time": "2022-12-14T13:06:41.300Z"
   },
   {
    "duration": 1713,
    "start_time": "2022-12-14T13:06:41.316Z"
   },
   {
    "duration": 4,
    "start_time": "2022-12-14T13:06:43.031Z"
   },
   {
    "duration": 32,
    "start_time": "2022-12-14T13:06:43.036Z"
   },
   {
    "duration": 10,
    "start_time": "2022-12-14T13:06:43.070Z"
   },
   {
    "duration": 26,
    "start_time": "2022-12-14T13:06:43.081Z"
   },
   {
    "duration": 10,
    "start_time": "2022-12-14T13:06:43.108Z"
   },
   {
    "duration": 15,
    "start_time": "2022-12-14T13:06:43.119Z"
   },
   {
    "duration": 4,
    "start_time": "2022-12-14T13:06:43.136Z"
   },
   {
    "duration": 15,
    "start_time": "2022-12-14T13:06:43.142Z"
   },
   {
    "duration": 13,
    "start_time": "2022-12-14T13:06:43.158Z"
   },
   {
    "duration": 17,
    "start_time": "2022-12-14T13:06:43.197Z"
   },
   {
    "duration": 22,
    "start_time": "2022-12-14T13:06:43.215Z"
   },
   {
    "duration": 91,
    "start_time": "2022-12-14T13:06:43.238Z"
   },
   {
    "duration": 16,
    "start_time": "2022-12-14T13:06:43.330Z"
   },
   {
    "duration": 321,
    "start_time": "2022-12-14T13:06:43.348Z"
   },
   {
    "duration": 26,
    "start_time": "2022-12-14T13:06:43.671Z"
   },
   {
    "duration": 319,
    "start_time": "2022-12-14T13:06:43.699Z"
   },
   {
    "duration": 26,
    "start_time": "2022-12-14T13:06:44.019Z"
   },
   {
    "duration": 193,
    "start_time": "2022-12-14T13:06:44.047Z"
   },
   {
    "duration": 251,
    "start_time": "2022-12-14T13:06:44.242Z"
   },
   {
    "duration": 9,
    "start_time": "2022-12-14T13:06:44.498Z"
   },
   {
    "duration": 40,
    "start_time": "2022-12-14T13:06:44.508Z"
   },
   {
    "duration": 154,
    "start_time": "2022-12-14T13:06:44.550Z"
   },
   {
    "duration": 195,
    "start_time": "2022-12-14T13:06:44.706Z"
   },
   {
    "duration": 371,
    "start_time": "2022-12-14T13:06:44.903Z"
   },
   {
    "duration": 131,
    "start_time": "2022-12-14T13:06:45.277Z"
   },
   {
    "duration": 331,
    "start_time": "2022-12-14T13:06:45.410Z"
   },
   {
    "duration": 129,
    "start_time": "2022-12-14T13:06:45.742Z"
   },
   {
    "duration": 322,
    "start_time": "2022-12-14T13:06:45.872Z"
   },
   {
    "duration": 3,
    "start_time": "2022-12-14T13:06:46.195Z"
   },
   {
    "duration": 34,
    "start_time": "2022-12-14T13:06:46.199Z"
   },
   {
    "duration": 26,
    "start_time": "2022-12-14T13:06:46.234Z"
   },
   {
    "duration": 524,
    "start_time": "2022-12-14T13:06:46.262Z"
   },
   {
    "duration": 3,
    "start_time": "2022-12-14T13:06:46.788Z"
   },
   {
    "duration": 173,
    "start_time": "2022-12-14T13:06:46.797Z"
   },
   {
    "duration": 208,
    "start_time": "2022-12-14T13:06:46.972Z"
   },
   {
    "duration": 150,
    "start_time": "2022-12-14T13:06:47.182Z"
   },
   {
    "duration": 160,
    "start_time": "2022-12-14T13:06:47.333Z"
   },
   {
    "duration": 131,
    "start_time": "2022-12-14T13:06:47.497Z"
   },
   {
    "duration": 138,
    "start_time": "2022-12-14T13:06:47.630Z"
   },
   {
    "duration": 222,
    "start_time": "2022-12-14T13:06:47.770Z"
   },
   {
    "duration": 151,
    "start_time": "2022-12-14T13:06:47.996Z"
   },
   {
    "duration": 428,
    "start_time": "2022-12-14T13:06:48.148Z"
   },
   {
    "duration": 22,
    "start_time": "2022-12-14T13:06:48.577Z"
   },
   {
    "duration": 609,
    "start_time": "2022-12-14T13:06:48.601Z"
   },
   {
    "duration": 163,
    "start_time": "2022-12-14T13:06:49.212Z"
   },
   {
    "duration": 26,
    "start_time": "2022-12-14T13:06:49.376Z"
   },
   {
    "duration": 253,
    "start_time": "2022-12-14T13:06:49.403Z"
   },
   {
    "duration": 4,
    "start_time": "2022-12-14T13:11:49.227Z"
   },
   {
    "duration": 94,
    "start_time": "2022-12-14T13:17:08.857Z"
   },
   {
    "duration": 722,
    "start_time": "2022-12-14T13:38:25.187Z"
   },
   {
    "duration": 15,
    "start_time": "2022-12-14T13:38:25.911Z"
   },
   {
    "duration": 1804,
    "start_time": "2022-12-14T13:38:25.927Z"
   },
   {
    "duration": 4,
    "start_time": "2022-12-14T13:38:27.734Z"
   },
   {
    "duration": 24,
    "start_time": "2022-12-14T13:38:27.740Z"
   },
   {
    "duration": 32,
    "start_time": "2022-12-14T13:38:27.765Z"
   },
   {
    "duration": 3,
    "start_time": "2022-12-14T13:38:27.799Z"
   },
   {
    "duration": 16,
    "start_time": "2022-12-14T13:38:27.804Z"
   },
   {
    "duration": 10,
    "start_time": "2022-12-14T13:38:27.821Z"
   },
   {
    "duration": 38,
    "start_time": "2022-12-14T13:38:27.835Z"
   },
   {
    "duration": 5,
    "start_time": "2022-12-14T13:38:27.875Z"
   },
   {
    "duration": 22,
    "start_time": "2022-12-14T13:38:27.882Z"
   },
   {
    "duration": 15,
    "start_time": "2022-12-14T13:38:27.906Z"
   },
   {
    "duration": 39,
    "start_time": "2022-12-14T13:38:27.923Z"
   },
   {
    "duration": 33,
    "start_time": "2022-12-14T13:38:27.964Z"
   },
   {
    "duration": 75,
    "start_time": "2022-12-14T13:38:27.998Z"
   },
   {
    "duration": 31,
    "start_time": "2022-12-14T13:38:28.074Z"
   },
   {
    "duration": 345,
    "start_time": "2022-12-14T13:38:28.106Z"
   },
   {
    "duration": 22,
    "start_time": "2022-12-14T13:38:28.453Z"
   },
   {
    "duration": 351,
    "start_time": "2022-12-14T13:38:28.476Z"
   },
   {
    "duration": 29,
    "start_time": "2022-12-14T13:38:28.830Z"
   },
   {
    "duration": 211,
    "start_time": "2022-12-14T13:38:28.861Z"
   },
   {
    "duration": 266,
    "start_time": "2022-12-14T13:38:29.073Z"
   },
   {
    "duration": 11,
    "start_time": "2022-12-14T13:38:29.341Z"
   },
   {
    "duration": 49,
    "start_time": "2022-12-14T13:38:29.354Z"
   },
   {
    "duration": 165,
    "start_time": "2022-12-14T13:38:29.404Z"
   },
   {
    "duration": 170,
    "start_time": "2022-12-14T13:38:29.571Z"
   },
   {
    "duration": 373,
    "start_time": "2022-12-14T13:38:29.744Z"
   },
   {
    "duration": 141,
    "start_time": "2022-12-14T13:38:30.119Z"
   },
   {
    "duration": 345,
    "start_time": "2022-12-14T13:38:30.262Z"
   },
   {
    "duration": 134,
    "start_time": "2022-12-14T13:38:30.609Z"
   },
   {
    "duration": 316,
    "start_time": "2022-12-14T13:38:30.745Z"
   },
   {
    "duration": 3,
    "start_time": "2022-12-14T13:38:31.062Z"
   },
   {
    "duration": 55,
    "start_time": "2022-12-14T13:38:31.066Z"
   },
   {
    "duration": 29,
    "start_time": "2022-12-14T13:38:31.123Z"
   },
   {
    "duration": 531,
    "start_time": "2022-12-14T13:38:31.154Z"
   },
   {
    "duration": 3,
    "start_time": "2022-12-14T13:38:31.687Z"
   },
   {
    "duration": 175,
    "start_time": "2022-12-14T13:38:31.697Z"
   },
   {
    "duration": 224,
    "start_time": "2022-12-14T13:38:31.874Z"
   },
   {
    "duration": 157,
    "start_time": "2022-12-14T13:38:32.099Z"
   },
   {
    "duration": 172,
    "start_time": "2022-12-14T13:38:32.258Z"
   },
   {
    "duration": 142,
    "start_time": "2022-12-14T13:38:32.431Z"
   },
   {
    "duration": 148,
    "start_time": "2022-12-14T13:38:32.575Z"
   },
   {
    "duration": 245,
    "start_time": "2022-12-14T13:38:32.725Z"
   },
   {
    "duration": 158,
    "start_time": "2022-12-14T13:38:32.972Z"
   },
   {
    "duration": 430,
    "start_time": "2022-12-14T13:38:33.131Z"
   },
   {
    "duration": 9,
    "start_time": "2022-12-14T13:38:33.562Z"
   },
   {
    "duration": 663,
    "start_time": "2022-12-14T13:38:33.573Z"
   },
   {
    "duration": 162,
    "start_time": "2022-12-14T13:38:34.238Z"
   },
   {
    "duration": 21,
    "start_time": "2022-12-14T13:38:34.402Z"
   },
   {
    "duration": 254,
    "start_time": "2022-12-14T13:38:34.424Z"
   },
   {
    "duration": 981,
    "start_time": "2022-12-14T16:23:42.424Z"
   },
   {
    "duration": 44,
    "start_time": "2022-12-15T08:06:13.157Z"
   },
   {
    "duration": 969,
    "start_time": "2022-12-15T08:06:24.192Z"
   },
   {
    "duration": 15,
    "start_time": "2022-12-15T08:06:25.273Z"
   },
   {
    "duration": 1867,
    "start_time": "2022-12-15T08:06:26.226Z"
   },
   {
    "duration": 4,
    "start_time": "2022-12-15T08:06:28.372Z"
   },
   {
    "duration": 20,
    "start_time": "2022-12-15T08:06:29.897Z"
   },
   {
    "duration": 11,
    "start_time": "2022-12-15T08:06:31.210Z"
   },
   {
    "duration": 4,
    "start_time": "2022-12-15T08:06:32.228Z"
   },
   {
    "duration": 478,
    "start_time": "2022-12-15T08:06:34.162Z"
   },
   {
    "duration": 4,
    "start_time": "2022-12-15T08:11:12.939Z"
   },
   {
    "duration": 11,
    "start_time": "2022-12-15T08:13:10.035Z"
   },
   {
    "duration": 13,
    "start_time": "2022-12-15T08:13:47.539Z"
   },
   {
    "duration": 24,
    "start_time": "2022-12-15T08:16:06.942Z"
   },
   {
    "duration": 9,
    "start_time": "2022-12-15T08:16:08.818Z"
   },
   {
    "duration": 944,
    "start_time": "2022-12-15T08:49:57.452Z"
   },
   {
    "duration": 42,
    "start_time": "2022-12-15T08:53:12.961Z"
   },
   {
    "duration": 810,
    "start_time": "2022-12-15T08:55:16.222Z"
   },
   {
    "duration": 700,
    "start_time": "2022-12-15T08:55:29.288Z"
   },
   {
    "duration": 665,
    "start_time": "2022-12-15T08:55:38.981Z"
   },
   {
    "duration": 16,
    "start_time": "2022-12-15T08:59:48.445Z"
   },
   {
    "duration": 13,
    "start_time": "2022-12-15T09:00:29.486Z"
   },
   {
    "duration": 11,
    "start_time": "2022-12-15T09:01:54.730Z"
   },
   {
    "duration": 9,
    "start_time": "2022-12-15T09:03:16.086Z"
   },
   {
    "duration": 13,
    "start_time": "2022-12-15T09:03:36.480Z"
   },
   {
    "duration": 11,
    "start_time": "2022-12-15T09:04:57.156Z"
   },
   {
    "duration": 17,
    "start_time": "2022-12-15T09:06:44.295Z"
   },
   {
    "duration": 169,
    "start_time": "2022-12-15T09:06:46.637Z"
   },
   {
    "duration": 14,
    "start_time": "2022-12-15T09:07:03.101Z"
   },
   {
    "duration": 13,
    "start_time": "2022-12-15T09:07:06.621Z"
   },
   {
    "duration": 13,
    "start_time": "2022-12-15T09:10:04.178Z"
   },
   {
    "duration": 15,
    "start_time": "2022-12-15T09:10:14.423Z"
   },
   {
    "duration": 724,
    "start_time": "2022-12-15T09:10:42.940Z"
   },
   {
    "duration": 878,
    "start_time": "2022-12-15T09:11:23.099Z"
   },
   {
    "duration": 1160,
    "start_time": "2022-12-15T09:12:10.104Z"
   },
   {
    "duration": 14,
    "start_time": "2022-12-15T09:19:48.874Z"
   },
   {
    "duration": 965,
    "start_time": "2022-12-15T09:20:08.187Z"
   },
   {
    "duration": 13,
    "start_time": "2022-12-15T09:20:27.097Z"
   },
   {
    "duration": 1025,
    "start_time": "2022-12-15T09:20:34.490Z"
   },
   {
    "duration": 15,
    "start_time": "2022-12-15T09:21:14.436Z"
   },
   {
    "duration": 312,
    "start_time": "2022-12-15T09:21:35.974Z"
   },
   {
    "duration": 8,
    "start_time": "2022-12-15T09:24:44.126Z"
   },
   {
    "duration": 320,
    "start_time": "2022-12-15T09:25:07.377Z"
   },
   {
    "duration": 338,
    "start_time": "2022-12-15T09:25:39.882Z"
   },
   {
    "duration": 832,
    "start_time": "2022-12-15T14:08:53.434Z"
   },
   {
    "duration": 17,
    "start_time": "2022-12-15T14:08:54.269Z"
   },
   {
    "duration": 2258,
    "start_time": "2022-12-15T14:08:54.288Z"
   },
   {
    "duration": 7,
    "start_time": "2022-12-15T14:08:56.548Z"
   },
   {
    "duration": 26,
    "start_time": "2022-12-15T14:08:56.558Z"
   },
   {
    "duration": 17,
    "start_time": "2022-12-15T14:08:56.586Z"
   },
   {
    "duration": 5,
    "start_time": "2022-12-15T14:08:56.605Z"
   },
   {
    "duration": 48,
    "start_time": "2022-12-15T14:08:56.612Z"
   },
   {
    "duration": 14,
    "start_time": "2022-12-15T14:08:56.662Z"
   },
   {
    "duration": 24,
    "start_time": "2022-12-15T14:08:56.678Z"
   },
   {
    "duration": 39,
    "start_time": "2022-12-15T14:08:56.704Z"
   },
   {
    "duration": 19,
    "start_time": "2022-12-15T14:08:56.746Z"
   },
   {
    "duration": 6,
    "start_time": "2022-12-15T14:08:56.767Z"
   },
   {
    "duration": 21,
    "start_time": "2022-12-15T14:08:56.778Z"
   },
   {
    "duration": 56,
    "start_time": "2022-12-15T14:08:56.802Z"
   },
   {
    "duration": 34,
    "start_time": "2022-12-15T14:08:56.860Z"
   },
   {
    "duration": 30,
    "start_time": "2022-12-15T14:08:56.896Z"
   },
   {
    "duration": 87,
    "start_time": "2022-12-15T14:08:56.936Z"
   },
   {
    "duration": 36,
    "start_time": "2022-12-15T14:08:57.025Z"
   },
   {
    "duration": 435,
    "start_time": "2022-12-15T14:08:57.063Z"
   },
   {
    "duration": 39,
    "start_time": "2022-12-15T14:08:57.499Z"
   },
   {
    "duration": 397,
    "start_time": "2022-12-15T14:08:57.540Z"
   },
   {
    "duration": 31,
    "start_time": "2022-12-15T14:08:57.939Z"
   },
   {
    "duration": 273,
    "start_time": "2022-12-15T14:08:57.973Z"
   },
   {
    "duration": 331,
    "start_time": "2022-12-15T14:08:58.248Z"
   },
   {
    "duration": 13,
    "start_time": "2022-12-15T14:08:58.581Z"
   },
   {
    "duration": 57,
    "start_time": "2022-12-15T14:08:58.598Z"
   },
   {
    "duration": 231,
    "start_time": "2022-12-15T14:08:58.657Z"
   },
   {
    "duration": 301,
    "start_time": "2022-12-15T14:08:58.891Z"
   },
   {
    "duration": 443,
    "start_time": "2022-12-15T14:08:59.194Z"
   },
   {
    "duration": 168,
    "start_time": "2022-12-15T14:08:59.639Z"
   },
   {
    "duration": 409,
    "start_time": "2022-12-15T14:08:59.810Z"
   },
   {
    "duration": 160,
    "start_time": "2022-12-15T14:09:00.221Z"
   },
   {
    "duration": 399,
    "start_time": "2022-12-15T14:09:00.383Z"
   },
   {
    "duration": 4,
    "start_time": "2022-12-15T14:09:00.784Z"
   },
   {
    "duration": 39,
    "start_time": "2022-12-15T14:09:00.790Z"
   },
   {
    "duration": 20,
    "start_time": "2022-12-15T14:09:00.831Z"
   },
   {
    "duration": 335,
    "start_time": "2022-12-15T14:09:00.853Z"
   },
   {
    "duration": 4,
    "start_time": "2022-12-15T14:09:01.190Z"
   },
   {
    "duration": 25,
    "start_time": "2022-12-15T14:09:01.196Z"
   },
   {
    "duration": 201,
    "start_time": "2022-12-15T14:09:01.237Z"
   },
   {
    "duration": 262,
    "start_time": "2022-12-15T14:09:01.440Z"
   },
   {
    "duration": 196,
    "start_time": "2022-12-15T14:09:01.704Z"
   },
   {
    "duration": 198,
    "start_time": "2022-12-15T14:09:01.902Z"
   },
   {
    "duration": 172,
    "start_time": "2022-12-15T14:09:02.102Z"
   },
   {
    "duration": 171,
    "start_time": "2022-12-15T14:09:02.277Z"
   },
   {
    "duration": 277,
    "start_time": "2022-12-15T14:09:02.450Z"
   },
   {
    "duration": 200,
    "start_time": "2022-12-15T14:09:02.729Z"
   },
   {
    "duration": 1113,
    "start_time": "2022-12-15T14:09:02.931Z"
   },
   {
    "duration": 569,
    "start_time": "2022-12-15T14:09:04.046Z"
   },
   {
    "duration": 21,
    "start_time": "2022-12-15T14:09:04.618Z"
   },
   {
    "duration": 899,
    "start_time": "2022-12-15T14:09:04.642Z"
   },
   {
    "duration": 1047,
    "start_time": "2022-12-15T14:09:05.543Z"
   },
   {
    "duration": 356,
    "start_time": "2022-12-15T14:09:06.592Z"
   },
   {
    "duration": 193,
    "start_time": "2022-12-15T14:09:06.949Z"
   },
   {
    "duration": 25,
    "start_time": "2022-12-15T14:09:07.144Z"
   },
   {
    "duration": 305,
    "start_time": "2022-12-15T14:09:07.171Z"
   }
  ],
  "kernelspec": {
   "display_name": "Python 3 (ipykernel)",
   "language": "python",
   "name": "python3"
  },
  "language_info": {
   "codemirror_mode": {
    "name": "ipython",
    "version": 3
   },
   "file_extension": ".py",
   "mimetype": "text/x-python",
   "name": "python",
   "nbconvert_exporter": "python",
   "pygments_lexer": "ipython3",
   "version": "3.10.9"
  },
  "toc": {
   "base_numbering": 1,
   "nav_menu": {},
   "number_sections": true,
   "sideBar": true,
   "skip_h1_title": true,
   "title_cell": "Table of Contents",
   "title_sidebar": "Contents",
   "toc_cell": false,
   "toc_position": {},
   "toc_section_display": true,
   "toc_window_display": true
  }
 },
 "nbformat": 4,
 "nbformat_minor": 2
}
