{
 "cells": [
  {
   "cell_type": "markdown",
   "id": "32bc5107",
   "metadata": {},
   "source": [
    "<div style=\"border:solid Chocolate 2px; padding: 40px\">\n",
    "\n",
    "<b> Максим, привет!👋</b>\n",
    "\n",
    "Меня зовут Алексей Гриб, я буду твоим тимлидом на протяжении финального спринта:)\n",
    "\n",
    "Сразу хочу предложить в дальнейшем общаться на \"ты\" - надеюсь, так будет комфортнее:) Но если это неудобно, обязательно дай знать, и мы придумаем что-нибудь ещё!\n",
    "    \n",
    "Цель ревью - не искать ошибки в твоём проекте, а помочь тебе сделать твою работу ещё лучше, устранив недочёты и приблизив её к реальным задачам аналитика. Поэтому не расстраивайся, если что-то не получилось с первого раза - это нормально, и это поможет тебе вырасти!\n",
    "    \n",
    "Ты можешь найти мои комментарии, обозначенные <font color='green'>зеленым</font>, <font color='gold'>желтым</font> и <font color='red'>красным</font> цветами, например:\n",
    "\n",
    "<br/>\n",
    "\n",
    "<div class=\"alert alert-success\">\n",
    "<h2> Комментарий тимлида <a class=\"tocSkip\"> </h2>\n",
    "\n",
    "<b>Все отлично!👍:</b> похвала, рекомендации «со звёздочкой», полезные лайфхаки, которые сделают и без того красивое решение ещё более элегантным.\n",
    "</div>\n",
    "\n",
    "<br/>\n",
    "\n",
    "<div class=\"alert alert-warning\">\n",
    "    <h2> Комментарий тимлида <a class=\"tocSkip\"> </h2>\n",
    "    \n",
    "<b>Некоторые замечания и рекомендации⚠️:</b> некритичные ошибки или развивающие рекомендации на будущее. \n",
    "</div>\n",
    "\n",
    "\n",
    "<br/>\n",
    "<div class=\"alert alert-block alert-danger\">\n",
    "<h2> Комментарий тимлида <a class=\"tocSkip\"></h2>\n",
    "\n",
    "    \n",
    "<b>На доработку❌:</b>\n",
    "Критичные ошибки, которые обязательно нужно исправить.\n",
    "</div>\n",
    "\n",
    "Я не смогу принять проект, если в нём будет хотя бы одна критичная ошибка или несколько некритичных ошибок - тогда проект нужно будет немного доработать. Но это нестрашно - я обязательно дам тебе подсказку или укажу верное направление.\n",
    "    \n",
    "Пожалуйста, не удаляй мои комментарии, они будут особенно полезны для нашей работы в случае повторной проверки проекта. \n",
    "    \n",
    "Ты также можешь задавать свои вопросы, реагировать на мои комментарии, делать пометки и пояснения - полная творческая свобода! Но маленькая просьба - пускай они будут отличаться от моих комментариев, это поможет избежать путаницы в нашем общении:)\n",
    "Например, вот так:\n",
    "    \n",
    "<div class=\"alert alert-info\">\n",
    "<h2> Комментарий студента <a class=\"tocSkip\"> </h2>\n",
    "\n",
    "*твой текст*\n",
    "</div>\n",
    "    \n",
    "Давай посмотрим на твой проект!"
   ]
  },
  {
   "cell_type": "markdown",
   "id": "61ce32c9",
   "metadata": {},
   "source": [
    "# Телеком — задача проекта"
   ]
  },
  {
   "cell_type": "markdown",
   "id": "42117ec0",
   "metadata": {},
   "source": [
    "### Краткое описание \n",
    "\n",
    "Оператор предоставляет два основных типа услуг: \n",
    "1. Стационарную телефонную связь. \n",
    "2. Интернет. Подключение может быть двух типов: через телефонную линию или оптоволоконный кабель.  \n",
    "\n",
    "Доп услуги:\n",
    "- Интернет-безопасность: антивирус (*DeviceProtection*) и блокировка небезопасных сайтов (*OnlineSecurity*);\n",
    "- Выделенная линия технической поддержки (*TechSupport*);\n",
    "- Облачное хранилище файлов для резервного копирования данных (*OnlineBackup*);\n",
    "- Стриминговое телевидение (*StreamingTV*) и каталог фильмов (*StreamingMovies*).\n",
    "\n",
    "Данные состоят из файлов, полученных из разных источников:\n",
    "\n",
    "- `contract_new.csv` — информация о договоре;\n",
    "- `personal_new.csv` — персональные данные клиента;\n",
    "- `internet_new.csv` — информация об интернет-услугах;\n",
    "- `phone_new.csv` — информация об услугах телефонии.\n",
    "\n",
    "Во всех файлах столбец `customerID` содержит код клиента.\n",
    "\n",
    "Информация о договорах актуальна на 1 февраля 2020."
   ]
  },
  {
   "cell_type": "markdown",
   "id": "9cfcd6e7",
   "metadata": {},
   "source": [
    "### Цели и задачи\n",
    "\n",
    "#### Цель:\n",
    "    - Научиться прогнозировать отток клиентов, чтобы вовремя выяснять что пользователь планирует уйти и предлагать ему более выгодные условия!"
   ]
  },
  {
   "cell_type": "markdown",
   "id": "ffe1a10c",
   "metadata": {},
   "source": [
    "<div class=\"alert alert-success\">\n",
    "<h2> Комментарий тимлида (план) <a class=\"tocSkip\"> </h2>\n",
    "\n",
    "<b>Все отлично!👍:</b> Есть небольшое вступление - хороший старт: есть название проекта, немного контекста о деятельности заказчика, а также описание данных для работы - отлично! Цели и задачи также сформулированы - молодец!"
   ]
  },
  {
   "cell_type": "markdown",
   "id": "72bc4a7b",
   "metadata": {},
   "source": [
    "<div class=\"alert alert-warning\">\n",
    "    <h2> Комментарий тимлида (план) <a class=\"tocSkip\"> </h2>\n",
    "    \n",
    "<b>Некоторые замечания и рекомендации⚠️:</b> В цели проекта принято указывать, чем наше решение будет полезно заказчику: не просто прогноизровать оттока, а прогнозировать оттока для чего-то и затем-то:)"
   ]
  },
  {
   "cell_type": "markdown",
   "id": "a6cb3538",
   "metadata": {},
   "source": [
    "<div class=\"alert alert-info\">\n",
    "<h2> Комментарий студента <a class=\"tocSkip\"> </h2>\n",
    "\n",
    "*Добавил для чего мы прогнозируем отток*\n",
    "</div>"
   ]
  },
  {
   "cell_type": "markdown",
   "id": "c4c54a77",
   "metadata": {},
   "source": [
    "<div class=\"alert alert-success\">\n",
    "<h2> Комментарий тимлида (код) <a class=\"tocSkip\"> </h2>\n",
    "\n",
    "<b>Все отлично!👍:</b> Учтено."
   ]
  },
  {
   "cell_type": "markdown",
   "id": "7b9f44c1",
   "metadata": {},
   "source": [
    "#### Задачи:\n",
    "- загурзить и проанализировать данные \n",
    "- написать первичные выводы\n",
    "- провести предобработку и исследовательский анализ данных\n",
    "- анализ важности призанаков\n",
    "- разделить итоговый датасет на тренировочную и тестовую выборки\n",
    "- визуализировать результаты в течение всего проекта\n",
    "- обучение моделей ML и проверка их предсказаний по выбранным заранее метрикам\n",
    "- сравнить модели и оценить их эффективность на тестовой выборке\n",
    "- сделать вывод о проделанной работе и рекомендации заказчику"
   ]
  },
  {
   "cell_type": "markdown",
   "id": "8c3d2152",
   "metadata": {},
   "source": [
    "<div class=\"alert alert-success\">\n",
    "<h2> Комментарий тимлида (план) <a class=\"tocSkip\"> </h2>\n",
    "\n",
    "<b>Все отлично!👍:</b> По плану нет существенных замечаний - почти все этапы учтены."
   ]
  },
  {
   "cell_type": "markdown",
   "id": "8d4cf61e",
   "metadata": {},
   "source": [
    "<div class=\"alert alert-warning\">\n",
    "    <h2> Комментарий тимлида (план) <a class=\"tocSkip\"> </h2>\n",
    "    \n",
    "<b>Некоторые замечания и рекомендации⚠️:</b> Обрати внимание, что этапы анализа важности признаков и матрицы ошибок являются обязательными для проекта - нужно будет включить их в план работ."
   ]
  },
  {
   "cell_type": "markdown",
   "id": "fda2b7a4",
   "metadata": {},
   "source": [
    "<div class=\"alert alert-info\">\n",
    "<h2> Комментарий студента <a class=\"tocSkip\"> </h2>\n",
    "\n",
    "*Добавил*\n",
    "</div>"
   ]
  },
  {
   "cell_type": "markdown",
   "id": "85ae829a",
   "metadata": {},
   "source": [
    "<div class=\"alert alert-success\">\n",
    "<h2> Комментарий тимлида (код) <a class=\"tocSkip\"> </h2>\n",
    "\n",
    "<b>Все отлично!👍:</b> Учтено."
   ]
  },
  {
   "cell_type": "markdown",
   "id": "2e179a93",
   "metadata": {},
   "source": [
    "## Загрузка и анализ данных"
   ]
  },
  {
   "cell_type": "raw",
   "id": "31fc4c5c",
   "metadata": {},
   "source": [
    " pip install phik "
   ]
  },
  {
   "cell_type": "code",
   "execution_count": 1,
   "id": "273b1452",
   "metadata": {},
   "outputs": [],
   "source": [
    "# импорт библиотек\n",
    "import pandas as pd\n",
    "import seaborn as sns\n",
    "import matplotlib.pyplot as plt\n",
    "import numpy as np\n",
    "\n",
    "from phik.report import plot_correlation_matrix\n",
    "\n",
    "from sklearn.linear_model import LogisticRegression\n",
    "from sklearn.ensemble import RandomForestClassifier\n",
    "from catboost import CatBoostClassifier, Pool\n",
    "\n",
    "\n",
    "from sklearn.model_selection import train_test_split, GridSearchCV\n",
    "\n",
    "from sklearn.metrics import roc_auc_score, f1_score, confusion_matrix, roc_curve, accuracy_score\n",
    "from sklearn.preprocessing import StandardScaler, OrdinalEncoder"
   ]
  },
  {
   "cell_type": "markdown",
   "id": "637359be",
   "metadata": {},
   "source": [
    "<div class=\"alert alert-success\">\n",
    "<h2> Комментарий тимлида (план) <a class=\"tocSkip\"> </h2>\n",
    "\n",
    "<b>Все отлично!👍:</b> Библиотеки на месте."
   ]
  },
  {
   "cell_type": "code",
   "execution_count": 2,
   "id": "63ae965b",
   "metadata": {},
   "outputs": [],
   "source": [
    "# загрузим данные\n",
    "df_contract = pd.read_csv('contract_new.csv') \n",
    "df_internet = pd.read_csv('internet_new.csv')\n",
    "df_personal = pd.read_csv('personal_new.csv') \n",
    "df_phone = pd.read_csv('phone_new.csv') "
   ]
  },
  {
   "cell_type": "markdown",
   "id": "e1c85b8a",
   "metadata": {},
   "source": [
    "<div class=\"alert alert-success\">\n",
    "<h2> Комментарий тимлида (план) <a class=\"tocSkip\"> </h2>\n",
    "\n",
    "<b>Все отлично!👍</b> \n",
    "    \n",
    "Данные загрузили.\n",
    "    \n",
    "При считывании данных из файла здорово перестраховывать себя от ошибок, связанных, например, с неверным указанием пути к файлу. А иногда бывает, что работаешь с файлом локально, выгружаешь его на сервер, ожидая, что он будет принимать данные, которые лежат на том же сервере, а код падает с ошибкой, потому что путь к файлу не поменялся с локального на серверный.\n",
    "    \n",
    "Для этого, например, можно использовать конструкцию `try-except`: сначала пробуешь локальный путь, при возникновении ошибки используется серверный путь (подробнее можешь почитать тут: https://pythonworld.ru/tipy-dannyx-v-python/isklyucheniya-v-python-konstrukciya-try-except-dlya-obrabotki-isklyuchenij.html).\n",
    "    \n",
    "Но еще лучше использовать библиотеку `os` - её использование позволит тебе проверять существование указанных директорий (что может быть актуально при одновременной работа на локальном и сетевом окружении) и загружать данные из существующей директории, избегая ошибок. Как пример:\n",
    "    \n",
    "    import os\n",
    "\n",
    "    pth1 = '/folder_1/data.csv'\n",
    "    pth2 = '/folder_2/data.csv'\n",
    "    \n",
    "    if os.path.exists(pth1):\n",
    "        query_1 = pd.read_csv(pth1)\n",
    "    elif os.path.exists(pth2):\n",
    "        query_1 = pd.read_csv(pth2)\n",
    "    else:\n",
    "        print('Something is wrong')\n",
    "\n",
    "Ещё на этапе считывания данных можно спарсить дату: за это действие отвечает параметр `parse_dates` метода `read_csv()`, в него нужно передать список с названием полей-дат, и в большинстве случаев дата будет корректно преобразована в нужный формат сразу:)\n",
    "Также на этапе считывания данных задать индекс-столбец- за это действие отвечает параметр `index_col`."
   ]
  },
  {
   "cell_type": "markdown",
   "id": "e209cdde",
   "metadata": {},
   "source": [
    "Рассмотрим информацию содержащуюся в каждом датафрейме"
   ]
  },
  {
   "cell_type": "markdown",
   "id": "5a406951",
   "metadata": {},
   "source": [
    "### Датафрейм (df_contract) с информацией о договорах"
   ]
  },
  {
   "cell_type": "code",
   "execution_count": 3,
   "id": "80dfa403",
   "metadata": {},
   "outputs": [
    {
     "data": {
      "text/html": [
       "<div>\n",
       "<style scoped>\n",
       "    .dataframe tbody tr th:only-of-type {\n",
       "        vertical-align: middle;\n",
       "    }\n",
       "\n",
       "    .dataframe tbody tr th {\n",
       "        vertical-align: top;\n",
       "    }\n",
       "\n",
       "    .dataframe thead th {\n",
       "        text-align: right;\n",
       "    }\n",
       "</style>\n",
       "<table border=\"1\" class=\"dataframe\">\n",
       "  <thead>\n",
       "    <tr style=\"text-align: right;\">\n",
       "      <th></th>\n",
       "      <th>customerID</th>\n",
       "      <th>BeginDate</th>\n",
       "      <th>EndDate</th>\n",
       "      <th>Type</th>\n",
       "      <th>PaperlessBilling</th>\n",
       "      <th>PaymentMethod</th>\n",
       "      <th>MonthlyCharges</th>\n",
       "      <th>TotalCharges</th>\n",
       "    </tr>\n",
       "  </thead>\n",
       "  <tbody>\n",
       "    <tr>\n",
       "      <th>0</th>\n",
       "      <td>7590-VHVEG</td>\n",
       "      <td>2020-01-01</td>\n",
       "      <td>No</td>\n",
       "      <td>Month-to-month</td>\n",
       "      <td>Yes</td>\n",
       "      <td>Electronic check</td>\n",
       "      <td>29.85</td>\n",
       "      <td>31.04</td>\n",
       "    </tr>\n",
       "    <tr>\n",
       "      <th>1</th>\n",
       "      <td>5575-GNVDE</td>\n",
       "      <td>2017-04-01</td>\n",
       "      <td>No</td>\n",
       "      <td>One year</td>\n",
       "      <td>No</td>\n",
       "      <td>Mailed check</td>\n",
       "      <td>56.95</td>\n",
       "      <td>2071.84</td>\n",
       "    </tr>\n",
       "    <tr>\n",
       "      <th>2</th>\n",
       "      <td>3668-QPYBK</td>\n",
       "      <td>2019-10-01</td>\n",
       "      <td>No</td>\n",
       "      <td>Month-to-month</td>\n",
       "      <td>Yes</td>\n",
       "      <td>Mailed check</td>\n",
       "      <td>53.85</td>\n",
       "      <td>226.17</td>\n",
       "    </tr>\n",
       "    <tr>\n",
       "      <th>3</th>\n",
       "      <td>7795-CFOCW</td>\n",
       "      <td>2016-05-01</td>\n",
       "      <td>No</td>\n",
       "      <td>One year</td>\n",
       "      <td>No</td>\n",
       "      <td>Bank transfer (automatic)</td>\n",
       "      <td>42.30</td>\n",
       "      <td>1960.6</td>\n",
       "    </tr>\n",
       "    <tr>\n",
       "      <th>4</th>\n",
       "      <td>9237-HQITU</td>\n",
       "      <td>2019-09-01</td>\n",
       "      <td>No</td>\n",
       "      <td>Month-to-month</td>\n",
       "      <td>Yes</td>\n",
       "      <td>Electronic check</td>\n",
       "      <td>70.70</td>\n",
       "      <td>353.5</td>\n",
       "    </tr>\n",
       "  </tbody>\n",
       "</table>\n",
       "</div>"
      ],
      "text/plain": [
       "   customerID   BeginDate EndDate            Type PaperlessBilling  \\\n",
       "0  7590-VHVEG  2020-01-01      No  Month-to-month              Yes   \n",
       "1  5575-GNVDE  2017-04-01      No        One year               No   \n",
       "2  3668-QPYBK  2019-10-01      No  Month-to-month              Yes   \n",
       "3  7795-CFOCW  2016-05-01      No        One year               No   \n",
       "4  9237-HQITU  2019-09-01      No  Month-to-month              Yes   \n",
       "\n",
       "               PaymentMethod  MonthlyCharges TotalCharges  \n",
       "0           Electronic check           29.85        31.04  \n",
       "1               Mailed check           56.95      2071.84  \n",
       "2               Mailed check           53.85       226.17  \n",
       "3  Bank transfer (automatic)           42.30       1960.6  \n",
       "4           Electronic check           70.70        353.5  "
      ]
     },
     "execution_count": 3,
     "metadata": {},
     "output_type": "execute_result"
    }
   ],
   "source": [
    "# первые 5 строк\n",
    "df_contract.head()"
   ]
  },
  {
   "cell_type": "code",
   "execution_count": 4,
   "id": "db8e3d23",
   "metadata": {},
   "outputs": [
    {
     "name": "stdout",
     "output_type": "stream",
     "text": [
      "<class 'pandas.core.frame.DataFrame'>\n",
      "RangeIndex: 7043 entries, 0 to 7042\n",
      "Data columns (total 8 columns):\n",
      " #   Column            Non-Null Count  Dtype  \n",
      "---  ------            --------------  -----  \n",
      " 0   customerID        7043 non-null   object \n",
      " 1   BeginDate         7043 non-null   object \n",
      " 2   EndDate           7043 non-null   object \n",
      " 3   Type              7043 non-null   object \n",
      " 4   PaperlessBilling  7043 non-null   object \n",
      " 5   PaymentMethod     7043 non-null   object \n",
      " 6   MonthlyCharges    7043 non-null   float64\n",
      " 7   TotalCharges      7043 non-null   object \n",
      "dtypes: float64(1), object(7)\n",
      "memory usage: 440.3+ KB\n"
     ]
    }
   ],
   "source": [
    "df_contract.info()"
   ]
  },
  {
   "cell_type": "code",
   "execution_count": 5,
   "id": "31d18715",
   "metadata": {},
   "outputs": [
    {
     "data": {
      "text/plain": [
       "0"
      ]
     },
     "execution_count": 5,
     "metadata": {},
     "output_type": "execute_result"
    }
   ],
   "source": [
    "df_contract.duplicated().sum()"
   ]
  },
  {
   "cell_type": "markdown",
   "id": "a145851b",
   "metadata": {},
   "source": [
    "Пропусков и дубликатов нет.Следует заменить типы данных, для этого посмотрим, какие значения принимают  поля:"
   ]
  },
  {
   "cell_type": "code",
   "execution_count": 6,
   "id": "b3013424",
   "metadata": {},
   "outputs": [
    {
     "data": {
      "text/plain": [
       "Month-to-month    3875\n",
       "Two year          1695\n",
       "One year          1473\n",
       "Name: Type, dtype: int64"
      ]
     },
     "execution_count": 6,
     "metadata": {},
     "output_type": "execute_result"
    }
   ],
   "source": [
    "df_contract['Type'].value_counts()"
   ]
  },
  {
   "cell_type": "code",
   "execution_count": 7,
   "id": "7764b27f",
   "metadata": {},
   "outputs": [
    {
     "data": {
      "text/plain": [
       "Electronic check             2365\n",
       "Mailed check                 1612\n",
       "Bank transfer (automatic)    1544\n",
       "Credit card (automatic)      1522\n",
       "Name: PaymentMethod, dtype: int64"
      ]
     },
     "execution_count": 7,
     "metadata": {},
     "output_type": "execute_result"
    }
   ],
   "source": [
    "df_contract['PaymentMethod'].value_counts()"
   ]
  },
  {
   "cell_type": "code",
   "execution_count": 8,
   "id": "4ce85760",
   "metadata": {},
   "outputs": [
    {
     "data": {
      "text/plain": [
       "20.05     61\n",
       "19.85     45\n",
       "19.95     44\n",
       "19.90     44\n",
       "20.00     43\n",
       "          ..\n",
       "23.65      1\n",
       "114.70     1\n",
       "43.65      1\n",
       "87.80      1\n",
       "78.70      1\n",
       "Name: MonthlyCharges, Length: 1585, dtype: int64"
      ]
     },
     "execution_count": 8,
     "metadata": {},
     "output_type": "execute_result"
    }
   ],
   "source": [
    "df_contract['MonthlyCharges'].value_counts()"
   ]
  },
  {
   "cell_type": "code",
   "execution_count": 9,
   "id": "abcded85",
   "metadata": {},
   "outputs": [
    {
     "data": {
      "text/plain": [
       "           11\n",
       "20.45       6\n",
       "101.0       5\n",
       "21.53       4\n",
       "40.1        4\n",
       "           ..\n",
       "4357.5      1\n",
       "3509.55     1\n",
       "2530.8      1\n",
       "2599.1      1\n",
       "7251.82     1\n",
       "Name: TotalCharges, Length: 6658, dtype: int64"
      ]
     },
     "execution_count": 9,
     "metadata": {},
     "output_type": "execute_result"
    }
   ],
   "source": [
    "df_contract['TotalCharges'].value_counts()"
   ]
  },
  {
   "cell_type": "code",
   "execution_count": 10,
   "id": "801fd583",
   "metadata": {},
   "outputs": [
    {
     "data": {
      "text/plain": [
       "Yes    4171\n",
       "No     2872\n",
       "Name: PaperlessBilling, dtype: int64"
      ]
     },
     "execution_count": 10,
     "metadata": {},
     "output_type": "execute_result"
    }
   ],
   "source": [
    "df_contract['PaperlessBilling'].value_counts()"
   ]
  },
  {
   "cell_type": "markdown",
   "id": "f80bf17c",
   "metadata": {},
   "source": [
    "#### Вывод по df_contract\n",
    "\n",
    "- customerID – содержит уникальный айди клиента;\n",
    "- BeginDate – дата начала пользования услугами, переводим *datetime*;\n",
    "- EndDate – дата окончания пользования услугами - целевой признак, любая дата в этом поле соответствует оттоку клиента, если стоит значение no - клиент остался. Отсюда мы можем впоследствии взять доп признак, а именно время пользования услугами компании.\n",
    "- Type - тип оплаты;\n",
    "- PaperlessBilling - нал/безнал.\n",
    "- PaymentMethod - способ оплаты.\n",
    "- MonthlyCharges - траты на услуги(ежемесячно), можно привести к целочисленному формату.\n",
    "- TotalCharges - общие траты: привод к числовому формату и заполнить пропуски.\n"
   ]
  },
  {
   "cell_type": "markdown",
   "id": "56ef11d6",
   "metadata": {},
   "source": [
    "### Датафрейм (df_internet) с информацией об интернет-услугах "
   ]
  },
  {
   "cell_type": "code",
   "execution_count": 11,
   "id": "689ed85d",
   "metadata": {},
   "outputs": [
    {
     "data": {
      "text/html": [
       "<div>\n",
       "<style scoped>\n",
       "    .dataframe tbody tr th:only-of-type {\n",
       "        vertical-align: middle;\n",
       "    }\n",
       "\n",
       "    .dataframe tbody tr th {\n",
       "        vertical-align: top;\n",
       "    }\n",
       "\n",
       "    .dataframe thead th {\n",
       "        text-align: right;\n",
       "    }\n",
       "</style>\n",
       "<table border=\"1\" class=\"dataframe\">\n",
       "  <thead>\n",
       "    <tr style=\"text-align: right;\">\n",
       "      <th></th>\n",
       "      <th>customerID</th>\n",
       "      <th>InternetService</th>\n",
       "      <th>OnlineSecurity</th>\n",
       "      <th>OnlineBackup</th>\n",
       "      <th>DeviceProtection</th>\n",
       "      <th>TechSupport</th>\n",
       "      <th>StreamingTV</th>\n",
       "      <th>StreamingMovies</th>\n",
       "    </tr>\n",
       "  </thead>\n",
       "  <tbody>\n",
       "    <tr>\n",
       "      <th>0</th>\n",
       "      <td>7590-VHVEG</td>\n",
       "      <td>DSL</td>\n",
       "      <td>No</td>\n",
       "      <td>Yes</td>\n",
       "      <td>No</td>\n",
       "      <td>No</td>\n",
       "      <td>No</td>\n",
       "      <td>No</td>\n",
       "    </tr>\n",
       "    <tr>\n",
       "      <th>1</th>\n",
       "      <td>5575-GNVDE</td>\n",
       "      <td>DSL</td>\n",
       "      <td>Yes</td>\n",
       "      <td>No</td>\n",
       "      <td>Yes</td>\n",
       "      <td>No</td>\n",
       "      <td>No</td>\n",
       "      <td>No</td>\n",
       "    </tr>\n",
       "    <tr>\n",
       "      <th>2</th>\n",
       "      <td>3668-QPYBK</td>\n",
       "      <td>DSL</td>\n",
       "      <td>Yes</td>\n",
       "      <td>Yes</td>\n",
       "      <td>No</td>\n",
       "      <td>No</td>\n",
       "      <td>No</td>\n",
       "      <td>No</td>\n",
       "    </tr>\n",
       "    <tr>\n",
       "      <th>3</th>\n",
       "      <td>7795-CFOCW</td>\n",
       "      <td>DSL</td>\n",
       "      <td>Yes</td>\n",
       "      <td>No</td>\n",
       "      <td>Yes</td>\n",
       "      <td>Yes</td>\n",
       "      <td>No</td>\n",
       "      <td>No</td>\n",
       "    </tr>\n",
       "    <tr>\n",
       "      <th>4</th>\n",
       "      <td>9237-HQITU</td>\n",
       "      <td>Fiber optic</td>\n",
       "      <td>No</td>\n",
       "      <td>No</td>\n",
       "      <td>No</td>\n",
       "      <td>No</td>\n",
       "      <td>No</td>\n",
       "      <td>No</td>\n",
       "    </tr>\n",
       "  </tbody>\n",
       "</table>\n",
       "</div>"
      ],
      "text/plain": [
       "   customerID InternetService OnlineSecurity OnlineBackup DeviceProtection  \\\n",
       "0  7590-VHVEG             DSL             No          Yes               No   \n",
       "1  5575-GNVDE             DSL            Yes           No              Yes   \n",
       "2  3668-QPYBK             DSL            Yes          Yes               No   \n",
       "3  7795-CFOCW             DSL            Yes           No              Yes   \n",
       "4  9237-HQITU     Fiber optic             No           No               No   \n",
       "\n",
       "  TechSupport StreamingTV StreamingMovies  \n",
       "0          No          No              No  \n",
       "1          No          No              No  \n",
       "2          No          No              No  \n",
       "3         Yes          No              No  \n",
       "4          No          No              No  "
      ]
     },
     "execution_count": 11,
     "metadata": {},
     "output_type": "execute_result"
    }
   ],
   "source": [
    "df_internet.head()"
   ]
  },
  {
   "cell_type": "code",
   "execution_count": 12,
   "id": "753e62c7",
   "metadata": {},
   "outputs": [
    {
     "name": "stdout",
     "output_type": "stream",
     "text": [
      "<class 'pandas.core.frame.DataFrame'>\n",
      "RangeIndex: 5517 entries, 0 to 5516\n",
      "Data columns (total 8 columns):\n",
      " #   Column            Non-Null Count  Dtype \n",
      "---  ------            --------------  ----- \n",
      " 0   customerID        5517 non-null   object\n",
      " 1   InternetService   5517 non-null   object\n",
      " 2   OnlineSecurity    5517 non-null   object\n",
      " 3   OnlineBackup      5517 non-null   object\n",
      " 4   DeviceProtection  5517 non-null   object\n",
      " 5   TechSupport       5517 non-null   object\n",
      " 6   StreamingTV       5517 non-null   object\n",
      " 7   StreamingMovies   5517 non-null   object\n",
      "dtypes: object(8)\n",
      "memory usage: 344.9+ KB\n"
     ]
    }
   ],
   "source": [
    "df_internet.info()"
   ]
  },
  {
   "cell_type": "code",
   "execution_count": 13,
   "id": "c826dbe7",
   "metadata": {},
   "outputs": [
    {
     "data": {
      "text/plain": [
       "0"
      ]
     },
     "execution_count": 13,
     "metadata": {},
     "output_type": "execute_result"
    }
   ],
   "source": [
    "df_internet.duplicated().sum()"
   ]
  },
  {
   "cell_type": "code",
   "execution_count": 14,
   "id": "e3decc78",
   "metadata": {},
   "outputs": [
    {
     "data": {
      "text/plain": [
       "Fiber optic    3096\n",
       "DSL            2421\n",
       "Name: InternetService, dtype: int64"
      ]
     },
     "execution_count": 14,
     "metadata": {},
     "output_type": "execute_result"
    }
   ],
   "source": [
    "df_internet['InternetService'].value_counts()"
   ]
  },
  {
   "cell_type": "markdown",
   "id": "df3af734",
   "metadata": {},
   "source": [
    "Все поля бинарные, кроме customerID  и не требуют преобразований."
   ]
  },
  {
   "cell_type": "markdown",
   "id": "7ea17ad0",
   "metadata": {},
   "source": [
    "### Датафрейм (df_personal) с персональными данными клиентов "
   ]
  },
  {
   "cell_type": "code",
   "execution_count": 15,
   "id": "b672cdf2",
   "metadata": {},
   "outputs": [
    {
     "data": {
      "text/html": [
       "<div>\n",
       "<style scoped>\n",
       "    .dataframe tbody tr th:only-of-type {\n",
       "        vertical-align: middle;\n",
       "    }\n",
       "\n",
       "    .dataframe tbody tr th {\n",
       "        vertical-align: top;\n",
       "    }\n",
       "\n",
       "    .dataframe thead th {\n",
       "        text-align: right;\n",
       "    }\n",
       "</style>\n",
       "<table border=\"1\" class=\"dataframe\">\n",
       "  <thead>\n",
       "    <tr style=\"text-align: right;\">\n",
       "      <th></th>\n",
       "      <th>customerID</th>\n",
       "      <th>gender</th>\n",
       "      <th>SeniorCitizen</th>\n",
       "      <th>Partner</th>\n",
       "      <th>Dependents</th>\n",
       "    </tr>\n",
       "  </thead>\n",
       "  <tbody>\n",
       "    <tr>\n",
       "      <th>0</th>\n",
       "      <td>7590-VHVEG</td>\n",
       "      <td>Female</td>\n",
       "      <td>0</td>\n",
       "      <td>Yes</td>\n",
       "      <td>No</td>\n",
       "    </tr>\n",
       "    <tr>\n",
       "      <th>1</th>\n",
       "      <td>5575-GNVDE</td>\n",
       "      <td>Male</td>\n",
       "      <td>0</td>\n",
       "      <td>No</td>\n",
       "      <td>No</td>\n",
       "    </tr>\n",
       "    <tr>\n",
       "      <th>2</th>\n",
       "      <td>3668-QPYBK</td>\n",
       "      <td>Male</td>\n",
       "      <td>0</td>\n",
       "      <td>No</td>\n",
       "      <td>No</td>\n",
       "    </tr>\n",
       "    <tr>\n",
       "      <th>3</th>\n",
       "      <td>7795-CFOCW</td>\n",
       "      <td>Male</td>\n",
       "      <td>0</td>\n",
       "      <td>No</td>\n",
       "      <td>No</td>\n",
       "    </tr>\n",
       "    <tr>\n",
       "      <th>4</th>\n",
       "      <td>9237-HQITU</td>\n",
       "      <td>Female</td>\n",
       "      <td>0</td>\n",
       "      <td>No</td>\n",
       "      <td>No</td>\n",
       "    </tr>\n",
       "  </tbody>\n",
       "</table>\n",
       "</div>"
      ],
      "text/plain": [
       "   customerID  gender  SeniorCitizen Partner Dependents\n",
       "0  7590-VHVEG  Female              0     Yes         No\n",
       "1  5575-GNVDE    Male              0      No         No\n",
       "2  3668-QPYBK    Male              0      No         No\n",
       "3  7795-CFOCW    Male              0      No         No\n",
       "4  9237-HQITU  Female              0      No         No"
      ]
     },
     "execution_count": 15,
     "metadata": {},
     "output_type": "execute_result"
    }
   ],
   "source": [
    "df_personal.head()"
   ]
  },
  {
   "cell_type": "code",
   "execution_count": 16,
   "id": "06010502",
   "metadata": {},
   "outputs": [
    {
     "name": "stdout",
     "output_type": "stream",
     "text": [
      "<class 'pandas.core.frame.DataFrame'>\n",
      "RangeIndex: 7043 entries, 0 to 7042\n",
      "Data columns (total 5 columns):\n",
      " #   Column         Non-Null Count  Dtype \n",
      "---  ------         --------------  ----- \n",
      " 0   customerID     7043 non-null   object\n",
      " 1   gender         7043 non-null   object\n",
      " 2   SeniorCitizen  7043 non-null   int64 \n",
      " 3   Partner        7043 non-null   object\n",
      " 4   Dependents     7043 non-null   object\n",
      "dtypes: int64(1), object(4)\n",
      "memory usage: 275.2+ KB\n"
     ]
    }
   ],
   "source": [
    "df_personal.info()"
   ]
  },
  {
   "cell_type": "code",
   "execution_count": 17,
   "id": "b13855c2",
   "metadata": {},
   "outputs": [
    {
     "data": {
      "text/plain": [
       "0"
      ]
     },
     "execution_count": 17,
     "metadata": {},
     "output_type": "execute_result"
    }
   ],
   "source": [
    "df_personal.duplicated().sum()"
   ]
  },
  {
   "cell_type": "markdown",
   "id": "522a61fd",
   "metadata": {},
   "source": [
    "Все поля бинарные, кроме customerID  и не требуют преобразований."
   ]
  },
  {
   "cell_type": "markdown",
   "id": "7e773fa9",
   "metadata": {},
   "source": [
    "### Датафрейм (df_phone) с данными о телефонии "
   ]
  },
  {
   "cell_type": "code",
   "execution_count": 18,
   "id": "f1d58f94",
   "metadata": {},
   "outputs": [
    {
     "data": {
      "text/html": [
       "<div>\n",
       "<style scoped>\n",
       "    .dataframe tbody tr th:only-of-type {\n",
       "        vertical-align: middle;\n",
       "    }\n",
       "\n",
       "    .dataframe tbody tr th {\n",
       "        vertical-align: top;\n",
       "    }\n",
       "\n",
       "    .dataframe thead th {\n",
       "        text-align: right;\n",
       "    }\n",
       "</style>\n",
       "<table border=\"1\" class=\"dataframe\">\n",
       "  <thead>\n",
       "    <tr style=\"text-align: right;\">\n",
       "      <th></th>\n",
       "      <th>customerID</th>\n",
       "      <th>MultipleLines</th>\n",
       "    </tr>\n",
       "  </thead>\n",
       "  <tbody>\n",
       "    <tr>\n",
       "      <th>0</th>\n",
       "      <td>5575-GNVDE</td>\n",
       "      <td>No</td>\n",
       "    </tr>\n",
       "    <tr>\n",
       "      <th>1</th>\n",
       "      <td>3668-QPYBK</td>\n",
       "      <td>No</td>\n",
       "    </tr>\n",
       "    <tr>\n",
       "      <th>2</th>\n",
       "      <td>9237-HQITU</td>\n",
       "      <td>No</td>\n",
       "    </tr>\n",
       "    <tr>\n",
       "      <th>3</th>\n",
       "      <td>9305-CDSKC</td>\n",
       "      <td>Yes</td>\n",
       "    </tr>\n",
       "    <tr>\n",
       "      <th>4</th>\n",
       "      <td>1452-KIOVK</td>\n",
       "      <td>Yes</td>\n",
       "    </tr>\n",
       "  </tbody>\n",
       "</table>\n",
       "</div>"
      ],
      "text/plain": [
       "   customerID MultipleLines\n",
       "0  5575-GNVDE            No\n",
       "1  3668-QPYBK            No\n",
       "2  9237-HQITU            No\n",
       "3  9305-CDSKC           Yes\n",
       "4  1452-KIOVK           Yes"
      ]
     },
     "execution_count": 18,
     "metadata": {},
     "output_type": "execute_result"
    }
   ],
   "source": [
    "df_phone.head()"
   ]
  },
  {
   "cell_type": "code",
   "execution_count": 19,
   "id": "45c5c1b2",
   "metadata": {},
   "outputs": [
    {
     "name": "stdout",
     "output_type": "stream",
     "text": [
      "<class 'pandas.core.frame.DataFrame'>\n",
      "RangeIndex: 6361 entries, 0 to 6360\n",
      "Data columns (total 2 columns):\n",
      " #   Column         Non-Null Count  Dtype \n",
      "---  ------         --------------  ----- \n",
      " 0   customerID     6361 non-null   object\n",
      " 1   MultipleLines  6361 non-null   object\n",
      "dtypes: object(2)\n",
      "memory usage: 99.5+ KB\n"
     ]
    }
   ],
   "source": [
    "df_phone.info()"
   ]
  },
  {
   "cell_type": "code",
   "execution_count": 20,
   "id": "6bf6be1d",
   "metadata": {},
   "outputs": [
    {
     "data": {
      "text/plain": [
       "0"
      ]
     },
     "execution_count": 20,
     "metadata": {},
     "output_type": "execute_result"
    }
   ],
   "source": [
    "df_phone.duplicated().sum()"
   ]
  },
  {
   "cell_type": "code",
   "execution_count": 21,
   "id": "d0339c10",
   "metadata": {},
   "outputs": [
    {
     "data": {
      "text/plain": [
       "No     3390\n",
       "Yes    2971\n",
       "Name: MultipleLines, dtype: int64"
      ]
     },
     "execution_count": 21,
     "metadata": {},
     "output_type": "execute_result"
    }
   ],
   "source": [
    "df_phone['MultipleLines'].value_counts()"
   ]
  },
  {
   "cell_type": "markdown",
   "id": "df074cde",
   "metadata": {},
   "source": [
    "Явных пропусков и дубликатов нет, действий не требуется."
   ]
  },
  {
   "cell_type": "markdown",
   "id": "843f243c",
   "metadata": {},
   "source": [
    "<div class=\"alert alert-success\">\n",
    "<h2> Комментарий ревьюера <a class=\"tocSkip\"> </h2>\n",
    "\n",
    "<b>Все отлично!👍</b> \n",
    "    \n",
    "Данные осмотрели - отлично, удалось довольно подробно познакомиться с данными. Молодец, что проверяешь данные на качество - смотришь на дубликаты и уникальные значения."
   ]
  },
  {
   "cell_type": "markdown",
   "id": "a5483c32",
   "metadata": {},
   "source": [
    "## Вывод:\n",
    "1. Данные зашружены и проанализированны.\n",
    "2. Явных пропусков и дубликатов нет.\n",
    "3. Что нужно изменить:\n",
    "- BeginDate – приведем к типу datetime;\n",
    "- EndDate –  целевой признак, любая дата в этом поле соответствует оттоку клиента, если стоит значение No - клиент остался. Мы можем извлечь отсюда длительность пользования клиентом услугами компании.Сгенерируем доп признак для модели. Для значения No установим дату актуальности датасета - 2020-02-01, после чего приведем поле к формату datetime;\n",
    "- MonthlyCharges - приведем к целочисленному типу для экономии памяти \n",
    "- TotalCharges - избавимся от пустых значений, заполним их нулями, а также приведем к числовому формату.\n"
   ]
  },
  {
   "cell_type": "markdown",
   "id": "80c51c92",
   "metadata": {},
   "source": [
    "<div class=\"alert alert-success\">\n",
    "<h2> Комментарий тимлида (план) <a class=\"tocSkip\"> </h2>\n",
    "\n",
    "<b>Все отлично!👍</b> \n",
    "    \n",
    "Отличный план!"
   ]
  },
  {
   "cell_type": "markdown",
   "id": "e6c2f43d",
   "metadata": {},
   "source": [
    "#### Вопросов на данном этапе нет."
   ]
  },
  {
   "cell_type": "markdown",
   "id": "823faba9",
   "metadata": {},
   "source": [
    "<div style=\"border:solid Chocolate 2px; padding: 40px\">\n",
    "\n",
    "<b> Комментарий тимлида: общий вывод по проекту (план) </b>\n",
    "\n",
    "Максим, классная работа над этим этапом: удалось сделать хороший план, а также познакомиться с данными для дальнейшей работы.\n",
    "    \n",
    "Обрати внимание на нехватку в плане важных этапов - их можно добавить самостоятельно на следующем этапе проекта.\n",
    "    \n",
    "Этот этап принят - жду тебя на следующем:)"
   ]
  },
  {
   "cell_type": "markdown",
   "id": "6e6e0f6e",
   "metadata": {},
   "source": [
    "# Предобработка и исследовательский анализ данных"
   ]
  },
  {
   "cell_type": "code",
   "execution_count": 22,
   "id": "1484a732",
   "metadata": {},
   "outputs": [],
   "source": [
    "# BeginDate – приведем к типу datetime;\n",
    "df_contract['BeginDate'] = pd.to_datetime(df_contract['BeginDate'],format = '%Y-%m-%d')"
   ]
  },
  {
   "cell_type": "markdown",
   "id": "ca3e2e62",
   "metadata": {},
   "source": [
    "<div class=\"alert alert-success\">\n",
    "<h2> Комментарий тимлида (код) <a class=\"tocSkip\"> </h2>\n",
    "\n",
    "<b>Все отлично!👍:</b> Заглушку в `EndDate` заменили на дату выгрузки данных из базы, привели даты к нужному типу - отлично!"
   ]
  },
  {
   "cell_type": "code",
   "execution_count": 23,
   "id": "1e8b1262",
   "metadata": {},
   "outputs": [],
   "source": [
    "# Заполним пропуски нулями\n",
    "df_contract['TotalCharges'] = df_contract['TotalCharges'].replace([' '], 0)"
   ]
  },
  {
   "cell_type": "markdown",
   "id": "0e713dcc",
   "metadata": {},
   "source": [
    "<div class=\"alert alert-success\">\n",
    "<h2> Комментарий тимлида (код) <a class=\"tocSkip\"> </h2>\n",
    "\n",
    "<b>Все отлично!👍:</b> Пропуски заменили на ноль - хорошо, возможное решение."
   ]
  },
  {
   "cell_type": "code",
   "execution_count": 24,
   "id": "b11fd761",
   "metadata": {},
   "outputs": [],
   "source": [
    "#Приведем данные к целочисленному типу\n",
    "df_contract['MonthlyCharges'] = df_contract['MonthlyCharges'].astype('int')\n",
    "df_contract['TotalCharges'] = df_contract['TotalCharges'].astype('float')\n",
    "df_contract['TotalCharges'] = df_contract['TotalCharges'].astype('int')"
   ]
  },
  {
   "cell_type": "markdown",
   "id": "92d8824e",
   "metadata": {},
   "source": [
    "<div class=\"alert alert-success\">\n",
    "<h2> Комментарий тимлида (код) <a class=\"tocSkip\"> </h2>\n",
    "\n",
    "<b>Все отлично!👍:</b> Типы данных в порядке."
   ]
  },
  {
   "cell_type": "code",
   "execution_count": 25,
   "id": "d04d7f27",
   "metadata": {},
   "outputs": [
    {
     "data": {
      "text/html": [
       "<div>\n",
       "<style scoped>\n",
       "    .dataframe tbody tr th:only-of-type {\n",
       "        vertical-align: middle;\n",
       "    }\n",
       "\n",
       "    .dataframe tbody tr th {\n",
       "        vertical-align: top;\n",
       "    }\n",
       "\n",
       "    .dataframe thead th {\n",
       "        text-align: right;\n",
       "    }\n",
       "</style>\n",
       "<table border=\"1\" class=\"dataframe\">\n",
       "  <thead>\n",
       "    <tr style=\"text-align: right;\">\n",
       "      <th></th>\n",
       "      <th>BeginDate</th>\n",
       "      <th>EndDate</th>\n",
       "      <th>Type</th>\n",
       "      <th>PaperlessBilling</th>\n",
       "      <th>PaymentMethod</th>\n",
       "      <th>MonthlyCharges</th>\n",
       "      <th>TotalCharges</th>\n",
       "      <th>gender</th>\n",
       "      <th>SeniorCitizen</th>\n",
       "      <th>Partner</th>\n",
       "      <th>Dependents</th>\n",
       "      <th>InternetService</th>\n",
       "      <th>OnlineSecurity</th>\n",
       "      <th>OnlineBackup</th>\n",
       "      <th>DeviceProtection</th>\n",
       "      <th>TechSupport</th>\n",
       "      <th>StreamingTV</th>\n",
       "      <th>StreamingMovies</th>\n",
       "      <th>MultipleLines</th>\n",
       "    </tr>\n",
       "    <tr>\n",
       "      <th>customerID</th>\n",
       "      <th></th>\n",
       "      <th></th>\n",
       "      <th></th>\n",
       "      <th></th>\n",
       "      <th></th>\n",
       "      <th></th>\n",
       "      <th></th>\n",
       "      <th></th>\n",
       "      <th></th>\n",
       "      <th></th>\n",
       "      <th></th>\n",
       "      <th></th>\n",
       "      <th></th>\n",
       "      <th></th>\n",
       "      <th></th>\n",
       "      <th></th>\n",
       "      <th></th>\n",
       "      <th></th>\n",
       "      <th></th>\n",
       "    </tr>\n",
       "  </thead>\n",
       "  <tbody>\n",
       "    <tr>\n",
       "      <th>7632-YUTXB</th>\n",
       "      <td>2018-01-01</td>\n",
       "      <td>No</td>\n",
       "      <td>One year</td>\n",
       "      <td>No</td>\n",
       "      <td>Mailed check</td>\n",
       "      <td>20</td>\n",
       "      <td>526</td>\n",
       "      <td>Female</td>\n",
       "      <td>0</td>\n",
       "      <td>Yes</td>\n",
       "      <td>Yes</td>\n",
       "      <td>NaN</td>\n",
       "      <td>NaN</td>\n",
       "      <td>NaN</td>\n",
       "      <td>NaN</td>\n",
       "      <td>NaN</td>\n",
       "      <td>NaN</td>\n",
       "      <td>NaN</td>\n",
       "      <td>No</td>\n",
       "    </tr>\n",
       "    <tr>\n",
       "      <th>6000-UKLWI</th>\n",
       "      <td>2016-09-01</td>\n",
       "      <td>No</td>\n",
       "      <td>Two year</td>\n",
       "      <td>No</td>\n",
       "      <td>Mailed check</td>\n",
       "      <td>20</td>\n",
       "      <td>908</td>\n",
       "      <td>Male</td>\n",
       "      <td>0</td>\n",
       "      <td>No</td>\n",
       "      <td>No</td>\n",
       "      <td>NaN</td>\n",
       "      <td>NaN</td>\n",
       "      <td>NaN</td>\n",
       "      <td>NaN</td>\n",
       "      <td>NaN</td>\n",
       "      <td>NaN</td>\n",
       "      <td>NaN</td>\n",
       "      <td>No</td>\n",
       "    </tr>\n",
       "    <tr>\n",
       "      <th>3750-YHRYO</th>\n",
       "      <td>2019-07-01</td>\n",
       "      <td>No</td>\n",
       "      <td>One year</td>\n",
       "      <td>No</td>\n",
       "      <td>Mailed check</td>\n",
       "      <td>20</td>\n",
       "      <td>147</td>\n",
       "      <td>Male</td>\n",
       "      <td>0</td>\n",
       "      <td>Yes</td>\n",
       "      <td>Yes</td>\n",
       "      <td>NaN</td>\n",
       "      <td>NaN</td>\n",
       "      <td>NaN</td>\n",
       "      <td>NaN</td>\n",
       "      <td>NaN</td>\n",
       "      <td>NaN</td>\n",
       "      <td>NaN</td>\n",
       "      <td>No</td>\n",
       "    </tr>\n",
       "    <tr>\n",
       "      <th>0432-CAJZV</th>\n",
       "      <td>2019-11-01</td>\n",
       "      <td>No</td>\n",
       "      <td>Month-to-month</td>\n",
       "      <td>No</td>\n",
       "      <td>Mailed check</td>\n",
       "      <td>90</td>\n",
       "      <td>272</td>\n",
       "      <td>Male</td>\n",
       "      <td>0</td>\n",
       "      <td>No</td>\n",
       "      <td>No</td>\n",
       "      <td>Fiber optic</td>\n",
       "      <td>No</td>\n",
       "      <td>No</td>\n",
       "      <td>No</td>\n",
       "      <td>No</td>\n",
       "      <td>Yes</td>\n",
       "      <td>Yes</td>\n",
       "      <td>No</td>\n",
       "    </tr>\n",
       "    <tr>\n",
       "      <th>6979-TNDEU</th>\n",
       "      <td>2019-06-01</td>\n",
       "      <td>No</td>\n",
       "      <td>Month-to-month</td>\n",
       "      <td>No</td>\n",
       "      <td>Mailed check</td>\n",
       "      <td>19</td>\n",
       "      <td>168</td>\n",
       "      <td>Female</td>\n",
       "      <td>0</td>\n",
       "      <td>No</td>\n",
       "      <td>No</td>\n",
       "      <td>NaN</td>\n",
       "      <td>NaN</td>\n",
       "      <td>NaN</td>\n",
       "      <td>NaN</td>\n",
       "      <td>NaN</td>\n",
       "      <td>NaN</td>\n",
       "      <td>NaN</td>\n",
       "      <td>No</td>\n",
       "    </tr>\n",
       "    <tr>\n",
       "      <th>1455-ESIQH</th>\n",
       "      <td>2019-12-01</td>\n",
       "      <td>No</td>\n",
       "      <td>Month-to-month</td>\n",
       "      <td>Yes</td>\n",
       "      <td>Electronic check</td>\n",
       "      <td>89</td>\n",
       "      <td>178</td>\n",
       "      <td>Male</td>\n",
       "      <td>0</td>\n",
       "      <td>No</td>\n",
       "      <td>No</td>\n",
       "      <td>Fiber optic</td>\n",
       "      <td>No</td>\n",
       "      <td>No</td>\n",
       "      <td>No</td>\n",
       "      <td>No</td>\n",
       "      <td>Yes</td>\n",
       "      <td>Yes</td>\n",
       "      <td>No</td>\n",
       "    </tr>\n",
       "    <tr>\n",
       "      <th>4277-BWBML</th>\n",
       "      <td>2014-02-01</td>\n",
       "      <td>2018-03-01</td>\n",
       "      <td>Two year</td>\n",
       "      <td>No</td>\n",
       "      <td>Bank transfer (automatic)</td>\n",
       "      <td>19</td>\n",
       "      <td>1036</td>\n",
       "      <td>Male</td>\n",
       "      <td>0</td>\n",
       "      <td>Yes</td>\n",
       "      <td>Yes</td>\n",
       "      <td>NaN</td>\n",
       "      <td>NaN</td>\n",
       "      <td>NaN</td>\n",
       "      <td>NaN</td>\n",
       "      <td>NaN</td>\n",
       "      <td>NaN</td>\n",
       "      <td>NaN</td>\n",
       "      <td>No</td>\n",
       "    </tr>\n",
       "    <tr>\n",
       "      <th>2819-GWENI</th>\n",
       "      <td>2017-10-01</td>\n",
       "      <td>No</td>\n",
       "      <td>One year</td>\n",
       "      <td>No</td>\n",
       "      <td>Mailed check</td>\n",
       "      <td>19</td>\n",
       "      <td>590</td>\n",
       "      <td>Female</td>\n",
       "      <td>0</td>\n",
       "      <td>Yes</td>\n",
       "      <td>Yes</td>\n",
       "      <td>NaN</td>\n",
       "      <td>NaN</td>\n",
       "      <td>NaN</td>\n",
       "      <td>NaN</td>\n",
       "      <td>NaN</td>\n",
       "      <td>NaN</td>\n",
       "      <td>NaN</td>\n",
       "      <td>No</td>\n",
       "    </tr>\n",
       "    <tr>\n",
       "      <th>3143-ILDAL</th>\n",
       "      <td>2015-05-01</td>\n",
       "      <td>2018-09-01</td>\n",
       "      <td>Month-to-month</td>\n",
       "      <td>Yes</td>\n",
       "      <td>Electronic check</td>\n",
       "      <td>94</td>\n",
       "      <td>3929</td>\n",
       "      <td>Male</td>\n",
       "      <td>0</td>\n",
       "      <td>No</td>\n",
       "      <td>No</td>\n",
       "      <td>Fiber optic</td>\n",
       "      <td>No</td>\n",
       "      <td>Yes</td>\n",
       "      <td>No</td>\n",
       "      <td>Yes</td>\n",
       "      <td>No</td>\n",
       "      <td>Yes</td>\n",
       "      <td>Yes</td>\n",
       "    </tr>\n",
       "    <tr>\n",
       "      <th>4560-WQAQW</th>\n",
       "      <td>2015-03-01</td>\n",
       "      <td>2017-11-01</td>\n",
       "      <td>One year</td>\n",
       "      <td>No</td>\n",
       "      <td>Bank transfer (automatic)</td>\n",
       "      <td>68</td>\n",
       "      <td>2198</td>\n",
       "      <td>Female</td>\n",
       "      <td>0</td>\n",
       "      <td>No</td>\n",
       "      <td>No</td>\n",
       "      <td>DSL</td>\n",
       "      <td>Yes</td>\n",
       "      <td>No</td>\n",
       "      <td>No</td>\n",
       "      <td>Yes</td>\n",
       "      <td>No</td>\n",
       "      <td>Yes</td>\n",
       "      <td>Yes</td>\n",
       "    </tr>\n",
       "    <tr>\n",
       "      <th>2045-BMBTJ</th>\n",
       "      <td>2017-05-01</td>\n",
       "      <td>2018-08-01</td>\n",
       "      <td>Month-to-month</td>\n",
       "      <td>Yes</td>\n",
       "      <td>Bank transfer (automatic)</td>\n",
       "      <td>59</td>\n",
       "      <td>891</td>\n",
       "      <td>Female</td>\n",
       "      <td>1</td>\n",
       "      <td>No</td>\n",
       "      <td>No</td>\n",
       "      <td>DSL</td>\n",
       "      <td>Yes</td>\n",
       "      <td>Yes</td>\n",
       "      <td>Yes</td>\n",
       "      <td>No</td>\n",
       "      <td>Yes</td>\n",
       "      <td>Yes</td>\n",
       "      <td>NaN</td>\n",
       "    </tr>\n",
       "    <tr>\n",
       "      <th>2276-YDAVZ</th>\n",
       "      <td>2019-07-01</td>\n",
       "      <td>No</td>\n",
       "      <td>Month-to-month</td>\n",
       "      <td>Yes</td>\n",
       "      <td>Credit card (automatic)</td>\n",
       "      <td>75</td>\n",
       "      <td>557</td>\n",
       "      <td>Female</td>\n",
       "      <td>0</td>\n",
       "      <td>No</td>\n",
       "      <td>No</td>\n",
       "      <td>Fiber optic</td>\n",
       "      <td>No</td>\n",
       "      <td>No</td>\n",
       "      <td>No</td>\n",
       "      <td>No</td>\n",
       "      <td>No</td>\n",
       "      <td>No</td>\n",
       "      <td>Yes</td>\n",
       "    </tr>\n",
       "    <tr>\n",
       "      <th>0369-ZGOVK</th>\n",
       "      <td>2017-10-01</td>\n",
       "      <td>No</td>\n",
       "      <td>One year</td>\n",
       "      <td>Yes</td>\n",
       "      <td>Bank transfer (automatic)</td>\n",
       "      <td>70</td>\n",
       "      <td>1990</td>\n",
       "      <td>Female</td>\n",
       "      <td>0</td>\n",
       "      <td>Yes</td>\n",
       "      <td>Yes</td>\n",
       "      <td>Fiber optic</td>\n",
       "      <td>No</td>\n",
       "      <td>No</td>\n",
       "      <td>No</td>\n",
       "      <td>No</td>\n",
       "      <td>No</td>\n",
       "      <td>No</td>\n",
       "      <td>No</td>\n",
       "    </tr>\n",
       "    <tr>\n",
       "      <th>9944-AEXBM</th>\n",
       "      <td>2017-06-01</td>\n",
       "      <td>No</td>\n",
       "      <td>Month-to-month</td>\n",
       "      <td>Yes</td>\n",
       "      <td>Bank transfer (automatic)</td>\n",
       "      <td>85</td>\n",
       "      <td>2960</td>\n",
       "      <td>Male</td>\n",
       "      <td>0</td>\n",
       "      <td>No</td>\n",
       "      <td>No</td>\n",
       "      <td>Fiber optic</td>\n",
       "      <td>No</td>\n",
       "      <td>No</td>\n",
       "      <td>No</td>\n",
       "      <td>No</td>\n",
       "      <td>No</td>\n",
       "      <td>Yes</td>\n",
       "      <td>Yes</td>\n",
       "    </tr>\n",
       "    <tr>\n",
       "      <th>1334-FJSVR</th>\n",
       "      <td>2019-10-01</td>\n",
       "      <td>No</td>\n",
       "      <td>Month-to-month</td>\n",
       "      <td>Yes</td>\n",
       "      <td>Electronic check</td>\n",
       "      <td>24</td>\n",
       "      <td>100</td>\n",
       "      <td>Male</td>\n",
       "      <td>0</td>\n",
       "      <td>No</td>\n",
       "      <td>No</td>\n",
       "      <td>DSL</td>\n",
       "      <td>No</td>\n",
       "      <td>No</td>\n",
       "      <td>No</td>\n",
       "      <td>No</td>\n",
       "      <td>No</td>\n",
       "      <td>No</td>\n",
       "      <td>NaN</td>\n",
       "    </tr>\n",
       "    <tr>\n",
       "      <th>3082-VQXNH</th>\n",
       "      <td>2019-11-01</td>\n",
       "      <td>No</td>\n",
       "      <td>Month-to-month</td>\n",
       "      <td>No</td>\n",
       "      <td>Credit card (automatic)</td>\n",
       "      <td>29</td>\n",
       "      <td>89</td>\n",
       "      <td>Male</td>\n",
       "      <td>0</td>\n",
       "      <td>Yes</td>\n",
       "      <td>No</td>\n",
       "      <td>DSL</td>\n",
       "      <td>No</td>\n",
       "      <td>Yes</td>\n",
       "      <td>No</td>\n",
       "      <td>No</td>\n",
       "      <td>No</td>\n",
       "      <td>No</td>\n",
       "      <td>NaN</td>\n",
       "    </tr>\n",
       "    <tr>\n",
       "      <th>1740-CSDJP</th>\n",
       "      <td>2019-12-01</td>\n",
       "      <td>No</td>\n",
       "      <td>Month-to-month</td>\n",
       "      <td>Yes</td>\n",
       "      <td>Bank transfer (automatic)</td>\n",
       "      <td>35</td>\n",
       "      <td>70</td>\n",
       "      <td>Male</td>\n",
       "      <td>0</td>\n",
       "      <td>No</td>\n",
       "      <td>No</td>\n",
       "      <td>DSL</td>\n",
       "      <td>No</td>\n",
       "      <td>No</td>\n",
       "      <td>No</td>\n",
       "      <td>No</td>\n",
       "      <td>No</td>\n",
       "      <td>Yes</td>\n",
       "      <td>NaN</td>\n",
       "    </tr>\n",
       "    <tr>\n",
       "      <th>2592-YKDIF</th>\n",
       "      <td>2020-01-01</td>\n",
       "      <td>No</td>\n",
       "      <td>Month-to-month</td>\n",
       "      <td>No</td>\n",
       "      <td>Mailed check</td>\n",
       "      <td>20</td>\n",
       "      <td>20</td>\n",
       "      <td>Female</td>\n",
       "      <td>0</td>\n",
       "      <td>No</td>\n",
       "      <td>No</td>\n",
       "      <td>NaN</td>\n",
       "      <td>NaN</td>\n",
       "      <td>NaN</td>\n",
       "      <td>NaN</td>\n",
       "      <td>NaN</td>\n",
       "      <td>NaN</td>\n",
       "      <td>NaN</td>\n",
       "      <td>No</td>\n",
       "    </tr>\n",
       "    <tr>\n",
       "      <th>9747-DDZOS</th>\n",
       "      <td>2019-12-01</td>\n",
       "      <td>No</td>\n",
       "      <td>Month-to-month</td>\n",
       "      <td>No</td>\n",
       "      <td>Bank transfer (automatic)</td>\n",
       "      <td>73</td>\n",
       "      <td>147</td>\n",
       "      <td>Female</td>\n",
       "      <td>0</td>\n",
       "      <td>No</td>\n",
       "      <td>No</td>\n",
       "      <td>Fiber optic</td>\n",
       "      <td>No</td>\n",
       "      <td>No</td>\n",
       "      <td>Yes</td>\n",
       "      <td>No</td>\n",
       "      <td>No</td>\n",
       "      <td>No</td>\n",
       "      <td>No</td>\n",
       "    </tr>\n",
       "    <tr>\n",
       "      <th>3034-ZBEQN</th>\n",
       "      <td>2016-01-01</td>\n",
       "      <td>2018-09-01</td>\n",
       "      <td>One year</td>\n",
       "      <td>No</td>\n",
       "      <td>Mailed check</td>\n",
       "      <td>34</td>\n",
       "      <td>1177</td>\n",
       "      <td>Female</td>\n",
       "      <td>0</td>\n",
       "      <td>Yes</td>\n",
       "      <td>No</td>\n",
       "      <td>DSL</td>\n",
       "      <td>No</td>\n",
       "      <td>Yes</td>\n",
       "      <td>Yes</td>\n",
       "      <td>No</td>\n",
       "      <td>No</td>\n",
       "      <td>No</td>\n",
       "      <td>NaN</td>\n",
       "    </tr>\n",
       "  </tbody>\n",
       "</table>\n",
       "</div>"
      ],
      "text/plain": [
       "            BeginDate     EndDate            Type PaperlessBilling  \\\n",
       "customerID                                                           \n",
       "7632-YUTXB 2018-01-01          No        One year               No   \n",
       "6000-UKLWI 2016-09-01          No        Two year               No   \n",
       "3750-YHRYO 2019-07-01          No        One year               No   \n",
       "0432-CAJZV 2019-11-01          No  Month-to-month               No   \n",
       "6979-TNDEU 2019-06-01          No  Month-to-month               No   \n",
       "1455-ESIQH 2019-12-01          No  Month-to-month              Yes   \n",
       "4277-BWBML 2014-02-01  2018-03-01        Two year               No   \n",
       "2819-GWENI 2017-10-01          No        One year               No   \n",
       "3143-ILDAL 2015-05-01  2018-09-01  Month-to-month              Yes   \n",
       "4560-WQAQW 2015-03-01  2017-11-01        One year               No   \n",
       "2045-BMBTJ 2017-05-01  2018-08-01  Month-to-month              Yes   \n",
       "2276-YDAVZ 2019-07-01          No  Month-to-month              Yes   \n",
       "0369-ZGOVK 2017-10-01          No        One year              Yes   \n",
       "9944-AEXBM 2017-06-01          No  Month-to-month              Yes   \n",
       "1334-FJSVR 2019-10-01          No  Month-to-month              Yes   \n",
       "3082-VQXNH 2019-11-01          No  Month-to-month               No   \n",
       "1740-CSDJP 2019-12-01          No  Month-to-month              Yes   \n",
       "2592-YKDIF 2020-01-01          No  Month-to-month               No   \n",
       "9747-DDZOS 2019-12-01          No  Month-to-month               No   \n",
       "3034-ZBEQN 2016-01-01  2018-09-01        One year               No   \n",
       "\n",
       "                        PaymentMethod  MonthlyCharges  TotalCharges  gender  \\\n",
       "customerID                                                                    \n",
       "7632-YUTXB               Mailed check              20           526  Female   \n",
       "6000-UKLWI               Mailed check              20           908    Male   \n",
       "3750-YHRYO               Mailed check              20           147    Male   \n",
       "0432-CAJZV               Mailed check              90           272    Male   \n",
       "6979-TNDEU               Mailed check              19           168  Female   \n",
       "1455-ESIQH           Electronic check              89           178    Male   \n",
       "4277-BWBML  Bank transfer (automatic)              19          1036    Male   \n",
       "2819-GWENI               Mailed check              19           590  Female   \n",
       "3143-ILDAL           Electronic check              94          3929    Male   \n",
       "4560-WQAQW  Bank transfer (automatic)              68          2198  Female   \n",
       "2045-BMBTJ  Bank transfer (automatic)              59           891  Female   \n",
       "2276-YDAVZ    Credit card (automatic)              75           557  Female   \n",
       "0369-ZGOVK  Bank transfer (automatic)              70          1990  Female   \n",
       "9944-AEXBM  Bank transfer (automatic)              85          2960    Male   \n",
       "1334-FJSVR           Electronic check              24           100    Male   \n",
       "3082-VQXNH    Credit card (automatic)              29            89    Male   \n",
       "1740-CSDJP  Bank transfer (automatic)              35            70    Male   \n",
       "2592-YKDIF               Mailed check              20            20  Female   \n",
       "9747-DDZOS  Bank transfer (automatic)              73           147  Female   \n",
       "3034-ZBEQN               Mailed check              34          1177  Female   \n",
       "\n",
       "            SeniorCitizen Partner Dependents InternetService OnlineSecurity  \\\n",
       "customerID                                                                    \n",
       "7632-YUTXB              0     Yes        Yes             NaN            NaN   \n",
       "6000-UKLWI              0      No         No             NaN            NaN   \n",
       "3750-YHRYO              0     Yes        Yes             NaN            NaN   \n",
       "0432-CAJZV              0      No         No     Fiber optic             No   \n",
       "6979-TNDEU              0      No         No             NaN            NaN   \n",
       "1455-ESIQH              0      No         No     Fiber optic             No   \n",
       "4277-BWBML              0     Yes        Yes             NaN            NaN   \n",
       "2819-GWENI              0     Yes        Yes             NaN            NaN   \n",
       "3143-ILDAL              0      No         No     Fiber optic             No   \n",
       "4560-WQAQW              0      No         No             DSL            Yes   \n",
       "2045-BMBTJ              1      No         No             DSL            Yes   \n",
       "2276-YDAVZ              0      No         No     Fiber optic             No   \n",
       "0369-ZGOVK              0     Yes        Yes     Fiber optic             No   \n",
       "9944-AEXBM              0      No         No     Fiber optic             No   \n",
       "1334-FJSVR              0      No         No             DSL             No   \n",
       "3082-VQXNH              0     Yes         No             DSL             No   \n",
       "1740-CSDJP              0      No         No             DSL             No   \n",
       "2592-YKDIF              0      No         No             NaN            NaN   \n",
       "9747-DDZOS              0      No         No     Fiber optic             No   \n",
       "3034-ZBEQN              0     Yes         No             DSL             No   \n",
       "\n",
       "           OnlineBackup DeviceProtection TechSupport StreamingTV  \\\n",
       "customerID                                                         \n",
       "7632-YUTXB          NaN              NaN         NaN         NaN   \n",
       "6000-UKLWI          NaN              NaN         NaN         NaN   \n",
       "3750-YHRYO          NaN              NaN         NaN         NaN   \n",
       "0432-CAJZV           No               No          No         Yes   \n",
       "6979-TNDEU          NaN              NaN         NaN         NaN   \n",
       "1455-ESIQH           No               No          No         Yes   \n",
       "4277-BWBML          NaN              NaN         NaN         NaN   \n",
       "2819-GWENI          NaN              NaN         NaN         NaN   \n",
       "3143-ILDAL          Yes               No         Yes          No   \n",
       "4560-WQAQW           No               No         Yes          No   \n",
       "2045-BMBTJ          Yes              Yes          No         Yes   \n",
       "2276-YDAVZ           No               No          No          No   \n",
       "0369-ZGOVK           No               No          No          No   \n",
       "9944-AEXBM           No               No          No          No   \n",
       "1334-FJSVR           No               No          No          No   \n",
       "3082-VQXNH          Yes               No          No          No   \n",
       "1740-CSDJP           No               No          No          No   \n",
       "2592-YKDIF          NaN              NaN         NaN         NaN   \n",
       "9747-DDZOS           No              Yes          No          No   \n",
       "3034-ZBEQN          Yes              Yes          No          No   \n",
       "\n",
       "           StreamingMovies MultipleLines  \n",
       "customerID                                \n",
       "7632-YUTXB             NaN            No  \n",
       "6000-UKLWI             NaN            No  \n",
       "3750-YHRYO             NaN            No  \n",
       "0432-CAJZV             Yes            No  \n",
       "6979-TNDEU             NaN            No  \n",
       "1455-ESIQH             Yes            No  \n",
       "4277-BWBML             NaN            No  \n",
       "2819-GWENI             NaN            No  \n",
       "3143-ILDAL             Yes           Yes  \n",
       "4560-WQAQW             Yes           Yes  \n",
       "2045-BMBTJ             Yes           NaN  \n",
       "2276-YDAVZ              No           Yes  \n",
       "0369-ZGOVK              No            No  \n",
       "9944-AEXBM             Yes           Yes  \n",
       "1334-FJSVR              No           NaN  \n",
       "3082-VQXNH              No           NaN  \n",
       "1740-CSDJP             Yes           NaN  \n",
       "2592-YKDIF             NaN            No  \n",
       "9747-DDZOS              No            No  \n",
       "3034-ZBEQN              No           NaN  "
      ]
     },
     "execution_count": 25,
     "metadata": {},
     "output_type": "execute_result"
    }
   ],
   "source": [
    "# обьединение таблиц в одну\n",
    "df = df_contract.merge(df_personal, how='left', on='customerID').merge(\n",
    "    df_internet, how='left', on='customerID').merge(df_phone,how='left', on='customerID')\n",
    "df = df.set_index('customerID')\n",
    "df.sample(20)"
   ]
  },
  {
   "cell_type": "code",
   "execution_count": 26,
   "id": "288001f5",
   "metadata": {},
   "outputs": [
    {
     "data": {
      "text/plain": [
       "(7043, 19)"
      ]
     },
     "execution_count": 26,
     "metadata": {},
     "output_type": "execute_result"
    }
   ],
   "source": [
    "df.shape"
   ]
  },
  {
   "cell_type": "markdown",
   "id": "0519b60a",
   "metadata": {},
   "source": [
    "<div class=\"alert alert-success\">\n",
    "<h2> Комментарий тимлида (код) <a class=\"tocSkip\"> </h2>\n",
    "\n",
    "<b>Все отлично!👍:</b> Данные соединены корректно, никто не потерялся."
   ]
  },
  {
   "cell_type": "code",
   "execution_count": 27,
   "id": "6c162158",
   "metadata": {},
   "outputs": [],
   "source": [
    "df['target'] = (df['EndDate'] != 'No').astype('int')"
   ]
  },
  {
   "cell_type": "code",
   "execution_count": 28,
   "id": "2cb04f2f",
   "metadata": {},
   "outputs": [
    {
     "data": {
      "text/plain": [
       "0    0.843675\n",
       "1    0.156325\n",
       "Name: target, dtype: float64"
      ]
     },
     "execution_count": 28,
     "metadata": {},
     "output_type": "execute_result"
    }
   ],
   "source": [
    "# посмотрим баланс классов, должен быть 85/15\n",
    "df['target'].value_counts(normalize=True)"
   ]
  },
  {
   "cell_type": "markdown",
   "id": "69409aa5",
   "metadata": {},
   "source": [
    "Наблюдается дисбаланс классов целевого признака 85/15(как и должно быть), займемся им на этапе подготовки к обучению моделей. В то же время мы знаем что дисбаланс не влияет на метрики f1 и roc-auc(нашу основную метрику)"
   ]
  },
  {
   "cell_type": "code",
   "execution_count": 29,
   "id": "672bd17a",
   "metadata": {},
   "outputs": [],
   "source": [
    "# Работаем с датой окончания подписки\n",
    "df['EndDate'] = df['EndDate'].replace(['No'], ['2020-02-01'])\n",
    "df['EndDate'] = pd.to_datetime(df['EndDate'],format = '%Y-%m-%d')"
   ]
  },
  {
   "cell_type": "markdown",
   "id": "00eaf35e",
   "metadata": {},
   "source": [
    "Видим возникновение пропусков в столбцах с услугами. Их можно заполнить значением no. Так же значения yes no стоит закодировать бинарно, что упростит дальнейшие исследования.\n"
   ]
  },
  {
   "cell_type": "code",
   "execution_count": 30,
   "id": "20360dec",
   "metadata": {},
   "outputs": [
    {
     "name": "stdout",
     "output_type": "stream",
     "text": [
      "<class 'pandas.core.frame.DataFrame'>\n",
      "Index: 7043 entries, 7590-VHVEG to 3186-AJIEK\n",
      "Data columns (total 20 columns):\n",
      " #   Column            Non-Null Count  Dtype         \n",
      "---  ------            --------------  -----         \n",
      " 0   BeginDate         7043 non-null   datetime64[ns]\n",
      " 1   EndDate           7043 non-null   datetime64[ns]\n",
      " 2   Type              7043 non-null   object        \n",
      " 3   PaperlessBilling  7043 non-null   object        \n",
      " 4   PaymentMethod     7043 non-null   object        \n",
      " 5   MonthlyCharges    7043 non-null   int64         \n",
      " 6   TotalCharges      7043 non-null   int64         \n",
      " 7   gender            7043 non-null   object        \n",
      " 8   SeniorCitizen     7043 non-null   int64         \n",
      " 9   Partner           7043 non-null   object        \n",
      " 10  Dependents        7043 non-null   object        \n",
      " 11  InternetService   5517 non-null   object        \n",
      " 12  OnlineSecurity    5517 non-null   object        \n",
      " 13  OnlineBackup      5517 non-null   object        \n",
      " 14  DeviceProtection  5517 non-null   object        \n",
      " 15  TechSupport       5517 non-null   object        \n",
      " 16  StreamingTV       5517 non-null   object        \n",
      " 17  StreamingMovies   5517 non-null   object        \n",
      " 18  MultipleLines     6361 non-null   object        \n",
      " 19  target            7043 non-null   int64         \n",
      "dtypes: datetime64[ns](2), int64(4), object(14)\n",
      "memory usage: 1.1+ MB\n"
     ]
    }
   ],
   "source": [
    "df.info()"
   ]
  },
  {
   "cell_type": "code",
   "execution_count": 31,
   "id": "8cce592f",
   "metadata": {},
   "outputs": [],
   "source": [
    "# Заполним указанные пропуски значением \"No\":\n",
    "features_none = [\n",
    "    'OnlineSecurity', 'OnlineBackup', 'DeviceProtection', 'TechSupport',\n",
    "    'StreamingTV', 'StreamingMovies', 'MultipleLines'\n",
    "]\n",
    "df[features_none] = df[features_none].fillna('No')"
   ]
  },
  {
   "cell_type": "code",
   "execution_count": 32,
   "id": "e33173e8",
   "metadata": {},
   "outputs": [
    {
     "data": {
      "text/plain": [
       "Fiber optic    3096\n",
       "DSL            2421\n",
       "unknown        1526\n",
       "Name: InternetService, dtype: int64"
      ]
     },
     "execution_count": 32,
     "metadata": {},
     "output_type": "execute_result"
    }
   ],
   "source": [
    "# Выделим пропуски InternetService в отдельную категорию:\n",
    "df['InternetService'] = df['InternetService'].fillna('unknown')\n",
    "df['InternetService'].value_counts()"
   ]
  },
  {
   "cell_type": "code",
   "execution_count": 33,
   "id": "f9bf28d6",
   "metadata": {},
   "outputs": [
    {
     "name": "stdout",
     "output_type": "stream",
     "text": [
      "<class 'pandas.core.frame.DataFrame'>\n",
      "Index: 7043 entries, 7590-VHVEG to 3186-AJIEK\n",
      "Data columns (total 20 columns):\n",
      " #   Column            Non-Null Count  Dtype         \n",
      "---  ------            --------------  -----         \n",
      " 0   BeginDate         7043 non-null   datetime64[ns]\n",
      " 1   EndDate           7043 non-null   datetime64[ns]\n",
      " 2   Type              7043 non-null   object        \n",
      " 3   PaperlessBilling  7043 non-null   object        \n",
      " 4   PaymentMethod     7043 non-null   object        \n",
      " 5   MonthlyCharges    7043 non-null   int64         \n",
      " 6   TotalCharges      7043 non-null   int64         \n",
      " 7   gender            7043 non-null   object        \n",
      " 8   SeniorCitizen     7043 non-null   int64         \n",
      " 9   Partner           7043 non-null   object        \n",
      " 10  Dependents        7043 non-null   object        \n",
      " 11  InternetService   7043 non-null   object        \n",
      " 12  OnlineSecurity    7043 non-null   object        \n",
      " 13  OnlineBackup      7043 non-null   object        \n",
      " 14  DeviceProtection  7043 non-null   object        \n",
      " 15  TechSupport       7043 non-null   object        \n",
      " 16  StreamingTV       7043 non-null   object        \n",
      " 17  StreamingMovies   7043 non-null   object        \n",
      " 18  MultipleLines     7043 non-null   object        \n",
      " 19  target            7043 non-null   int64         \n",
      "dtypes: datetime64[ns](2), int64(4), object(14)\n",
      "memory usage: 1.1+ MB\n"
     ]
    }
   ],
   "source": [
    "df.info()"
   ]
  },
  {
   "cell_type": "code",
   "execution_count": 34,
   "id": "334ae2d1",
   "metadata": {},
   "outputs": [
    {
     "name": "stdout",
     "output_type": "stream",
     "text": [
      "<class 'pandas.core.frame.DataFrame'>\n",
      "Index: 7043 entries, 7590-VHVEG to 3186-AJIEK\n",
      "Data columns (total 20 columns):\n",
      " #   Column            Non-Null Count  Dtype         \n",
      "---  ------            --------------  -----         \n",
      " 0   BeginDate         7043 non-null   datetime64[ns]\n",
      " 1   EndDate           7043 non-null   datetime64[ns]\n",
      " 2   Type              7043 non-null   object        \n",
      " 3   PaperlessBilling  7043 non-null   object        \n",
      " 4   PaymentMethod     7043 non-null   object        \n",
      " 5   MonthlyCharges    7043 non-null   int64         \n",
      " 6   TotalCharges      7043 non-null   int64         \n",
      " 7   gender            7043 non-null   object        \n",
      " 8   SeniorCitizen     7043 non-null   int64         \n",
      " 9   Partner           7043 non-null   object        \n",
      " 10  Dependents        7043 non-null   object        \n",
      " 11  InternetService   7043 non-null   object        \n",
      " 12  OnlineSecurity    7043 non-null   object        \n",
      " 13  OnlineBackup      7043 non-null   object        \n",
      " 14  DeviceProtection  7043 non-null   object        \n",
      " 15  TechSupport       7043 non-null   object        \n",
      " 16  StreamingTV       7043 non-null   object        \n",
      " 17  StreamingMovies   7043 non-null   object        \n",
      " 18  MultipleLines     7043 non-null   object        \n",
      " 19  target            7043 non-null   int64         \n",
      "dtypes: datetime64[ns](2), int64(4), object(14)\n",
      "memory usage: 1.1+ MB\n"
     ]
    }
   ],
   "source": [
    "df.info()"
   ]
  },
  {
   "cell_type": "markdown",
   "id": "999321bb",
   "metadata": {},
   "source": [
    "<div class=\"alert alert-block alert-danger\">\n",
    "<h2> Комментарий тимлида (код) <a class=\"tocSkip\"></h2>\n",
    "\n",
    "    \n",
    "<b>На доработку❌:</b>\n",
    "Кодирование данных нужно осуществлять только после сплитования - так мы не допускаем утечку данных из тестовой части, а также можем контролировать появление в `test` новых значений категориальных признаков.\n",
    "    \n",
    "Также кодирование нельзя делать руками:\n",
    "- при появлении новых значений категориальных признаков, не предусмотренных твоим решением, модель или упадёт, или будет генерировать ошибки;\n",
    "- такое решение не сделаешь частью `pipeline`, а все современные решения базируются на них.\n",
    "    \n",
    "Поэтому кодирование нужно делать только после сплитования с применением обучаемых трансформеров."
   ]
  },
  {
   "cell_type": "markdown",
   "id": "e88cc143",
   "metadata": {},
   "source": [
    "<div class=\"alert alert-info\">\n",
    "<h2> Комментарий студента <a class=\"tocSkip\"> </h2>\n",
    "\n",
    "*Исправил!*\n",
    "</div>"
   ]
  },
  {
   "cell_type": "markdown",
   "id": "9e669185",
   "metadata": {},
   "source": [
    "<div class=\"alert alert-block alert-danger\">\n",
    "<h2> Комментарий тимлида (код) v.2 <a class=\"tocSkip\"></h2>\n",
    "\n",
    "    \n",
    "<b>На доработку❌:</b>\n",
    "Не учтено - значения всё ещё преобразовываются до сплитования. Перевод в `int` - тоже кодирование. Если появится `YES` вместо `Yes` - твой подход не будет работать должным образом."
   ]
  },
  {
   "cell_type": "markdown",
   "id": "5eadd4e4",
   "metadata": {},
   "source": [
    "<div class=\"alert alert-info\">\n",
    "<h2> Комментарий студента <a class=\"tocSkip\"> </h2>\n",
    "\n",
    "*Исправил!*\n",
    "</div>"
   ]
  },
  {
   "cell_type": "markdown",
   "id": "f8fa414a",
   "metadata": {},
   "source": [
    "<div class=\"alert alert-success\">\n",
    "<h2> Комментарий тимлида (код) v.3 <a class=\"tocSkip\"> </h2>\n",
    "\n",
    "<b>Все отлично!👍:</b> Учтено."
   ]
  },
  {
   "cell_type": "markdown",
   "id": "06026553",
   "metadata": {},
   "source": [
    "<div class=\"alert alert-block alert-danger\">\n",
    "<h2> Комментарий тимлида (код) <a class=\"tocSkip\"></h2>\n",
    "\n",
    "    \n",
    "<b>На доработку❌:</b>\n",
    "Решение не совсем корректное, которое не будет работать для клиентов, ушедших в день выгрузки. Проще сначала выделять целевой признак, когда есть явная метка `No`, а уже потом работать над преобразованием дат."
   ]
  },
  {
   "cell_type": "markdown",
   "id": "793a4a0d",
   "metadata": {},
   "source": [
    "<div class=\"alert alert-info\">\n",
    "<h2> Комментарий студента <a class=\"tocSkip\"> </h2>\n",
    "\n",
    "*Переместил выделение целевого признака в начало!*\n",
    "</div>"
   ]
  },
  {
   "cell_type": "markdown",
   "id": "f2c279ef",
   "metadata": {},
   "source": [
    "<div class=\"alert alert-success\">\n",
    "<h2> Комментарий тимлида (код) v.2 <a class=\"tocSkip\"> </h2>\n",
    "\n",
    "<b>Все отлично!👍:</b> Учтено."
   ]
  },
  {
   "cell_type": "markdown",
   "id": "e1c9d76b",
   "metadata": {},
   "source": [
    "<div class=\"alert alert-block alert-danger\">\n",
    "<h2> Комментарий тимлида (код) <a class=\"tocSkip\"></h2>\n",
    "\n",
    "    \n",
    "<b>На доработку❌:</b>\n",
    "    Важно прокомментировать дисбаланс классов, а также то, что мы с ним делаем (или не делаем)."
   ]
  },
  {
   "cell_type": "markdown",
   "id": "f0288339",
   "metadata": {},
   "source": [
    "<div class=\"alert alert-info\">\n",
    "<h2> Комментарий студента <a class=\"tocSkip\"> </h2>\n",
    "\n",
    "*Переместил проверку дисбаланса в начало и прокомментировал!*\n",
    "</div>"
   ]
  },
  {
   "cell_type": "markdown",
   "id": "4956362a",
   "metadata": {},
   "source": [
    "<div class=\"alert alert-success\">\n",
    "<h2> Комментарий тимлида (код) v.2 <a class=\"tocSkip\"> </h2>\n",
    "\n",
    "<b>Все отлично!👍:</b> Учтено."
   ]
  },
  {
   "cell_type": "code",
   "execution_count": 35,
   "id": "fd6b2999",
   "metadata": {},
   "outputs": [],
   "source": [
    "# Рассчитаем количество дней пользования услугами:\n",
    "df['DaysOfUsage'] = (pd.to_datetime(df['EndDate']) -\n",
    "                     pd.to_datetime(df['BeginDate'])).dt.days\n",
    "df['DaysOfUsage'] = df['DaysOfUsage'].astype('int')"
   ]
  },
  {
   "cell_type": "markdown",
   "id": "9c7c7673",
   "metadata": {},
   "source": [
    "<div class=\"alert alert-success\">\n",
    "<h2> Комментарий тимлида (код) <a class=\"tocSkip\"> </h2>\n",
    "\n",
    "<b>Все отлично!👍:</b> Выделили признак длительности контракта - окей, может быть важным признаком."
   ]
  },
  {
   "cell_type": "code",
   "execution_count": 36,
   "id": "1fc8c5fc",
   "metadata": {},
   "outputs": [
    {
     "data": {
      "text/html": [
       "<div>\n",
       "<style scoped>\n",
       "    .dataframe tbody tr th:only-of-type {\n",
       "        vertical-align: middle;\n",
       "    }\n",
       "\n",
       "    .dataframe tbody tr th {\n",
       "        vertical-align: top;\n",
       "    }\n",
       "\n",
       "    .dataframe thead th {\n",
       "        text-align: right;\n",
       "    }\n",
       "</style>\n",
       "<table border=\"1\" class=\"dataframe\">\n",
       "  <thead>\n",
       "    <tr style=\"text-align: right;\">\n",
       "      <th></th>\n",
       "      <th>BeginDate</th>\n",
       "      <th>EndDate</th>\n",
       "      <th>Type</th>\n",
       "      <th>PaperlessBilling</th>\n",
       "      <th>PaymentMethod</th>\n",
       "      <th>MonthlyCharges</th>\n",
       "      <th>TotalCharges</th>\n",
       "      <th>gender</th>\n",
       "      <th>SeniorCitizen</th>\n",
       "      <th>Partner</th>\n",
       "      <th>...</th>\n",
       "      <th>InternetService</th>\n",
       "      <th>OnlineSecurity</th>\n",
       "      <th>OnlineBackup</th>\n",
       "      <th>DeviceProtection</th>\n",
       "      <th>TechSupport</th>\n",
       "      <th>StreamingTV</th>\n",
       "      <th>StreamingMovies</th>\n",
       "      <th>MultipleLines</th>\n",
       "      <th>target</th>\n",
       "      <th>DaysOfUsage</th>\n",
       "    </tr>\n",
       "    <tr>\n",
       "      <th>customerID</th>\n",
       "      <th></th>\n",
       "      <th></th>\n",
       "      <th></th>\n",
       "      <th></th>\n",
       "      <th></th>\n",
       "      <th></th>\n",
       "      <th></th>\n",
       "      <th></th>\n",
       "      <th></th>\n",
       "      <th></th>\n",
       "      <th></th>\n",
       "      <th></th>\n",
       "      <th></th>\n",
       "      <th></th>\n",
       "      <th></th>\n",
       "      <th></th>\n",
       "      <th></th>\n",
       "      <th></th>\n",
       "      <th></th>\n",
       "      <th></th>\n",
       "      <th></th>\n",
       "    </tr>\n",
       "  </thead>\n",
       "  <tbody>\n",
       "    <tr>\n",
       "      <th>7590-VHVEG</th>\n",
       "      <td>2020-01-01</td>\n",
       "      <td>2020-02-01</td>\n",
       "      <td>Month-to-month</td>\n",
       "      <td>Yes</td>\n",
       "      <td>Electronic check</td>\n",
       "      <td>29</td>\n",
       "      <td>31</td>\n",
       "      <td>Female</td>\n",
       "      <td>0</td>\n",
       "      <td>Yes</td>\n",
       "      <td>...</td>\n",
       "      <td>DSL</td>\n",
       "      <td>No</td>\n",
       "      <td>Yes</td>\n",
       "      <td>No</td>\n",
       "      <td>No</td>\n",
       "      <td>No</td>\n",
       "      <td>No</td>\n",
       "      <td>No</td>\n",
       "      <td>0</td>\n",
       "      <td>31</td>\n",
       "    </tr>\n",
       "    <tr>\n",
       "      <th>5575-GNVDE</th>\n",
       "      <td>2017-04-01</td>\n",
       "      <td>2020-02-01</td>\n",
       "      <td>One year</td>\n",
       "      <td>No</td>\n",
       "      <td>Mailed check</td>\n",
       "      <td>56</td>\n",
       "      <td>2071</td>\n",
       "      <td>Male</td>\n",
       "      <td>0</td>\n",
       "      <td>No</td>\n",
       "      <td>...</td>\n",
       "      <td>DSL</td>\n",
       "      <td>Yes</td>\n",
       "      <td>No</td>\n",
       "      <td>Yes</td>\n",
       "      <td>No</td>\n",
       "      <td>No</td>\n",
       "      <td>No</td>\n",
       "      <td>No</td>\n",
       "      <td>0</td>\n",
       "      <td>1036</td>\n",
       "    </tr>\n",
       "    <tr>\n",
       "      <th>3668-QPYBK</th>\n",
       "      <td>2019-10-01</td>\n",
       "      <td>2020-02-01</td>\n",
       "      <td>Month-to-month</td>\n",
       "      <td>Yes</td>\n",
       "      <td>Mailed check</td>\n",
       "      <td>53</td>\n",
       "      <td>226</td>\n",
       "      <td>Male</td>\n",
       "      <td>0</td>\n",
       "      <td>No</td>\n",
       "      <td>...</td>\n",
       "      <td>DSL</td>\n",
       "      <td>Yes</td>\n",
       "      <td>Yes</td>\n",
       "      <td>No</td>\n",
       "      <td>No</td>\n",
       "      <td>No</td>\n",
       "      <td>No</td>\n",
       "      <td>No</td>\n",
       "      <td>0</td>\n",
       "      <td>123</td>\n",
       "    </tr>\n",
       "    <tr>\n",
       "      <th>7795-CFOCW</th>\n",
       "      <td>2016-05-01</td>\n",
       "      <td>2020-02-01</td>\n",
       "      <td>One year</td>\n",
       "      <td>No</td>\n",
       "      <td>Bank transfer (automatic)</td>\n",
       "      <td>42</td>\n",
       "      <td>1960</td>\n",
       "      <td>Male</td>\n",
       "      <td>0</td>\n",
       "      <td>No</td>\n",
       "      <td>...</td>\n",
       "      <td>DSL</td>\n",
       "      <td>Yes</td>\n",
       "      <td>No</td>\n",
       "      <td>Yes</td>\n",
       "      <td>Yes</td>\n",
       "      <td>No</td>\n",
       "      <td>No</td>\n",
       "      <td>No</td>\n",
       "      <td>0</td>\n",
       "      <td>1371</td>\n",
       "    </tr>\n",
       "    <tr>\n",
       "      <th>9237-HQITU</th>\n",
       "      <td>2019-09-01</td>\n",
       "      <td>2020-02-01</td>\n",
       "      <td>Month-to-month</td>\n",
       "      <td>Yes</td>\n",
       "      <td>Electronic check</td>\n",
       "      <td>70</td>\n",
       "      <td>353</td>\n",
       "      <td>Female</td>\n",
       "      <td>0</td>\n",
       "      <td>No</td>\n",
       "      <td>...</td>\n",
       "      <td>Fiber optic</td>\n",
       "      <td>No</td>\n",
       "      <td>No</td>\n",
       "      <td>No</td>\n",
       "      <td>No</td>\n",
       "      <td>No</td>\n",
       "      <td>No</td>\n",
       "      <td>No</td>\n",
       "      <td>0</td>\n",
       "      <td>153</td>\n",
       "    </tr>\n",
       "  </tbody>\n",
       "</table>\n",
       "<p>5 rows × 21 columns</p>\n",
       "</div>"
      ],
      "text/plain": [
       "            BeginDate    EndDate            Type PaperlessBilling  \\\n",
       "customerID                                                          \n",
       "7590-VHVEG 2020-01-01 2020-02-01  Month-to-month              Yes   \n",
       "5575-GNVDE 2017-04-01 2020-02-01        One year               No   \n",
       "3668-QPYBK 2019-10-01 2020-02-01  Month-to-month              Yes   \n",
       "7795-CFOCW 2016-05-01 2020-02-01        One year               No   \n",
       "9237-HQITU 2019-09-01 2020-02-01  Month-to-month              Yes   \n",
       "\n",
       "                        PaymentMethod  MonthlyCharges  TotalCharges  gender  \\\n",
       "customerID                                                                    \n",
       "7590-VHVEG           Electronic check              29            31  Female   \n",
       "5575-GNVDE               Mailed check              56          2071    Male   \n",
       "3668-QPYBK               Mailed check              53           226    Male   \n",
       "7795-CFOCW  Bank transfer (automatic)              42          1960    Male   \n",
       "9237-HQITU           Electronic check              70           353  Female   \n",
       "\n",
       "            SeniorCitizen Partner  ... InternetService OnlineSecurity  \\\n",
       "customerID                         ...                                  \n",
       "7590-VHVEG              0     Yes  ...             DSL             No   \n",
       "5575-GNVDE              0      No  ...             DSL            Yes   \n",
       "3668-QPYBK              0      No  ...             DSL            Yes   \n",
       "7795-CFOCW              0      No  ...             DSL            Yes   \n",
       "9237-HQITU              0      No  ...     Fiber optic             No   \n",
       "\n",
       "           OnlineBackup DeviceProtection TechSupport StreamingTV  \\\n",
       "customerID                                                         \n",
       "7590-VHVEG          Yes               No          No          No   \n",
       "5575-GNVDE           No              Yes          No          No   \n",
       "3668-QPYBK          Yes               No          No          No   \n",
       "7795-CFOCW           No              Yes         Yes          No   \n",
       "9237-HQITU           No               No          No          No   \n",
       "\n",
       "           StreamingMovies MultipleLines target  DaysOfUsage  \n",
       "customerID                                                    \n",
       "7590-VHVEG              No            No      0           31  \n",
       "5575-GNVDE              No            No      0         1036  \n",
       "3668-QPYBK              No            No      0          123  \n",
       "7795-CFOCW              No            No      0         1371  \n",
       "9237-HQITU              No            No      0          153  \n",
       "\n",
       "[5 rows x 21 columns]"
      ]
     },
     "execution_count": 36,
     "metadata": {},
     "output_type": "execute_result"
    }
   ],
   "source": [
    "df.head()"
   ]
  },
  {
   "cell_type": "code",
   "execution_count": 37,
   "id": "f117b3f7",
   "metadata": {},
   "outputs": [
    {
     "name": "stdout",
     "output_type": "stream",
     "text": [
      "<class 'pandas.core.frame.DataFrame'>\n",
      "Index: 7043 entries, 7590-VHVEG to 3186-AJIEK\n",
      "Data columns (total 21 columns):\n",
      " #   Column            Non-Null Count  Dtype         \n",
      "---  ------            --------------  -----         \n",
      " 0   BeginDate         7043 non-null   datetime64[ns]\n",
      " 1   EndDate           7043 non-null   datetime64[ns]\n",
      " 2   Type              7043 non-null   object        \n",
      " 3   PaperlessBilling  7043 non-null   object        \n",
      " 4   PaymentMethod     7043 non-null   object        \n",
      " 5   MonthlyCharges    7043 non-null   int64         \n",
      " 6   TotalCharges      7043 non-null   int64         \n",
      " 7   gender            7043 non-null   object        \n",
      " 8   SeniorCitizen     7043 non-null   int64         \n",
      " 9   Partner           7043 non-null   object        \n",
      " 10  Dependents        7043 non-null   object        \n",
      " 11  InternetService   7043 non-null   object        \n",
      " 12  OnlineSecurity    7043 non-null   object        \n",
      " 13  OnlineBackup      7043 non-null   object        \n",
      " 14  DeviceProtection  7043 non-null   object        \n",
      " 15  TechSupport       7043 non-null   object        \n",
      " 16  StreamingTV       7043 non-null   object        \n",
      " 17  StreamingMovies   7043 non-null   object        \n",
      " 18  MultipleLines     7043 non-null   object        \n",
      " 19  target            7043 non-null   int64         \n",
      " 20  DaysOfUsage       7043 non-null   int64         \n",
      "dtypes: datetime64[ns](2), int64(5), object(14)\n",
      "memory usage: 1.2+ MB\n"
     ]
    }
   ],
   "source": [
    "df.info()"
   ]
  },
  {
   "cell_type": "code",
   "execution_count": 38,
   "id": "5a84e304",
   "metadata": {},
   "outputs": [
    {
     "data": {
      "text/html": [
       "<div>\n",
       "<style scoped>\n",
       "    .dataframe tbody tr th:only-of-type {\n",
       "        vertical-align: middle;\n",
       "    }\n",
       "\n",
       "    .dataframe tbody tr th {\n",
       "        vertical-align: top;\n",
       "    }\n",
       "\n",
       "    .dataframe thead th {\n",
       "        text-align: right;\n",
       "    }\n",
       "</style>\n",
       "<table border=\"1\" class=\"dataframe\">\n",
       "  <thead>\n",
       "    <tr style=\"text-align: right;\">\n",
       "      <th></th>\n",
       "      <th>count</th>\n",
       "      <th>mean</th>\n",
       "      <th>std</th>\n",
       "      <th>min</th>\n",
       "      <th>25%</th>\n",
       "      <th>50%</th>\n",
       "      <th>75%</th>\n",
       "      <th>max</th>\n",
       "    </tr>\n",
       "  </thead>\n",
       "  <tbody>\n",
       "    <tr>\n",
       "      <th>MonthlyCharges</th>\n",
       "      <td>7043.0</td>\n",
       "      <td>64.295897</td>\n",
       "      <td>30.092727</td>\n",
       "      <td>18.0</td>\n",
       "      <td>35.0</td>\n",
       "      <td>70.0</td>\n",
       "      <td>89.0</td>\n",
       "      <td>118.0</td>\n",
       "    </tr>\n",
       "    <tr>\n",
       "      <th>TotalCharges</th>\n",
       "      <td>7043.0</td>\n",
       "      <td>2114.859009</td>\n",
       "      <td>2112.745015</td>\n",
       "      <td>0.0</td>\n",
       "      <td>436.5</td>\n",
       "      <td>1343.0</td>\n",
       "      <td>3236.0</td>\n",
       "      <td>9221.0</td>\n",
       "    </tr>\n",
       "    <tr>\n",
       "      <th>SeniorCitizen</th>\n",
       "      <td>7043.0</td>\n",
       "      <td>0.162147</td>\n",
       "      <td>0.368612</td>\n",
       "      <td>0.0</td>\n",
       "      <td>0.0</td>\n",
       "      <td>0.0</td>\n",
       "      <td>0.0</td>\n",
       "      <td>1.0</td>\n",
       "    </tr>\n",
       "    <tr>\n",
       "      <th>target</th>\n",
       "      <td>7043.0</td>\n",
       "      <td>0.156325</td>\n",
       "      <td>0.363189</td>\n",
       "      <td>0.0</td>\n",
       "      <td>0.0</td>\n",
       "      <td>0.0</td>\n",
       "      <td>0.0</td>\n",
       "      <td>1.0</td>\n",
       "    </tr>\n",
       "    <tr>\n",
       "      <th>DaysOfUsage</th>\n",
       "      <td>7043.0</td>\n",
       "      <td>898.555729</td>\n",
       "      <td>683.130510</td>\n",
       "      <td>0.0</td>\n",
       "      <td>276.0</td>\n",
       "      <td>761.0</td>\n",
       "      <td>1461.0</td>\n",
       "      <td>2314.0</td>\n",
       "    </tr>\n",
       "  </tbody>\n",
       "</table>\n",
       "</div>"
      ],
      "text/plain": [
       "                 count         mean          std   min    25%     50%     75%  \\\n",
       "MonthlyCharges  7043.0    64.295897    30.092727  18.0   35.0    70.0    89.0   \n",
       "TotalCharges    7043.0  2114.859009  2112.745015   0.0  436.5  1343.0  3236.0   \n",
       "SeniorCitizen   7043.0     0.162147     0.368612   0.0    0.0     0.0     0.0   \n",
       "target          7043.0     0.156325     0.363189   0.0    0.0     0.0     0.0   \n",
       "DaysOfUsage     7043.0   898.555729   683.130510   0.0  276.0   761.0  1461.0   \n",
       "\n",
       "                   max  \n",
       "MonthlyCharges   118.0  \n",
       "TotalCharges    9221.0  \n",
       "SeniorCitizen      1.0  \n",
       "target             1.0  \n",
       "DaysOfUsage     2314.0  "
      ]
     },
     "execution_count": 38,
     "metadata": {},
     "output_type": "execute_result"
    }
   ],
   "source": [
    "df.describe().T"
   ]
  },
  {
   "cell_type": "markdown",
   "id": "08824bc4",
   "metadata": {},
   "source": [
    "### Изучим дату регистрации и оттока клиентов:"
   ]
  },
  {
   "cell_type": "code",
   "execution_count": 39,
   "id": "15c1b7c1",
   "metadata": {},
   "outputs": [],
   "source": [
    "#удобная сетка для всех графиков\n",
    "sns.set_style(\"ticks\",{'axes.grid' : True})"
   ]
  },
  {
   "cell_type": "code",
   "execution_count": 40,
   "id": "1d3f3ce8",
   "metadata": {},
   "outputs": [
    {
     "data": {
      "image/png": "[encoded data removed]",
      "text/plain": [
       "<Figure size 640x480 with 1 Axes>"
      ]
     },
     "metadata": {},
     "output_type": "display_data"
    }
   ],
   "source": [
    "sns.histplot(df['BeginDate'], kde=True)\n",
    "plt.title('Регитрации')\n",
    "plt.xlabel('количество регистраций')\n",
    "plt.ylabel('дата');"
   ]
  },
  {
   "cell_type": "markdown",
   "id": "0552785d",
   "metadata": {},
   "source": [
    "#### Пики прироста клиентов 2019-2020 года, а так же 2014, год образования компании."
   ]
  },
  {
   "cell_type": "code",
   "execution_count": 41,
   "id": "010677de",
   "metadata": {},
   "outputs": [
    {
     "data": {
      "image/png": "[encoded data removed]",
      "text/plain": [
       "<Figure size 640x480 with 1 Axes>"
      ]
     },
     "metadata": {},
     "output_type": "display_data"
    }
   ],
   "source": [
    "sns.histplot(df.query('EndDate != \"2020-02-01\"')['EndDate'], kde=True)\n",
    "plt.title('Отток клиентов')\n",
    "plt.xlabel('дата')\n",
    "plt.ylabel('Количество клиентов');"
   ]
  },
  {
   "cell_type": "markdown",
   "id": "ab18ec48",
   "metadata": {},
   "source": [
    "#### Нельзя не отметить резкий всплеск разрыва договоров в 2020"
   ]
  },
  {
   "cell_type": "code",
   "execution_count": 42,
   "id": "f7c6a995",
   "metadata": {},
   "outputs": [
    {
     "data": {
      "image/png": "[encoded data removed]",
      "text/plain": [
       "<Figure size 1000x500 with 2 Axes>"
      ]
     },
     "metadata": {},
     "output_type": "display_data"
    }
   ],
   "source": [
    "# Построим гистограмму для оценки распределения данных по месячным тратам и дням использования:\n",
    "plt.figure(figsize=(10, 5))\n",
    "numeric_names = [\"MonthlyCharges\", \"DaysOfUsage\"]\n",
    "count = 0\n",
    "num_len = len(numeric_names)\n",
    "for feature in numeric_names:\n",
    "    count += 1\n",
    "    plt.subplot(1, num_len, count)\n",
    "    plt.hist(df[feature])\n",
    "    plt.title(feature)\n",
    "    plt.xlabel('Кол-во')\n",
    "    plt.ylabel('Количество клиентов');"
   ]
  },
  {
   "cell_type": "markdown",
   "id": "b21b4877",
   "metadata": {},
   "source": [
    "<div class=\"alert alert-block alert-danger\">\n",
    "<h2> Комментарий тимлида (код) <a class=\"tocSkip\"></h2>\n",
    "\n",
    "    \n",
    "<b>На доработку❌:</b>\n",
    "Нужно подписать оси Х и Y, также нужно исследовать распределение категориальных признаков."
   ]
  },
  {
   "cell_type": "markdown",
   "id": "f52300d7",
   "metadata": {},
   "source": [
    "<div class=\"alert alert-info\">\n",
    "<h2> Комментарий студента <a class=\"tocSkip\"> </h2>\n",
    "\n",
    "*Добавил!*\n",
    "</div>"
   ]
  },
  {
   "cell_type": "markdown",
   "id": "c8784e9b",
   "metadata": {},
   "source": [
    "<div class=\"alert alert-success\">\n",
    "<h2> Комментарий тимлида (код) v.2 <a class=\"tocSkip\"> </h2>\n",
    "\n",
    "<b>Все отлично!👍:</b> Учтено."
   ]
  },
  {
   "cell_type": "markdown",
   "id": "910807b3",
   "metadata": {},
   "source": [
    "Много значений ноль, видимо данные о клиентах еще не внесены в базу. "
   ]
  },
  {
   "cell_type": "markdown",
   "id": "4256edbe",
   "metadata": {},
   "source": [
    "### Построим  Матрицу корреляции Phik"
   ]
  },
  {
   "cell_type": "code",
   "execution_count": 43,
   "id": "ce2e1f8b",
   "metadata": {},
   "outputs": [],
   "source": [
    "#Удаляем ненужные нам признаки с датой\n",
    "df_tel = df.drop(['BeginDate', 'EndDate'], axis=1)"
   ]
  },
  {
   "cell_type": "markdown",
   "id": "fb79b1d9",
   "metadata": {},
   "source": [
    "<div class=\"alert alert-success\">\n",
    "<h2> Комментарий тимлида (код) <a class=\"tocSkip\"> </h2>\n",
    "\n",
    "<b>Все отлично!👍:</b> Даты удалили - отлично, далее не будут нужны."
   ]
  },
  {
   "cell_type": "code",
   "execution_count": 44,
   "id": "35ddfd06",
   "metadata": {},
   "outputs": [
    {
     "data": {
      "text/html": [
       "<div>\n",
       "<style scoped>\n",
       "    .dataframe tbody tr th:only-of-type {\n",
       "        vertical-align: middle;\n",
       "    }\n",
       "\n",
       "    .dataframe tbody tr th {\n",
       "        vertical-align: top;\n",
       "    }\n",
       "\n",
       "    .dataframe thead th {\n",
       "        text-align: right;\n",
       "    }\n",
       "</style>\n",
       "<table border=\"1\" class=\"dataframe\">\n",
       "  <thead>\n",
       "    <tr style=\"text-align: right;\">\n",
       "      <th></th>\n",
       "      <th>Type</th>\n",
       "      <th>PaperlessBilling</th>\n",
       "      <th>PaymentMethod</th>\n",
       "      <th>MonthlyCharges</th>\n",
       "      <th>TotalCharges</th>\n",
       "      <th>gender</th>\n",
       "      <th>SeniorCitizen</th>\n",
       "      <th>Partner</th>\n",
       "      <th>Dependents</th>\n",
       "      <th>InternetService</th>\n",
       "      <th>OnlineSecurity</th>\n",
       "      <th>OnlineBackup</th>\n",
       "      <th>DeviceProtection</th>\n",
       "      <th>TechSupport</th>\n",
       "      <th>StreamingTV</th>\n",
       "      <th>StreamingMovies</th>\n",
       "      <th>MultipleLines</th>\n",
       "      <th>target</th>\n",
       "      <th>DaysOfUsage</th>\n",
       "    </tr>\n",
       "  </thead>\n",
       "  <tbody>\n",
       "    <tr>\n",
       "      <th>Type</th>\n",
       "      <td>1.00</td>\n",
       "      <td>0.11</td>\n",
       "      <td>0.28</td>\n",
       "      <td>0.39</td>\n",
       "      <td>0.47</td>\n",
       "      <td>0.00</td>\n",
       "      <td>0.09</td>\n",
       "      <td>0.18</td>\n",
       "      <td>0.15</td>\n",
       "      <td>0.51</td>\n",
       "      <td>0.15</td>\n",
       "      <td>0.10</td>\n",
       "      <td>0.14</td>\n",
       "      <td>0.18</td>\n",
       "      <td>0.07</td>\n",
       "      <td>0.07</td>\n",
       "      <td>0.07</td>\n",
       "      <td>0.09</td>\n",
       "      <td>0.76</td>\n",
       "    </tr>\n",
       "    <tr>\n",
       "      <th>PaperlessBilling</th>\n",
       "      <td>0.11</td>\n",
       "      <td>1.00</td>\n",
       "      <td>0.37</td>\n",
       "      <td>0.47</td>\n",
       "      <td>0.20</td>\n",
       "      <td>0.00</td>\n",
       "      <td>0.24</td>\n",
       "      <td>0.01</td>\n",
       "      <td>0.17</td>\n",
       "      <td>0.23</td>\n",
       "      <td>0.00</td>\n",
       "      <td>0.20</td>\n",
       "      <td>0.16</td>\n",
       "      <td>0.06</td>\n",
       "      <td>0.34</td>\n",
       "      <td>0.33</td>\n",
       "      <td>0.25</td>\n",
       "      <td>0.08</td>\n",
       "      <td>0.08</td>\n",
       "    </tr>\n",
       "    <tr>\n",
       "      <th>PaymentMethod</th>\n",
       "      <td>0.28</td>\n",
       "      <td>0.37</td>\n",
       "      <td>1.00</td>\n",
       "      <td>0.40</td>\n",
       "      <td>0.34</td>\n",
       "      <td>0.00</td>\n",
       "      <td>0.29</td>\n",
       "      <td>0.24</td>\n",
       "      <td>0.22</td>\n",
       "      <td>0.32</td>\n",
       "      <td>0.26</td>\n",
       "      <td>0.28</td>\n",
       "      <td>0.31</td>\n",
       "      <td>0.27</td>\n",
       "      <td>0.38</td>\n",
       "      <td>0.38</td>\n",
       "      <td>0.34</td>\n",
       "      <td>0.21</td>\n",
       "      <td>0.47</td>\n",
       "    </tr>\n",
       "    <tr>\n",
       "      <th>MonthlyCharges</th>\n",
       "      <td>0.39</td>\n",
       "      <td>0.47</td>\n",
       "      <td>0.40</td>\n",
       "      <td>1.00</td>\n",
       "      <td>0.71</td>\n",
       "      <td>0.00</td>\n",
       "      <td>0.31</td>\n",
       "      <td>0.20</td>\n",
       "      <td>0.18</td>\n",
       "      <td>0.92</td>\n",
       "      <td>0.55</td>\n",
       "      <td>0.63</td>\n",
       "      <td>0.67</td>\n",
       "      <td>0.58</td>\n",
       "      <td>0.83</td>\n",
       "      <td>0.83</td>\n",
       "      <td>0.67</td>\n",
       "      <td>0.23</td>\n",
       "      <td>0.43</td>\n",
       "    </tr>\n",
       "    <tr>\n",
       "      <th>TotalCharges</th>\n",
       "      <td>0.47</td>\n",
       "      <td>0.20</td>\n",
       "      <td>0.34</td>\n",
       "      <td>0.71</td>\n",
       "      <td>1.00</td>\n",
       "      <td>0.00</td>\n",
       "      <td>0.14</td>\n",
       "      <td>0.38</td>\n",
       "      <td>0.08</td>\n",
       "      <td>0.49</td>\n",
       "      <td>0.52</td>\n",
       "      <td>0.62</td>\n",
       "      <td>0.64</td>\n",
       "      <td>0.55</td>\n",
       "      <td>0.64</td>\n",
       "      <td>0.64</td>\n",
       "      <td>0.57</td>\n",
       "      <td>0.30</td>\n",
       "      <td>0.84</td>\n",
       "    </tr>\n",
       "    <tr>\n",
       "      <th>gender</th>\n",
       "      <td>0.00</td>\n",
       "      <td>0.00</td>\n",
       "      <td>0.00</td>\n",
       "      <td>0.00</td>\n",
       "      <td>0.00</td>\n",
       "      <td>1.00</td>\n",
       "      <td>0.00</td>\n",
       "      <td>0.00</td>\n",
       "      <td>0.00</td>\n",
       "      <td>0.00</td>\n",
       "      <td>0.02</td>\n",
       "      <td>0.01</td>\n",
       "      <td>0.00</td>\n",
       "      <td>0.00</td>\n",
       "      <td>0.00</td>\n",
       "      <td>0.00</td>\n",
       "      <td>0.00</td>\n",
       "      <td>0.01</td>\n",
       "      <td>0.00</td>\n",
       "    </tr>\n",
       "    <tr>\n",
       "      <th>SeniorCitizen</th>\n",
       "      <td>0.09</td>\n",
       "      <td>0.24</td>\n",
       "      <td>0.29</td>\n",
       "      <td>0.31</td>\n",
       "      <td>0.14</td>\n",
       "      <td>0.00</td>\n",
       "      <td>1.00</td>\n",
       "      <td>0.02</td>\n",
       "      <td>0.32</td>\n",
       "      <td>0.16</td>\n",
       "      <td>0.06</td>\n",
       "      <td>0.10</td>\n",
       "      <td>0.09</td>\n",
       "      <td>0.09</td>\n",
       "      <td>0.16</td>\n",
       "      <td>0.19</td>\n",
       "      <td>0.22</td>\n",
       "      <td>0.09</td>\n",
       "      <td>0.14</td>\n",
       "    </tr>\n",
       "    <tr>\n",
       "      <th>Partner</th>\n",
       "      <td>0.18</td>\n",
       "      <td>0.01</td>\n",
       "      <td>0.24</td>\n",
       "      <td>0.20</td>\n",
       "      <td>0.38</td>\n",
       "      <td>0.00</td>\n",
       "      <td>0.02</td>\n",
       "      <td>1.00</td>\n",
       "      <td>0.65</td>\n",
       "      <td>0.00</td>\n",
       "      <td>0.22</td>\n",
       "      <td>0.22</td>\n",
       "      <td>0.24</td>\n",
       "      <td>0.19</td>\n",
       "      <td>0.19</td>\n",
       "      <td>0.18</td>\n",
       "      <td>0.22</td>\n",
       "      <td>0.23</td>\n",
       "      <td>0.46</td>\n",
       "    </tr>\n",
       "    <tr>\n",
       "      <th>Dependents</th>\n",
       "      <td>0.15</td>\n",
       "      <td>0.17</td>\n",
       "      <td>0.22</td>\n",
       "      <td>0.18</td>\n",
       "      <td>0.08</td>\n",
       "      <td>0.00</td>\n",
       "      <td>0.32</td>\n",
       "      <td>0.65</td>\n",
       "      <td>1.00</td>\n",
       "      <td>0.11</td>\n",
       "      <td>0.12</td>\n",
       "      <td>0.03</td>\n",
       "      <td>0.01</td>\n",
       "      <td>0.10</td>\n",
       "      <td>0.02</td>\n",
       "      <td>0.06</td>\n",
       "      <td>0.03</td>\n",
       "      <td>0.05</td>\n",
       "      <td>0.22</td>\n",
       "    </tr>\n",
       "    <tr>\n",
       "      <th>InternetService</th>\n",
       "      <td>0.51</td>\n",
       "      <td>0.23</td>\n",
       "      <td>0.32</td>\n",
       "      <td>0.92</td>\n",
       "      <td>0.49</td>\n",
       "      <td>0.00</td>\n",
       "      <td>0.16</td>\n",
       "      <td>0.00</td>\n",
       "      <td>0.11</td>\n",
       "      <td>1.00</td>\n",
       "      <td>0.24</td>\n",
       "      <td>0.23</td>\n",
       "      <td>0.23</td>\n",
       "      <td>0.24</td>\n",
       "      <td>0.27</td>\n",
       "      <td>0.27</td>\n",
       "      <td>0.23</td>\n",
       "      <td>0.06</td>\n",
       "      <td>0.21</td>\n",
       "    </tr>\n",
       "    <tr>\n",
       "      <th>OnlineSecurity</th>\n",
       "      <td>0.15</td>\n",
       "      <td>0.00</td>\n",
       "      <td>0.26</td>\n",
       "      <td>0.55</td>\n",
       "      <td>0.52</td>\n",
       "      <td>0.02</td>\n",
       "      <td>0.06</td>\n",
       "      <td>0.22</td>\n",
       "      <td>0.12</td>\n",
       "      <td>0.24</td>\n",
       "      <td>1.00</td>\n",
       "      <td>0.43</td>\n",
       "      <td>0.42</td>\n",
       "      <td>0.53</td>\n",
       "      <td>0.27</td>\n",
       "      <td>0.29</td>\n",
       "      <td>0.15</td>\n",
       "      <td>0.13</td>\n",
       "      <td>0.41</td>\n",
       "    </tr>\n",
       "    <tr>\n",
       "      <th>OnlineBackup</th>\n",
       "      <td>0.10</td>\n",
       "      <td>0.20</td>\n",
       "      <td>0.28</td>\n",
       "      <td>0.63</td>\n",
       "      <td>0.62</td>\n",
       "      <td>0.01</td>\n",
       "      <td>0.10</td>\n",
       "      <td>0.22</td>\n",
       "      <td>0.03</td>\n",
       "      <td>0.23</td>\n",
       "      <td>0.43</td>\n",
       "      <td>1.00</td>\n",
       "      <td>0.46</td>\n",
       "      <td>0.45</td>\n",
       "      <td>0.43</td>\n",
       "      <td>0.42</td>\n",
       "      <td>0.31</td>\n",
       "      <td>0.23</td>\n",
       "      <td>0.44</td>\n",
       "    </tr>\n",
       "    <tr>\n",
       "      <th>DeviceProtection</th>\n",
       "      <td>0.14</td>\n",
       "      <td>0.16</td>\n",
       "      <td>0.31</td>\n",
       "      <td>0.67</td>\n",
       "      <td>0.64</td>\n",
       "      <td>0.00</td>\n",
       "      <td>0.09</td>\n",
       "      <td>0.24</td>\n",
       "      <td>0.01</td>\n",
       "      <td>0.23</td>\n",
       "      <td>0.42</td>\n",
       "      <td>0.46</td>\n",
       "      <td>1.00</td>\n",
       "      <td>0.50</td>\n",
       "      <td>0.58</td>\n",
       "      <td>0.59</td>\n",
       "      <td>0.31</td>\n",
       "      <td>0.22</td>\n",
       "      <td>0.46</td>\n",
       "    </tr>\n",
       "    <tr>\n",
       "      <th>TechSupport</th>\n",
       "      <td>0.18</td>\n",
       "      <td>0.06</td>\n",
       "      <td>0.27</td>\n",
       "      <td>0.58</td>\n",
       "      <td>0.55</td>\n",
       "      <td>0.00</td>\n",
       "      <td>0.09</td>\n",
       "      <td>0.19</td>\n",
       "      <td>0.10</td>\n",
       "      <td>0.24</td>\n",
       "      <td>0.53</td>\n",
       "      <td>0.45</td>\n",
       "      <td>0.50</td>\n",
       "      <td>1.00</td>\n",
       "      <td>0.42</td>\n",
       "      <td>0.42</td>\n",
       "      <td>0.16</td>\n",
       "      <td>0.10</td>\n",
       "      <td>0.40</td>\n",
       "    </tr>\n",
       "    <tr>\n",
       "      <th>StreamingTV</th>\n",
       "      <td>0.07</td>\n",
       "      <td>0.34</td>\n",
       "      <td>0.38</td>\n",
       "      <td>0.83</td>\n",
       "      <td>0.64</td>\n",
       "      <td>0.00</td>\n",
       "      <td>0.16</td>\n",
       "      <td>0.19</td>\n",
       "      <td>0.02</td>\n",
       "      <td>0.27</td>\n",
       "      <td>0.27</td>\n",
       "      <td>0.43</td>\n",
       "      <td>0.58</td>\n",
       "      <td>0.42</td>\n",
       "      <td>1.00</td>\n",
       "      <td>0.74</td>\n",
       "      <td>0.39</td>\n",
       "      <td>0.20</td>\n",
       "      <td>0.37</td>\n",
       "    </tr>\n",
       "    <tr>\n",
       "      <th>StreamingMovies</th>\n",
       "      <td>0.07</td>\n",
       "      <td>0.33</td>\n",
       "      <td>0.38</td>\n",
       "      <td>0.83</td>\n",
       "      <td>0.64</td>\n",
       "      <td>0.00</td>\n",
       "      <td>0.19</td>\n",
       "      <td>0.18</td>\n",
       "      <td>0.06</td>\n",
       "      <td>0.27</td>\n",
       "      <td>0.29</td>\n",
       "      <td>0.42</td>\n",
       "      <td>0.59</td>\n",
       "      <td>0.42</td>\n",
       "      <td>0.74</td>\n",
       "      <td>1.00</td>\n",
       "      <td>0.39</td>\n",
       "      <td>0.22</td>\n",
       "      <td>0.39</td>\n",
       "    </tr>\n",
       "    <tr>\n",
       "      <th>MultipleLines</th>\n",
       "      <td>0.07</td>\n",
       "      <td>0.25</td>\n",
       "      <td>0.34</td>\n",
       "      <td>0.67</td>\n",
       "      <td>0.57</td>\n",
       "      <td>0.00</td>\n",
       "      <td>0.22</td>\n",
       "      <td>0.22</td>\n",
       "      <td>0.03</td>\n",
       "      <td>0.23</td>\n",
       "      <td>0.15</td>\n",
       "      <td>0.31</td>\n",
       "      <td>0.31</td>\n",
       "      <td>0.16</td>\n",
       "      <td>0.39</td>\n",
       "      <td>0.39</td>\n",
       "      <td>1.00</td>\n",
       "      <td>0.26</td>\n",
       "      <td>0.44</td>\n",
       "    </tr>\n",
       "    <tr>\n",
       "      <th>target</th>\n",
       "      <td>0.09</td>\n",
       "      <td>0.08</td>\n",
       "      <td>0.21</td>\n",
       "      <td>0.23</td>\n",
       "      <td>0.30</td>\n",
       "      <td>0.01</td>\n",
       "      <td>0.09</td>\n",
       "      <td>0.23</td>\n",
       "      <td>0.05</td>\n",
       "      <td>0.06</td>\n",
       "      <td>0.13</td>\n",
       "      <td>0.23</td>\n",
       "      <td>0.22</td>\n",
       "      <td>0.10</td>\n",
       "      <td>0.20</td>\n",
       "      <td>0.22</td>\n",
       "      <td>0.26</td>\n",
       "      <td>1.00</td>\n",
       "      <td>0.93</td>\n",
       "    </tr>\n",
       "    <tr>\n",
       "      <th>DaysOfUsage</th>\n",
       "      <td>0.76</td>\n",
       "      <td>0.08</td>\n",
       "      <td>0.47</td>\n",
       "      <td>0.43</td>\n",
       "      <td>0.84</td>\n",
       "      <td>0.00</td>\n",
       "      <td>0.14</td>\n",
       "      <td>0.46</td>\n",
       "      <td>0.22</td>\n",
       "      <td>0.21</td>\n",
       "      <td>0.41</td>\n",
       "      <td>0.44</td>\n",
       "      <td>0.46</td>\n",
       "      <td>0.40</td>\n",
       "      <td>0.37</td>\n",
       "      <td>0.39</td>\n",
       "      <td>0.44</td>\n",
       "      <td>0.93</td>\n",
       "      <td>1.00</td>\n",
       "    </tr>\n",
       "  </tbody>\n",
       "</table>\n",
       "</div>"
      ],
      "text/plain": [
       "                  Type  PaperlessBilling  PaymentMethod  MonthlyCharges  \\\n",
       "Type              1.00              0.11           0.28            0.39   \n",
       "PaperlessBilling  0.11              1.00           0.37            0.47   \n",
       "PaymentMethod     0.28              0.37           1.00            0.40   \n",
       "MonthlyCharges    0.39              0.47           0.40            1.00   \n",
       "TotalCharges      0.47              0.20           0.34            0.71   \n",
       "gender            0.00              0.00           0.00            0.00   \n",
       "SeniorCitizen     0.09              0.24           0.29            0.31   \n",
       "Partner           0.18              0.01           0.24            0.20   \n",
       "Dependents        0.15              0.17           0.22            0.18   \n",
       "InternetService   0.51              0.23           0.32            0.92   \n",
       "OnlineSecurity    0.15              0.00           0.26            0.55   \n",
       "OnlineBackup      0.10              0.20           0.28            0.63   \n",
       "DeviceProtection  0.14              0.16           0.31            0.67   \n",
       "TechSupport       0.18              0.06           0.27            0.58   \n",
       "StreamingTV       0.07              0.34           0.38            0.83   \n",
       "StreamingMovies   0.07              0.33           0.38            0.83   \n",
       "MultipleLines     0.07              0.25           0.34            0.67   \n",
       "target            0.09              0.08           0.21            0.23   \n",
       "DaysOfUsage       0.76              0.08           0.47            0.43   \n",
       "\n",
       "                  TotalCharges  gender  SeniorCitizen  Partner  Dependents  \\\n",
       "Type                      0.47    0.00           0.09     0.18        0.15   \n",
       "PaperlessBilling          0.20    0.00           0.24     0.01        0.17   \n",
       "PaymentMethod             0.34    0.00           0.29     0.24        0.22   \n",
       "MonthlyCharges            0.71    0.00           0.31     0.20        0.18   \n",
       "TotalCharges              1.00    0.00           0.14     0.38        0.08   \n",
       "gender                    0.00    1.00           0.00     0.00        0.00   \n",
       "SeniorCitizen             0.14    0.00           1.00     0.02        0.32   \n",
       "Partner                   0.38    0.00           0.02     1.00        0.65   \n",
       "Dependents                0.08    0.00           0.32     0.65        1.00   \n",
       "InternetService           0.49    0.00           0.16     0.00        0.11   \n",
       "OnlineSecurity            0.52    0.02           0.06     0.22        0.12   \n",
       "OnlineBackup              0.62    0.01           0.10     0.22        0.03   \n",
       "DeviceProtection          0.64    0.00           0.09     0.24        0.01   \n",
       "TechSupport               0.55    0.00           0.09     0.19        0.10   \n",
       "StreamingTV               0.64    0.00           0.16     0.19        0.02   \n",
       "StreamingMovies           0.64    0.00           0.19     0.18        0.06   \n",
       "MultipleLines             0.57    0.00           0.22     0.22        0.03   \n",
       "target                    0.30    0.01           0.09     0.23        0.05   \n",
       "DaysOfUsage               0.84    0.00           0.14     0.46        0.22   \n",
       "\n",
       "                  InternetService  OnlineSecurity  OnlineBackup  \\\n",
       "Type                         0.51            0.15          0.10   \n",
       "PaperlessBilling             0.23            0.00          0.20   \n",
       "PaymentMethod                0.32            0.26          0.28   \n",
       "MonthlyCharges               0.92            0.55          0.63   \n",
       "TotalCharges                 0.49            0.52          0.62   \n",
       "gender                       0.00            0.02          0.01   \n",
       "SeniorCitizen                0.16            0.06          0.10   \n",
       "Partner                      0.00            0.22          0.22   \n",
       "Dependents                   0.11            0.12          0.03   \n",
       "InternetService              1.00            0.24          0.23   \n",
       "OnlineSecurity               0.24            1.00          0.43   \n",
       "OnlineBackup                 0.23            0.43          1.00   \n",
       "DeviceProtection             0.23            0.42          0.46   \n",
       "TechSupport                  0.24            0.53          0.45   \n",
       "StreamingTV                  0.27            0.27          0.43   \n",
       "StreamingMovies              0.27            0.29          0.42   \n",
       "MultipleLines                0.23            0.15          0.31   \n",
       "target                       0.06            0.13          0.23   \n",
       "DaysOfUsage                  0.21            0.41          0.44   \n",
       "\n",
       "                  DeviceProtection  TechSupport  StreamingTV  StreamingMovies  \\\n",
       "Type                          0.14         0.18         0.07             0.07   \n",
       "PaperlessBilling              0.16         0.06         0.34             0.33   \n",
       "PaymentMethod                 0.31         0.27         0.38             0.38   \n",
       "MonthlyCharges                0.67         0.58         0.83             0.83   \n",
       "TotalCharges                  0.64         0.55         0.64             0.64   \n",
       "gender                        0.00         0.00         0.00             0.00   \n",
       "SeniorCitizen                 0.09         0.09         0.16             0.19   \n",
       "Partner                       0.24         0.19         0.19             0.18   \n",
       "Dependents                    0.01         0.10         0.02             0.06   \n",
       "InternetService               0.23         0.24         0.27             0.27   \n",
       "OnlineSecurity                0.42         0.53         0.27             0.29   \n",
       "OnlineBackup                  0.46         0.45         0.43             0.42   \n",
       "DeviceProtection              1.00         0.50         0.58             0.59   \n",
       "TechSupport                   0.50         1.00         0.42             0.42   \n",
       "StreamingTV                   0.58         0.42         1.00             0.74   \n",
       "StreamingMovies               0.59         0.42         0.74             1.00   \n",
       "MultipleLines                 0.31         0.16         0.39             0.39   \n",
       "target                        0.22         0.10         0.20             0.22   \n",
       "DaysOfUsage                   0.46         0.40         0.37             0.39   \n",
       "\n",
       "                  MultipleLines  target  DaysOfUsage  \n",
       "Type                       0.07    0.09         0.76  \n",
       "PaperlessBilling           0.25    0.08         0.08  \n",
       "PaymentMethod              0.34    0.21         0.47  \n",
       "MonthlyCharges             0.67    0.23         0.43  \n",
       "TotalCharges               0.57    0.30         0.84  \n",
       "gender                     0.00    0.01         0.00  \n",
       "SeniorCitizen              0.22    0.09         0.14  \n",
       "Partner                    0.22    0.23         0.46  \n",
       "Dependents                 0.03    0.05         0.22  \n",
       "InternetService            0.23    0.06         0.21  \n",
       "OnlineSecurity             0.15    0.13         0.41  \n",
       "OnlineBackup               0.31    0.23         0.44  \n",
       "DeviceProtection           0.31    0.22         0.46  \n",
       "TechSupport                0.16    0.10         0.40  \n",
       "StreamingTV                0.39    0.20         0.37  \n",
       "StreamingMovies            0.39    0.22         0.39  \n",
       "MultipleLines              1.00    0.26         0.44  \n",
       "target                     0.26    1.00         0.93  \n",
       "DaysOfUsage                0.44    0.93         1.00  "
      ]
     },
     "execution_count": 44,
     "metadata": {},
     "output_type": "execute_result"
    }
   ],
   "source": [
    "interval_cols = [\"MonthlyCharges\", \"TotalCharges\"]\n",
    "phikmatrix = df_tel.phik_matrix(interval_cols=interval_cols)\n",
    "phikmatrix.round(2)"
   ]
  },
  {
   "cell_type": "markdown",
   "id": "ccadf018",
   "metadata": {},
   "source": [
    "<div class=\"alert alert-success\">\n",
    "<h2> Комментарий тимлида (код) <a class=\"tocSkip\"> </h2>\n",
    "\n",
    "<b>Все отлично!👍:</b>\n",
    "    \n",
    "Есть анализ корреляции - молодец, что используешь `phik` для анализа и нелинейных зависимостей."
   ]
  },
  {
   "cell_type": "markdown",
   "id": "b7d7f1dd",
   "metadata": {},
   "source": [
    "<div class=\"alert alert-block alert-danger\">\n",
    "<h2> Комментарий тимлида (код) <a class=\"tocSkip\"></h2>\n",
    "\n",
    "    \n",
    "<b>На доработку❌:</b>\n",
    "Посмотри, пожалуйста, запись вебинана и настрой `interval_cols` для корректной работы."
   ]
  },
  {
   "cell_type": "markdown",
   "id": "f5925a83",
   "metadata": {},
   "source": [
    "<div class=\"alert alert-info\">\n",
    "<h2> Комментарий студента <a class=\"tocSkip\"> </h2>\n",
    "\n",
    "*Настроил interval_cols!*\n",
    "</div>"
   ]
  },
  {
   "cell_type": "markdown",
   "id": "06815788",
   "metadata": {},
   "source": [
    "<div class=\"alert alert-block alert-danger\">\n",
    "<h2> Комментарий тимлида (код) v.2 <a class=\"tocSkip\"></h2>\n",
    "\n",
    "    \n",
    "<b>На доработку❌:</b>\n",
    "`TotalCharges` тоже является непрерывным признаком и тоже должен быть передан в `interval_cols`. Даты должны быть удалены до построения матрицы корреляций."
   ]
  },
  {
   "cell_type": "markdown",
   "id": "73f8b6f6",
   "metadata": {},
   "source": [
    "<div class=\"alert alert-info\">\n",
    "<h2> Комментарий студента <a class=\"tocSkip\"> </h2>\n",
    "\n",
    "*TotalCharges на месте, даты удалил!*\n",
    "</div>"
   ]
  },
  {
   "cell_type": "markdown",
   "id": "36b5f9f8",
   "metadata": {},
   "source": [
    "<div class=\"alert alert-success\">\n",
    "<h2> Комментарий тимлида (код) v.3 <a class=\"tocSkip\"> </h2>\n",
    "\n",
    "<b>Все отлично!👍:</b> Учтено."
   ]
  },
  {
   "cell_type": "code",
   "execution_count": 45,
   "id": "9d2e5377",
   "metadata": {},
   "outputs": [
    {
     "data": {
      "image/png": "[encoded data removed]",
      "text/plain": [
       "<Figure size 2000x1000 with 2 Axes>"
      ]
     },
     "metadata": {},
     "output_type": "display_data"
    }
   ],
   "source": [
    "plot_correlation_matrix(phikmatrix.values,\n",
    "                        x_labels=phikmatrix.columns,\n",
    "                        y_labels=phikmatrix.index,\n",
    "                        vmin=0,\n",
    "                        vmax=1,\n",
    "                        color_map=\"Blues\",\n",
    "                        figsize=(20, 10))\n",
    "plt.tight_layout()"
   ]
  },
  {
   "cell_type": "markdown",
   "id": "1f449871",
   "metadata": {},
   "source": [
    "<div class=\"alert alert-success\">\n",
    "<h2> Комментарий тимлида (код) <a class=\"tocSkip\"> </h2>\n",
    "\n",
    "<b>Все отлично!👍:</b> При использовании `heatmap()` могу порекомендовать сочетание признаков `cmap='coolwarm', center=0, annot=True` - на мой взгляд, очень удачное сочетание цветов палитры, которая позволяет эффективно искать мультиколлинеарность."
   ]
  },
  {
   "cell_type": "markdown",
   "id": "4db3a8bc",
   "metadata": {},
   "source": [
    "### Вывод:\n",
    "monthly_charges и total_charges сильно коррелируют друг с другом, возникает мультиколлениарность признаков - обученная модель показывающая высокий результат на одной выборке не сможет добиться высоких показатей на другой так как зависимость между мультиколлениарными признаками будет уже другой."
   ]
  },
  {
   "cell_type": "code",
   "execution_count": 46,
   "id": "f6d66d50",
   "metadata": {},
   "outputs": [
    {
     "data": {
      "text/plain": [
       "target              1.000000\n",
       "DaysOfUsage         0.928032\n",
       "TotalCharges        0.303275\n",
       "MultipleLines       0.261237\n",
       "OnlineBackup        0.229482\n",
       "MonthlyCharges      0.228827\n",
       "Partner             0.226688\n",
       "StreamingMovies     0.222232\n",
       "DeviceProtection    0.218380\n",
       "PaymentMethod       0.214832\n",
       "StreamingTV         0.200198\n",
       "OnlineSecurity      0.132594\n",
       "TechSupport         0.103652\n",
       "Type                0.094015\n",
       "SeniorCitizen       0.086159\n",
       "PaperlessBilling    0.083398\n",
       "InternetService     0.056621\n",
       "Dependents          0.046871\n",
       "gender              0.008581\n",
       "Name: target, dtype: float64"
      ]
     },
     "execution_count": 46,
     "metadata": {},
     "output_type": "execute_result"
    }
   ],
   "source": [
    "phikmatrix['target'].sort_values(ascending=False)"
   ]
  },
  {
   "cell_type": "markdown",
   "id": "1ba925b1",
   "metadata": {},
   "source": [
    "Стоит рассматривать только те признаки, которые имеют корелляцию > 0.05"
   ]
  },
  {
   "cell_type": "code",
   "execution_count": 47,
   "id": "a5782f92",
   "metadata": {},
   "outputs": [],
   "source": [
    "# Сделаем датасет для обучения модели\n",
    "df_tel = df[['DaysOfUsage','OnlineBackup','MonthlyCharges','Partner','DeviceProtection','PaymentMethod','StreamingTV',\n",
    "             'OnlineSecurity','TechSupport','Type','SeniorCitizen','PaperlessBilling',  'target']]"
   ]
  },
  {
   "cell_type": "code",
   "execution_count": 48,
   "id": "766241e3",
   "metadata": {},
   "outputs": [
    {
     "name": "stdout",
     "output_type": "stream",
     "text": [
      "<class 'pandas.core.frame.DataFrame'>\n",
      "Index: 7043 entries, 7590-VHVEG to 3186-AJIEK\n",
      "Data columns (total 13 columns):\n",
      " #   Column            Non-Null Count  Dtype \n",
      "---  ------            --------------  ----- \n",
      " 0   DaysOfUsage       7043 non-null   int64 \n",
      " 1   OnlineBackup      7043 non-null   object\n",
      " 2   MonthlyCharges    7043 non-null   int64 \n",
      " 3   Partner           7043 non-null   object\n",
      " 4   DeviceProtection  7043 non-null   object\n",
      " 5   PaymentMethod     7043 non-null   object\n",
      " 6   StreamingTV       7043 non-null   object\n",
      " 7   OnlineSecurity    7043 non-null   object\n",
      " 8   TechSupport       7043 non-null   object\n",
      " 9   Type              7043 non-null   object\n",
      " 10  SeniorCitizen     7043 non-null   int64 \n",
      " 11  PaperlessBilling  7043 non-null   object\n",
      " 12  target            7043 non-null   int64 \n",
      "dtypes: int64(4), object(9)\n",
      "memory usage: 770.3+ KB\n"
     ]
    }
   ],
   "source": [
    "df_tel.info()"
   ]
  },
  {
   "cell_type": "markdown",
   "id": "9a5f44f1",
   "metadata": {},
   "source": [
    "<div class=\"alert alert-success\">\n",
    "<h2> Комментарий тимлида (код) <a class=\"tocSkip\"> </h2>\n",
    "\n",
    "<b>Все отлично!👍:</b> Выполнили отбор признаков по степени корреляции с целевым - отлично!"
   ]
  },
  {
   "cell_type": "markdown",
   "id": "e5c45343",
   "metadata": {},
   "source": [
    "## ВЫВОД по предобработке и исследовательскому анализу данных"
   ]
  },
  {
   "cell_type": "markdown",
   "id": "f2763185",
   "metadata": {},
   "source": [
    "### Были выполнены преобразования:\n",
    "\n",
    "- BeginDate – поле приведено к типу datetime;\n",
    "- EndDate –  \"No\" = 2020-02-01 и приведено к формату datetime;\n",
    "- MonthlyCharges - приведено к целочисленному типу\n",
    "- Поля с пропусками были бинарно закодированны.\n",
    "- Датафреймы бвли обьеденены.\n",
    "### Так же\n",
    "- Было исследовано распределение даты регистрации клиентов : наблюдается пик в начале 2014 года, что связано с началом работы компании, а так же с  2019 по  2020 года.\n",
    "\n",
    "- Был сгенерирован признак - длительность использования услуг компании.\n",
    "\n",
    "- Была построена матрица корреляции Phik и выделены влияющие на корреляцию признаки.\n",
    "- Была выявлена мультиколлениарность между признаками TotalCharges и MonthlyCharges  удалим признак TotalCharges из данных.\n"
   ]
  },
  {
   "cell_type": "markdown",
   "id": "5e637549",
   "metadata": {},
   "source": [
    "# Подготовка данных и обучение модели"
   ]
  },
  {
   "cell_type": "code",
   "execution_count": 49,
   "id": "ec5c7549",
   "metadata": {},
   "outputs": [],
   "source": [
    "# заданный по условию RS\n",
    "RANDOM_STATE = 190623"
   ]
  },
  {
   "cell_type": "code",
   "execution_count": 50,
   "id": "f4a8edcb",
   "metadata": {},
   "outputs": [],
   "source": [
    "features_names = [\n",
    "       'DaysOfUsage','OnlineBackup','MonthlyCharges','Partner','DeviceProtection','PaymentMethod',\n",
    "    'StreamingTV','OnlineSecurity','TechSupport','Type','SeniorCitizen','PaperlessBilling'\n",
    "]\n",
    "\n",
    "numeric_names = ['MonthlyCharges', 'DaysOfUsage']\n",
    "\n",
    "df_features = df_tel[features_names]\n",
    "df_target = df_tel['target']\n",
    "\n",
    "# разделим на трейн и тест в соотношении 3/1:\n",
    "features_train, features_test, target_train, target_test = train_test_split(\n",
    "    df_features, df_target, test_size=0.25, random_state=RANDOM_STATE)"
   ]
  },
  {
   "cell_type": "markdown",
   "id": "e856916a",
   "metadata": {},
   "source": [
    "<div class=\"alert alert-success\">\n",
    "<h2> Комментарий тимлида (код) <a class=\"tocSkip\"> </h2>\n",
    "\n",
    "<b>Все отлично!👍:</b> Сплитование выполнено корректно: пропорции выборок соблюдены, константа соответствует значению группы. \n",
    "    \n",
    "Дополнительно можно попробовать страцифицировать выборки по целевому признаку - это позволит получить выборки с равынм соотноешнием классов, что может привести к увеличению качества твоего решения."
   ]
  },
  {
   "cell_type": "code",
   "execution_count": 51,
   "id": "3cb663d8",
   "metadata": {},
   "outputs": [],
   "source": [
    "# Создание экземпляра OrdinalEncoder\n",
    "ordinal_encoder = OrdinalEncoder()\n",
    "\n",
    "features_train[['OnlineBackup_enc','Partner_enc','DeviceProtection_enc','PaymentMethod_enc','StreamingTV_enc','OnlineSecurity_enc','TechSupport_enc','Type_enc','SeniorCitizen_enc','PaperlessBilling_enc']] = ordinal_encoder.fit_transform(features_train[['OnlineBackup','Partner','DeviceProtection','PaymentMethod',\n",
    "'StreamingTV','OnlineSecurity','TechSupport','Type','SeniorCitizen','PaperlessBilling']])\n",
    "features_test[['OnlineBackup_enc','Partner_enc','DeviceProtection_enc','PaymentMethod_enc','StreamingTV_enc','OnlineSecurity_enc','TechSupport_enc','Type_enc','SeniorCitizen_enc','PaperlessBilling_enc']] = ordinal_encoder.transform(features_test[['OnlineBackup','Partner','DeviceProtection','PaymentMethod',\n",
    "'StreamingTV','OnlineSecurity','TechSupport','Type','SeniorCitizen','PaperlessBilling']])\n",
    "\n",
    "# Удаление исходных столбцов 'PaymentMethod' и 'Type'\n",
    "features_train.drop(['OnlineBackup','Partner','DeviceProtection','PaymentMethod','StreamingTV','OnlineSecurity','TechSupport','Type','SeniorCitizen','PaperlessBilling'], axis=1, inplace=True)\n",
    "features_test.drop(['OnlineBackup','Partner','DeviceProtection','PaymentMethod','StreamingTV','OnlineSecurity','TechSupport','Type','SeniorCitizen','PaperlessBilling'], axis=1, inplace=True)\n",
    "\n",
    "# Преобразование столбцов в тип int\n",
    "features_train[['OnlineBackup_enc','Partner_enc','DeviceProtection_enc','PaymentMethod_enc','StreamingTV_enc','OnlineSecurity_enc','TechSupport_enc','Type_enc','SeniorCitizen_enc','PaperlessBilling_enc']] = features_train[['OnlineBackup_enc','Partner_enc','DeviceProtection_enc','PaymentMethod_enc','StreamingTV_enc','OnlineSecurity_enc','TechSupport_enc','Type_enc','SeniorCitizen_enc','PaperlessBilling_enc']].astype(int)\n",
    "features_test[['OnlineBackup_enc','Partner_enc','DeviceProtection_enc','PaymentMethod_enc','StreamingTV_enc','OnlineSecurity_enc','TechSupport_enc','Type_enc','SeniorCitizen_enc','PaperlessBilling_enc']] = features_test[['OnlineBackup_enc','Partner_enc','DeviceProtection_enc','PaymentMethod_enc','StreamingTV_enc','OnlineSecurity_enc','TechSupport_enc','Type_enc','SeniorCitizen_enc','PaperlessBilling_enc']].astype(int)"
   ]
  },
  {
   "cell_type": "markdown",
   "id": "f33302fb",
   "metadata": {},
   "source": [
    "<div class=\"alert alert-warning\">\n",
    "    <h2> Комментарий тилмдида (код) <a class=\"tocSkip\"> </h2>\n",
    "    \n",
    "<b>Некоторые замечания и рекомендации⚠️:</b> \n",
    "\n",
    "Использование `get_dummies` - не слишком хорошее решение, которое имеет некоторые недостатки:\n",
    "- `get_dummies` нельзя встроить в пайплайны обработки данных и работы с моделями;\n",
    "- метод не будет работать со значениями, которые которые будут появляться в новых данных и которых не было в данных при обучении моделей.\n",
    "        \n",
    "Эти недостатки решаются использованием `OneHotEncoder` (https://scikit-learn.org/stable/modules/generated/sklearn.preprocessing.OneHotEncoder.html). \n",
    "        \n",
    "В этом блоконоте есть наглядное сравнение этих инструментов - рекомендую ознакомиться: https://colab.research.google.com/drive/1_gAMXcQKoCShB_l8FNtYEejMnosm9mvt?usp=sharing."
   ]
  },
  {
   "cell_type": "markdown",
   "id": "06207695",
   "metadata": {},
   "source": [
    "<div class=\"alert alert-success\">\n",
    "<h2> Комментарий тимлида (код) v.2 <a class=\"tocSkip\"> </h2>\n",
    "\n",
    "<b>Все отлично!👍:</b> Учтено."
   ]
  },
  {
   "cell_type": "markdown",
   "id": "8db48fe2",
   "metadata": {},
   "source": [
    "<div class=\"alert alert-block alert-danger\">\n",
    "<h2> Комментарий тимлида (код) <a class=\"tocSkip\"></h2>\n",
    "\n",
    "    \n",
    "<b>На доработку❌:</b>\n",
    "\n",
    "Для древесных моделей и моделей на бустингах нельзя использовать `OneHotEncoder()` или его аналог `get_dummies()`: эта техника кодирования увеличивает количество признаков, в результате чего модели сложнее создавать разделяющие правила, поэтому время работы и расчётные характеристики моделей сильно страдают на больших наборах данных. Вместо этого нужно использовать `OrdinalEncoder()` - эта техника кодирует категориальные признаки так, что с ними удобнее работать в ходе создания разделяющих правил. \n",
    "    \n",
    "Для бустинговых алгоритмов альетрнатинва - использование внутренних кодировщиков, которые работают лучше сторонних. В случае `CatBoost` за это отвечает параметр `cat_features`. В случае `LGBM` можно привести эти категориальные признаки к типу `category`, тогда модель будет работать с категориальными признаками автоматически."
   ]
  },
  {
   "cell_type": "markdown",
   "id": "79f90014",
   "metadata": {},
   "source": [
    "<div class=\"alert alert-info\">\n",
    "<h2> Комментарий студента <a class=\"tocSkip\"> </h2>\n",
    "\n",
    "*Заменил get_dummies() на OrdinalEncoder!*\n",
    "</div>"
   ]
  },
  {
   "cell_type": "markdown",
   "id": "59ffb23c",
   "metadata": {},
   "source": [
    "<div class=\"alert alert-warning\">\n",
    "    <h2> Комментарий тимлида (код) v.2 <a class=\"tocSkip\"> </h2>\n",
    "    \n",
    "<b>Некоторые замечания и рекомендации⚠️:</b> `OrdinalEncoder` полезно настраивать на бесперебойную работу при появлении в новых данных ранее неизвестных значений признаков: по умолчанию в таких случаях `OrdinalEncoder` будет выбрасывать ошибку, однако для непрерывности процесса моделирования можно настроить параметры `handle_unknown='use_encoded_value'`, чтобы новые, ранее неизвестные значения кодировались константным значением, а в параметр `unknown_value` нужно передать само значение-константу. "
   ]
  },
  {
   "cell_type": "markdown",
   "id": "9dd52411",
   "metadata": {},
   "source": [
    "<div class=\"alert alert-block alert-danger\">\n",
    "<h2> Комментарий тимлида (код) v.2 <a class=\"tocSkip\"></h2>\n",
    "\n",
    "    \n",
    "<b>На доработку❌:</b>\n",
    "\n",
    "Кодировать нужно все признаки, в том числе те, которые ты кодируешь руками в начале проекта."
   ]
  },
  {
   "cell_type": "markdown",
   "id": "a6f696c8",
   "metadata": {},
   "source": [
    "<div class=\"alert alert-info\">\n",
    "<h2> Комментарий студента <a class=\"tocSkip\"> </h2>\n",
    "\n",
    "*Исправил!!*\n",
    "</div>"
   ]
  },
  {
   "cell_type": "markdown",
   "id": "dd6455ca",
   "metadata": {},
   "source": [
    "<div class=\"alert alert-success\">\n",
    "<h2> Комментарий тимлида (код) v.3 <a class=\"tocSkip\"> </h2>\n",
    "\n",
    "<b>Все отлично!👍:</b> Учтено."
   ]
  },
  {
   "cell_type": "code",
   "execution_count": 52,
   "id": "b7d0d4d5",
   "metadata": {},
   "outputs": [
    {
     "data": {
      "text/html": [
       "<div>\n",
       "<style scoped>\n",
       "    .dataframe tbody tr th:only-of-type {\n",
       "        vertical-align: middle;\n",
       "    }\n",
       "\n",
       "    .dataframe tbody tr th {\n",
       "        vertical-align: top;\n",
       "    }\n",
       "\n",
       "    .dataframe thead th {\n",
       "        text-align: right;\n",
       "    }\n",
       "</style>\n",
       "<table border=\"1\" class=\"dataframe\">\n",
       "  <thead>\n",
       "    <tr style=\"text-align: right;\">\n",
       "      <th></th>\n",
       "      <th>MonthlyCharges</th>\n",
       "      <th>DaysOfUsage</th>\n",
       "    </tr>\n",
       "    <tr>\n",
       "      <th>customerID</th>\n",
       "      <th></th>\n",
       "      <th></th>\n",
       "    </tr>\n",
       "  </thead>\n",
       "  <tbody>\n",
       "    <tr>\n",
       "      <th>8104-OSKWT</th>\n",
       "      <td>0.509173</td>\n",
       "      <td>-0.777351</td>\n",
       "    </tr>\n",
       "    <tr>\n",
       "      <th>5550-VFRLC</th>\n",
       "      <td>0.177396</td>\n",
       "      <td>-1.220730</td>\n",
       "    </tr>\n",
       "    <tr>\n",
       "      <th>0388-EOPEX</th>\n",
       "      <td>0.343285</td>\n",
       "      <td>-1.131469</td>\n",
       "    </tr>\n",
       "    <tr>\n",
       "      <th>9646-NMHXE</th>\n",
       "      <td>-1.481491</td>\n",
       "      <td>0.783986</td>\n",
       "    </tr>\n",
       "    <tr>\n",
       "      <th>5651-CPDND</th>\n",
       "      <td>-0.585692</td>\n",
       "      <td>-0.863686</td>\n",
       "    </tr>\n",
       "    <tr>\n",
       "      <th>2675-OTVVJ</th>\n",
       "      <td>0.840951</td>\n",
       "      <td>-0.462743</td>\n",
       "    </tr>\n",
       "    <tr>\n",
       "      <th>2521-NPUZR</th>\n",
       "      <td>1.239084</td>\n",
       "      <td>1.808294</td>\n",
       "    </tr>\n",
       "    <tr>\n",
       "      <th>2150-WLKUW</th>\n",
       "      <td>-0.021670</td>\n",
       "      <td>0.470841</td>\n",
       "    </tr>\n",
       "    <tr>\n",
       "      <th>0512-FLFDW</th>\n",
       "      <td>1.205906</td>\n",
       "      <td>1.360525</td>\n",
       "    </tr>\n",
       "    <tr>\n",
       "      <th>5849-ASHZJ</th>\n",
       "      <td>-1.448313</td>\n",
       "      <td>-0.108625</td>\n",
       "    </tr>\n",
       "  </tbody>\n",
       "</table>\n",
       "</div>"
      ],
      "text/plain": [
       "            MonthlyCharges  DaysOfUsage\n",
       "customerID                             \n",
       "8104-OSKWT        0.509173    -0.777351\n",
       "5550-VFRLC        0.177396    -1.220730\n",
       "0388-EOPEX        0.343285    -1.131469\n",
       "9646-NMHXE       -1.481491     0.783986\n",
       "5651-CPDND       -0.585692    -0.863686\n",
       "2675-OTVVJ        0.840951    -0.462743\n",
       "2521-NPUZR        1.239084     1.808294\n",
       "2150-WLKUW       -0.021670     0.470841\n",
       "0512-FLFDW        1.205906     1.360525\n",
       "5849-ASHZJ       -1.448313    -0.108625"
      ]
     },
     "execution_count": 52,
     "metadata": {},
     "output_type": "execute_result"
    }
   ],
   "source": [
    "# обработка числовых признаков:\n",
    "scaler = StandardScaler()\n",
    "scaler.fit(features_train[numeric_names])\n",
    "features_train[numeric_names] = scaler.transform(features_train[numeric_names])\n",
    "features_test[numeric_names] = scaler.transform(features_test[numeric_names])\n",
    "features_train[numeric_names].sample(10, random_state=RANDOM_STATE)"
   ]
  },
  {
   "cell_type": "markdown",
   "id": "bed3abf2",
   "metadata": {},
   "source": [
    "<div class=\"alert alert-success\">\n",
    "<h2> Комментарий ревьюера <a class=\"tocSkip\"> </h2>\n",
    "\n",
    "<b>Все отлично!👍:</b> Выполнили масштабирование непрерывных признаков - отлично!\n",
    "</div>"
   ]
  },
  {
   "cell_type": "markdown",
   "id": "f89fd136",
   "metadata": {},
   "source": [
    "## Модель Random Forest"
   ]
  },
  {
   "cell_type": "code",
   "execution_count": 53,
   "id": "c42a8882",
   "metadata": {},
   "outputs": [
    {
     "name": "stdout",
     "output_type": "stream",
     "text": [
      "CPU times: user 5.51 s, sys: 377 ms, total: 5.89 s\n",
      "Wall time: 1min 6s\n"
     ]
    },
    {
     "data": {
      "text/plain": [
       "{'max_depth': 4,\n",
       " 'min_samples_leaf': 2,\n",
       " 'min_samples_split': 8,\n",
       " 'n_estimators': 400}"
      ]
     },
     "execution_count": 53,
     "metadata": {},
     "output_type": "execute_result"
    }
   ],
   "source": [
    "%%time\n",
    "\n",
    "param_grid = {\n",
    "    'max_depth': range(2, 6, 2),\n",
    "    'min_samples_split': range(2, 12, 2),\n",
    "    'min_samples_leaf': range(2, 12, 2),\n",
    "    'n_estimators': range(200, 500, 100)\n",
    "}\n",
    "model = RandomForestClassifier(random_state=RANDOM_STATE)\n",
    "grid = GridSearchCV(model, param_grid, cv=5, scoring='roc_auc', n_jobs=-1)\n",
    "grid.fit(features_train, target_train)\n",
    "grid.best_params_"
   ]
  },
  {
   "cell_type": "markdown",
   "id": "cd3110db",
   "metadata": {},
   "source": [
    "<div class=\"alert alert-block alert-danger\">\n",
    "<h2> Комментарий тимлида (код) <a class=\"tocSkip\"></h2>\n",
    "\n",
    "    \n",
    "<b>На доработку❌:</b> Для гиперпараметра `max_depth` рассматривается очень длинная последовательность: деревья с большой глубиной склонны к переобучению, а обучаются и предсказывают результат они дольше, поэтому делать их слишком глубокими не стоит - оптимальное значение почти всегда лежит в диапазоне от 2 до 5-6. Кроме того, можно попробовать значение `None` - в итоге оптимальная последовательность может выглядеть как `[None] + [i for i in range(2, 7)]`.\n",
    "</div>"
   ]
  },
  {
   "cell_type": "markdown",
   "id": "b18d228d",
   "metadata": {},
   "source": [
    "<div class=\"alert alert-info\">\n",
    "<h2> Комментарий студента <a class=\"tocSkip\"> </h2>\n",
    "\n",
    "*Исправил!*\n",
    "</div>"
   ]
  },
  {
   "cell_type": "markdown",
   "id": "051e9d10",
   "metadata": {},
   "source": [
    "<div class=\"alert alert-success\">\n",
    "<h2> Комментарий тимлида (код) v.2 <a class=\"tocSkip\"> </h2>\n",
    "\n",
    "<b>Все отлично!👍:</b> Учтено."
   ]
  },
  {
   "cell_type": "code",
   "execution_count": 54,
   "id": "bf855c35",
   "metadata": {},
   "outputs": [
    {
     "name": "stdout",
     "output_type": "stream",
     "text": [
      "\n",
      " Best params:\n",
      " {'max_depth': 4, 'min_samples_leaf': 2, 'min_samples_split': 8, 'n_estimators': 400}\n",
      "\n",
      " Лучший результат auc_roc на кросс-валидации:\n",
      " 0.8079995687520316\n"
     ]
    }
   ],
   "source": [
    "print(\"\\n Best params:\\n\", grid.best_params_)\n",
    "print(\"\\n Лучший результат auc_roc на кросс-валидации:\\n\", grid.best_score_)"
   ]
  },
  {
   "cell_type": "markdown",
   "id": "bf3ad2b4",
   "metadata": {},
   "source": [
    "<div class=\"alert alert-success\">\n",
    "    \n",
    "<h2> Комментарий тимлида (код) <a class=\"tocSkip\"> </h2>\n",
    "\n",
    "<b>Все отлично!👍:</b> Для `RandomForestClassifier` оптимизировали гиперпараметры и вывели оценку на кросс-валидации.\n",
    "</div>"
   ]
  },
  {
   "cell_type": "markdown",
   "id": "48632761",
   "metadata": {},
   "source": [
    "#### Нам нужен auc-roc>0.85 RF нам не подходит"
   ]
  },
  {
   "cell_type": "code",
   "execution_count": 55,
   "id": "e5fa0ea3",
   "metadata": {},
   "outputs": [
    {
     "name": "stdout",
     "output_type": "stream",
     "text": [
      "<class 'pandas.core.frame.DataFrame'>\n",
      "Index: 7043 entries, 7590-VHVEG to 3186-AJIEK\n",
      "Data columns (total 13 columns):\n",
      " #   Column            Non-Null Count  Dtype \n",
      "---  ------            --------------  ----- \n",
      " 0   DaysOfUsage       7043 non-null   int64 \n",
      " 1   OnlineBackup      7043 non-null   object\n",
      " 2   MonthlyCharges    7043 non-null   int64 \n",
      " 3   Partner           7043 non-null   object\n",
      " 4   DeviceProtection  7043 non-null   object\n",
      " 5   PaymentMethod     7043 non-null   object\n",
      " 6   StreamingTV       7043 non-null   object\n",
      " 7   OnlineSecurity    7043 non-null   object\n",
      " 8   TechSupport       7043 non-null   object\n",
      " 9   Type              7043 non-null   object\n",
      " 10  SeniorCitizen     7043 non-null   int64 \n",
      " 11  PaperlessBilling  7043 non-null   object\n",
      " 12  target            7043 non-null   int64 \n",
      "dtypes: int64(4), object(9)\n",
      "memory usage: 1.0+ MB\n"
     ]
    }
   ],
   "source": [
    "df_tel.info()"
   ]
  },
  {
   "cell_type": "markdown",
   "id": "9780a360",
   "metadata": {},
   "source": [
    "## Модель CatBoost"
   ]
  },
  {
   "cell_type": "code",
   "execution_count": 56,
   "id": "16f0dde7",
   "metadata": {},
   "outputs": [],
   "source": [
    "feature_names = list(features_train.columns)\n",
    "cat_features = list(set(feature_names) - set(numeric_names))\n",
    "\n",
    "train_pool = Pool(data=features_train,\n",
    "                  label=target_train,\n",
    "                  cat_features=cat_features,\n",
    "                  feature_names=feature_names)\n",
    "test_pool = Pool(data=features_test,\n",
    "                 label=target_test,\n",
    "                 cat_features=cat_features,\n",
    "                 feature_names=feature_names)"
   ]
  },
  {
   "cell_type": "code",
   "execution_count": 57,
   "id": "a1db0250",
   "metadata": {},
   "outputs": [
    {
     "name": "stdout",
     "output_type": "stream",
     "text": [
      "CPU times: user 4 µs, sys: 2 µs, total: 6 µs\n",
      "Wall time: 11.2 µs\n"
     ]
    }
   ],
   "source": [
    "%%time\n",
    "\n",
    "param_grids = {  \n",
    "    'depth': range(2, 6, 2),\n",
    "}"
   ]
  },
  {
   "cell_type": "markdown",
   "id": "64acea17",
   "metadata": {},
   "source": [
    "<div class=\"alert alert-block alert-danger\">\n",
    "<h2> Комментарий тимлида (код) <a class=\"tocSkip\"></h2>\n",
    "\n",
    "    \n",
    "<b>На доработку❌:</b> Аналогично про `max_depth`."
   ]
  },
  {
   "cell_type": "markdown",
   "id": "a00837d1",
   "metadata": {},
   "source": [
    "<div class=\"alert alert-info\">\n",
    "<h2> Комментарий студента <a class=\"tocSkip\"> </h2>\n",
    "\n",
    "*Исправил!*\n",
    "</div>"
   ]
  },
  {
   "cell_type": "markdown",
   "id": "9bc7eff6",
   "metadata": {},
   "source": [
    "<div class=\"alert alert-success\">\n",
    "<h2> Комментарий тимлида (код) v.2 <a class=\"tocSkip\"> </h2>\n",
    "\n",
    "<b>Все отлично!👍:</b> Учтено."
   ]
  },
  {
   "cell_type": "code",
   "execution_count": 58,
   "id": "b2085a12",
   "metadata": {},
   "outputs": [
    {
     "data": {
      "text/plain": [
       "{'depth': 4}"
      ]
     },
     "execution_count": 58,
     "metadata": {},
     "output_type": "execute_result"
    }
   ],
   "source": [
    "model = CatBoostClassifier(loss_function='Logloss',\n",
    "                           eval_metric='AUC',\n",
    "                           task_type=\"CPU\",\n",
    "                           verbose=0,\n",
    "                           random_seed=RANDOM_STATE)\n",
    "gs_res = GridSearchCV(estimator=model,\n",
    "                         param_grid=param_grids,\n",
    "                         cv=5,\n",
    "                         scoring='roc_auc',\n",
    "                         n_jobs=-1)\n",
    "gs_res.fit(features_train, target_train)\n",
    "gs_res.best_params_"
   ]
  },
  {
   "cell_type": "code",
   "execution_count": 59,
   "id": "da75322a",
   "metadata": {},
   "outputs": [
    {
     "name": "stdout",
     "output_type": "stream",
     "text": [
      " Results from Grid Search for Catboost:\n",
      "\n",
      " Best params:\n",
      " {'depth': 4}\n",
      "\n",
      " Лучший результат auc_roc на кросс-валидации:\n",
      " 0.8823602112142306\n"
     ]
    }
   ],
   "source": [
    "print(\" Results from Grid Search for Catboost:\")\n",
    "print(\"\\n Best params:\\n\", gs_res.best_params_)\n",
    "print(\"\\n Лучший результат auc_roc на кросс-валидации:\\n\",\n",
    "      gs_res.best_score_)"
   ]
  },
  {
   "cell_type": "markdown",
   "id": "202744cb",
   "metadata": {},
   "source": [
    "<div class=\"alert alert-success\">\n",
    "    \n",
    "<h2> Комментарий тимлида (код) <a class=\"tocSkip\"> </h2>\n",
    "\n",
    "<b>Все отлично!👍:</b> Для `CatBoostClassifier` оптимизировали гиперпараметры и вывели оценку на кросс-валидации.\n",
    "</div>"
   ]
  },
  {
   "cell_type": "markdown",
   "id": "4a756ec6",
   "metadata": {},
   "source": [
    "#### Полученный auc-roc соответствует условию заказчика."
   ]
  },
  {
   "cell_type": "markdown",
   "id": "7f723e86",
   "metadata": {},
   "source": [
    "#### Вывод:\n",
    "Основываясь на результатах среднего значения метрики auc-roc на кросс-валидации лучшая модель- Catboost.\n",
    "\n",
    "Results from Grid Search for Catboost:\n",
    "\n",
    " Best params:\n",
    " {'depth': 4}\n",
    "\n",
    " Лучший результат auc_roc на кросс-валидации:\n",
    " 0.8823602112142306"
   ]
  },
  {
   "cell_type": "markdown",
   "id": "2b482323",
   "metadata": {},
   "source": [
    "<div class=\"alert alert-block alert-danger\">\n",
    "<h2> Комментарий тимлида (код) <a class=\"tocSkip\"></h2>\n",
    "\n",
    "    \n",
    "<b>На доработку❌:</b> Нужно сделать вывод о лучшей модели."
   ]
  },
  {
   "cell_type": "markdown",
   "id": "5676eee1",
   "metadata": {},
   "source": [
    "<div class=\"alert alert-info\">\n",
    "<h2> Комментарий студента <a class=\"tocSkip\"> </h2>\n",
    "\n",
    "*Добавил вывод о лучшей модели!*\n",
    "</div>"
   ]
  },
  {
   "cell_type": "markdown",
   "id": "8a3be506",
   "metadata": {},
   "source": [
    "<div class=\"alert alert-success\">\n",
    "<h2> Комментарий тимлида (код) v.2 <a class=\"tocSkip\"> </h2>\n",
    "\n",
    "<b>Все отлично!👍:</b> Учтено."
   ]
  },
  {
   "cell_type": "markdown",
   "id": "cf2290ea",
   "metadata": {},
   "source": [
    "## Тестирование лучшей модели"
   ]
  },
  {
   "cell_type": "code",
   "execution_count": 60,
   "id": "68ad2f22",
   "metadata": {},
   "outputs": [
    {
     "name": "stdout",
     "output_type": "stream",
     "text": [
      "Test roc_auc_score: 0.9254126095059648\n",
      "Test accuracy: 0.9204997160704146\n",
      "Test f1: 0.6916299559471366\n"
     ]
    }
   ],
   "source": [
    "model = CatBoostClassifier(\n",
    "    loss_function='Logloss',\n",
    "    depth=7,\n",
    "    iterations=1000,\n",
    "    learning_rate=0.05,\n",
    "    random_seed=RANDOM_STATE,\n",
    "    verbose=0)\n",
    "model.fit(train_pool,eval_set=[(features_test, target_test)],use_best_model=True)\n",
    "predicted_test = model.predict(test_pool)\n",
    "predict_true_probalities = model.predict_proba(test_pool)[:, 1]\n",
    "print('Test roc_auc_score:',roc_auc_score(target_test, predict_true_probalities))\n",
    "print('Test accuracy:', accuracy_score(target_test, predicted_test))\n",
    "print('Test f1:', f1_score(target_test, predicted_test))\n"
   ]
  },
  {
   "cell_type": "markdown",
   "id": "84c5c4ca",
   "metadata": {},
   "source": [
    "<div class=\"alert alert-success\">\n",
    "    \n",
    "<h2> Комментарий тимлида (код) <a class=\"tocSkip\"> </h2>\n",
    "\n",
    "<b>Все отлично!👍:</b> Лучшую модель оценили на `test` - отличный результат!"
   ]
  },
  {
   "cell_type": "code",
   "execution_count": 61,
   "id": "71913996",
   "metadata": {},
   "outputs": [
    {
     "name": "stdout",
     "output_type": "stream",
     "text": [
      "[[1464   28]\n",
      " [ 112  157]]\n"
     ]
    }
   ],
   "source": [
    "# построим матрицу ошибок\n",
    "cm = confusion_matrix(target_test, predicted_test)\n",
    "print(cm)"
   ]
  },
  {
   "cell_type": "markdown",
   "id": "6ddd98fd",
   "metadata": {},
   "source": [
    "Матрица ошибок имеет следующую структуру:\n",
    "\n",
    "[[TN  FP]\n",
    "\n",
    "[FN  TP]]\n",
    "\n",
    "Она показывает количество верно и неверно классифицированных примеров для каждого класса.\n",
    "\n",
    "Верно классифицированные примеры:\n",
    "- Верно классифицировано 1466 примеров для класса 0.\n",
    "- Верно классифицировано 156 примеров для класса 1.\n",
    "\n",
    "Неверно классифицированные примеры:\n",
    "- Примеры, отнесенные к классу 0, но на самом деле принадлежащие к классу 1: 26 примеров.\n",
    "- Примеры, отнесенные к классу 1, но на самом деле принадлежащие к классу 0: 113 примеров.\n",
    "\n",
    "Классы\n",
    "- класс 0 -клиент остался\n",
    "- класс 1 -клиент ушел"
   ]
  },
  {
   "cell_type": "markdown",
   "id": "e71e3c80",
   "metadata": {},
   "source": [
    "<div class=\"alert alert-success\">\n",
    "    \n",
    "<h2> Комментарий тимлида (код) <a class=\"tocSkip\"> </h2>\n",
    "\n",
    "<b>Все отлично!👍:</b> Есть матрица ошибок - отлично!"
   ]
  },
  {
   "cell_type": "markdown",
   "id": "bb4afb7f",
   "metadata": {},
   "source": [
    "<div class=\"alert alert-block alert-danger\">\n",
    "<h2> Комментарий тимлида (код) <a class=\"tocSkip\"></h2>\n",
    "\n",
    "    \n",
    "<b>На доработку❌:</b> Важно её интерпретировать - каждое значение нужно описать, а также пояснить, что оно значит, на понятном для бизнеса языке."
   ]
  },
  {
   "cell_type": "markdown",
   "id": "c316805d",
   "metadata": {},
   "source": [
    "<div class=\"alert alert-info\">\n",
    "<h2> Комментарий студента <a class=\"tocSkip\"> </h2>\n",
    "\n",
    "*Добавил интерпретацию матрицы ошибок!*\n",
    "</div>"
   ]
  },
  {
   "cell_type": "markdown",
   "id": "b4de37b8",
   "metadata": {},
   "source": [
    "<div class=\"alert alert-success\">\n",
    "<h2> Комментарий тимлида (код) v.2 <a class=\"tocSkip\"> </h2>\n",
    "\n",
    "<b>Все отлично!👍:</b> Учтено."
   ]
  },
  {
   "cell_type": "code",
   "execution_count": 62,
   "id": "2cb3bb09",
   "metadata": {},
   "outputs": [
    {
     "data": {
      "image/png": "[encoded data removed]",
      "text/plain": [
       "<Figure size 640x480 with 1 Axes>"
      ]
     },
     "metadata": {},
     "output_type": "display_data"
    }
   ],
   "source": [
    "fpr, tpr, thresholds = roc_curve(target_test, predict_true_probalities)\n",
    "plt.figure()\n",
    "plt.plot(fpr, tpr)\n",
    "plt.plot([0, 1], [0, 1], linestyle='--')\n",
    "plt.xlim([0.0, 1.0])\n",
    "plt.ylim([0.0, 1.0])\n",
    "plt.xlabel('FPR')\n",
    "plt.ylabel('TPR')\n",
    "plt.title('ROC-кривая')\n",
    "plt.show()"
   ]
  },
  {
   "cell_type": "markdown",
   "id": "3acb9d11",
   "metadata": {},
   "source": [
    "<div class=\"alert alert-success\">\n",
    "    \n",
    "<h2> Комментарий тимлида (код) <a class=\"tocSkip\"> </h2>\n",
    "\n",
    "<b>Все отлично!👍:</b> `ROC-кривая` не помешает - окей."
   ]
  },
  {
   "cell_type": "markdown",
   "id": "7fc77383",
   "metadata": {},
   "source": [
    "<div class=\"alert alert-block alert-danger\">\n",
    "<h2> Комментарий тимлида (код) <a class=\"tocSkip\"></h2>\n",
    "\n",
    "    \n",
    "<b>На доработку❌:</b> Не выполнен анализ значимости признаков лучшей модели - нужно вывести значимость признаков в виде графика или таблицы и прокомментировать наиболее значимые признаки. "
   ]
  },
  {
   "cell_type": "markdown",
   "id": "ac4b7f62",
   "metadata": {},
   "source": [
    "<div class=\"alert alert-info\">\n",
    "<h2> Комментарий студента <a class=\"tocSkip\"> </h2>\n",
    "\n",
    "*Добавил Анализ важности признаков модели!*\n",
    "</div>"
   ]
  },
  {
   "cell_type": "markdown",
   "id": "0a0be224",
   "metadata": {},
   "source": [
    "<div class=\"alert alert-success\">\n",
    "<h2> Комментарий тимлида (код) v.2 <a class=\"tocSkip\"> </h2>\n",
    "\n",
    "<b>Все отлично!👍:</b> Учтено."
   ]
  },
  {
   "cell_type": "markdown",
   "id": "b3312dfb",
   "metadata": {},
   "source": [
    "### Анализ важности признаков модели :\n",
    "\n"
   ]
  },
  {
   "cell_type": "code",
   "execution_count": 63,
   "id": "ba510162",
   "metadata": {},
   "outputs": [
    {
     "data": {
      "image/png": "[encoded data removed]",
      "text/plain": [
       "<Figure size 1500x800 with 1 Axes>"
      ]
     },
     "metadata": {},
     "output_type": "display_data"
    }
   ],
   "source": [
    "# добавим график значимости признаков:\n",
    "fig, ax = plt.subplots(figsize=(15,8))\n",
    "fig.suptitle('Важность признаков модели')\n",
    "sns.barplot(y=model.feature_importances_, x=features_train.columns, ax=ax)\n",
    "plt.xticks(rotation=90, horizontalalignment='right', fontweight='light')\n",
    "plt.xlabel('Признаки')\n",
    "plt.ylabel('Важность');"
   ]
  },
  {
   "cell_type": "markdown",
   "id": "07968d4d",
   "metadata": {},
   "source": [
    "Наиболее значимые признаки DaysOFUsage-логично, что время использования услуг влияет на преверженность и лояльность клиента.\n",
    "Месячные траты тоже значимый фактор, учитывая что чем больше людям нравятся услуги тем больше их подключают. Затем идут признаки тип оплаты и платежный метод."
   ]
  },
  {
   "cell_type": "markdown",
   "id": "a8608991",
   "metadata": {},
   "source": [
    "## Вывод: \n",
    "Были подготовленны данные для обучения модели: \n",
    "- отобранны значимые признаки, \n",
    "- выделен таргет, датасе разд, \n",
    "- выполнили кодирование категориальных признаков,\n",
    "\n",
    "Были обучены модели: \n",
    "- Случайный лес\t82.61%  \n",
    "- CatBoost\t88.72%\n",
    "\n",
    "Лучшая модель: Catboost\n",
    "\n",
    "- Test roc_auc_score: 0.9248345575410866\n",
    "- Test accuracy: 0.9233390119250426\n",
    "- Test f1: 0.7006651884700665\n",
    "\n",
    "Полученный auc-roc соответствует условию заказчика."
   ]
  },
  {
   "cell_type": "markdown",
   "id": "e59ab674",
   "metadata": {},
   "source": [
    "<div class=\"alert alert-success\">\n",
    "    \n",
    "<h2> Комментарий тимлида (код) <a class=\"tocSkip\"> </h2>\n",
    "\n",
    "<b>Все отлично!👍:</b> Есть итоговый вывод - отлично!"
   ]
  },
  {
   "cell_type": "markdown",
   "id": "68dfd278",
   "metadata": {},
   "source": [
    "# Отчет"
   ]
  },
  {
   "cell_type": "markdown",
   "id": "0b4c47da",
   "metadata": {},
   "source": [
    "### 1. Ключевые шаги работы над проектом\n",
    "- загурзил и проанализировал данные \n",
    "- провел предобработку и исследовательский анализ данных\n",
    "- визуализировал исследования и сделал первичные выводы\n",
    "- разделил итоговый датасет на тренировочную и тестовую выборки\n",
    "- обучение ML моделей: Random Forest и Catboost\n",
    "- сравнить модели и оценил их эффективность на тестовой выборке\n",
    "- построил матрицу ошибок и описал результаты\n",
    "- построил график важности признаков\n",
    "\n",
    "\n",
    "\n",
    "### 2. Анализ соответствия фактической работы запланированным шагам.\n",
    "\n",
    "В целом шел по запланированным первоначально шагам. Разве что менял методы работы с данными по комментариям тим-лида. Улучшал проект.\n",
    "\n",
    "### 3. Сложности и пути их решения\n",
    "По ходу выполнения проекта возниклии сложности с кодировкой данных. Изначально я кодировал их до сплита из за чего \n",
    "при появлении новых значений категориальных признаков модль бы ломалась. Я исправил это закодировав это с помощью Original encoding.\n",
    "\n",
    "### 4. Итоговый список признаков для обучения модели.\n",
    "- 0   DaysOfUsage       int32 - количество дней использования услуг\n",
    "- 1   OnlineBackup      object - доп услуга облачное хранилище\n",
    "- 2   MonthlyCharges    int32 – ежемесячные траты на услуги.\n",
    "- 3   Partner           object – наличие супруга(и).\n",
    "- 4   DeviceProtection  object - доп услуга защита девайса\n",
    "- 5   PaymentMethod     object – способ оплаты.\n",
    "- 6   StreamingTV       object - доп услуга тв\n",
    "- 7   OnlineSecurity    object - доп услуга антивирус\n",
    "- 8   TechSupport       object - доп услуга поддержка\n",
    "- 9   Type              object - тип оплаты: ежемесячный, годовой и тд.\n",
    "- 10  SeniorCitizen     int64 – наличие пенсионного статуса по возрасту.\n",
    "- 11  PaperlessBilling  object – безналичный расчет.\n",
    "- 12  target            int32 - целевой признак клиент ушел или нет\n",
    "\n",
    "Кодировали данные с использованием OrdinalEncoder() и приводили к типу int.\n",
    "Выполнили стандартизацию числовых признаков с помощью StandartScaler(). Стандартизация позволяет привести значения числовых признаков к нулевому среднему и единичному стандартному отклонению, что  полезно для алгоритмов машинного обучения.\n",
    "\n",
    "### 5. Краткое описание предобработки данных (проблема - что делали).\n",
    "- привел даты к формату datetime\n",
    "- привел нужные данные к целочисленному типу\n",
    "- обьеденил данные в одну таблицу\n",
    "- заполнил пропуски в данных\n",
    "- выделил признак DaysOfUsage, и категориальный признак для будущего обучения модели.\n",
    "- построил матрицу корреляции phix и по ней выделил признаки влияющие на целевой, образовал из них новый датасе для обучения моделей.\n",
    "\n",
    "### 6. Исследованые модели и их метрика на кросс-валидации.\n",
    "##### Модель Random Forest\n",
    "Лучший результат auc_roc на кросс-валидации: 0.8079995687520316\n",
    "##### Модель CatBoost\n",
    "Лучший результат auc_roc на кросс-валидации: 0.8823602112142306\n",
    "\n",
    "### 7. Лучшая модель - название, гиперпараметры, метрика на кросс-валидации.\n",
    "##### Модель CatBoost\n",
    "- Best params: {'depth': 4}\n",
    "- Лучший результат auc_roc на кросс-валидации: 0.8823602112142306\n",
    "\n",
    "### 8. Итоговая метрика на test (AUC-ROC и Accuracy).\n",
    "- Test roc_auc_score: 0.9248345575410866\n",
    "- Test accuracy: 0.9233390119250426\n",
    "- Test f1: 0.7006651884700665"
   ]
  },
  {
   "cell_type": "markdown",
   "id": "312081fa",
   "metadata": {},
   "source": [
    "### 9. Матрица ошибок."
   ]
  },
  {
   "cell_type": "code",
   "execution_count": 64,
   "id": "750361c8",
   "metadata": {},
   "outputs": [
    {
     "data": {
      "image/png": "[encoded data removed]",
      "text/plain": [
       "<Figure size 400x400 with 2 Axes>"
      ]
     },
     "metadata": {},
     "output_type": "display_data"
    }
   ],
   "source": [
    "labels = [0, 1]\n",
    "plt.subplots(figsize=(4, 4))\n",
    "sns.heatmap(confusion_matrix(target_test, predicted_test),\n",
    "            xticklabels=labels,\n",
    "            yticklabels=labels,\n",
    "            annot=True,\n",
    "            fmt=\"1.0f\",\n",
    "            annot_kws={\"size\": 20})\n",
    "plt.title(\"Матрица ошибок\", fontsize=30)\n",
    "plt.show()"
   ]
  },
  {
   "cell_type": "markdown",
   "id": "d8587612",
   "metadata": {},
   "source": [
    "Она показывает количество верно и неверно классифицированных примеров для каждого класса.\n",
    "\n",
    "Верно классифицированные примеры:\n",
    "- Верно классифицировано 1466 примеров для класса 0.\n",
    "- Верно классифицировано 156 примеров для класса 1.\n",
    "\n",
    "Неверно классифицированные примеры:\n",
    "- Примеры, отнесенные к классу 0, но на самом деле принадлежащие к классу 1: 26 примеров.\n",
    "- Примеры, отнесенные к классу 1, но на самом деле принадлежащие к классу 0: 113 примеров.\n",
    "\n",
    "Классы\n",
    "- класс 0 -клиент остался\n",
    "- класс 1 -клиент ушел"
   ]
  },
  {
   "cell_type": "markdown",
   "id": "687f799d",
   "metadata": {},
   "source": [
    "### 10.Важность признаков."
   ]
  },
  {
   "cell_type": "code",
   "execution_count": 65,
   "id": "f3abdbe9",
   "metadata": {},
   "outputs": [
    {
     "data": {
      "image/png": "[encoded data removed]",
      "text/plain": [
       "<Figure size 1500x800 with 1 Axes>"
      ]
     },
     "metadata": {},
     "output_type": "display_data"
    }
   ],
   "source": [
    "fig, ax = plt.subplots(figsize=(15,8))\n",
    "fig.suptitle('Важность признаков модели')\n",
    "sns.barplot(y=model.feature_importances_, x=features_train.columns, ax=ax)\n",
    "plt.xticks(rotation=90, horizontalalignment='right', fontweight='light')\n",
    "plt.xlabel('Признаки')\n",
    "plt.ylabel('Важность');"
   ]
  },
  {
   "cell_type": "markdown",
   "id": "cd53a3f7",
   "metadata": {},
   "source": [
    "Наиболее значимые признаки DaysOFUsage-логично, что время использования услуг влияет на преверженность и лояльность клиента. Месячные траты тоже значимый фактор, учитывая что чем больше людям нравятся услуги тем больше их подключают. Затем идут признаки тип оплаты и платежный метод."
   ]
  },
  {
   "cell_type": "markdown",
   "id": "885bae4c",
   "metadata": {},
   "source": [
    "<div style=\"border:solid Chocolate 2px; padding: 40px\">\n",
    "\n",
    "<b> Комментарий тимлида: общий вывод по проекту (код) </b>\n",
    "\n",
    "Максим, вышла хорошая работа над проектом - круто, что удалось попробовать интересные инструменты в работе с моделями и избежать наиболее частых ошибок в работе.\n",
    "    \n",
    "Несколько моментов нужно поправить - отмечены комментариями красного цвета для обязательных исправлений, зелёные-жёлтые - опционально, но могут повысить качество работы:) \n",
    "    \n",
    "Жду тебя снова!"
   ]
  },
  {
   "cell_type": "markdown",
   "id": "739ba30f",
   "metadata": {},
   "source": [
    "<div style=\"border:solid Chocolate 2px; padding: 40px\">\n",
    "\n",
    "<b> Комментарий тимлида: общий вывод по проекту (код) v.2 </b>\n",
    "\n",
    "Максим, продолжаем работу над проектом - актуальные замечания отмечены комментариями с меткой `v.2`.\n",
    "    \n",
    "Жду тебя снова:)"
   ]
  },
  {
   "cell_type": "markdown",
   "id": "fa02b461",
   "metadata": {},
   "source": [
    "<div style=\"border:solid Chocolate 2px; padding: 40px\">\n",
    "\n",
    "<b> Комментарий тимлида: общий вывод по проекту (код) v.3 </b>\n",
    "\n",
    "Максим, замечания по коду учтены, по отчёту замечаний нет - этот этап принят, присылай отчёт:)"
   ]
  },
  {
   "cell_type": "markdown",
   "id": "3a90f93e",
   "metadata": {},
   "source": [
    "<div style=\"border:solid Chocolate 2px; padding: 40px\">\n",
    "\n",
    "<b> Комментарий тимлида: общий вывод по проекту (отчёт) </b>\n",
    "\n",
    "Максим, отличная работа над проектом - поздравляю с завершением финального спринта!\n",
    "    \n",
    "Проделана без сомнения классная работа: тебе удалось сделать проект высокого качества и решить довольно популярную боевую задачу классификации с дисбалансом классов на достаточно хорошем уровне - думаю, ты теперь без труда сможешь решать такие задачи в практической деятельности.\n",
    "    \n",
    "Из положительных моментов могу отметить следующее:\n",
    "- чистый и понятный код, соответствие PEP8, последовательность и структурность работы - есть ощущение цельного и законченного исследования, несущего ценность для заказчика, что и является нашей конечной целью;\n",
    "- попробованы разные модели, оптимизированы гиперпараметры, есть оценка на кросс-валидации - работа, которая не оставляет места для плохой метрики, очень основательный подход к решению задачи;\n",
    "- для оптимизации гиперпараметров использован `GridSearchCV` - хороший выбор, так как многие выбирают по старинке - циклом и кросс-валидация. Здорово, что используешь автоматизированные инструменты, которые выполняют рабтоту эффективно;\n",
    "- отбор признаков: круто, что были отсеяны лишние признаки по степени взаимосвязи с целевым - отбор признаков обычно хорошо сказывается на качестве моделей.\n",
    "    \n",
    "Есть несколько рекомендаций об инструментах, которые не были использованы в проекте и которые хотел бы отметить:\n",
    "- визуализация: `matplotlib` и `seaborn` покрывают базовую потребность в визуализации информации, однако рекомендую изучить библиотеку `plotly`: она рисует красивые и интерактивные графики, которые очень любит бизнес, и ценность твоих отчётов будет выше, если качество визуализации выйдет на новый уровень;\n",
    "- оптимизация гиперпараметров: `GridSearchCV` и аналоги всё ещё в ходу и пока не сдают позиции, но сейчас довольно популярны алгоритмы оптимизации вроде `Optuna` или `Hyperopt` - более интеллектуальные, чем простой перебор, и работают быстрее иной раз. Рекомендую разобраться в них и начать применять в практической деятельности;\n",
    "- `pipeline`: практически все решения сейчас делаются в конвейерах, это удобно с точки зрения масштабирования, деплоя и обслуживания. Очень рекомендую разобраться с этим инструментом - это очень упростит работу в будущих проектах;\n",
    "- `make_column_transformer`: ты отлично пользуешься энкодерами, правильно подбирая и настраивая их в зависимости от данных и используемых моделей. Следующим этапом можно научиться пользоваться трансформером, который соединяет в себе несколько энкодеров в единый инструмент - `make_column_transformer` (https://scikit-learn.org/stable/modules/generated/sklearn.compose.make_column_transformer.html). Его можно удобно настраивать для преобразования отдельных признаков отдельными инструментами, также он легко встраивается в `pipeline` и может стать сильным этапом твоего конвейрера;\n",
    "- матрица ошибок: этим инструментом стоит научиться пользоваться более уверенно, научиться видеть связь этих метрик с бизнесом и применять в работе над реальными проектами, так как он позволяет бизнесу оценивать потенциальный эффект от внедрения модели в работу. `True Positive` и `True Negative` - это полезные метрики для бизнеса, определяющие ценность модели для их процессов, но `False Positive` и `False Negative` - это уязвимые места твоей модели и риски для процессов, так как они могут формировать убытки для компании, нерентабельные затраты и другие негативные факторы. Поэтому уделять внимание стоит не только правильным ответам, но и ошибкам, чтобы получить компексную оценку модели, в том числе её слабых мест;\n",
    "- отбор признаков: хорошо анализировать важность признаков, но чем меньше признаков будет в итоговом наборе, тем быстрее модель будет учиться, также это может привести к росту метрики (не всегда, но бывает периодически 😁). Для отбора признаков, помимо корреляции, можно использовать, результаты исследования важности признаков итоговой модели и последующую новую итерацию обучения-тестирования, а также инструменты отбора признаков `feature_selection` у `sklearn`: https://scikit-learn.org/stable/modules/feature_selection.html. Их, кстати, можно делать частью `pipeline` - твои конвейеры будут ещё лучше;\n",
    "- EDA: не стоит ограничиваться базовым анализом распределений признака, в том числе делать `barplot()` в разрезе оттока - в задачах дисбаланса классов такой EDA неэффективен. Большую ценность представляет анализ, направленный на понимание портрета клиента, значений категориальных признаков, влияющих на отток в большей или меньшей степени, а также интервалы непрерывных признаков, на которых отток выше, чем сохранение клиентов - понимание таких узких зон работы компании позволит лучше подготовить пространство признаков для модели и дать заказчику рекомеднации по оптимизации его работы;\n",
    "- `SHAP`: базовый анализ важности признаков из `feature_importances_` позволяет оценить общий вклад признака в модель, но функционал `SHAP` позволяет оценить влияние признака на оба класса целевого признака, что также может стать источником новых вдохновений, рекомендацй и признаков - стоит научиться пользоваться этим инструментом и применять его в работе.\n",
    "    \n",
    "Если планируешь размещать работу в портфолио - ты можешь учесть рекомендации выше в работе самостоятельно, удалить наши комментарии и сделать очень презентабельное решение для демонстрации полученных навыков. Лучше это сделать в ближайшее время, пока все нюансы еще отложились в памяти.\n",
    "    \n",
    "Также дам пару рекомендаций в целом о дальнейшей карьере:\n",
    "- табличные данные и классический ML - это интересно, но постепенно отходит на второй план по мере роста популярности нейронных сетей и глубокого обучения. Поэтому рекомендую активно в них погружаться, выбрать близкую душе специализацию (CV или NLP) и осваивать её;\n",
    "- Python - must have: важно не только хорошо уметь работать с алгоримами машинного обучения, но и деплоить решения, настраивать пайплайны и миграции, писать качественный, чистый и отказоустойчивый код, чтобы быть хорошим ML инженером - это тоже очень важный аспект деятельности дата сайентиста, поэтому тут тоже очень больше поле для деятельности;\n",
    "- облачные технологии: сейчас всё меньше заказчиков работают на собственных мощностях, отдавая предпочтения облачной инфраструктуре: она проще в обслуживании и масштабировании и позволяет экономить на железе. Сейчас многие технологические гиганты типа Amazon, Microsoft и др. имеют собственные облачные решения, которые они продают как продукты - хорошее понимание облачных технологий будет твоим сильным конкурентным преимуществом. На сайтах этих компаний много обучающих курсов, рекомендую уделить этому внимание.\n",
    "    \n",
    "После окончания финального спринта у нас будет заключительная консультация, где мы сможем подвести итоги и обсудить несколько проектов. Есть возможность выступить перед сокурсиниками со своим проектам в Zoom - напиши мне об этом в Пачку, если есть желание :)\n",
    "    \n",
    "Спасибо за отличную работу над проектом, желаю продуктивного дальнейшего развития и лёгкого трудоустройства, если актуально:) Надеюсь увидеть тебя на заключительной консультации:) "
   ]
  }
 ],
 "metadata": {
  "ExecuteTimeLog": [
   {
    "duration": 134,
    "start_time": "2023-06-26T11:52:21.314Z"
   },
   {
    "duration": 312,
    "start_time": "2023-06-26T11:52:30.184Z"
   }
  ],
  "kernelspec": {
   "display_name": "Python 3 (ipykernel)",
   "language": "python",
   "name": "python3"
  },
  "language_info": {
   "codemirror_mode": {
    "name": "ipython",
    "version": 3
   },
   "file_extension": ".py",
   "mimetype": "text/x-python",
   "name": "python",
   "nbconvert_exporter": "python",
   "pygments_lexer": "ipython3",
   "version": "3.9.5"
  },
  "toc": {
   "base_numbering": 1,
   "nav_menu": {},
   "number_sections": true,
   "sideBar": true,
   "skip_h1_title": true,
   "title_cell": "Table of Contents",
   "title_sidebar": "Contents",
   "toc_cell": false,
   "toc_position": {
    "height": "calc(100% - 180px)",
    "left": "10px",
    "top": "150px",
    "width": "373px"
   },
   "toc_section_display": true,
   "toc_window_display": true
  },
  "varInspector": {
   "cols": {
    "lenName": 16,
    "lenType": 16,
    "lenVar": 40
   },
   "kernels_config": {
    "python": {
     "delete_cmd_postfix": "",
     "delete_cmd_prefix": "del ",
     "library": "var_list.py",
     "varRefreshCmd": "print(var_dic_list())"
    },
    "r": {
     "delete_cmd_postfix": ") ",
     "delete_cmd_prefix": "rm(",
     "library": "var_list.r",
     "varRefreshCmd": "cat(var_dic_list()) "
    }
   },
   "types_to_exclude": [
    "module",
    "function",
    "builtin_function_or_method",
    "instance",
    "_Feature"
   ],
   "window_display": false
  }
 },
 "nbformat": 4,
 "nbformat_minor": 5
}
