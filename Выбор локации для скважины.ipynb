{
 "cells": [
  {
   "cell_type": "markdown",
   "metadata": {},
   "source": [
    "# Выбор локации для скважины"
   ]
  },
  {
   "cell_type": "markdown",
   "metadata": {},
   "source": [
    "Допустим, вы работаете в добывающей компании «ГлавРосГосНефть». Нужно решить, где бурить новую скважину.\n",
    "\n",
    "Вам предоставлены пробы нефти в трёх регионах: в каждом 10 000 месторождений, где измерили качество нефти и объём её запасов. Постройте модель машинного обучения, которая поможет определить регион, где добыча принесёт наибольшую прибыль. Проанализируйте возможную прибыль и риски техникой *Bootstrap.*\n",
    "\n",
    "Шаги для выбора локации:\n",
    "\n",
    "- В избранном регионе ищут месторождения, для каждого определяют значения признаков;\n",
    "- Строят модель и оценивают объём запасов;\n",
    "- Выбирают месторождения с самым высокими оценками значений. Количество месторождений зависит от бюджета компании и стоимости разработки одной скважины;\n",
    "- Прибыль равна суммарной прибыли отобранных месторождений."
   ]
  },
  {
   "cell_type": "markdown",
   "metadata": {},
   "source": [
    "## Загрузка и подготовка данных"
   ]
  },
  {
   "cell_type": "code",
   "execution_count": 1,
   "metadata": {},
   "outputs": [],
   "source": [
    "#импортируем необходимые библиотеки\n",
    "import pandas as pd\n",
    "import numpy as np\n",
    "from sklearn.model_selection import train_test_split\n",
    "from sklearn.linear_model import LinearRegression\n",
    "from sklearn.metrics import mean_squared_error"
   ]
  },
  {
   "cell_type": "code",
   "execution_count": 2,
   "metadata": {},
   "outputs": [],
   "source": [
    "#загрузка данных\n",
    "data_0 = pd.read_csv('/datasets/geo_data_0.csv')\n",
    "data_1 = pd.read_csv('/datasets/geo_data_1.csv')\n",
    "data_2 = pd.read_csv('/datasets/geo_data_2.csv')"
   ]
  },
  {
   "cell_type": "code",
   "execution_count": 3,
   "metadata": {},
   "outputs": [
    {
     "data": {
      "text/html": [
       "<div>\n",
       "<style scoped>\n",
       "    .dataframe tbody tr th:only-of-type {\n",
       "        vertical-align: middle;\n",
       "    }\n",
       "\n",
       "    .dataframe tbody tr th {\n",
       "        vertical-align: top;\n",
       "    }\n",
       "\n",
       "    .dataframe thead th {\n",
       "        text-align: right;\n",
       "    }\n",
       "</style>\n",
       "<table border=\"1\" class=\"dataframe\">\n",
       "  <thead>\n",
       "    <tr style=\"text-align: right;\">\n",
       "      <th></th>\n",
       "      <th>id</th>\n",
       "      <th>f0</th>\n",
       "      <th>f1</th>\n",
       "      <th>f2</th>\n",
       "      <th>product</th>\n",
       "    </tr>\n",
       "  </thead>\n",
       "  <tbody>\n",
       "    <tr>\n",
       "      <th>0</th>\n",
       "      <td>txEyH</td>\n",
       "      <td>0.705745</td>\n",
       "      <td>-0.497823</td>\n",
       "      <td>1.221170</td>\n",
       "      <td>105.280062</td>\n",
       "    </tr>\n",
       "    <tr>\n",
       "      <th>1</th>\n",
       "      <td>2acmU</td>\n",
       "      <td>1.334711</td>\n",
       "      <td>-0.340164</td>\n",
       "      <td>4.365080</td>\n",
       "      <td>73.037750</td>\n",
       "    </tr>\n",
       "    <tr>\n",
       "      <th>2</th>\n",
       "      <td>409Wp</td>\n",
       "      <td>1.022732</td>\n",
       "      <td>0.151990</td>\n",
       "      <td>1.419926</td>\n",
       "      <td>85.265647</td>\n",
       "    </tr>\n",
       "    <tr>\n",
       "      <th>3</th>\n",
       "      <td>iJLyR</td>\n",
       "      <td>-0.032172</td>\n",
       "      <td>0.139033</td>\n",
       "      <td>2.978566</td>\n",
       "      <td>168.620776</td>\n",
       "    </tr>\n",
       "    <tr>\n",
       "      <th>4</th>\n",
       "      <td>Xdl7t</td>\n",
       "      <td>1.988431</td>\n",
       "      <td>0.155413</td>\n",
       "      <td>4.751769</td>\n",
       "      <td>154.036647</td>\n",
       "    </tr>\n",
       "  </tbody>\n",
       "</table>\n",
       "</div>"
      ],
      "text/plain": [
       "      id        f0        f1        f2     product\n",
       "0  txEyH  0.705745 -0.497823  1.221170  105.280062\n",
       "1  2acmU  1.334711 -0.340164  4.365080   73.037750\n",
       "2  409Wp  1.022732  0.151990  1.419926   85.265647\n",
       "3  iJLyR -0.032172  0.139033  2.978566  168.620776\n",
       "4  Xdl7t  1.988431  0.155413  4.751769  154.036647"
      ]
     },
     "execution_count": 3,
     "metadata": {},
     "output_type": "execute_result"
    }
   ],
   "source": [
    "#ознакомление с данными\n",
    "data_0.head()"
   ]
  },
  {
   "cell_type": "code",
   "execution_count": 4,
   "metadata": {},
   "outputs": [
    {
     "name": "stdout",
     "output_type": "stream",
     "text": [
      "<class 'pandas.core.frame.DataFrame'>\n",
      "RangeIndex: 100000 entries, 0 to 99999\n",
      "Data columns (total 5 columns):\n",
      " #   Column   Non-Null Count   Dtype  \n",
      "---  ------   --------------   -----  \n",
      " 0   id       100000 non-null  object \n",
      " 1   f0       100000 non-null  float64\n",
      " 2   f1       100000 non-null  float64\n",
      " 3   f2       100000 non-null  float64\n",
      " 4   product  100000 non-null  float64\n",
      "dtypes: float64(4), object(1)\n",
      "memory usage: 3.8+ MB\n"
     ]
    }
   ],
   "source": [
    "data_0.info()"
   ]
  },
  {
   "cell_type": "code",
   "execution_count": 5,
   "metadata": {},
   "outputs": [
    {
     "data": {
      "text/html": [
       "<div>\n",
       "<style scoped>\n",
       "    .dataframe tbody tr th:only-of-type {\n",
       "        vertical-align: middle;\n",
       "    }\n",
       "\n",
       "    .dataframe tbody tr th {\n",
       "        vertical-align: top;\n",
       "    }\n",
       "\n",
       "    .dataframe thead th {\n",
       "        text-align: right;\n",
       "    }\n",
       "</style>\n",
       "<table border=\"1\" class=\"dataframe\">\n",
       "  <thead>\n",
       "    <tr style=\"text-align: right;\">\n",
       "      <th></th>\n",
       "      <th>id</th>\n",
       "      <th>f0</th>\n",
       "      <th>f1</th>\n",
       "      <th>f2</th>\n",
       "      <th>product</th>\n",
       "    </tr>\n",
       "  </thead>\n",
       "  <tbody>\n",
       "    <tr>\n",
       "      <th>0</th>\n",
       "      <td>kBEdx</td>\n",
       "      <td>-15.001348</td>\n",
       "      <td>-8.276000</td>\n",
       "      <td>-0.005876</td>\n",
       "      <td>3.179103</td>\n",
       "    </tr>\n",
       "    <tr>\n",
       "      <th>1</th>\n",
       "      <td>62mP7</td>\n",
       "      <td>14.272088</td>\n",
       "      <td>-3.475083</td>\n",
       "      <td>0.999183</td>\n",
       "      <td>26.953261</td>\n",
       "    </tr>\n",
       "    <tr>\n",
       "      <th>2</th>\n",
       "      <td>vyE1P</td>\n",
       "      <td>6.263187</td>\n",
       "      <td>-5.948386</td>\n",
       "      <td>5.001160</td>\n",
       "      <td>134.766305</td>\n",
       "    </tr>\n",
       "    <tr>\n",
       "      <th>3</th>\n",
       "      <td>KcrkZ</td>\n",
       "      <td>-13.081196</td>\n",
       "      <td>-11.506057</td>\n",
       "      <td>4.999415</td>\n",
       "      <td>137.945408</td>\n",
       "    </tr>\n",
       "    <tr>\n",
       "      <th>4</th>\n",
       "      <td>AHL4O</td>\n",
       "      <td>12.702195</td>\n",
       "      <td>-8.147433</td>\n",
       "      <td>5.004363</td>\n",
       "      <td>134.766305</td>\n",
       "    </tr>\n",
       "  </tbody>\n",
       "</table>\n",
       "</div>"
      ],
      "text/plain": [
       "      id         f0         f1        f2     product\n",
       "0  kBEdx -15.001348  -8.276000 -0.005876    3.179103\n",
       "1  62mP7  14.272088  -3.475083  0.999183   26.953261\n",
       "2  vyE1P   6.263187  -5.948386  5.001160  134.766305\n",
       "3  KcrkZ -13.081196 -11.506057  4.999415  137.945408\n",
       "4  AHL4O  12.702195  -8.147433  5.004363  134.766305"
      ]
     },
     "execution_count": 5,
     "metadata": {},
     "output_type": "execute_result"
    }
   ],
   "source": [
    "data_1.head()"
   ]
  },
  {
   "cell_type": "code",
   "execution_count": 6,
   "metadata": {},
   "outputs": [
    {
     "name": "stdout",
     "output_type": "stream",
     "text": [
      "<class 'pandas.core.frame.DataFrame'>\n",
      "RangeIndex: 100000 entries, 0 to 99999\n",
      "Data columns (total 5 columns):\n",
      " #   Column   Non-Null Count   Dtype  \n",
      "---  ------   --------------   -----  \n",
      " 0   id       100000 non-null  object \n",
      " 1   f0       100000 non-null  float64\n",
      " 2   f1       100000 non-null  float64\n",
      " 3   f2       100000 non-null  float64\n",
      " 4   product  100000 non-null  float64\n",
      "dtypes: float64(4), object(1)\n",
      "memory usage: 3.8+ MB\n"
     ]
    }
   ],
   "source": [
    "data_1.info()"
   ]
  },
  {
   "cell_type": "code",
   "execution_count": 7,
   "metadata": {},
   "outputs": [
    {
     "data": {
      "text/html": [
       "<div>\n",
       "<style scoped>\n",
       "    .dataframe tbody tr th:only-of-type {\n",
       "        vertical-align: middle;\n",
       "    }\n",
       "\n",
       "    .dataframe tbody tr th {\n",
       "        vertical-align: top;\n",
       "    }\n",
       "\n",
       "    .dataframe thead th {\n",
       "        text-align: right;\n",
       "    }\n",
       "</style>\n",
       "<table border=\"1\" class=\"dataframe\">\n",
       "  <thead>\n",
       "    <tr style=\"text-align: right;\">\n",
       "      <th></th>\n",
       "      <th>id</th>\n",
       "      <th>f0</th>\n",
       "      <th>f1</th>\n",
       "      <th>f2</th>\n",
       "      <th>product</th>\n",
       "    </tr>\n",
       "  </thead>\n",
       "  <tbody>\n",
       "    <tr>\n",
       "      <th>0</th>\n",
       "      <td>fwXo0</td>\n",
       "      <td>-1.146987</td>\n",
       "      <td>0.963328</td>\n",
       "      <td>-0.828965</td>\n",
       "      <td>27.758673</td>\n",
       "    </tr>\n",
       "    <tr>\n",
       "      <th>1</th>\n",
       "      <td>WJtFt</td>\n",
       "      <td>0.262778</td>\n",
       "      <td>0.269839</td>\n",
       "      <td>-2.530187</td>\n",
       "      <td>56.069697</td>\n",
       "    </tr>\n",
       "    <tr>\n",
       "      <th>2</th>\n",
       "      <td>ovLUW</td>\n",
       "      <td>0.194587</td>\n",
       "      <td>0.289035</td>\n",
       "      <td>-5.586433</td>\n",
       "      <td>62.871910</td>\n",
       "    </tr>\n",
       "    <tr>\n",
       "      <th>3</th>\n",
       "      <td>q6cA6</td>\n",
       "      <td>2.236060</td>\n",
       "      <td>-0.553760</td>\n",
       "      <td>0.930038</td>\n",
       "      <td>114.572842</td>\n",
       "    </tr>\n",
       "    <tr>\n",
       "      <th>4</th>\n",
       "      <td>WPMUX</td>\n",
       "      <td>-0.515993</td>\n",
       "      <td>1.716266</td>\n",
       "      <td>5.899011</td>\n",
       "      <td>149.600746</td>\n",
       "    </tr>\n",
       "  </tbody>\n",
       "</table>\n",
       "</div>"
      ],
      "text/plain": [
       "      id        f0        f1        f2     product\n",
       "0  fwXo0 -1.146987  0.963328 -0.828965   27.758673\n",
       "1  WJtFt  0.262778  0.269839 -2.530187   56.069697\n",
       "2  ovLUW  0.194587  0.289035 -5.586433   62.871910\n",
       "3  q6cA6  2.236060 -0.553760  0.930038  114.572842\n",
       "4  WPMUX -0.515993  1.716266  5.899011  149.600746"
      ]
     },
     "execution_count": 7,
     "metadata": {},
     "output_type": "execute_result"
    }
   ],
   "source": [
    "data_2.head()"
   ]
  },
  {
   "cell_type": "code",
   "execution_count": 8,
   "metadata": {},
   "outputs": [
    {
     "name": "stdout",
     "output_type": "stream",
     "text": [
      "<class 'pandas.core.frame.DataFrame'>\n",
      "RangeIndex: 100000 entries, 0 to 99999\n",
      "Data columns (total 5 columns):\n",
      " #   Column   Non-Null Count   Dtype  \n",
      "---  ------   --------------   -----  \n",
      " 0   id       100000 non-null  object \n",
      " 1   f0       100000 non-null  float64\n",
      " 2   f1       100000 non-null  float64\n",
      " 3   f2       100000 non-null  float64\n",
      " 4   product  100000 non-null  float64\n",
      "dtypes: float64(4), object(1)\n",
      "memory usage: 3.8+ MB\n"
     ]
    }
   ],
   "source": [
    "data_2.info()"
   ]
  },
  {
   "cell_type": "code",
   "execution_count": 9,
   "metadata": {},
   "outputs": [
    {
     "data": {
      "text/plain": [
       "0"
      ]
     },
     "execution_count": 9,
     "metadata": {},
     "output_type": "execute_result"
    }
   ],
   "source": [
    "#проверим дубликаты в датафреймах\n",
    "data_0.duplicated().sum()"
   ]
  },
  {
   "cell_type": "code",
   "execution_count": 10,
   "metadata": {},
   "outputs": [
    {
     "data": {
      "text/plain": [
       "0"
      ]
     },
     "execution_count": 10,
     "metadata": {},
     "output_type": "execute_result"
    }
   ],
   "source": [
    "data_1.duplicated().sum()"
   ]
  },
  {
   "cell_type": "code",
   "execution_count": 11,
   "metadata": {},
   "outputs": [
    {
     "data": {
      "text/plain": [
       "0"
      ]
     },
     "execution_count": 11,
     "metadata": {},
     "output_type": "execute_result"
    }
   ],
   "source": [
    "data_2.duplicated().sum()"
   ]
  },
  {
   "cell_type": "markdown",
   "metadata": {},
   "source": [
    "# Вывод: \n",
    "Данные были загружены и проверены на дубликаты. Во всех датафреймах одинаковое количество данных, типы данных совпадают и нет дубликатов."
   ]
  },
  {
   "cell_type": "markdown",
   "metadata": {},
   "source": [
    "## Обучение и проверка модели"
   ]
  },
  {
   "cell_type": "markdown",
   "metadata": {},
   "source": [
    "По очереди рассмотрим каждый регион и обучим модели"
   ]
  },
  {
   "cell_type": "code",
   "execution_count": 12,
   "metadata": {},
   "outputs": [],
   "source": [
    "#1 регион\n",
    "df_0_train, df_0_valid = train_test_split(data_0, test_size=.25, random_state=12345)\n",
    "\n",
    "# исключим ненужные столбцы и сделаем столбец product - целевым\n",
    "features_train_0 = df_0_train.drop(['id', 'product'], axis=1)\n",
    "target_train_0 = df_0_train['product']\n",
    "features_valid_0 = df_0_valid.drop(['id', 'product'], axis=1)\n",
    "target_valid_0 = df_0_valid['product']\n",
    "\n",
    "#обучим модель LinearRegression()\n",
    "model_0 = LinearRegression()\n",
    "model_0.fit(features_train_0, target_train_0)\n",
    "predictions_valid_0 = model_0.predict(features_valid_0)\n"
   ]
  },
  {
   "cell_type": "code",
   "execution_count": 13,
   "metadata": {},
   "outputs": [
    {
     "data": {
      "text/plain": [
       "37.5794217150813"
      ]
     },
     "execution_count": 13,
     "metadata": {},
     "output_type": "execute_result"
    }
   ],
   "source": [
    "#среднеквадратичная ошибка RMSE\n",
    "rmse_0 = mean_squared_error(target_valid_0, predictions_valid_0) ** 0.5\n",
    "rmse_0"
   ]
  },
  {
   "cell_type": "code",
   "execution_count": 38,
   "metadata": {},
   "outputs": [
    {
     "data": {
      "text/plain": [
       "92.59256778438035"
      ]
     },
     "execution_count": 38,
     "metadata": {},
     "output_type": "execute_result"
    }
   ],
   "source": [
    "#средний запас сырья\n",
    "product_mean_0 = predictions_valid_0.mean()\n",
    "product_mean_0"
   ]
  },
  {
   "cell_type": "markdown",
   "metadata": {},
   "source": [
    "ИТОГ: отклонение 37.579 средний запас  сырья - 92.592"
   ]
  },
  {
   "cell_type": "code",
   "execution_count": 39,
   "metadata": {},
   "outputs": [
    {
     "name": "stdout",
     "output_type": "stream",
     "text": [
      "0.893099286775617\n",
      "68.728546895446\n"
     ]
    }
   ],
   "source": [
    "#2 регион\n",
    "df_1_train, df_1_valid = train_test_split(data_1, test_size=.25, random_state=12345)\n",
    "\n",
    "features_train_1 = df_1_train.drop(['id', 'product'], axis=1)\n",
    "target_train_1 = df_1_train['product']\n",
    "features_valid_1 = df_1_valid.drop(['id', 'product'], axis=1)\n",
    "target_valid_1 = df_1_valid['product']\n",
    "\n",
    "model_1 = LinearRegression()\n",
    "model_1.fit(features_train_1, target_train_1)\n",
    "predictions_valid_1 = model_1.predict(features_valid_1)\n",
    "\n",
    "rmse_1 = mean_squared_error(target_valid_1, predictions_valid_1) ** .5\n",
    "print(rmse_1)\n",
    "\n",
    "product_mean_1 = predictions_valid_1.mean()\n",
    "print(product_mean_1)"
   ]
  },
  {
   "cell_type": "markdown",
   "metadata": {},
   "source": [
    "ИТОГ: отклонение 0.893 средний запас  сырья - 68.728"
   ]
  },
  {
   "cell_type": "code",
   "execution_count": 40,
   "metadata": {},
   "outputs": [
    {
     "name": "stdout",
     "output_type": "stream",
     "text": [
      "40.02970873393434\n",
      "94.96504596800489\n"
     ]
    }
   ],
   "source": [
    "#3 регион\n",
    "df_2_train, df_2_valid = train_test_split(data_2, test_size=.25, random_state=12345)\n",
    "\n",
    "features_train_2 = df_2_train.drop(['id', 'product'], axis=1)\n",
    "target_train_2 = df_2_train['product']\n",
    "features_valid_2 = df_2_valid.drop(['id', 'product'], axis=1)\n",
    "target_valid_2 = df_2_valid['product']\n",
    "\n",
    "model_2 = LinearRegression()\n",
    "model_2.fit(features_train_2, target_train_2)\n",
    "predictions_valid_2 = model_2.predict(features_valid_2)\n",
    "\n",
    "rmse_2 = mean_squared_error(target_valid_2, predictions_valid_2) ** .5\n",
    "print(rmse_2)\n",
    "\n",
    "product_mean_2 = predictions_valid_2.mean()\n",
    "print(product_mean_2)\n"
   ]
  },
  {
   "cell_type": "markdown",
   "metadata": {},
   "source": [
    "ИТОГ: отклонение 40.029 средний запас сырья - 94.965"
   ]
  },
  {
   "cell_type": "markdown",
   "metadata": {},
   "source": [
    "***Вывод:***\n",
    "- 1 регион отклонение 37.579 средний запас сырья - 92.592\n",
    "- 2 регион отклонение 0.893 средний запас сырья - 68.728\n",
    "- 3 регион отклонение 40.029 средний запас сырья - 94.965\n",
    "\n",
    "Из этих данных нельзя выбрать луший регион так как наименьшее отклонение у 2 региона но и запас сырья у них минимальный"
   ]
  },
  {
   "cell_type": "markdown",
   "metadata": {},
   "source": [
    "## Подготовка к расчёту прибыли"
   ]
  },
  {
   "cell_type": "code",
   "execution_count": 42,
   "metadata": {},
   "outputs": [],
   "source": [
    "#ключевые значения для рассчета\n",
    "income = 450000 # доход с единицы продукта\n",
    "total = 500 # количество исследуемых точек\n",
    "best = 200 # точек надо выбрать\n",
    "budget = 10000000000 # бюджет на разработку скважин в регионе\n",
    "samples_number = 1000 # колво выборок\n"
   ]
  },
  {
   "cell_type": "code",
   "execution_count": 43,
   "metadata": {},
   "outputs": [],
   "source": [
    "#преобразуем целевые признаки в Series\n",
    "\n",
    "target_valid_0 = pd.Series(target_valid_0).reset_index(drop=True)\n",
    "predictions_valid_0 = pd.Series(predictions_valid_0).reset_index(drop=True)\n",
    "\n",
    "target_valid_1 = pd.Series(target_valid_1).reset_index(drop=True)\n",
    "predictions_valid_1 = pd.Series(predictions_valid_1).reset_index(drop=True)\n",
    "\n",
    "target_valid_2 = pd.Series(target_valid_2).reset_index(drop=True)\n",
    "predictions_valid_2 = pd.Series(predictions_valid_2).reset_index(drop=True)"
   ]
  },
  {
   "cell_type": "code",
   "execution_count": 44,
   "metadata": {},
   "outputs": [
    {
     "name": "stdout",
     "output_type": "stream",
     "text": [
      "111.11111111111111\n"
     ]
    }
   ],
   "source": [
    "# рассчет достаточного обьема сырья для безубыточной разработки новой скважины\n",
    "\n",
    "volume_oil = budget / (income * best)\n",
    "print(volume_oil)"
   ]
  },
  {
   "cell_type": "markdown",
   "metadata": {},
   "source": [
    "***Вывод:***\n",
    "Достаточный обьем сырья для безубыточной разработки новой скважины равен 111.111. Средний запас скважин в каждом регионе ниже необходимого"
   ]
  },
  {
   "cell_type": "markdown",
   "metadata": {},
   "source": [
    "## Расчёт прибыли и рисков "
   ]
  },
  {
   "cell_type": "markdown",
   "metadata": {},
   "source": [
    "***Создание функции для рассчета прибыли по выбранным скважинам и предсказаниям модели***\n",
    "\n",
    "- Функция принимает целевые значения объёмов запасов скважин и предсказания модели а так же количество нужных точек"
   ]
  },
  {
   "cell_type": "code",
   "execution_count": 45,
   "metadata": {},
   "outputs": [],
   "source": [
    "def revenue(target, predictions, best):\n",
    "    preds_sorted = predictions.sort_values(ascending=False)\n",
    "    selected = target[preds_sorted.index][:best]\n",
    "    return income * selected.sum() - budget"
   ]
  },
  {
   "cell_type": "code",
   "execution_count": 46,
   "metadata": {},
   "outputs": [
    {
     "name": "stdout",
     "output_type": "stream",
     "text": [
      "1 регион\n",
      "Средняя возможная прибыль: 396164984.8023711\n",
      "Доверительный интервал: от -111215545.89049526 до 909766941.5534226\n",
      "Вероятность убытков: 6.9 %\n",
      "2 регион\n",
      "Средняя возможная прибыль: 461155817.2772397\n",
      "Доверительный интервал: от 78050810.7517417 до 862952060.2637234\n",
      "Вероятность убытков: 0.7000000000000001 %\n",
      "3 регион\n",
      "Средняя возможная прибыль: 392950475.17060447\n",
      "Доверительный интервал: от -112227625.37857565 до 934562914.5511636\n",
      "Вероятность убытков: 6.5 %\n"
     ]
    }
   ],
   "source": [
    "target = [target_valid_0, target_valid_1, target_valid_2]\n",
    "predictions = [predictions_valid_0, predictions_valid_1, predictions_valid_2]\n",
    "regions = ['1 регион', '2 регион', '3 регион']\n",
    "\n",
    "state = np.random.RandomState(12345)\n",
    "\n",
    "for k in range(len(target)):\n",
    "    values = []\n",
    "    for i in range(samples_number):\n",
    "        target_subsample = target[k].sample(n=total, replace=True, random_state=state)\n",
    "        predictions_subsample = predictions[k].loc[target_subsample.index]\n",
    "        values.append(revenue(target_subsample.reset_index(drop=True), predictions_subsample.reset_index(drop=True), best))\n",
    "\n",
    "    values = pd.Series(values)\n",
    "    lower = values.quantile(.025)\n",
    "    upper = values.quantile(.975)\n",
    "\n",
    "    mean = values.mean()\n",
    "    \n",
    "    fail_prob = sum(values < 0) / values.count() * 100\n",
    "    \n",
    "    print(regions[k])\n",
    "    print(\"Средняя возможная прибыль:\", mean )\n",
    "    print(\"Доверительный интервал:\", \"от\", lower, \"до\", upper)\n",
    "    print(\"Вероятность убытков:\", fail_prob, \"%\")\n",
    "    "
   ]
  },
  {
   "cell_type": "markdown",
   "metadata": {},
   "source": [
    "***Вывод:*** \n",
    "- Возможная средняя прибыль у второго региона выше остальных, а вероятность убытков - ниже"
   ]
  },
  {
   "cell_type": "markdown",
   "metadata": {},
   "source": [
    "## Вывод"
   ]
  },
  {
   "cell_type": "markdown",
   "metadata": {},
   "source": [
    "В исследовании были обработаны данные трёх регионов с 10000 месторождений в каждом.Для этого былв создана модель линейной регрессии.\n",
    "Наиболее точные предсказания оказались у модели второго региона: средний запас сырья в скважине 68.7 при отклонении 0.89, предсказания по первому и третьему региону получились схожими между собой. \n",
    "Также в процессе был рассчитан достаточный объём сырья для безубыточной разработки новой скважины - 111. \n",
    "Для расчёта распределения прибыли применена техника Bootstrap с 1000 выборок, которая показала, что наиболее подходящий для разработки регион - второй, так как у него наименьшая вероятность убытков и наибольшая средняя возможная прибыль. "
   ]
  },
  {
   "cell_type": "markdown",
   "metadata": {},
   "source": [
    "## Чек-лист готовности проекта"
   ]
  },
  {
   "cell_type": "markdown",
   "metadata": {},
   "source": [
    "Поставьте 'x' в выполненных пунктах. Далее нажмите Shift+Enter."
   ]
  },
  {
   "cell_type": "markdown",
   "metadata": {},
   "source": [
    "- [x]  Jupyter Notebook открыт\n",
    "- [x]  Весь код выполняется без ошибок\n",
    "- [x]  Ячейки с кодом расположены в порядке исполнения\n",
    "- [x]  Выполнен шаг 1: данные подготовлены\n",
    "- [x]  Выполнен шаг 2: модели обучены и проверены\n",
    "    - [x]  Данные корректно разбиты на обучающую и валидационную выборки\n",
    "    - [x]  Модели обучены, предсказания сделаны\n",
    "    - [x]  Предсказания и правильные ответы на валидационной выборке сохранены\n",
    "    - [x]  На экране напечатаны результаты\n",
    "    - [x]  Сделаны выводы\n",
    "- [x]  Выполнен шаг 3: проведена подготовка к расчёту прибыли\n",
    "    - [x]  Для всех ключевых значений созданы константы Python\n",
    "    - [x]  Посчитано минимальное среднее количество продукта в месторождениях региона, достаточное для разработки\n",
    "    - [x]  По предыдущему пункту сделаны выводы\n",
    "    - [x]  Написана функция расчёта прибыли\n",
    "- [x]  Выполнен шаг 4: посчитаны риски и прибыль\n",
    "    - [x]  Проведена процедура *Bootstrap*\n",
    "    - [x]  Все параметры бутстрепа соответствуют условию\n",
    "    - [x]  Найдены все нужные величины\n",
    "    - [x]  Предложен регион для разработки месторождения\n",
    "    - [x]  Выбор региона обоснован"
   ]
  },
  {
   "cell_type": "code",
   "execution_count": null,
   "metadata": {},
   "outputs": [],
   "source": []
  }
 ],
 "metadata": {
  "ExecuteTimeLog": [
   {
    "duration": 1108,
    "start_time": "2023-03-04T01:10:10.115Z"
   },
   {
    "duration": 723,
    "start_time": "2023-03-04T01:10:11.225Z"
   },
   {
    "duration": 356,
    "start_time": "2023-03-04T01:10:33.696Z"
   },
   {
    "duration": 359,
    "start_time": "2023-03-04T01:10:43.301Z"
   },
   {
    "duration": 322,
    "start_time": "2023-03-04T01:10:49.519Z"
   },
   {
    "duration": 53,
    "start_time": "2023-03-04T01:10:59.505Z"
   },
   {
    "duration": 30,
    "start_time": "2023-03-04T01:11:28.822Z"
   },
   {
    "duration": 31,
    "start_time": "2023-03-04T01:11:34.391Z"
   },
   {
    "duration": 9,
    "start_time": "2023-03-04T01:11:48.259Z"
   },
   {
    "duration": 10,
    "start_time": "2023-03-04T01:12:29.209Z"
   },
   {
    "duration": 10,
    "start_time": "2023-03-04T01:12:31.379Z"
   },
   {
    "duration": 15,
    "start_time": "2023-03-04T01:13:01.876Z"
   },
   {
    "duration": 10,
    "start_time": "2023-03-04T01:13:02.179Z"
   },
   {
    "duration": 12,
    "start_time": "2023-03-04T01:13:02.554Z"
   },
   {
    "duration": 9,
    "start_time": "2023-03-04T01:13:02.918Z"
   },
   {
    "duration": 12,
    "start_time": "2023-03-04T01:13:03.229Z"
   },
   {
    "duration": 101,
    "start_time": "2023-03-04T01:14:17.737Z"
   },
   {
    "duration": 43,
    "start_time": "2023-03-04T01:14:38.623Z"
   },
   {
    "duration": 39,
    "start_time": "2023-03-04T01:14:38.814Z"
   },
   {
    "duration": 41,
    "start_time": "2023-03-04T01:14:39.201Z"
   },
   {
    "duration": 2,
    "start_time": "2023-03-04T01:29:52.202Z"
   },
   {
    "duration": 17,
    "start_time": "2023-03-04T01:30:41.904Z"
   },
   {
    "duration": 22,
    "start_time": "2023-03-04T01:31:35.408Z"
   },
   {
    "duration": 20,
    "start_time": "2023-03-04T01:31:40.829Z"
   },
   {
    "duration": 19,
    "start_time": "2023-03-04T01:31:48.345Z"
   },
   {
    "duration": 18,
    "start_time": "2023-03-04T01:31:54.527Z"
   },
   {
    "duration": 28,
    "start_time": "2023-03-04T01:32:50.025Z"
   },
   {
    "duration": 4,
    "start_time": "2023-03-04T01:33:31.136Z"
   },
   {
    "duration": 4,
    "start_time": "2023-03-04T01:33:40.939Z"
   },
   {
    "duration": 3,
    "start_time": "2023-03-04T01:33:46.499Z"
   },
   {
    "duration": 336,
    "start_time": "2023-03-04T01:33:46.686Z"
   },
   {
    "duration": 8,
    "start_time": "2023-03-04T01:33:47.024Z"
   },
   {
    "duration": 12,
    "start_time": "2023-03-04T01:33:47.064Z"
   },
   {
    "duration": 9,
    "start_time": "2023-03-04T01:33:47.260Z"
   },
   {
    "duration": 12,
    "start_time": "2023-03-04T01:33:47.471Z"
   },
   {
    "duration": 8,
    "start_time": "2023-03-04T01:33:47.671Z"
   },
   {
    "duration": 13,
    "start_time": "2023-03-04T01:33:47.898Z"
   },
   {
    "duration": 41,
    "start_time": "2023-03-04T01:33:48.120Z"
   },
   {
    "duration": 38,
    "start_time": "2023-03-04T01:33:48.376Z"
   },
   {
    "duration": 39,
    "start_time": "2023-03-04T01:33:48.621Z"
   },
   {
    "duration": 36,
    "start_time": "2023-03-04T01:33:49.896Z"
   },
   {
    "duration": 6,
    "start_time": "2023-03-04T01:33:50.434Z"
   },
   {
    "duration": 4,
    "start_time": "2023-03-04T01:34:39.572Z"
   },
   {
    "duration": 1080,
    "start_time": "2023-03-04T23:48:13.098Z"
   },
   {
    "duration": 769,
    "start_time": "2023-03-04T23:48:14.180Z"
   },
   {
    "duration": 15,
    "start_time": "2023-03-04T23:48:14.951Z"
   },
   {
    "duration": 14,
    "start_time": "2023-03-04T23:48:14.968Z"
   },
   {
    "duration": 10,
    "start_time": "2023-03-04T23:48:14.983Z"
   },
   {
    "duration": 15,
    "start_time": "2023-03-04T23:48:14.994Z"
   },
   {
    "duration": 14,
    "start_time": "2023-03-04T23:48:15.011Z"
   },
   {
    "duration": 19,
    "start_time": "2023-03-04T23:48:15.026Z"
   },
   {
    "duration": 62,
    "start_time": "2023-03-04T23:48:15.047Z"
   },
   {
    "duration": 39,
    "start_time": "2023-03-04T23:48:15.111Z"
   },
   {
    "duration": 57,
    "start_time": "2023-03-04T23:48:15.151Z"
   },
   {
    "duration": 35,
    "start_time": "2023-03-04T23:48:16.158Z"
   },
   {
    "duration": 7,
    "start_time": "2023-03-04T23:48:16.393Z"
   },
   {
    "duration": 3,
    "start_time": "2023-03-04T23:48:16.693Z"
   },
   {
    "duration": 52,
    "start_time": "2023-03-04T23:49:52.778Z"
   },
   {
    "duration": 38,
    "start_time": "2023-03-04T23:56:33.018Z"
   },
   {
    "duration": 91,
    "start_time": "2023-03-05T00:29:09.600Z"
   },
   {
    "duration": 3,
    "start_time": "2023-03-05T00:29:15.124Z"
   },
   {
    "duration": 5,
    "start_time": "2023-03-05T00:29:15.305Z"
   },
   {
    "duration": 3,
    "start_time": "2023-03-05T00:29:15.508Z"
   },
   {
    "duration": 95,
    "start_time": "2023-03-05T00:42:18.294Z"
   },
   {
    "duration": 3,
    "start_time": "2023-03-05T00:42:21.908Z"
   },
   {
    "duration": 3386,
    "start_time": "2023-03-05T00:42:32.724Z"
   },
   {
    "duration": 12,
    "start_time": "2023-03-05T00:52:52.186Z"
   },
   {
    "duration": 3,
    "start_time": "2023-03-05T00:52:57.234Z"
   },
   {
    "duration": 6,
    "start_time": "2023-03-05T00:52:57.421Z"
   },
   {
    "duration": 2,
    "start_time": "2023-03-05T00:52:57.614Z"
   },
   {
    "duration": 3,
    "start_time": "2023-03-05T00:52:59.164Z"
   },
   {
    "duration": 3026,
    "start_time": "2023-03-05T00:52:59.169Z"
   },
   {
    "duration": 2996,
    "start_time": "2023-03-05T00:53:49.509Z"
   },
   {
    "duration": 3,
    "start_time": "2023-03-05T01:06:36.440Z"
   },
   {
    "duration": 2884,
    "start_time": "2023-03-05T01:06:36.619Z"
   },
   {
    "duration": 3017,
    "start_time": "2023-03-05T01:11:32.505Z"
   },
   {
    "duration": 3,
    "start_time": "2023-03-05T01:15:55.954Z"
   },
   {
    "duration": 3,
    "start_time": "2023-03-05T01:15:58.100Z"
   },
   {
    "duration": 15,
    "start_time": "2023-03-05T01:17:23.116Z"
   },
   {
    "duration": 2861,
    "start_time": "2023-03-05T01:17:40.808Z"
   },
   {
    "duration": 4,
    "start_time": "2023-03-05T01:19:01.611Z"
   },
   {
    "duration": 64,
    "start_time": "2023-03-05T01:19:14.230Z"
   },
   {
    "duration": 31,
    "start_time": "2023-03-05T01:19:26.064Z"
   },
   {
    "duration": 13,
    "start_time": "2023-03-05T01:22:23.001Z"
   },
   {
    "duration": 3,
    "start_time": "2023-03-05T01:22:31.780Z"
   },
   {
    "duration": 6,
    "start_time": "2023-03-05T01:22:32.133Z"
   },
   {
    "duration": 3,
    "start_time": "2023-03-05T01:22:32.319Z"
   },
   {
    "duration": 2,
    "start_time": "2023-03-05T01:22:33.440Z"
   },
   {
    "duration": 3148,
    "start_time": "2023-03-05T01:22:33.658Z"
   },
   {
    "duration": 84,
    "start_time": "2023-03-05T01:25:59.861Z"
   },
   {
    "duration": 76,
    "start_time": "2023-03-05T01:26:00.768Z"
   }
  ],
  "kernelspec": {
   "display_name": "Python 3 (ipykernel)",
   "language": "python",
   "name": "python3"
  },
  "language_info": {
   "codemirror_mode": {
    "name": "ipython",
    "version": 3
   },
   "file_extension": ".py",
   "mimetype": "text/x-python",
   "name": "python",
   "nbconvert_exporter": "python",
   "pygments_lexer": "ipython3",
   "version": "3.10.9"
  },
  "toc": {
   "base_numbering": 1,
   "nav_menu": {},
   "number_sections": true,
   "sideBar": true,
   "skip_h1_title": true,
   "title_cell": "Table of Contents",
   "title_sidebar": "Contents",
   "toc_cell": false,
   "toc_position": {},
   "toc_section_display": true,
   "toc_window_display": false
  }
 },
 "nbformat": 4,
 "nbformat_minor": 2
}
